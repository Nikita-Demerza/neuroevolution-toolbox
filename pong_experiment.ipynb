{
 "cells": [
  {
   "cell_type": "code",
   "execution_count": 1,
   "metadata": {
    "id": "iV7GFD8QRQVe"
   },
   "outputs": [
    {
     "name": "stdout",
     "output_type": "stream",
     "text": [
      "Requirement already satisfied: gym[atari] in c:\\users\\kilorad\\anaconda3\\lib\\site-packages (0.23.1)\n",
      "Requirement already satisfied: numpy>=1.18.0 in c:\\users\\kilorad\\anaconda3\\lib\\site-packages (from gym[atari]) (1.20.3)\n",
      "Requirement already satisfied: cloudpickle>=1.2.0 in c:\\users\\kilorad\\anaconda3\\lib\\site-packages (from gym[atari]) (2.0.0)\n",
      "Requirement already satisfied: gym-notices>=0.0.4 in c:\\users\\kilorad\\anaconda3\\lib\\site-packages (from gym[atari]) (0.0.6)\n",
      "Requirement already satisfied: importlib-metadata>=4.10.0 in c:\\users\\kilorad\\anaconda3\\lib\\site-packages (from gym[atari]) (4.11.3)\n",
      "Requirement already satisfied: ale-py~=0.7.4 in c:\\users\\kilorad\\anaconda3\\lib\\site-packages (from gym[atari]) (0.7.5)\n",
      "Requirement already satisfied: importlib-resources in c:\\users\\kilorad\\anaconda3\\lib\\site-packages (from ale-py~=0.7.4->gym[atari]) (5.7.1)\n",
      "Requirement already satisfied: zipp>=0.5 in c:\\users\\kilorad\\anaconda3\\lib\\site-packages (from importlib-metadata>=4.10.0->gym[atari]) (3.6.0)\n"
     ]
    }
   ],
   "source": [
    "!pip3 install \"gym[atari]\"\n",
    "import gym\n",
    "import sys\n",
    "from PIL import Image, ImageDraw\n",
    "sys.path.append('./')\n",
    "import numpy as np\n",
    "import pandas as pd\n",
    "import neural_tape_controller\n",
    "#Положительные числа - положительные награды.\n",
    "import tasks \n",
    "import optimize\n",
    "import pickle\n",
    "root_dir = './'"
   ]
  },
  {
   "cell_type": "code",
   "execution_count": 2,
   "metadata": {
    "id": "Lu9KS73QWPJH"
   },
   "outputs": [
    {
     "name": "stderr",
     "output_type": "stream",
     "text": [
      "'wget' is not recognized as an internal or external command,\n",
      "operable program or batch file.\n",
      "The system cannot find the path specified.\n",
      "The system cannot find the path specified.\n"
     ]
    }
   ],
   "source": [
    "# HIDE OUTPUT\n",
    "!wget http://www.atarimania.com/roms/Roms.rar \n",
    "!unrar x -o+ /content/Roms.rar >/dev/nul\n",
    "!python -m atari_py.import_roms /content/ROMS >/dev/nul"
   ]
  },
  {
   "cell_type": "code",
   "execution_count": 3,
   "metadata": {
    "id": "gK_0udONWWcN"
   },
   "outputs": [
    {
     "name": "stderr",
     "output_type": "stream",
     "text": [
      "C:\\Users\\kilorad\\Anaconda3\\lib\\site-packages\\gym\\envs\\registration.py:505: UserWarning: \u001b[33mWARN: The environment Breakout-v0 is out of date. You should consider upgrading to version `v4` with the environment ID `Breakout-v4`.\u001b[0m\n",
      "  logger.warn(\n"
     ]
    },
    {
     "ename": "Error",
     "evalue": "We're Unable to find the game \"Breakout\". Note: Gym no longer distributes ROMs. If you own a license to use the necessary ROMs for research purposes you can download them via `pip install gym[accept-rom-license]`. Otherwise, you should try importing \"Breakout\" via the command `ale-import-roms`. If you believe this is a mistake perhaps your copy of \"Breakout\" is unsupported. To check if this is the case try providing the environment variable `PYTHONWARNINGS=default::ImportWarning:ale_py.roms`. For more information see: https://github.com/mgbellemare/Arcade-Learning-Environment#rom-management",
     "output_type": "error",
     "traceback": [
      "\u001b[1;31m---------------------------------------------------------------------------\u001b[0m",
      "\u001b[1;31mError\u001b[0m                                     Traceback (most recent call last)",
      "\u001b[1;32m~\\AppData\\Local\\Temp/ipykernel_21716/3520087117.py\u001b[0m in \u001b[0;36m<module>\u001b[1;34m\u001b[0m\n\u001b[0;32m      8\u001b[0m     \u001b[0mprint\u001b[0m\u001b[1;33m(\u001b[0m\u001b[1;34mf\"Reward Range: {env.reward_range}\"\u001b[0m\u001b[1;33m)\u001b[0m\u001b[1;33m\u001b[0m\u001b[1;33m\u001b[0m\u001b[0m\n\u001b[0;32m      9\u001b[0m     \u001b[0mprint\u001b[0m\u001b[1;33m(\u001b[0m\u001b[1;34mf\"Reward Threshold: {spec.reward_threshold}\"\u001b[0m\u001b[1;33m)\u001b[0m\u001b[1;33m\u001b[0m\u001b[1;33m\u001b[0m\u001b[0m\n\u001b[1;32m---> 10\u001b[1;33m \u001b[0mquery_environment\u001b[0m\u001b[1;33m(\u001b[0m\u001b[1;34m\"Breakout-v0\"\u001b[0m\u001b[1;33m)\u001b[0m\u001b[1;33m\u001b[0m\u001b[1;33m\u001b[0m\u001b[0m\n\u001b[0m",
      "\u001b[1;32m~\\AppData\\Local\\Temp/ipykernel_21716/3520087117.py\u001b[0m in \u001b[0;36mquery_environment\u001b[1;34m(name)\u001b[0m\n\u001b[0;32m      1\u001b[0m \u001b[1;32mdef\u001b[0m \u001b[0mquery_environment\u001b[0m\u001b[1;33m(\u001b[0m\u001b[0mname\u001b[0m\u001b[1;33m)\u001b[0m\u001b[1;33m:\u001b[0m\u001b[1;33m\u001b[0m\u001b[1;33m\u001b[0m\u001b[0m\n\u001b[1;32m----> 2\u001b[1;33m     \u001b[0menv\u001b[0m \u001b[1;33m=\u001b[0m \u001b[0mgym\u001b[0m\u001b[1;33m.\u001b[0m\u001b[0mmake\u001b[0m\u001b[1;33m(\u001b[0m\u001b[0mname\u001b[0m\u001b[1;33m)\u001b[0m\u001b[1;33m\u001b[0m\u001b[1;33m\u001b[0m\u001b[0m\n\u001b[0m\u001b[0;32m      3\u001b[0m     \u001b[0mspec\u001b[0m \u001b[1;33m=\u001b[0m \u001b[0mgym\u001b[0m\u001b[1;33m.\u001b[0m\u001b[0mspec\u001b[0m\u001b[1;33m(\u001b[0m\u001b[0mname\u001b[0m\u001b[1;33m)\u001b[0m\u001b[1;33m\u001b[0m\u001b[1;33m\u001b[0m\u001b[0m\n\u001b[0;32m      4\u001b[0m     \u001b[0mprint\u001b[0m\u001b[1;33m(\u001b[0m\u001b[1;34mf\"Action Space: {env.action_space}\"\u001b[0m\u001b[1;33m)\u001b[0m\u001b[1;33m\u001b[0m\u001b[1;33m\u001b[0m\u001b[0m\n\u001b[0;32m      5\u001b[0m     \u001b[0mprint\u001b[0m\u001b[1;33m(\u001b[0m\u001b[1;34mf\"Observation Space: {env.observation_space}\"\u001b[0m\u001b[1;33m)\u001b[0m\u001b[1;33m\u001b[0m\u001b[1;33m\u001b[0m\u001b[0m\n",
      "\u001b[1;32m~\\Anaconda3\\lib\\site-packages\\gym\\envs\\registration.py\u001b[0m in \u001b[0;36mmake\u001b[1;34m(id, **kwargs)\u001b[0m\n\u001b[0;32m    674\u001b[0m \u001b[1;31m# fmt: on\u001b[0m\u001b[1;33m\u001b[0m\u001b[1;33m\u001b[0m\u001b[0m\n\u001b[0;32m    675\u001b[0m \u001b[1;32mdef\u001b[0m \u001b[0mmake\u001b[0m\u001b[1;33m(\u001b[0m\u001b[0mid\u001b[0m\u001b[1;33m:\u001b[0m \u001b[0mstr\u001b[0m\u001b[1;33m,\u001b[0m \u001b[1;33m**\u001b[0m\u001b[0mkwargs\u001b[0m\u001b[1;33m)\u001b[0m \u001b[1;33m->\u001b[0m \u001b[1;34m\"Env\"\u001b[0m\u001b[1;33m:\u001b[0m\u001b[1;33m\u001b[0m\u001b[1;33m\u001b[0m\u001b[0m\n\u001b[1;32m--> 676\u001b[1;33m     \u001b[1;32mreturn\u001b[0m \u001b[0mregistry\u001b[0m\u001b[1;33m.\u001b[0m\u001b[0mmake\u001b[0m\u001b[1;33m(\u001b[0m\u001b[0mid\u001b[0m\u001b[1;33m,\u001b[0m \u001b[1;33m**\u001b[0m\u001b[0mkwargs\u001b[0m\u001b[1;33m)\u001b[0m\u001b[1;33m\u001b[0m\u001b[1;33m\u001b[0m\u001b[0m\n\u001b[0m\u001b[0;32m    677\u001b[0m \u001b[1;33m\u001b[0m\u001b[0m\n\u001b[0;32m    678\u001b[0m \u001b[1;33m\u001b[0m\u001b[0m\n",
      "\u001b[1;32m~\\Anaconda3\\lib\\site-packages\\gym\\envs\\registration.py\u001b[0m in \u001b[0;36mmake\u001b[1;34m(self, path, **kwargs)\u001b[0m\n\u001b[0;32m    518\u001b[0m         \u001b[0mspec\u001b[0m \u001b[1;33m=\u001b[0m \u001b[0mself\u001b[0m\u001b[1;33m.\u001b[0m\u001b[0mspec\u001b[0m\u001b[1;33m(\u001b[0m\u001b[0mpath\u001b[0m\u001b[1;33m)\u001b[0m\u001b[1;33m\u001b[0m\u001b[1;33m\u001b[0m\u001b[0m\n\u001b[0;32m    519\u001b[0m         \u001b[1;31m# Construct the environment\u001b[0m\u001b[1;33m\u001b[0m\u001b[1;33m\u001b[0m\u001b[0m\n\u001b[1;32m--> 520\u001b[1;33m         \u001b[1;32mreturn\u001b[0m \u001b[0mspec\u001b[0m\u001b[1;33m.\u001b[0m\u001b[0mmake\u001b[0m\u001b[1;33m(\u001b[0m\u001b[1;33m**\u001b[0m\u001b[0mkwargs\u001b[0m\u001b[1;33m)\u001b[0m\u001b[1;33m\u001b[0m\u001b[1;33m\u001b[0m\u001b[0m\n\u001b[0m\u001b[0;32m    521\u001b[0m \u001b[1;33m\u001b[0m\u001b[0m\n\u001b[0;32m    522\u001b[0m     \u001b[1;32mdef\u001b[0m \u001b[0mall\u001b[0m\u001b[1;33m(\u001b[0m\u001b[0mself\u001b[0m\u001b[1;33m)\u001b[0m\u001b[1;33m:\u001b[0m\u001b[1;33m\u001b[0m\u001b[1;33m\u001b[0m\u001b[0m\n",
      "\u001b[1;32m~\\Anaconda3\\lib\\site-packages\\gym\\envs\\registration.py\u001b[0m in \u001b[0;36mmake\u001b[1;34m(self, **kwargs)\u001b[0m\n\u001b[0;32m    138\u001b[0m         \u001b[1;32melse\u001b[0m\u001b[1;33m:\u001b[0m\u001b[1;33m\u001b[0m\u001b[1;33m\u001b[0m\u001b[0m\n\u001b[0;32m    139\u001b[0m             \u001b[0mcls\u001b[0m \u001b[1;33m=\u001b[0m \u001b[0mload\u001b[0m\u001b[1;33m(\u001b[0m\u001b[0mself\u001b[0m\u001b[1;33m.\u001b[0m\u001b[0mentry_point\u001b[0m\u001b[1;33m)\u001b[0m\u001b[1;33m\u001b[0m\u001b[1;33m\u001b[0m\u001b[0m\n\u001b[1;32m--> 140\u001b[1;33m             \u001b[0menv\u001b[0m \u001b[1;33m=\u001b[0m \u001b[0mcls\u001b[0m\u001b[1;33m(\u001b[0m\u001b[1;33m**\u001b[0m\u001b[0m_kwargs\u001b[0m\u001b[1;33m)\u001b[0m\u001b[1;33m\u001b[0m\u001b[1;33m\u001b[0m\u001b[0m\n\u001b[0m\u001b[0;32m    141\u001b[0m \u001b[1;33m\u001b[0m\u001b[0m\n\u001b[0;32m    142\u001b[0m         \u001b[1;31m# Make the environment aware of which spec it came from.\u001b[0m\u001b[1;33m\u001b[0m\u001b[1;33m\u001b[0m\u001b[0m\n",
      "\u001b[1;32m~\\Anaconda3\\lib\\site-packages\\gym\\envs\\atari\\environment.py\u001b[0m in \u001b[0;36m__init__\u001b[1;34m(self, game, mode, difficulty, obs_type, frameskip, repeat_action_probability, full_action_space, render_mode)\u001b[0m\n\u001b[0;32m    134\u001b[0m \u001b[1;33m\u001b[0m\u001b[0m\n\u001b[0;32m    135\u001b[0m         \u001b[1;31m# Seed + Load\u001b[0m\u001b[1;33m\u001b[0m\u001b[1;33m\u001b[0m\u001b[0m\n\u001b[1;32m--> 136\u001b[1;33m         \u001b[0mself\u001b[0m\u001b[1;33m.\u001b[0m\u001b[0mseed\u001b[0m\u001b[1;33m(\u001b[0m\u001b[1;33m)\u001b[0m\u001b[1;33m\u001b[0m\u001b[1;33m\u001b[0m\u001b[0m\n\u001b[0m\u001b[0;32m    137\u001b[0m \u001b[1;33m\u001b[0m\u001b[0m\n\u001b[0;32m    138\u001b[0m         self._action_set = (\n",
      "\u001b[1;32m~\\Anaconda3\\lib\\site-packages\\gym\\envs\\atari\\environment.py\u001b[0m in \u001b[0;36mseed\u001b[1;34m(self, seed)\u001b[0m\n\u001b[0;32m    185\u001b[0m \u001b[1;33m\u001b[0m\u001b[0m\n\u001b[0;32m    186\u001b[0m         \u001b[1;32mif\u001b[0m \u001b[1;32mnot\u001b[0m \u001b[0mhasattr\u001b[0m\u001b[1;33m(\u001b[0m\u001b[0mroms\u001b[0m\u001b[1;33m,\u001b[0m \u001b[0mself\u001b[0m\u001b[1;33m.\u001b[0m\u001b[0m_game\u001b[0m\u001b[1;33m)\u001b[0m\u001b[1;33m:\u001b[0m\u001b[1;33m\u001b[0m\u001b[1;33m\u001b[0m\u001b[0m\n\u001b[1;32m--> 187\u001b[1;33m             raise error.Error(\n\u001b[0m\u001b[0;32m    188\u001b[0m                 \u001b[1;34mf'We\\'re Unable to find the game \"{self._game}\". Note: Gym no longer distributes ROMs. '\u001b[0m\u001b[1;33m\u001b[0m\u001b[1;33m\u001b[0m\u001b[0m\n\u001b[0;32m    189\u001b[0m                 \u001b[1;34mf\"If you own a license to use the necessary ROMs for research purposes you can download them \"\u001b[0m\u001b[1;33m\u001b[0m\u001b[1;33m\u001b[0m\u001b[0m\n",
      "\u001b[1;31mError\u001b[0m: We're Unable to find the game \"Breakout\". Note: Gym no longer distributes ROMs. If you own a license to use the necessary ROMs for research purposes you can download them via `pip install gym[accept-rom-license]`. Otherwise, you should try importing \"Breakout\" via the command `ale-import-roms`. If you believe this is a mistake perhaps your copy of \"Breakout\" is unsupported. To check if this is the case try providing the environment variable `PYTHONWARNINGS=default::ImportWarning:ale_py.roms`. For more information see: https://github.com/mgbellemare/Arcade-Learning-Environment#rom-management"
     ]
    }
   ],
   "source": [
    "def query_environment(name):\n",
    "    env = gym.make(name)\n",
    "    spec = gym.spec(name)\n",
    "    print(f\"Action Space: {env.action_space}\")\n",
    "    print(f\"Observation Space: {env.observation_space}\")\n",
    "    print(f\"Max Episode Steps: {spec.max_episode_steps}\")\n",
    "    print(f\"Nondeterministic: {spec.nondeterministic}\")\n",
    "    print(f\"Reward Range: {env.reward_range}\")\n",
    "    print(f\"Reward Threshold: {spec.reward_threshold}\")\n",
    "query_environment(\"Breakout-v0\")"
   ]
  },
  {
   "cell_type": "code",
   "execution_count": null,
   "metadata": {
    "id": "K67_oTyHNBvY"
   },
   "outputs": [],
   "source": [
    "if 0:\n",
    "  import tensorflow as tf\n",
    "  import tensorflow.keras as keras\n",
    "  from tensorflow.keras import layers\n",
    "  from tensorflow.keras.models import Sequential, Model\n",
    "  from tensorflow.keras.layers import ConvLSTM2D,Conv3D,Conv2D,TimeDistributed,Flatten, Reshape, Input\n",
    "  from tensorflow.keras.layers import BatchNormalization, Conv2DTranspose, Permute, MaxPooling2D, MaxPooling3D, UpSampling2D\n",
    "  from tensorflow.keras.layers import Dense, Dropout\n",
    "  from keras.layers import LeakyReLU\n",
    "  from tensorflow.keras.layers import GRU, LSTM\n",
    "  from tensorflow.keras.optimizers import Adam\n",
    "  from tensorflow.keras.layers import Activation\n",
    "\n",
    "  from tensorflow.keras.preprocessing import image\n",
    "  from keras import backend as K\n",
    "  def reset_keras():\n",
    "    K.clear_session()\n",
    "    gc.collect()\n",
    "  try:\n",
    "    physical_devices = tf.config.experimental.list_physical_devices('GPU')\n",
    "    tf.config.experimental.set_memory_growth(physical_devices[0], True)\n",
    "\n",
    "    physical_devices = tf.config.list_physical_devices('GPU')\n",
    "    tf.config.experimental.set_memory_growth(physical_devices[0], enable=True)\n",
    "  except Exception:\n",
    "    print('GPU error')\n",
    "  state_size = (224,224,3)\n",
    "  mobnet = tf.keras.applications.mobilenet.MobileNet(\n",
    "      input_shape=state_size, alpha=1.0, depth_multiplier=1, dropout=0.001,\n",
    "      include_top=True, weights='imagenet', input_tensor=None, pooling=None,\n",
    "      classes=1000, classifier_activation='softmax'\n",
    "  )\n",
    "  mobnet = Model(inputs=mobnet.input, outputs=mobnet.get_layer('global_average_pooling2d').output)\n",
    "  def resize_arr_img(x,size):\n",
    "    x = image.array_to_img(x)\n",
    "    x = x.resize(size)\n",
    "    return np.array(x)"
   ]
  },
  {
   "cell_type": "code",
   "execution_count": null,
   "metadata": {
    "id": "9VRFzv6hQUF0"
   },
   "outputs": [],
   "source": [
    "if 0:\n",
    "  def encode_mobnet(X):\n",
    "    #каждую картинку порубить на 4 части\n",
    "    count_squares = 2\n",
    "    sz = np.shape(X)\n",
    "    x_lst = []\n",
    "    for i in range(count_squares):\n",
    "      for j in range(count_squares):\n",
    "        x = X[:,int(i*sz[1]/count_squares):int((i+1)*sz[1]/count_squares), int(j*sz[2]/count_squares):int((j+1)*sz[2]/count_squares)]\n",
    "        x = np.array([resize_arr_img(x[i],(224,224)) for i in range(np.shape(x)[0])])\n",
    "        #y = mobnet.predict(x)\n",
    "        x_lst.append(x)\n",
    "        #y_lst.append(y)\n",
    "    #а потом на 9\n",
    "    count_squares = 3\n",
    "    for i in range(count_squares):\n",
    "      for j in range(count_squares):\n",
    "        x = X[:,int(i*sz[1]/count_squares):int((i+1)*sz[1]/count_squares), int(j*sz[2]/count_squares):int((j+1)*sz[2]/count_squares)]\n",
    "        x = np.array([resize_arr_img(x[i],(224,224)) for i in range(np.shape(x)[0])])\n",
    "        #y = mobnet.predict(x)\n",
    "        x_lst.append(x)\n",
    "        #y_lst.append(y)\n",
    "    x_lst = np.array(x_lst)[:,0]\n",
    "    y = mobnet.predict(x_lst)\n",
    "    y_lst = np.reshape(y,[sz[0],13*1024])\n",
    "    #print('y_lst',np.shape(y_lst),'must be 2000x4098')\n",
    "    return y_lst"
   ]
  },
  {
   "cell_type": "code",
   "execution_count": null,
   "metadata": {
    "id": "yHqp2lahT3dG"
   },
   "outputs": [],
   "source": [
    "def encode_simple(X):\n",
    "  #как сделать простое кодирование? Ну давай разобьём картинку двумя разными сетками и измерим яркость\n",
    "  #на входе одиночная картинка\n",
    "  y_lst = []\n",
    "  sz = np.shape(X)\n",
    "  count_squares = 7\n",
    "  for i in range(count_squares):\n",
    "    for j in range(count_squares):\n",
    "      x = X[int(i*sz[0]/count_squares):int((i+1)*sz[0]/count_squares), int(j*sz[1]/count_squares):int((j+1)*sz[1]/count_squares)]\n",
    "      y_lst.append(np.nanmean(x))\n",
    "\n",
    "  count_squares = 3\n",
    "  for i in range(count_squares):\n",
    "    for j in range(count_squares):\n",
    "      x = X[int(i*sz[0]/count_squares):int((i+1)*sz[0]/count_squares), int(j*sz[1]/count_squares):int((j+1)*sz[1]/count_squares)]\n",
    "      y_lst.append(np.nanmean(x))\n",
    "\n",
    "  count_squares = 2\n",
    "  for i in range(count_squares):\n",
    "    for j in range(count_squares):\n",
    "      x = X[int(i*sz[0]/count_squares):int((i+1)*sz[0]/count_squares), int(j*sz[1]/count_squares):int((j+1)*sz[1]/count_squares)]\n",
    "      y_lst.append(np.nanmean(x))\n",
    "  #размер: 62\n",
    "  return np.array(y_lst)"
   ]
  },
  {
   "cell_type": "code",
   "execution_count": null,
   "metadata": {
    "id": "_hxFWNWoOsmJ"
   },
   "outputs": [],
   "source": [
    "n_actions = 4\n",
    "embed_size = 62#это эмбеддинг картинки\n",
    "nt = neural_tape_controller.nt_controller(input_size=embed_size,output_size=n_actions)\n",
    "try:\n",
    "    with open(root_dir+f'./genoms/best_genoms_breakout.pkl', 'rb') as f:\n",
    "        genom = pickle.load(f)\n",
    "        genom = genom[-1]\n",
    "    print('loaded successfully')\n",
    "except Exception:\n",
    "    genom = nt.nn.disassemble_genom()"
   ]
  },
  {
   "cell_type": "code",
   "execution_count": null,
   "metadata": {
    "id": "bXF5TTLgIheU"
   },
   "outputs": [],
   "source": [
    "def test_atary(genom, draw=False,game_name=\"Breakout-v4\"):\n",
    "  if draw:\n",
    "    globals()['video'] = []\n",
    "\n",
    "  seed=1\n",
    "  np.random.seed(seed)\n",
    "  env = gym.make(game_name)\n",
    "  env.reset()\n",
    "  n_actions = env.action_space.n\n",
    "  state_dim = env.observation_space.shape#здесь картинка\n",
    "  #print('n_actions',n_actions,'state_dim',state_dim)\n",
    "  #1/0\n",
    "  state_dim = embed_size#это эмбеддинг картинки\n",
    "  controller = neural_tape_controller.nt_controller(tacts=1,genom=np.array(genom),input_size=state_dim,output_size=n_actions) \n",
    "  out_tape = np.zeros(30)\n",
    "  reward_sum = 0\n",
    "  for i in range(150):\n",
    "      action = np.ravel(out_tape)\n",
    "      action += np.random.rand(len(action))*np.std(action)*0.05#игра детерминистическая, иначе рандома не будет\n",
    "      #print('action',int(np.argmax(action)),action)\n",
    "      #исполнить env\n",
    "      state, reward, done,_ = env.step(int(np.argmax(action)))\n",
    "      t=pd.Timestamp.now()\n",
    "      #state = encode_mobnet(np.array([state]))\n",
    "      state = encode_simple(state)\n",
    "      reward_sum += reward\n",
    "      if np.shape(state)[0]>1:\n",
    "          shp = np.shape(state)\n",
    "          state = np.reshape(state,[1,shp[0]])\n",
    "      out_tape = controller.act(state,reward,done)\n",
    "      if draw:\n",
    "        globals()['video'].append(Image.fromarray(env.render(\"rgb_array\")))\n",
    "  return reward_sum"
   ]
  },
  {
   "cell_type": "code",
   "execution_count": null,
   "metadata": {
    "id": "jn_DW2_xYhb_"
   },
   "outputs": [],
   "source": [
    "def multy_test(genom):\n",
    "  game_name = \"Breakout-v0\"\n",
    "  #один энвайронмент, разные сиды\n",
    "  q_arr = []\n",
    "  for seed in range(10):\n",
    "      q_arr.append(test_atary(genom, draw=False,game_name=game_name))\n",
    "  return np.mean(q_arr)"
   ]
  },
  {
   "cell_type": "code",
   "execution_count": null,
   "metadata": {
    "id": "2bNLh6kmFzfY"
   },
   "outputs": [],
   "source": [
    "%%time\n",
    "q=test_atary(genom,game_name=\"Breakout-v0\", draw=False)\n",
    "print('q=',q)"
   ]
  },
  {
   "cell_type": "code",
   "execution_count": null,
   "metadata": {
    "id": "cGZxP_NhdC27"
   },
   "outputs": [],
   "source": [
    "%%time\n",
    "q=multy_test(genom)\n",
    "print('q=',q)"
   ]
  },
  {
   "cell_type": "code",
   "execution_count": null,
   "metadata": {
    "id": "Eja2m2P_ewzM"
   },
   "outputs": [],
   "source": [
    "%%time\n",
    "q=test_atary(genom, draw=True)\n",
    "print('q=',q)"
   ]
  },
  {
   "cell_type": "code",
   "execution_count": null,
   "metadata": {
    "id": "hQ6UYltwAFag"
   },
   "outputs": [],
   "source": [
    "video[0].save(\n",
    "    root_dir+'./out_videos/breakout_neuroevol.gif',\n",
    "    save_all=True,\n",
    "    append_images=video[1:], \n",
    "    optimize=True,\n",
    "    duration=100,\n",
    "    loop=0\n",
    ")"
   ]
  },
  {
   "cell_type": "code",
   "execution_count": null,
   "metadata": {
    "id": "oN_h1Rg_2fQX"
   },
   "outputs": [],
   "source": [
    "print(pd.Timestamp.now())"
   ]
  },
  {
   "cell_type": "code",
   "execution_count": null,
   "metadata": {
    "id": "HzpNigFUTmIM"
   },
   "outputs": [],
   "source": [
    "print(1)\n",
    "opt = optimize.optimizer(multy_test, genom_size=len(genom),parallel_cores=2)\n",
    "try:\n",
    "    with open(root_dir+f'best_genoms.pkl', 'rb') as f:\n",
    "        opt.best_genoms = pickle.load(f)\n",
    "    print('loaded successfully')\n",
    "except Exception:\n",
    "    pass\n",
    "opt.function(opt.best_genoms[-1])\n",
    "\n",
    "for i in range(1000):\n",
    "    print('opt#',i)\n",
    "    opt.optimize()\n",
    "    with open(root_dir+f'best_genoms.pkl', 'wb') as f:\n",
    "        pickle.dump(opt.best_genoms,f,protocol=pickle.HIGHEST_PROTOCOL)\n",
    "        print('WRITTEN')"
   ]
  }
 ],
 "metadata": {
  "colab": {
   "authorship_tag": "ABX9TyNtnA5sc3skNsQxWR1wb5cf",
   "collapsed_sections": [],
   "mount_file_id": "1E-HZlThJ8gTCVaj_9q52d5ZOW09pem_G",
   "name": "pong_experiment.ipynb",
   "private_outputs": true,
   "provenance": []
  },
  "kernelspec": {
   "display_name": "Python 3 (ipykernel)",
   "language": "python",
   "name": "python3"
  },
  "language_info": {
   "codemirror_mode": {
    "name": "ipython",
    "version": 3
   },
   "file_extension": ".py",
   "mimetype": "text/x-python",
   "name": "python",
   "nbconvert_exporter": "python",
   "pygments_lexer": "ipython3",
   "version": "3.9.7"
  }
 },
 "nbformat": 4,
 "nbformat_minor": 1
}
