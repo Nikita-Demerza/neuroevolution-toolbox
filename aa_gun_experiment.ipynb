{
 "cells": [
  {
   "cell_type": "code",
   "execution_count": 3,
   "metadata": {
    "executionInfo": {
     "elapsed": 1004,
     "status": "ok",
     "timestamp": 1651244693235,
     "user": {
      "displayName": "Сергей Довгань",
      "userId": "11204475592062912374"
     },
     "user_tz": -180
    },
    "id": "iV7GFD8QRQVe"
   },
   "outputs": [],
   "source": [
    "import sys\n",
    "sys.path.append('./')\n",
    "import numpy as np\n",
    "import pandas as pd\n",
    "import neural_tape_controller\n",
    "#Положительные числа - положительные награды.\n",
    "import tasks \n",
    "import optimize\n",
    "import pickle\n",
    "root_dir = './'"
   ]
  },
  {
   "cell_type": "code",
   "execution_count": 8,
   "metadata": {
    "executionInfo": {
     "elapsed": 7,
     "status": "ok",
     "timestamp": 1651244693236,
     "user": {
      "displayName": "Сергей Довгань",
      "userId": "11204475592062912374"
     },
     "user_tz": -180
    },
    "id": "w-6cNhDZRob-"
   },
   "outputs": [],
   "source": [
    "nt = neural_tape_controller.nt_controller(tacts=1,input_size=36,output_size=5)\n",
    "genom = nt.nn.disassemble_genom()"
   ]
  },
  {
   "cell_type": "code",
   "execution_count": 4,
   "metadata": {},
   "outputs": [
    {
     "name": "stdout",
     "output_type": "stream",
     "text": [
      "loaded successfully\n"
     ]
    }
   ],
   "source": [
    "try:\n",
    "    with open(root_dir+f'./genoms/best_genoms_aa_gun2.pkl', 'rb') as f:\n",
    "        genom = pickle.load(f)[-1]\n",
    "    print('loaded successfully')\n",
    "except Exception:\n",
    "    pass"
   ]
  },
  {
   "cell_type": "code",
   "execution_count": 9,
   "metadata": {
    "colab": {
     "base_uri": "https://localhost:8080/"
    },
    "executionInfo": {
     "elapsed": 22785,
     "status": "ok",
     "timestamp": 1651244716016,
     "user": {
      "displayName": "Сергей Довгань",
      "userId": "11204475592062912374"
     },
     "user_tz": -180
    },
    "id": "Eja2m2P_ewzM",
    "outputId": "2b599475-6306-4112-f5f7-d5def96f6174"
   },
   "outputs": [
    {
     "name": "stdout",
     "output_type": "stream",
     "text": [
      "aa_gun_2: [-180 -150 -150 -165 -180 -150]  full=-176.5\n",
      "q= -176.5000000000001\n",
      "CPU times: user 18.2 s, sys: 48.2 s, total: 1min 6s\n",
      "Wall time: 42.7 s\n"
     ]
    }
   ],
   "source": [
    "%%time\n",
    "q=tasks.custom_test(genom, verbose=True, draw=False)\n",
    "print('q=',q)"
   ]
  },
  {
   "cell_type": "code",
   "execution_count": null,
   "metadata": {
    "colab": {
     "background_save": true,
     "base_uri": "https://localhost:8080/",
     "height": 200
    },
    "executionInfo": {
     "elapsed": 251,
     "status": "error",
     "timestamp": 1651244716263,
     "user": {
      "displayName": "Сергей Довгань",
      "userId": "11204475592062912374"
     },
     "user_tz": -180
    },
    "id": "oN_h1Rg_2fQX"
   },
   "outputs": [],
   "source": [
    "print(pd.Timestamp.now())"
   ]
  },
  {
   "cell_type": "code",
   "execution_count": null,
   "metadata": {},
   "outputs": [],
   "source": [
    "%%time\n",
    "n_jobs = 12\n",
    "from multiprocessing import Pool\n",
    "pool = Pool(processes=n_jobs)\n",
    "y_lst = pool.map(tasks.custom_test, [x for x in [genom]*n_jobs])\n",
    "pool.close()\n",
    "pool.join()"
   ]
  },
  {
   "cell_type": "code",
   "execution_count": 10,
   "metadata": {},
   "outputs": [
    {
     "name": "stdout",
     "output_type": "stream",
     "text": [
      "1\n"
     ]
    }
   ],
   "source": [
    "print(1)\n",
    "opt = optimize.optimizer(tasks.custom_test, genom_size=len(genom),parallel_cores=12)"
   ]
  },
  {
   "cell_type": "code",
   "execution_count": 7,
   "metadata": {},
   "outputs": [
    {
     "name": "stdout",
     "output_type": "stream",
     "text": [
      "loaded successfully\n"
     ]
    }
   ],
   "source": [
    "try:\n",
    "    with open(root_dir+f'./genoms/best_genoms_aa_gun2.pkl', 'rb') as f:\n",
    "        opt.best_genoms = pickle.load(f)\n",
    "    print('loaded successfully')\n",
    "except Exception:\n",
    "    pass"
   ]
  },
  {
   "cell_type": "code",
   "execution_count": 7,
   "metadata": {
    "colab": {
     "background_save": true
    },
    "executionInfo": {
     "elapsed": 247,
     "status": "aborted",
     "timestamp": 1651244716260,
     "user": {
      "displayName": "Сергей Довгань",
      "userId": "11204475592062912374"
     },
     "user_tz": -180
    },
    "id": "HzpNigFUTmIM"
   },
   "outputs": [
    {
     "name": "stdout",
     "output_type": "stream",
     "text": [
      "aa_gun_2: [-186.9361 -150.     -152.     -165.     -181.     -150.    ]  full=-182.32962648333333\n",
      "opt# 0\n",
      "scores for optimizers augmented [1.e+10 1.e+10 1.e+10 1.e+10 1.e+10 1.e+10 1.e+10 1.e+10 1.e+10]\n",
      "chosen evol_agressive previous_result: nan per tacts: nan\n"
     ]
    },
    {
     "name": "stderr",
     "output_type": "stream",
     "text": [
      "/home/nikita/neuroevolution-toolbox/optimize.py:35: RuntimeWarning: Mean of empty slice\n",
      "  mx.append(np.nanmean(self.history_gain[opt_name])-time_penalty*np.nanmean(self.history_time[opt_name]))\n",
      "/home/nikita/.local/lib/python3/site-packages/numpy/lib/nanfunctions.py:1879: RuntimeWarning: Degrees of freedom <= 0 for slice.\n",
      "  var = nanvar(a, axis=axis, dtype=dtype, out=out, ddof=ddof,\n"
     ]
    },
    {
     "name": "stdout",
     "output_type": "stream",
     "text": [
      "iteration 0 y= [-55.92352417 -66.08571818 -74.17288573 -91.50217547]\n"
     ]
    },
    {
     "name": "stderr",
     "output_type": "stream",
     "text": [
      "/home/nikita/neuroevolution-toolbox/nnet.py:348: RuntimeWarning: overflow encountered in multiply\n",
      "  k_add = np.sin(k_amplif*self.belts[layer['belt_name']][0,:min_len]/(np.abs(threshold)+0.01))*np.abs(threshold)\n",
      "/home/nikita/neuroevolution-toolbox/nnet.py:348: RuntimeWarning: overflow encountered in multiply\n",
      "  k_add = np.sin(k_amplif*self.belts[layer['belt_name']][0,:min_len]/(np.abs(threshold)+0.01))*np.abs(threshold)\n",
      "/home/nikita/neuroevolution-toolbox/nnet.py:348: RuntimeWarning: overflow encountered in multiply\n",
      "  k_add = np.sin(k_amplif*self.belts[layer['belt_name']][0,:min_len]/(np.abs(threshold)+0.01))*np.abs(threshold)\n",
      "/home/nikita/neuroevolution-toolbox/nnet.py:348: RuntimeWarning: overflow encountered in multiply\n",
      "  k_add = np.sin(k_amplif*self.belts[layer['belt_name']][0,:min_len]/(np.abs(threshold)+0.01))*np.abs(threshold)\n",
      "/home/nikita/neuroevolution-toolbox/nnet.py:348: RuntimeWarning: invalid value encountered in sin\n",
      "  k_add = np.sin(k_amplif*self.belts[layer['belt_name']][0,:min_len]/(np.abs(threshold)+0.01))*np.abs(threshold)\n",
      "/home/nikita/neuroevolution-toolbox/nnet.py:348: RuntimeWarning: invalid value encountered in sin\n",
      "  k_add = np.sin(k_amplif*self.belts[layer['belt_name']][0,:min_len]/(np.abs(threshold)+0.01))*np.abs(threshold)\n",
      "/home/nikita/neuroevolution-toolbox/nnet.py:348: RuntimeWarning: overflow encountered in multiply\n",
      "  k_add = np.sin(k_amplif*self.belts[layer['belt_name']][0,:min_len]/(np.abs(threshold)+0.01))*np.abs(threshold)\n",
      "/home/nikita/neuroevolution-toolbox/nnet.py:348: RuntimeWarning: invalid value encountered in sin\n",
      "  k_add = np.sin(k_amplif*self.belts[layer['belt_name']][0,:min_len]/(np.abs(threshold)+0.01))*np.abs(threshold)\n",
      "/home/nikita/neuroevolution-toolbox/nnet.py:348: RuntimeWarning: invalid value encountered in sin\n",
      "  k_add = np.sin(k_amplif*self.belts[layer['belt_name']][0,:min_len]/(np.abs(threshold)+0.01))*np.abs(threshold)\n",
      "/home/nikita/neuroevolution-toolbox/nnet.py:348: RuntimeWarning: overflow encountered in multiply\n",
      "  k_add = np.sin(k_amplif*self.belts[layer['belt_name']][0,:min_len]/(np.abs(threshold)+0.01))*np.abs(threshold)\n",
      "/home/nikita/neuroevolution-toolbox/nnet.py:348: RuntimeWarning: overflow encountered in multiply\n",
      "  k_add = np.sin(k_amplif*self.belts[layer['belt_name']][0,:min_len]/(np.abs(threshold)+0.01))*np.abs(threshold)\n",
      "/home/nikita/neuroevolution-toolbox/nnet.py:348: RuntimeWarning: invalid value encountered in sin\n",
      "  k_add = np.sin(k_amplif*self.belts[layer['belt_name']][0,:min_len]/(np.abs(threshold)+0.01))*np.abs(threshold)\n",
      "/home/nikita/neuroevolution-toolbox/nnet.py:348: RuntimeWarning: invalid value encountered in sin\n",
      "  k_add = np.sin(k_amplif*self.belts[layer['belt_name']][0,:min_len]/(np.abs(threshold)+0.01))*np.abs(threshold)\n",
      "/home/nikita/neuroevolution-toolbox/nnet.py:348: RuntimeWarning: invalid value encountered in sin\n",
      "  k_add = np.sin(k_amplif*self.belts[layer['belt_name']][0,:min_len]/(np.abs(threshold)+0.01))*np.abs(threshold)\n",
      "/home/nikita/neuroevolution-toolbox/nnet.py:348: RuntimeWarning: overflow encountered in multiply\n",
      "  k_add = np.sin(k_amplif*self.belts[layer['belt_name']][0,:min_len]/(np.abs(threshold)+0.01))*np.abs(threshold)\n",
      "/home/nikita/neuroevolution-toolbox/nnet.py:348: RuntimeWarning: invalid value encountered in sin\n",
      "  k_add = np.sin(k_amplif*self.belts[layer['belt_name']][0,:min_len]/(np.abs(threshold)+0.01))*np.abs(threshold)\n",
      "/home/nikita/neuroevolution-toolbox/nnet.py:348: RuntimeWarning: overflow encountered in multiply\n",
      "  k_add = np.sin(k_amplif*self.belts[layer['belt_name']][0,:min_len]/(np.abs(threshold)+0.01))*np.abs(threshold)\n",
      "/home/nikita/neuroevolution-toolbox/nnet.py:348: RuntimeWarning: invalid value encountered in sin\n",
      "  k_add = np.sin(k_amplif*self.belts[layer['belt_name']][0,:min_len]/(np.abs(threshold)+0.01))*np.abs(threshold)\n",
      "/home/nikita/neuroevolution-toolbox/nnet.py:348: RuntimeWarning: overflow encountered in multiply\n",
      "  k_add = np.sin(k_amplif*self.belts[layer['belt_name']][0,:min_len]/(np.abs(threshold)+0.01))*np.abs(threshold)\n",
      "/home/nikita/neuroevolution-toolbox/nnet.py:348: RuntimeWarning: invalid value encountered in sin\n",
      "  k_add = np.sin(k_amplif*self.belts[layer['belt_name']][0,:min_len]/(np.abs(threshold)+0.01))*np.abs(threshold)\n",
      "/home/nikita/neuroevolution-toolbox/nnet.py:348: RuntimeWarning: overflow encountered in multiply\n",
      "  k_add = np.sin(k_amplif*self.belts[layer['belt_name']][0,:min_len]/(np.abs(threshold)+0.01))*np.abs(threshold)\n",
      "/home/nikita/neuroevolution-toolbox/nnet.py:348: RuntimeWarning: invalid value encountered in sin\n",
      "  k_add = np.sin(k_amplif*self.belts[layer['belt_name']][0,:min_len]/(np.abs(threshold)+0.01))*np.abs(threshold)\n",
      "/home/nikita/neuroevolution-toolbox/nnet.py:348: RuntimeWarning: overflow encountered in multiply\n",
      "  k_add = np.sin(k_amplif*self.belts[layer['belt_name']][0,:min_len]/(np.abs(threshold)+0.01))*np.abs(threshold)\n",
      "/home/nikita/neuroevolution-toolbox/nnet.py:348: RuntimeWarning: invalid value encountered in sin\n",
      "  k_add = np.sin(k_amplif*self.belts[layer['belt_name']][0,:min_len]/(np.abs(threshold)+0.01))*np.abs(threshold)\n"
     ]
    },
    {
     "ename": "KeyboardInterrupt",
     "evalue": "",
     "output_type": "error",
     "traceback": [
      "\u001b[0;31m---------------------------------------------------------------------------\u001b[0m",
      "\u001b[0;31mKeyboardInterrupt\u001b[0m                         Traceback (most recent call last)",
      "\u001b[1;32m/home/nikita/neuroevolution-toolbox/aa_gun_experiment.ipynb Cell 9'\u001b[0m in \u001b[0;36m<cell line: 2>\u001b[0;34m()\u001b[0m\n\u001b[1;32m      <a href='vscode-notebook-cell:/home/nikita/neuroevolution-toolbox/aa_gun_experiment.ipynb#ch0000008?line=1'>2</a>\u001b[0m \u001b[39mfor\u001b[39;00m i \u001b[39min\u001b[39;00m \u001b[39mrange\u001b[39m(\u001b[39m1000\u001b[39m):\n\u001b[1;32m      <a href='vscode-notebook-cell:/home/nikita/neuroevolution-toolbox/aa_gun_experiment.ipynb#ch0000008?line=2'>3</a>\u001b[0m     \u001b[39mprint\u001b[39m(\u001b[39m'\u001b[39m\u001b[39mopt#\u001b[39m\u001b[39m'\u001b[39m,i)\n\u001b[0;32m----> <a href='vscode-notebook-cell:/home/nikita/neuroevolution-toolbox/aa_gun_experiment.ipynb#ch0000008?line=3'>4</a>\u001b[0m     opt\u001b[39m.\u001b[39;49moptimize()\n\u001b[1;32m      <a href='vscode-notebook-cell:/home/nikita/neuroevolution-toolbox/aa_gun_experiment.ipynb#ch0000008?line=4'>5</a>\u001b[0m     \u001b[39mwith\u001b[39;00m \u001b[39mopen\u001b[39m(root_dir\u001b[39m+\u001b[39m\u001b[39mf\u001b[39m\u001b[39m'\u001b[39m\u001b[39m./genoms/best_genoms_aa_gun2.pkl\u001b[39m\u001b[39m'\u001b[39m, \u001b[39m'\u001b[39m\u001b[39mwb\u001b[39m\u001b[39m'\u001b[39m) \u001b[39mas\u001b[39;00m f:\n\u001b[1;32m      <a href='vscode-notebook-cell:/home/nikita/neuroevolution-toolbox/aa_gun_experiment.ipynb#ch0000008?line=5'>6</a>\u001b[0m         pickle\u001b[39m.\u001b[39mdump(opt\u001b[39m.\u001b[39mbest_genoms,f,protocol\u001b[39m=\u001b[39mpickle\u001b[39m.\u001b[39mHIGHEST_PROTOCOL)\n",
      "File \u001b[0;32m~/neuroevolution-toolbox/optimize.py:52\u001b[0m, in \u001b[0;36moptimizer.optimize\u001b[0;34m(self)\u001b[0m\n\u001b[1;32m     <a href='file:///home/nikita/neuroevolution-toolbox/optimize.py?line=49'>50</a>\u001b[0m t \u001b[39m=\u001b[39m pd\u001b[39m.\u001b[39mTimestamp\u001b[39m.\u001b[39mnow()\n\u001b[1;32m     <a href='file:///home/nikita/neuroevolution-toolbox/optimize.py?line=50'>51</a>\u001b[0m \u001b[39mif\u001b[39;00m chosen_optimizer\u001b[39m==\u001b[39m\u001b[39m'\u001b[39m\u001b[39mevol_agressive\u001b[39m\u001b[39m'\u001b[39m:\n\u001b[0;32m---> <a href='file:///home/nikita/neuroevolution-toolbox/optimize.py?line=51'>52</a>\u001b[0m     \u001b[39mself\u001b[39;49m\u001b[39m.\u001b[39;49mevol_agressive()\n\u001b[1;32m     <a href='file:///home/nikita/neuroevolution-toolbox/optimize.py?line=52'>53</a>\u001b[0m \u001b[39melif\u001b[39;00m chosen_optimizer\u001b[39m==\u001b[39m\u001b[39m'\u001b[39m\u001b[39mevol_wide\u001b[39m\u001b[39m'\u001b[39m:\n\u001b[1;32m     <a href='file:///home/nikita/neuroevolution-toolbox/optimize.py?line=53'>54</a>\u001b[0m     \u001b[39mself\u001b[39m\u001b[39m.\u001b[39mevol_wide()\n",
      "File \u001b[0;32m~/neuroevolution-toolbox/optimize.py:107\u001b[0m, in \u001b[0;36moptimizer.evol_agressive\u001b[0;34m(self)\u001b[0m\n\u001b[1;32m    <a href='file:///home/nikita/neuroevolution-toolbox/optimize.py?line=104'>105</a>\u001b[0m popsize\u001b[39m=\u001b[39m\u001b[39m100\u001b[39m\n\u001b[1;32m    <a href='file:///home/nikita/neuroevolution-toolbox/optimize.py?line=105'>106</a>\u001b[0m maxiter\u001b[39m=\u001b[39m\u001b[39m10\u001b[39m\n\u001b[0;32m--> <a href='file:///home/nikita/neuroevolution-toolbox/optimize.py?line=106'>107</a>\u001b[0m [genom_best,genoms, losses] \u001b[39m=\u001b[39m \u001b[39mself\u001b[39;49m\u001b[39m.\u001b[39;49mevol_parallel(\u001b[39mself\u001b[39;49m\u001b[39m.\u001b[39;49mfunction,bounds\u001b[39m=\u001b[39;49m[\u001b[39m-\u001b[39;49m\u001b[39m1\u001b[39;49m,\u001b[39m1\u001b[39;49m],size_x\u001b[39m=\u001b[39;49m\u001b[39mself\u001b[39;49m\u001b[39m.\u001b[39;49mgenom_size, popsize\u001b[39m=\u001b[39;49mpopsize,maxiter\u001b[39m=\u001b[39;49mmaxiter, mutation_p\u001b[39m=\u001b[39;49m\u001b[39m0.2\u001b[39;49m,mutation_p_e\u001b[39m=\u001b[39;49m\u001b[39m0.2\u001b[39;49m,\n\u001b[1;32m    <a href='file:///home/nikita/neuroevolution-toolbox/optimize.py?line=107'>108</a>\u001b[0m           mutation_r\u001b[39m=\u001b[39;49m\u001b[39m0.5\u001b[39;49m, alpha_count\u001b[39m=\u001b[39;49m\u001b[39m6\u001b[39;49m,elitarism\u001b[39m=\u001b[39;49m\u001b[39m4\u001b[39;49m,verbose\u001b[39m=\u001b[39;49m\u001b[39mTrue\u001b[39;49;00m,\n\u001b[1;32m    <a href='file:///home/nikita/neuroevolution-toolbox/optimize.py?line=108'>109</a>\u001b[0m           out\u001b[39m=\u001b[39;49m[],\n\u001b[1;32m    <a href='file:///home/nikita/neuroevolution-toolbox/optimize.py?line=109'>110</a>\u001b[0m           start_point\u001b[39m=\u001b[39;49m\u001b[39mself\u001b[39;49m\u001b[39m.\u001b[39;49mbest_genoms,get_extended\u001b[39m=\u001b[39;49m\u001b[39mTrue\u001b[39;49;00m)\n\u001b[1;32m    <a href='file:///home/nikita/neuroevolution-toolbox/optimize.py?line=110'>111</a>\u001b[0m gain \u001b[39m=\u001b[39m np\u001b[39m.\u001b[39mmax(losses)\u001b[39m-\u001b[39m\u001b[39mself\u001b[39m\u001b[39m.\u001b[39mcurrent_loss\u001b[39m#было -2, стало -1. gain = 1. Положительный gain - хорошо\u001b[39;00m\n\u001b[1;32m    <a href='file:///home/nikita/neuroevolution-toolbox/optimize.py?line=111'>112</a>\u001b[0m \u001b[39mself\u001b[39m\u001b[39m.\u001b[39mcurrent_loss \u001b[39m=\u001b[39m np\u001b[39m.\u001b[39mmax(losses)\n",
      "File \u001b[0;32m~/neuroevolution-toolbox/optimize.py:379\u001b[0m, in \u001b[0;36moptimizer.evol_parallel\u001b[0;34m(self, function, bounds, size_x, popsize, maxiter, mutation_p, mutation_p_e, mutation_r, alpha_count, elitarism, seed, verbose, out, start_point, get_extended)\u001b[0m\n\u001b[1;32m    <a href='file:///home/nikita/neuroevolution-toolbox/optimize.py?line=376'>377</a>\u001b[0m \u001b[39mif\u001b[39;00m n_jobs\u001b[39m!=\u001b[39m\u001b[39m1\u001b[39m:\n\u001b[1;32m    <a href='file:///home/nikita/neuroevolution-toolbox/optimize.py?line=377'>378</a>\u001b[0m     pool \u001b[39m=\u001b[39m Pool(processes\u001b[39m=\u001b[39mn_jobs)\n\u001b[0;32m--> <a href='file:///home/nikita/neuroevolution-toolbox/optimize.py?line=378'>379</a>\u001b[0m     y_old \u001b[39m=\u001b[39m pool\u001b[39m.\u001b[39;49mmap(function, [x \u001b[39mfor\u001b[39;49;00m x \u001b[39min\u001b[39;49;00m x_old])\n\u001b[1;32m    <a href='file:///home/nikita/neuroevolution-toolbox/optimize.py?line=379'>380</a>\u001b[0m     pool\u001b[39m.\u001b[39mclose()\n\u001b[1;32m    <a href='file:///home/nikita/neuroevolution-toolbox/optimize.py?line=380'>381</a>\u001b[0m     pool\u001b[39m.\u001b[39mjoin()\n",
      "File \u001b[0;32m/usr/lib64/python3.9/multiprocessing/pool.py:364\u001b[0m, in \u001b[0;36mPool.map\u001b[0;34m(self, func, iterable, chunksize)\u001b[0m\n\u001b[1;32m    <a href='file:///usr/lib64/python3.9/multiprocessing/pool.py?line=358'>359</a>\u001b[0m \u001b[39mdef\u001b[39;00m \u001b[39mmap\u001b[39m(\u001b[39mself\u001b[39m, func, iterable, chunksize\u001b[39m=\u001b[39m\u001b[39mNone\u001b[39;00m):\n\u001b[1;32m    <a href='file:///usr/lib64/python3.9/multiprocessing/pool.py?line=359'>360</a>\u001b[0m     \u001b[39m'''\u001b[39;00m\n\u001b[1;32m    <a href='file:///usr/lib64/python3.9/multiprocessing/pool.py?line=360'>361</a>\u001b[0m \u001b[39m    Apply `func` to each element in `iterable`, collecting the results\u001b[39;00m\n\u001b[1;32m    <a href='file:///usr/lib64/python3.9/multiprocessing/pool.py?line=361'>362</a>\u001b[0m \u001b[39m    in a list that is returned.\u001b[39;00m\n\u001b[1;32m    <a href='file:///usr/lib64/python3.9/multiprocessing/pool.py?line=362'>363</a>\u001b[0m \u001b[39m    '''\u001b[39;00m\n\u001b[0;32m--> <a href='file:///usr/lib64/python3.9/multiprocessing/pool.py?line=363'>364</a>\u001b[0m     \u001b[39mreturn\u001b[39;00m \u001b[39mself\u001b[39;49m\u001b[39m.\u001b[39;49m_map_async(func, iterable, mapstar, chunksize)\u001b[39m.\u001b[39;49mget()\n",
      "File \u001b[0;32m/usr/lib64/python3.9/multiprocessing/pool.py:765\u001b[0m, in \u001b[0;36mApplyResult.get\u001b[0;34m(self, timeout)\u001b[0m\n\u001b[1;32m    <a href='file:///usr/lib64/python3.9/multiprocessing/pool.py?line=763'>764</a>\u001b[0m \u001b[39mdef\u001b[39;00m \u001b[39mget\u001b[39m(\u001b[39mself\u001b[39m, timeout\u001b[39m=\u001b[39m\u001b[39mNone\u001b[39;00m):\n\u001b[0;32m--> <a href='file:///usr/lib64/python3.9/multiprocessing/pool.py?line=764'>765</a>\u001b[0m     \u001b[39mself\u001b[39;49m\u001b[39m.\u001b[39;49mwait(timeout)\n\u001b[1;32m    <a href='file:///usr/lib64/python3.9/multiprocessing/pool.py?line=765'>766</a>\u001b[0m     \u001b[39mif\u001b[39;00m \u001b[39mnot\u001b[39;00m \u001b[39mself\u001b[39m\u001b[39m.\u001b[39mready():\n\u001b[1;32m    <a href='file:///usr/lib64/python3.9/multiprocessing/pool.py?line=766'>767</a>\u001b[0m         \u001b[39mraise\u001b[39;00m \u001b[39mTimeoutError\u001b[39;00m\n",
      "File \u001b[0;32m/usr/lib64/python3.9/multiprocessing/pool.py:762\u001b[0m, in \u001b[0;36mApplyResult.wait\u001b[0;34m(self, timeout)\u001b[0m\n\u001b[1;32m    <a href='file:///usr/lib64/python3.9/multiprocessing/pool.py?line=760'>761</a>\u001b[0m \u001b[39mdef\u001b[39;00m \u001b[39mwait\u001b[39m(\u001b[39mself\u001b[39m, timeout\u001b[39m=\u001b[39m\u001b[39mNone\u001b[39;00m):\n\u001b[0;32m--> <a href='file:///usr/lib64/python3.9/multiprocessing/pool.py?line=761'>762</a>\u001b[0m     \u001b[39mself\u001b[39;49m\u001b[39m.\u001b[39;49m_event\u001b[39m.\u001b[39;49mwait(timeout)\n",
      "File \u001b[0;32m/usr/lib64/python3.9/threading.py:574\u001b[0m, in \u001b[0;36mEvent.wait\u001b[0;34m(self, timeout)\u001b[0m\n\u001b[1;32m    <a href='file:///usr/lib64/python3.9/threading.py?line=571'>572</a>\u001b[0m signaled \u001b[39m=\u001b[39m \u001b[39mself\u001b[39m\u001b[39m.\u001b[39m_flag\n\u001b[1;32m    <a href='file:///usr/lib64/python3.9/threading.py?line=572'>573</a>\u001b[0m \u001b[39mif\u001b[39;00m \u001b[39mnot\u001b[39;00m signaled:\n\u001b[0;32m--> <a href='file:///usr/lib64/python3.9/threading.py?line=573'>574</a>\u001b[0m     signaled \u001b[39m=\u001b[39m \u001b[39mself\u001b[39;49m\u001b[39m.\u001b[39;49m_cond\u001b[39m.\u001b[39;49mwait(timeout)\n\u001b[1;32m    <a href='file:///usr/lib64/python3.9/threading.py?line=574'>575</a>\u001b[0m \u001b[39mreturn\u001b[39;00m signaled\n",
      "File \u001b[0;32m/usr/lib64/python3.9/threading.py:312\u001b[0m, in \u001b[0;36mCondition.wait\u001b[0;34m(self, timeout)\u001b[0m\n\u001b[1;32m    <a href='file:///usr/lib64/python3.9/threading.py?line=309'>310</a>\u001b[0m \u001b[39mtry\u001b[39;00m:    \u001b[39m# restore state no matter what (e.g., KeyboardInterrupt)\u001b[39;00m\n\u001b[1;32m    <a href='file:///usr/lib64/python3.9/threading.py?line=310'>311</a>\u001b[0m     \u001b[39mif\u001b[39;00m timeout \u001b[39mis\u001b[39;00m \u001b[39mNone\u001b[39;00m:\n\u001b[0;32m--> <a href='file:///usr/lib64/python3.9/threading.py?line=311'>312</a>\u001b[0m         waiter\u001b[39m.\u001b[39;49macquire()\n\u001b[1;32m    <a href='file:///usr/lib64/python3.9/threading.py?line=312'>313</a>\u001b[0m         gotit \u001b[39m=\u001b[39m \u001b[39mTrue\u001b[39;00m\n\u001b[1;32m    <a href='file:///usr/lib64/python3.9/threading.py?line=313'>314</a>\u001b[0m     \u001b[39melse\u001b[39;00m:\n",
      "\u001b[0;31mKeyboardInterrupt\u001b[0m: "
     ]
    }
   ],
   "source": [
    "opt.function(opt.best_genoms[-1], verbose=True)\n",
    "for i in range(1000):\n",
    "    print('opt#',i)\n",
    "    opt.optimize()\n",
    "    with open(root_dir+f'./genoms/best_genoms_aa_gun2.pkl', 'wb') as f:\n",
    "        pickle.dump(opt.best_genoms,f,protocol=pickle.HIGHEST_PROTOCOL)\n",
    "        print('WRITTEN')"
   ]
  },
  {
   "cell_type": "code",
   "execution_count": null,
   "metadata": {},
   "outputs": [],
   "source": [
    "#draw\n",
    "with open(root_dir+f'./genoms/best_genoms_aa_gun2.pkl', 'rb') as f:\n",
    "    genom = pickle.load(f)\n",
    "    genom = genom[-1]\n",
    "print('loaded successfully')\n",
    "q=tasks.custom_test(genom, verbose=True, draw=True)\n",
    "print('q=',q)"
   ]
  },
  {
   "cell_type": "code",
   "execution_count": null,
   "metadata": {},
   "outputs": [],
   "source": [
    "#save gif\n",
    "tasks.video[0].save(\n",
    "    root_dir+'./out_videos/best_genoms_aa_gun.gif',\n",
    "    save_all=True,\n",
    "    append_images=tasks.video[1:], \n",
    "    optimize=True,\n",
    "    duration=200,\n",
    "    loop=0\n",
    ")"
   ]
  },
  {
   "cell_type": "code",
   "execution_count": 8,
   "metadata": {},
   "outputs": [
    {
     "name": "stderr",
     "output_type": "stream",
     "text": [
      "OpenCV: FFMPEG: tag 0x5634504d/'MP4V' is not supported with codec id 12 and format 'mp4 / MP4 (MPEG-4 Part 14)'\n",
      "OpenCV: FFMPEG: fallback to use tag 0x7634706d/'mp4v'\n"
     ]
    }
   ],
   "source": [
    "#draw video\n",
    "import cv2\n",
    "writer = cv2.VideoWriter(\"outputvideo.mp4\",cv2.VideoWriter_fourcc(*\"MP4V\"),30,(512,512))\n",
    "for i in range(0,len(tasks.video),1):\n",
    "    resize = cv2.resize(np.array(tasks.video[i]), (512, 512))\n",
    "    frame = resize*0\n",
    "    frame[:,:,0],frame[:,:,1],frame[:,:,2] = resize[:,:,2],resize[:,:,1], resize[:,:,0]\n",
    "    writer.write(frame)\n",
    "writer.release()"
   ]
  },
  {
   "cell_type": "code",
   "execution_count": null,
   "metadata": {},
   "outputs": [],
   "source": []
  }
 ],
 "metadata": {
  "colab": {
   "authorship_tag": "ABX9TyPR8em43jeF5VYi7lM/34eC",
   "collapsed_sections": [],
   "mount_file_id": "1_qK6Elr2kpuP4tJ48dO73b2CaZMCR4WI",
   "name": "aa_gun_experiment.ipynb",
   "version": ""
  },
  "interpreter": {
   "hash": "31f2aee4e71d21fbe5cf8b01ff0e069b9275f58929596ceb00d14d90e3e16cd6"
  },
  "kernelspec": {
   "display_name": "Python 3.9.6 64-bit",
   "language": "python",
   "name": "python3"
  },
  "language_info": {
   "codemirror_mode": {
    "name": "ipython",
    "version": 3
   },
   "file_extension": ".py",
   "mimetype": "text/x-python",
   "name": "python",
   "nbconvert_exporter": "python",
   "pygments_lexer": "ipython3",
   "version": "3.9.6"
  }
 },
 "nbformat": 4,
 "nbformat_minor": 1
}
