{
 "cells": [
  {
   "cell_type": "code",
   "execution_count": 1,
   "metadata": {
    "executionInfo": {
     "elapsed": 1004,
     "status": "ok",
     "timestamp": 1651244693235,
     "user": {
      "displayName": "Сергей Довгань",
      "userId": "11204475592062912374"
     },
     "user_tz": -180
    },
    "id": "iV7GFD8QRQVe"
   },
   "outputs": [],
   "source": [
    "import sys\n",
    "sys.path.append('./')\n",
    "import numpy as np\n",
    "import pandas as pd\n",
    "import neural_tape_controller\n",
    "#Положительные числа - положительные награды.\n",
    "import tasks \n",
    "import optimize\n",
    "import pickle\n",
    "root_dir = './'"
   ]
  },
  {
   "cell_type": "code",
   "execution_count": 2,
   "metadata": {
    "executionInfo": {
     "elapsed": 7,
     "status": "ok",
     "timestamp": 1651244693236,
     "user": {
      "displayName": "Сергей Довгань",
      "userId": "11204475592062912374"
     },
     "user_tz": -180
    },
    "id": "w-6cNhDZRob-"
   },
   "outputs": [],
   "source": [
    "nt = neural_tape_controller.nt_controller(tacts=1,input_size=36,output_size=5)\n",
    "genom = nt.nn.disassemble_genom()"
   ]
  },
  {
   "cell_type": "code",
   "execution_count": 3,
   "metadata": {},
   "outputs": [
    {
     "name": "stdout",
     "output_type": "stream",
     "text": [
      "loaded successfully\n"
     ]
    }
   ],
   "source": [
    "try:\n",
    "    with open(root_dir+f'./genoms/best_genoms_aa_gun2.pkl', 'rb') as f:\n",
    "        genom = pickle.load(f)[-1]\n",
    "    print('loaded successfully')\n",
    "except Exception:\n",
    "    pass"
   ]
  },
  {
   "cell_type": "code",
   "execution_count": 3,
   "metadata": {
    "colab": {
     "base_uri": "https://localhost:8080/"
    },
    "executionInfo": {
     "elapsed": 22785,
     "status": "ok",
     "timestamp": 1651244716016,
     "user": {
      "displayName": "Сергей Довгань",
      "userId": "11204475592062912374"
     },
     "user_tz": -180
    },
    "id": "Eja2m2P_ewzM",
    "outputId": "2b599475-6306-4112-f5f7-d5def96f6174"
   },
   "outputs": [
    {
     "name": "stderr",
     "output_type": "stream",
     "text": [
      "/home/nikita/neuroevolution-toolbox/nnet.py:316: RuntimeWarning: overflow encountered in add\n",
      "  self.belts[layer['belt_name']][:,:min_len] += in_data[:,:min_len]\n"
     ]
    },
    {
     "name": "stdout",
     "output_type": "stream",
     "text": [
      "aa_gun_2: [-218.8899  -88.9622 -188.901  -203.9799 -118.9979 -103.9169]  full=-205.77344499999998\n",
      "q= -205.7734450000001\n",
      "CPU times: user 15.5 s, sys: 49 s, total: 1min 4s\n",
      "Wall time: 5.57 s\n"
     ]
    }
   ],
   "source": [
    "%%time\n",
    "q=tasks.custom_test(genom, verbose=True, draw=False)\n",
    "print('q=',q)"
   ]
  },
  {
   "cell_type": "code",
   "execution_count": 3,
   "metadata": {
    "colab": {
     "background_save": true,
     "base_uri": "https://localhost:8080/",
     "height": 200
    },
    "executionInfo": {
     "elapsed": 251,
     "status": "error",
     "timestamp": 1651244716263,
     "user": {
      "displayName": "Сергей Довгань",
      "userId": "11204475592062912374"
     },
     "user_tz": -180
    },
    "id": "oN_h1Rg_2fQX"
   },
   "outputs": [
    {
     "name": "stdout",
     "output_type": "stream",
     "text": [
      "2022-05-15 09:57:03.565596\n"
     ]
    }
   ],
   "source": [
    "print(pd.Timestamp.now())"
   ]
  },
  {
   "cell_type": "code",
   "execution_count": 5,
   "metadata": {},
   "outputs": [
    {
     "name": "stdout",
     "output_type": "stream",
     "text": [
      "CPU times: user 53.1 ms, sys: 37.5 ms, total: 90.6 ms\n",
      "Wall time: 1min 3s\n"
     ]
    }
   ],
   "source": [
    "%%time\n",
    "n_jobs = 12\n",
    "from multiprocessing import Pool\n",
    "pool = Pool(processes=n_jobs)\n",
    "y_lst = pool.map(tasks.custom_test, [x for x in [genom]*n_jobs])\n",
    "pool.close()\n",
    "pool.join()"
   ]
  },
  {
   "cell_type": "code",
   "execution_count": 4,
   "metadata": {},
   "outputs": [
    {
     "name": "stdout",
     "output_type": "stream",
     "text": [
      "1\n"
     ]
    }
   ],
   "source": [
    "print(1)\n",
    "opt = optimize.optimizer(tasks.custom_test, genom_size=len(genom),parallel_cores=12)"
   ]
  },
  {
   "cell_type": "code",
   "execution_count": 6,
   "metadata": {},
   "outputs": [
    {
     "name": "stdout",
     "output_type": "stream",
     "text": [
      "loaded successfully\n"
     ]
    }
   ],
   "source": [
    "try:\n",
    "    with open(root_dir+f'./genoms/best_genoms_aa_gun.pkl', 'rb') as f:\n",
    "        opt.best_genoms = pickle.load(f)\n",
    "    print('loaded successfully')\n",
    "except Exception:\n",
    "    pass"
   ]
  },
  {
   "cell_type": "code",
   "execution_count": 5,
   "metadata": {
    "colab": {
     "background_save": true
    },
    "executionInfo": {
     "elapsed": 247,
     "status": "aborted",
     "timestamp": 1651244716260,
     "user": {
      "displayName": "Сергей Довгань",
      "userId": "11204475592062912374"
     },
     "user_tz": -180
    },
    "id": "HzpNigFUTmIM"
   },
   "outputs": [
    {
     "name": "stderr",
     "output_type": "stream",
     "text": [
      "/home/nikita/neuroevolution-toolbox/nnet.py:324: RuntimeWarning: overflow encountered in multiply\n",
      "  k_add = np.arctan(k_amplif*self.belts[layer['belt_name']][:,:min_len]/threshold)*threshold\n"
     ]
    },
    {
     "name": "stdout",
     "output_type": "stream",
     "text": [
      "aa_gun_2: [-218.9637 -188.9946 -188.9547 -203.9928 -218.9913 -188.9214]  full=-215.4867554\n",
      "opt# 0\n",
      "scores for optimizers augmented [1.e+10 1.e+10 1.e+10 1.e+10 1.e+10 1.e+10 1.e+10 1.e+10]\n",
      "chosen evol_wide previous_result: nan per tacts: nan\n"
     ]
    },
    {
     "name": "stderr",
     "output_type": "stream",
     "text": [
      "/home/nikita/neuroevolution-toolbox/optimize.py:36: RuntimeWarning: Mean of empty slice\n",
      "  mx.append(np.nanmean(self.history_gain[opt_name])-time_penalty*np.nanmean(self.history_time[opt_name]))\n",
      "/home/nikita/.local/lib/python3/site-packages/numpy/lib/nanfunctions.py:1879: RuntimeWarning: Degrees of freedom <= 0 for slice.\n",
      "  var = nanvar(a, axis=axis, dtype=dtype, out=out, ddof=ddof,\n"
     ]
    },
    {
     "name": "stdout",
     "output_type": "stream",
     "text": [
      "iteration 0 y= [-163.54710337 -170.22726333 -174.20432333 -174.7620543 ]\n",
      "iteration 1 y= [-163.54710337 -169.87967692 -170.22726333 -174.20432333]\n",
      "iteration 2 y= [-159.15597667 -163.54710337 -166.77038    -169.87967692]\n",
      "iteration 3 y= [-159.15597667 -163.54710337 -166.77038    -169.87967692]\n",
      "iteration final y= [-135.8016184  -158.15088437 -158.4217667  -159.15597667]\n",
      "result evol_wide previous_gain: nan per tacts: nan duration 0 days 00:24:22.063841\n",
      "aa_gun_2: [  80.1923  225.2373  -74.8818  411.2766    2.0846 -189.8914]  full=-135.8016184\n",
      "WRITTEN\n",
      "opt# 1\n",
      "scores for optimizers augmented [2.7645485e+01 1.0000000e+10 1.0000000e+10 1.0000000e+10 1.0000000e+10\n",
      " 1.0000000e+10 1.0000000e+10 1.0000000e+10]\n",
      "chosen evol_mid_chaos previous_result: nan per tacts: nan\n",
      "iteration 0 y= [-135.8016184  -177.43333333 -177.73190333]\n",
      "iteration 1 y= [-135.8016184  -177.35816667 -177.3915    ]\n",
      "iteration final y= [-135.8016184 -176.5       -176.5      ]\n",
      "result evol_mid_chaos previous_gain: nan per tacts: nan duration 0 days 00:04:28.497034\n",
      "aa_gun_2: [  80.1923  225.2373  -74.8818  411.2766    2.0846 -189.8914]  full=-135.8016184\n",
      "WRITTEN\n",
      "opt# 2\n",
      "scores for optimizers augmented [ 2.7645485e+01 -2.1000000e-02  1.0000000e+10  1.0000000e+10\n",
      "  1.0000000e+10  1.0000000e+10  1.0000000e+10  1.0000000e+10]\n",
      "chosen gradient_wide_50 previous_result: nan per tacts: nan\n",
      "score_new -135.8016184003342 score_prev -135.8016184003342 gained 0.0\n",
      "undo\n",
      "score_new -135.8016184003342 score_prev -135.8016184003342 gained 0.0\n",
      "undo\n",
      "score_new -135.8016184003342 score_prev -135.8016184003342 gained 0.0\n",
      "undo\n",
      "score_new -135.8016184003342 score_prev -135.8016184003342 gained 0.0\n",
      "undo\n",
      "result gradient_wide_50 previous_gain: nan per tacts: nan duration 0 days 00:03:27.741157\n",
      "aa_gun_2: [  80.1923  225.2373  -74.8818  411.2766    2.0846 -189.8914]  full=-135.8016184\n",
      "WRITTEN\n",
      "opt# 3\n",
      "scores for optimizers augmented [ 2.7645485e+01 -2.1000000e-02 -1.8000000e-02  1.0000000e+10\n",
      "  1.0000000e+10  1.0000000e+10  1.0000000e+10  1.0000000e+10]\n",
      "chosen rel_coord_default previous_result: nan per tacts: nan\n",
      "score_new -135.8016184003342 score_prev -135.8016184003342 gained 0.0\n",
      "undo\n",
      "score_new -135.8016184003342 score_prev -135.8016184003342 gained 0.0\n",
      "undo\n",
      "score_new -135.8016184003342 score_prev -135.8016184003342 gained 0.0\n",
      "undo\n",
      "score_new -135.8016184003342 score_prev -135.8016184003342 gained 0.0\n",
      "undo\n",
      "score_new -135.8016184003342 score_prev -135.8016184003342 gained 0.0\n",
      "undo\n",
      "score_new -135.8016184003342 score_prev -135.8016184003342 gained 0.0\n",
      "undo\n",
      "score_new -135.8016184003342 score_prev -135.8016184003342 gained 0.0\n",
      "undo\n",
      "score_new -135.8016184003342 score_prev -135.8016184003342 gained 0.0\n",
      "undo\n",
      "score_new -135.8016184003342 score_prev -135.8016184003342 gained 0.0\n",
      "undo\n",
      "score_new -135.8016184003342 score_prev -135.8016184003342 gained 0.0\n",
      "undo\n",
      "score_new -135.8016184003342 score_prev -135.8016184003342 gained 0.0\n",
      "undo\n",
      "score_new -135.8016184003342 score_prev -135.8016184003342 gained 0.0\n",
      "undo\n",
      "score_new -135.8016184003342 score_prev -135.8016184003342 gained 0.0\n",
      "undo\n",
      "score_new -135.8016184003342 score_prev -135.8016184003342 gained 0.0\n",
      "undo\n",
      "score_new -135.8016184003342 score_prev -135.8016184003342 gained 0.0\n",
      "undo\n",
      "score_new -135.8016184003342 score_prev -135.8016184003342 gained 0.0\n",
      "undo\n",
      "score_new -135.8016184003342 score_prev -135.8016184003342 gained 0.0\n",
      "undo\n",
      "score_new -135.8016184003342 score_prev -135.8016184003342 gained 0.0\n",
      "undo\n",
      "score_new -135.8016184003342 score_prev -135.8016184003342 gained 0.0\n",
      "undo\n",
      "score_new -135.8016184003342 score_prev -135.8016184003342 gained 0.0\n",
      "undo\n",
      "score_new -135.8016184003342 score_prev -135.8016184003342 gained 0.0\n",
      "undo\n",
      "score_new -135.8016184003342 score_prev -135.8016184003342 gained 0.0\n",
      "undo\n",
      "score_new -135.8016184003342 score_prev -135.8016184003342 gained 0.0\n",
      "undo\n",
      "score_new -135.8016184003342 score_prev -135.8016184003342 gained 0.0\n",
      "undo\n",
      "score_new -135.8016184003342 score_prev -135.8016184003342 gained 0.0\n",
      "undo\n",
      "result rel_coord_default previous_gain: nan per tacts: nan duration 0 days 00:02:24.096710\n",
      "aa_gun_2: [  80.1923  225.2373  -74.8818  411.2766    2.0846 -189.8914]  full=-135.8016184\n",
      "WRITTEN\n",
      "opt# 4\n",
      "scores for optimizers augmented [ 2.7645485e+01 -2.1000000e-02 -1.8000000e-02 -2.5000000e-02\n",
      "  1.0000000e+10  1.0000000e+10  1.0000000e+10  1.0000000e+10]\n",
      "chosen evol_soft previous_result: nan per tacts: nan\n",
      "iteration 0 y= [-135.8016184 -135.8016184 -135.8016184]\n",
      "iteration 1 y= [-43.07530178 -46.34757605 -53.92375037]\n",
      "iteration 2 y= [-43.07530178 -46.34757605 -53.92375037]\n",
      "iteration 3 y= [-43.07530178 -46.34757605 -53.92375037]\n",
      "iteration 4 y= [-43.07530178 -46.34757605 -53.92375037]\n",
      "iteration final y= [-43.07530178 -46.34757605 -46.4510186 ]\n",
      "result evol_soft previous_gain: nan per tacts: nan duration 0 days 00:12:05.493614\n",
      "aa_gun_2: [ 80.1923 440.4791 -74.8359 410.2769  95.0447 -89.8902]  full=-43.07530178333334\n",
      "WRITTEN\n",
      "opt# 5\n",
      "scores for optimizers augmented [ 2.76454850e+01 -2.10000000e-02 -1.80000000e-02 -2.50000000e-02\n",
      "  9.26783166e+01  1.00000000e+10  1.00000000e+10  1.00000000e+10]\n",
      "chosen gradient_long_adaptive_inertial previous_result: nan per tacts: nan\n",
      "score_new -43.07530178366755 score_prev -43.07530178366755 gained 0.0\n",
      "undo\n",
      "score_new -43.07530178366755 score_prev -43.07530178366755 gained 0.0\n",
      "undo\n",
      "score_new -43.07530178366755 score_prev -43.07530178366755 gained 0.0\n",
      "undo\n",
      "score_new -43.07530178366755 score_prev -43.07530178366755 gained 0.0\n",
      "undo\n",
      "score_new -43.07530178366755 score_prev -43.07530178366755 gained 0.0\n",
      "undo\n",
      "score_new -43.07530178366755 score_prev -43.07530178366755 gained 0.0\n",
      "undo\n",
      "score_new -43.07530178366755 score_prev -43.07530178366755 gained 0.0\n",
      "undo\n",
      "score_new -43.07530178366755 score_prev -43.07530178366755 gained 0.0\n",
      "undo\n",
      "score_new -43.07530178366755 score_prev -43.07530178366755 gained 0.0\n",
      "undo\n",
      "score_new -43.07530178366755 score_prev -43.07530178366755 gained 0.0\n",
      "undo\n",
      "score_new -43.07530178366755 score_prev -43.07530178366755 gained 0.0\n",
      "undo\n",
      "score_new -43.07530178366755 score_prev -43.07530178366755 gained 0.0\n",
      "undo\n",
      "score_new -43.07530178366755 score_prev -43.07530178366755 gained 0.0\n",
      "undo\n",
      "score_new -43.07530178366755 score_prev -43.07530178366755 gained 0.0\n",
      "undo\n",
      "score_new -43.07530178366755 score_prev -43.07530178366755 gained 0.0\n",
      "undo\n",
      "score_new -43.07530178366755 score_prev -43.07530178366755 gained 0.0\n",
      "undo\n",
      "score_new -43.07530178366755 score_prev -43.07530178366755 gained 0.0\n",
      "undo\n",
      "score_new -43.07530178366755 score_prev -43.07530178366755 gained 0.0\n",
      "undo\n",
      "score_new -43.07530178366755 score_prev -43.07530178366755 gained 0.0\n",
      "undo\n",
      "score_new -43.07530178366755 score_prev -43.07530178366755 gained 0.0\n",
      "undo\n",
      "result gradient_long_adaptive_inertial previous_gain: nan per tacts: nan duration 0 days 00:08:49.864229\n",
      "aa_gun_2: [ 80.1923 440.4791 -74.8359 410.2769  95.0447 -89.8902]  full=-43.07530178333334\n",
      "WRITTEN\n",
      "opt# 6\n",
      "scores for optimizers augmented [ 2.76454850e+01 -2.10000000e-02 -1.80000000e-02 -2.50000000e-02\n",
      "  9.26783166e+01 -4.00000000e-02  1.00000000e+10  1.00000000e+10]\n",
      "chosen gradient_slow_20 previous_result: nan per tacts: nan\n",
      "score_new -43.07530178366755 score_prev -43.07530178366755 gained 0.0\n",
      "undo\n",
      "score_new -43.07530178366755 score_prev -43.07530178366755 gained 0.0\n",
      "undo\n",
      "score_new -43.07530178366755 score_prev -43.07530178366755 gained 0.0\n",
      "undo\n",
      "score_new -43.07530178366755 score_prev -43.07530178366755 gained 0.0\n",
      "undo\n",
      "result gradient_slow_20 previous_gain: nan per tacts: nan duration 0 days 00:07:21.292530\n",
      "aa_gun_2: [ 80.1923 440.4791 -74.8359 410.2769  95.0447 -89.8902]  full=-43.07530178333334\n",
      "WRITTEN\n",
      "opt# 7\n",
      "scores for optimizers augmented [ 2.76454850e+01 -2.10000000e-02 -1.80000000e-02 -2.50000000e-02\n",
      "  9.26783166e+01 -4.00000000e-02 -4.20000000e-02  1.00000000e+10]\n",
      "chosen gradient_long_adaptive previous_result: nan per tacts: nan\n",
      "score_new -54.08609908366752 score_prev -43.07530178366755 gained -11.010797299999972\n",
      "undo\n",
      "score_new -38.9846922170009 score_prev -43.07530178366755 gained 4.09060956666665\n",
      "score_new -38.9846922170009 score_prev -38.9846922170009 gained 0.0\n",
      "undo\n",
      "score_new -42.76718243366752 score_prev -38.9846922170009 gained -3.7824902166666234\n",
      "undo\n",
      "score_new -54.08609908366752 score_prev -38.9846922170009 gained -15.101406866666622\n",
      "undo\n",
      "score_new -54.08609908366752 score_prev -38.9846922170009 gained -15.101406866666622\n",
      "undo\n",
      "score_new -54.085126533667534 score_prev -38.9846922170009 gained -15.100434316666636\n",
      "undo\n",
      "score_new -54.085126533667534 score_prev -38.9846922170009 gained -15.100434316666636\n",
      "undo\n",
      "score_new -54.085126533667534 score_prev -38.9846922170009 gained -15.100434316666636\n",
      "undo\n",
      "score_new -53.2602932003342 score_prev -38.9846922170009 gained -14.275600983333305\n",
      "undo\n",
      "score_new -42.826405550334215 score_prev -38.9846922170009 gained -3.841713333333317\n",
      "undo\n",
      "score_new -38.9846922170009 score_prev -38.9846922170009 gained 0.0\n",
      "undo\n",
      "score_new -38.9846922170009 score_prev -38.9846922170009 gained 0.0\n",
      "undo\n",
      "score_new -38.9846922170009 score_prev -38.9846922170009 gained 0.0\n",
      "undo\n",
      "score_new -38.9846922170009 score_prev -38.9846922170009 gained 0.0\n",
      "undo\n",
      "result gradient_long_adaptive previous_gain: 4.09060956666665 per tacts: 150 duration 0 days 00:14:23.026339\n"
     ]
    }
   ],
   "source": [
    "opt.function(opt.best_genoms[-1], verbose=True)\n",
    "for i in range(1000):\n",
    "    print('opt#',i)\n",
    "    opt.optimize()\n",
    "    with open(root_dir+f'./genoms/best_genoms_aa_gun2.pkl', 'wb') as f:\n",
    "        pickle.dump(opt.best_genoms,f,protocol=pickle.HIGHEST_PROTOCOL)\n",
    "        print('WRITTEN')"
   ]
  },
  {
   "cell_type": "code",
   "execution_count": null,
   "metadata": {},
   "outputs": [],
   "source": [
    "#draw\n",
    "with open(root_dir+f'./genoms/best_genoms_aa_gun.pkl', 'rb') as f:\n",
    "    genom = pickle.load(f)\n",
    "    genom = genom[-1]\n",
    "print('loaded successfully')\n",
    "q=tasks.custom_test(genom, verbose=True, draw=True)\n",
    "print('q=',q)"
   ]
  },
  {
   "cell_type": "code",
   "execution_count": null,
   "metadata": {},
   "outputs": [],
   "source": [
    "#save gif\n",
    "tasks.video[0].save(\n",
    "    root_dir+'./out_videos/best_genoms_aa_gun.gif',\n",
    "    save_all=True,\n",
    "    append_images=tasks.video[1:], \n",
    "    optimize=True,\n",
    "    duration=200,\n",
    "    loop=0\n",
    ")"
   ]
  },
  {
   "cell_type": "code",
   "execution_count": 9,
   "metadata": {},
   "outputs": [
    {
     "name": "stderr",
     "output_type": "stream",
     "text": [
      "OpenCV: FFMPEG: tag 0x5634504d/'MP4V' is not supported with codec id 12 and format 'mp4 / MP4 (MPEG-4 Part 14)'\n",
      "OpenCV: FFMPEG: fallback to use tag 0x7634706d/'mp4v'\n"
     ]
    }
   ],
   "source": [
    "#draw video\n",
    "import cv2\n",
    "writer = cv2.VideoWriter(\"outputvideo.mp4\",cv2.VideoWriter_fourcc(*\"MP4V\"),30,(512,512))\n",
    "for i in range(0,len(tasks.video),1):\n",
    "    resize = cv2.resize(np.array(tasks.video[i]), (512, 512))\n",
    "    frame = resize*0\n",
    "    frame[:,:,0],frame[:,:,1],frame[:,:,2] = resize[:,:,2],resize[:,:,1], resize[:,:,0]\n",
    "    writer.write(frame)\n",
    "writer.release()"
   ]
  },
  {
   "cell_type": "code",
   "execution_count": null,
   "metadata": {},
   "outputs": [],
   "source": []
  }
 ],
 "metadata": {
  "colab": {
   "authorship_tag": "ABX9TyPR8em43jeF5VYi7lM/34eC",
   "collapsed_sections": [],
   "mount_file_id": "1_qK6Elr2kpuP4tJ48dO73b2CaZMCR4WI",
   "name": "aa_gun_experiment.ipynb",
   "version": ""
  },
  "interpreter": {
   "hash": "31f2aee4e71d21fbe5cf8b01ff0e069b9275f58929596ceb00d14d90e3e16cd6"
  },
  "kernelspec": {
   "display_name": "Python 3.9.6 64-bit",
   "language": "python",
   "name": "python3"
  },
  "language_info": {
   "codemirror_mode": {
    "name": "ipython",
    "version": 3
   },
   "file_extension": ".py",
   "mimetype": "text/x-python",
   "name": "python",
   "nbconvert_exporter": "python",
   "pygments_lexer": "ipython3",
   "version": "3.9.6"
  }
 },
 "nbformat": 4,
 "nbformat_minor": 1
}
