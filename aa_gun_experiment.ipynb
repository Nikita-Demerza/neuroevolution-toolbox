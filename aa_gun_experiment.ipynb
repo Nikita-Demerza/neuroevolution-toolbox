{
 "cells": [
  {
   "cell_type": "code",
   "execution_count": 1,
   "metadata": {
    "executionInfo": {
     "elapsed": 1004,
     "status": "ok",
     "timestamp": 1651244693235,
     "user": {
      "displayName": "Сергей Довгань",
      "userId": "11204475592062912374"
     },
     "user_tz": -180
    },
    "id": "iV7GFD8QRQVe"
   },
   "outputs": [],
   "source": [
    "import sys\n",
    "sys.path.append('./')\n",
    "import numpy as np\n",
    "import pandas as pd\n",
    "import neural_tape_controller\n",
    "#Положительные числа - положительные награды.\n",
    "import tasks \n",
    "import optimize\n",
    "import pickle\n",
    "root_dir = './'"
   ]
  },
  {
   "cell_type": "code",
   "execution_count": 2,
   "metadata": {
    "executionInfo": {
     "elapsed": 7,
     "status": "ok",
     "timestamp": 1651244693236,
     "user": {
      "displayName": "Сергей Довгань",
      "userId": "11204475592062912374"
     },
     "user_tz": -180
    },
    "id": "w-6cNhDZRob-"
   },
   "outputs": [],
   "source": [
    "nt = neural_tape_controller.nt_controller(tacts=2,input_size=36,output_size=5)\n",
    "genom = nt.nn.disassemble_genom()"
   ]
  },
  {
   "cell_type": "code",
   "execution_count": null,
   "metadata": {},
   "outputs": [],
   "source": [
    "try:\n",
    "    with open(root_dir+f'./genoms/best_genoms_aa_gun2.pkl', 'rb') as f:\n",
    "        genom = pickle.load(f)[-1]\n",
    "    print('loaded successfully')\n",
    "except Exception:\n",
    "    pass"
   ]
  },
  {
   "cell_type": "code",
   "execution_count": 3,
   "metadata": {
    "colab": {
     "base_uri": "https://localhost:8080/"
    },
    "executionInfo": {
     "elapsed": 22785,
     "status": "ok",
     "timestamp": 1651244716016,
     "user": {
      "displayName": "Сергей Довгань",
      "userId": "11204475592062912374"
     },
     "user_tz": -180
    },
    "id": "Eja2m2P_ewzM",
    "outputId": "2b599475-6306-4112-f5f7-d5def96f6174"
   },
   "outputs": [
    {
     "name": "stdout",
     "output_type": "stream",
     "text": [
      "aa_gun_2: [-180 -150 -150 -165 -180 -150]  full=-176.5\n",
      "q= -176.5000000000001\n",
      "CPU times: user 13.4 s, sys: 23.6 s, total: 37 s\n",
      "Wall time: 40.3 s\n"
     ]
    }
   ],
   "source": [
    "%%time\n",
    "q=tasks.custom_test(genom, verbose=True, draw=False)\n",
    "print('q=',q)"
   ]
  },
  {
   "cell_type": "code",
   "execution_count": null,
   "metadata": {
    "colab": {
     "background_save": true,
     "base_uri": "https://localhost:8080/",
     "height": 200
    },
    "executionInfo": {
     "elapsed": 251,
     "status": "error",
     "timestamp": 1651244716263,
     "user": {
      "displayName": "Сергей Довгань",
      "userId": "11204475592062912374"
     },
     "user_tz": -180
    },
    "id": "oN_h1Rg_2fQX"
   },
   "outputs": [],
   "source": [
    "print(pd.Timestamp.now())"
   ]
  },
  {
   "cell_type": "code",
   "execution_count": null,
   "metadata": {},
   "outputs": [],
   "source": [
    "%%time\n",
    "n_jobs = 12\n",
    "from multiprocessing import Pool\n",
    "pool = Pool(processes=n_jobs)\n",
    "y_lst = pool.map(tasks.custom_test, [x for x in [genom]*n_jobs])\n",
    "pool.close()\n",
    "pool.join()"
   ]
  },
  {
   "cell_type": "code",
   "execution_count": 4,
   "metadata": {},
   "outputs": [
    {
     "name": "stdout",
     "output_type": "stream",
     "text": [
      "1\n"
     ]
    }
   ],
   "source": [
    "print(1)\n",
    "opt = optimize.optimizer(tasks.custom_test, genom_size=len(genom),parallel_cores=12)"
   ]
  },
  {
   "cell_type": "code",
   "execution_count": null,
   "metadata": {},
   "outputs": [],
   "source": [
    "try:\n",
    "    with open(root_dir+f'./genoms/best_genoms_aa_gun2.pkl', 'rb') as f:\n",
    "        opt.best_genoms = pickle.load(f)\n",
    "    print('loaded successfully')\n",
    "except Exception:\n",
    "    pass"
   ]
  },
  {
   "cell_type": "code",
   "execution_count": 5,
   "metadata": {
    "colab": {
     "background_save": true
    },
    "executionInfo": {
     "elapsed": 247,
     "status": "aborted",
     "timestamp": 1651244716260,
     "user": {
      "displayName": "Сергей Довгань",
      "userId": "11204475592062912374"
     },
     "user_tz": -180
    },
    "id": "HzpNigFUTmIM"
   },
   "outputs": [
    {
     "name": "stdout",
     "output_type": "stream",
     "text": [
      "aa_gun_2: [ -86.9682 -158.9841 -154.      -74.9037 -183.9931 -153.9595]  full=-174.0755235\n",
      "opt# 0\n",
      "scores for optimizers augmented [1.e+10 1.e+10 1.e+10 1.e+10 1.e+10 1.e+10 1.e+10 1.e+10]\n",
      "chosen evol_wide previous_result: nan per tacts: nan\n"
     ]
    },
    {
     "name": "stderr",
     "output_type": "stream",
     "text": [
      "/home/nikita/neuroevolution-toolbox/optimize.py:36: RuntimeWarning: Mean of empty slice\n",
      "  mx.append(np.nanmean(self.history_gain[opt_name])-time_penalty*np.nanmean(self.history_time[opt_name]))\n",
      "/home/nikita/.local/lib/python3/site-packages/numpy/lib/nanfunctions.py:1879: RuntimeWarning: Degrees of freedom <= 0 for slice.\n",
      "  var = nanvar(a, axis=axis, dtype=dtype, out=out, ddof=ddof,\n"
     ]
    },
    {
     "name": "stdout",
     "output_type": "stream",
     "text": [
      "iteration 0 y= [-65.73946687 -76.76125763 -78.31198527 -78.7660651 ]\n",
      "iteration 1 y= [-65.73946687 -73.09618862 -76.76125763 -78.31198527]\n"
     ]
    }
   ],
   "source": [
    "opt.function(opt.best_genoms[-1], verbose=True)\n",
    "for i in range(1000):\n",
    "    print('opt#',i)\n",
    "    opt.optimize()\n",
    "    with open(root_dir+f'./genoms/best_genoms_aa_gun2.pkl', 'wb') as f:\n",
    "        pickle.dump(opt.best_genoms,f,protocol=pickle.HIGHEST_PROTOCOL)\n",
    "        print('WRITTEN')"
   ]
  },
  {
   "cell_type": "code",
   "execution_count": null,
   "metadata": {},
   "outputs": [],
   "source": [
    "#draw\n",
    "with open(root_dir+f'./genoms/best_genoms_aa_gun2.pkl', 'rb') as f:\n",
    "    genom = pickle.load(f)\n",
    "    genom = genom[-1]\n",
    "print('loaded successfully')\n",
    "q=tasks.custom_test(genom, verbose=True, draw=True)\n",
    "print('q=',q)"
   ]
  },
  {
   "cell_type": "code",
   "execution_count": null,
   "metadata": {},
   "outputs": [],
   "source": [
    "#save gif\n",
    "tasks.video[0].save(\n",
    "    root_dir+'./out_videos/best_genoms_aa_gun.gif',\n",
    "    save_all=True,\n",
    "    append_images=tasks.video[1:], \n",
    "    optimize=True,\n",
    "    duration=200,\n",
    "    loop=0\n",
    ")"
   ]
  },
  {
   "cell_type": "code",
   "execution_count": null,
   "metadata": {},
   "outputs": [],
   "source": [
    "#draw video\n",
    "import cv2\n",
    "writer = cv2.VideoWriter(\"outputvideo.mp4\",cv2.VideoWriter_fourcc(*\"MP4V\"),30,(512,512))\n",
    "for i in range(0,len(tasks.video),1):\n",
    "    resize = cv2.resize(np.array(tasks.video[i]), (512, 512))\n",
    "    frame = resize*0\n",
    "    frame[:,:,0],frame[:,:,1],frame[:,:,2] = resize[:,:,2],resize[:,:,1], resize[:,:,0]\n",
    "    writer.write(frame)\n",
    "writer.release()"
   ]
  },
  {
   "cell_type": "code",
   "execution_count": null,
   "metadata": {},
   "outputs": [],
   "source": []
  }
 ],
 "metadata": {
  "colab": {
   "authorship_tag": "ABX9TyPR8em43jeF5VYi7lM/34eC",
   "collapsed_sections": [],
   "mount_file_id": "1_qK6Elr2kpuP4tJ48dO73b2CaZMCR4WI",
   "name": "aa_gun_experiment.ipynb",
   "version": ""
  },
  "interpreter": {
   "hash": "31f2aee4e71d21fbe5cf8b01ff0e069b9275f58929596ceb00d14d90e3e16cd6"
  },
  "kernelspec": {
   "display_name": "Python 3.9.6 64-bit",
   "language": "python",
   "name": "python3"
  },
  "language_info": {
   "codemirror_mode": {
    "name": "ipython",
    "version": 3
   },
   "file_extension": ".py",
   "mimetype": "text/x-python",
   "name": "python",
   "nbconvert_exporter": "python",
   "pygments_lexer": "ipython3",
   "version": "3.9.6"
  }
 },
 "nbformat": 4,
 "nbformat_minor": 1
}
