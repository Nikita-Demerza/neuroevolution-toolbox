{
 "cells": [
  {
   "cell_type": "code",
   "execution_count": 1,
   "metadata": {
    "executionInfo": {
     "elapsed": 1004,
     "status": "ok",
     "timestamp": 1651244693235,
     "user": {
      "displayName": "Сергей Довгань",
      "userId": "11204475592062912374"
     },
     "user_tz": -180
    },
    "id": "iV7GFD8QRQVe"
   },
   "outputs": [],
   "source": [
    "import sys\n",
    "sys.path.append('./')\n",
    "import numpy as np\n",
    "import pandas as pd\n",
    "import neural_tape_controller\n",
    "#Положительные числа - положительные награды.\n",
    "import tasks \n",
    "import optimize\n",
    "import pickle\n",
    "root_dir = './'"
   ]
  },
  {
   "cell_type": "code",
   "execution_count": 3,
   "metadata": {},
   "outputs": [],
   "source": [
    "mem_size = 100\n",
    "heads_mem = 2\n",
    "input_size=36\n",
    "output_size=5"
   ]
  },
  {
   "cell_type": "code",
   "execution_count": 5,
   "metadata": {},
   "outputs": [],
   "source": [
    "layers_desc = [#{'type':'gru','out':input_size+4,'cells':5,'activation':'lrelu'},\n",
    "                #{'type':'conv','filter_size':[3,1,3,3],'stride':1,'padding':0,'activation':'lrelu'},\n",
    "                #{'type':'max_pool','pool_size':2,'stride':2,'activation':'lrelu'},\n",
    "                #{'type':'conv','filter_size':[1,1,3,3],'stride':1,'padding':0,'activation':'lrelu'},\n",
    "                #{'type':'max_pool','pool_size':2,'stride':2,'activation':'lrelu'},\n",
    "                #{'type':'conv','filter_size':[1,1,3,3],'stride':1,'padding':0,'activation':'lrelu'},\n",
    "                #{'type':'max_pool','pool_size':2,'stride':2,'activation':'lrelu'},\n",
    "                #{'type':'conv','filter_size':[1,1,3,3],'stride':1,'padding':0,'activation':'lrelu'},\n",
    "                #{'type':'max_pool','pool_size':2,'stride':2,'activation':'lrelu'},\n",
    "                #{'type':'flatten','out':88,'activation':'linear'},\n",
    "                #{'type':'ff','out':60,'activation':'lrelu'},\n",
    "                {'type':'ff','out':36,'activation':'lrelu'},\n",
    "                {'type':'modulable','out':36,'name':'mod0','activation':'linear'},\n",
    "                {'type':'ff','out':36,'activation':'lrelu'},\n",
    "                {'type':'modulator_inertial','out':36,'name':'mod0','activation':'linear'},\n",
    "                {'type':'ff','out':60,'activation':'lrelu'},\n",
    "                {'type':'modulable','out':60,'name':'mod1','activation':'linear'},\n",
    "                {'type':'turing_read','name':'memory_tape','heads':heads_mem,'cells':mem_size,'activation':'lrelu'},\n",
    "                {'type':'ff','out':60,'activation':'lrelu'},\n",
    "                {'type':'turing_move','name':'memory_tape','heads':heads_mem,'cells':mem_size},\n",
    "                {'type':'turing_write','name':'memory_tape','heads':heads_mem,'cells':mem_size},           \n",
    "                {'type':'ff','out':60,'activation':'lrelu'},\n",
    "                {'type':'modulator_inertial','out':60,'name':'mod1','activation':'linear'},\n",
    "                {'type':'ff','out':160,'activation':'lrelu'},                           \n",
    "                {'type':'modulable','out':160,'name':'mod2','activation':'linear'},\n",
    "                {'type':'ff','out':160,'activation':'lrelu'},\n",
    "                {'type':'modulator_inertial','out':160,'name':'mod2','activation':'linear'},\n",
    "                {'type':'ff','out':160,'activation':'lrelu'},\n",
    "                {'type':'modulable','out':160,'name':'mod3','activation':'linear'},\n",
    "                {'type':'ff','out':160,'activation':'lrelu'},\n",
    "                {'type':'modulator_inertial','out':160,'name':'mod3','activation':'linear'},\n",
    "                {'type':'ff','out':160,'activation':'lrelu'},\n",
    "                {'type':'modulable','out':160,'name':'mod4','activation':'linear'},\n",
    "                {'type':'ff','out':160,'activation':'lrelu'},\n",
    "                {'type':'modulator_inertial','out':160,'name':'mod4','activation':'linear'},\n",
    "                {'type':'ff','out':160,'activation':'lrelu'},\n",
    "                {'type':'modulable','out':160,'name':'mod5','activation':'linear'},\n",
    "                {'type':'ff','out':160,'activation':'lrelu'},\n",
    "                {'type':'modulator_inertial','out':160,'name':'mod5','activation':'linear'},\n",
    "                {'type':'ff','out':output_size,'activation':'lrelu'}]"
   ]
  },
  {
   "cell_type": "code",
   "execution_count": 6,
   "metadata": {
    "executionInfo": {
     "elapsed": 7,
     "status": "ok",
     "timestamp": 1651244693236,
     "user": {
      "displayName": "Сергей Довгань",
      "userId": "11204475592062912374"
     },
     "user_tz": -180
    },
    "id": "w-6cNhDZRob-"
   },
   "outputs": [],
   "source": [
    "nt = neural_tape_controller.nt_controller(tacts=1,input_size=input_size,output_size=output_size,layers_desc=layers_desc)\n",
    "genom = nt.nn.disassemble_genom()"
   ]
  },
  {
   "cell_type": "code",
   "execution_count": 5,
   "metadata": {},
   "outputs": [],
   "source": [
    "try:\n",
    "    with open(root_dir+f'./genoms/best_genoms_aa_gun2.pkl', 'rb') as f:\n",
    "        genom = pickle.load(f)[-1]\n",
    "    print('loaded successfully')\n",
    "except Exception:\n",
    "    pass"
   ]
  },
  {
   "cell_type": "code",
   "execution_count": 7,
   "metadata": {
    "colab": {
     "base_uri": "https://localhost:8080/"
    },
    "executionInfo": {
     "elapsed": 22785,
     "status": "ok",
     "timestamp": 1651244716016,
     "user": {
      "displayName": "Сергей Довгань",
      "userId": "11204475592062912374"
     },
     "user_tz": -180
    },
    "id": "Eja2m2P_ewzM",
    "outputId": "2b599475-6306-4112-f5f7-d5def96f6174"
   },
   "outputs": [
    {
     "name": "stdout",
     "output_type": "stream",
     "text": [
      "aa_gun_2: [0 0 0 0 0 0]  full=0.0\n",
      "q= -9.98377799987793e-14\n",
      "CPU times: user 13.6 s, sys: 286 µs, total: 13.6 s\n",
      "Wall time: 13.6 s\n"
     ]
    }
   ],
   "source": [
    "%%time\n",
    "q=tasks.custom_test(genom, verbose=True, draw=False)\n",
    "print('q=',q)"
   ]
  },
  {
   "cell_type": "code",
   "execution_count": null,
   "metadata": {
    "colab": {
     "background_save": true,
     "base_uri": "https://localhost:8080/",
     "height": 200
    },
    "executionInfo": {
     "elapsed": 251,
     "status": "error",
     "timestamp": 1651244716263,
     "user": {
      "displayName": "Сергей Довгань",
      "userId": "11204475592062912374"
     },
     "user_tz": -180
    },
    "id": "oN_h1Rg_2fQX"
   },
   "outputs": [],
   "source": [
    "print(pd.Timestamp.now())"
   ]
  },
  {
   "cell_type": "code",
   "execution_count": null,
   "metadata": {},
   "outputs": [],
   "source": [
    "%%time\n",
    "n_jobs = 12\n",
    "from multiprocessing import Pool\n",
    "pool = Pool(processes=n_jobs)\n",
    "y_lst = pool.map(tasks.custom_test, [x for x in [genom]*n_jobs])\n",
    "pool.close()\n",
    "pool.join()"
   ]
  },
  {
   "cell_type": "code",
   "execution_count": 8,
   "metadata": {},
   "outputs": [
    {
     "name": "stdout",
     "output_type": "stream",
     "text": [
      "1\n",
      "history loaded successfully\n"
     ]
    }
   ],
   "source": [
    "print(1)\n",
    "opt = optimize.optimizer(tasks.custom_test, genom_size=len(genom),parallel_cores=12,init_file='genoms/genom_gun.pkl',history_file='history/history_gun.pkl')"
   ]
  },
  {
   "cell_type": "code",
   "execution_count": 6,
   "metadata": {},
   "outputs": [
    {
     "name": "stdout",
     "output_type": "stream",
     "text": [
      "loaded successfully\n"
     ]
    }
   ],
   "source": [
    "try:\n",
    "    with open(root_dir+f'./genoms/best_genoms_aa_gun2.pkl', 'rb') as f:\n",
    "        opt.best_genoms = pickle.load(f)\n",
    "    print('loaded successfully')\n",
    "except Exception:\n",
    "    pass"
   ]
  },
  {
   "cell_type": "code",
   "execution_count": 9,
   "metadata": {
    "colab": {
     "background_save": true
    },
    "executionInfo": {
     "elapsed": 247,
     "status": "aborted",
     "timestamp": 1651244716260,
     "user": {
      "displayName": "Сергей Довгань",
      "userId": "11204475592062912374"
     },
     "user_tz": -180
    },
    "id": "HzpNigFUTmIM"
   },
   "outputs": [
    {
     "name": "stdout",
     "output_type": "stream",
     "text": [
      "aa_gun_2: [0 0 0 0 0 0]  full=0.0\n",
      "opt# 0\n",
      "scores for optimizers augmented [-0.045      -0.0225     -0.025      -0.01475614  0.07053642 -0.042\n",
      " -0.075      -0.06647769 -0.068     ]\n",
      "chosen gradient_long_adaptive_inertial previous_result: 0.0 per tacts: 136\n",
      "score_new -3.3311452085649658e-12 score_prev -3.3311452085649654e-12 gained -4.0389678347315804e-28\n",
      "undo\n"
     ]
    },
    {
     "ename": "KeyboardInterrupt",
     "evalue": "",
     "output_type": "error",
     "traceback": [
      "\u001b[0;31m---------------------------------------------------------------------------\u001b[0m",
      "\u001b[0;31mTypeError\u001b[0m                                 Traceback (most recent call last)",
      "File \u001b[0;32m~/.local/lib/python3/site-packages/numpy/core/fromnumeric.py:57\u001b[0m, in \u001b[0;36m_wrapfunc\u001b[0;34m(obj, method, *args, **kwds)\u001b[0m\n\u001b[1;32m     <a href='file:///home/nikita/.local/lib/python3/site-packages/numpy/core/fromnumeric.py?line=55'>56</a>\u001b[0m \u001b[39mtry\u001b[39;00m:\n\u001b[0;32m---> <a href='file:///home/nikita/.local/lib/python3/site-packages/numpy/core/fromnumeric.py?line=56'>57</a>\u001b[0m     \u001b[39mreturn\u001b[39;00m bound(\u001b[39m*\u001b[39;49margs, \u001b[39m*\u001b[39;49m\u001b[39m*\u001b[39;49mkwds)\n\u001b[1;32m     <a href='file:///home/nikita/.local/lib/python3/site-packages/numpy/core/fromnumeric.py?line=57'>58</a>\u001b[0m \u001b[39mexcept\u001b[39;00m \u001b[39mTypeError\u001b[39;00m:\n\u001b[1;32m     <a href='file:///home/nikita/.local/lib/python3/site-packages/numpy/core/fromnumeric.py?line=58'>59</a>\u001b[0m     \u001b[39m# A TypeError occurs if the object does have such a method in its\u001b[39;00m\n\u001b[1;32m     <a href='file:///home/nikita/.local/lib/python3/site-packages/numpy/core/fromnumeric.py?line=59'>60</a>\u001b[0m     \u001b[39m# class, but its signature is not identical to that of NumPy's. This\u001b[39;00m\n\u001b[0;32m   (...)\u001b[0m\n\u001b[1;32m     <a href='file:///home/nikita/.local/lib/python3/site-packages/numpy/core/fromnumeric.py?line=63'>64</a>\u001b[0m     \u001b[39m# Call _wrapit from within the except clause to ensure a potential\u001b[39;00m\n\u001b[1;32m     <a href='file:///home/nikita/.local/lib/python3/site-packages/numpy/core/fromnumeric.py?line=64'>65</a>\u001b[0m     \u001b[39m# exception has a traceback chain.\u001b[39;00m\n",
      "\u001b[0;31mTypeError\u001b[0m: clip() received an invalid combination of arguments - got (float, float, out=NoneType), but expected one of:\n * (Number min, Number max)\n * (Tensor min, Tensor max)\n",
      "\nDuring handling of the above exception, another exception occurred:\n",
      "\u001b[0;31mKeyboardInterrupt\u001b[0m                         Traceback (most recent call last)",
      "\u001b[1;32m/home/nikita/neuroevolution-toolbox/aa_gun_experiment.ipynb Cell 11'\u001b[0m in \u001b[0;36m<cell line: 2>\u001b[0;34m()\u001b[0m\n\u001b[1;32m      <a href='vscode-notebook-cell:/home/nikita/neuroevolution-toolbox/aa_gun_experiment.ipynb#ch0000010?line=1'>2</a>\u001b[0m \u001b[39mfor\u001b[39;00m i \u001b[39min\u001b[39;00m \u001b[39mrange\u001b[39m(\u001b[39m1000\u001b[39m):\n\u001b[1;32m      <a href='vscode-notebook-cell:/home/nikita/neuroevolution-toolbox/aa_gun_experiment.ipynb#ch0000010?line=2'>3</a>\u001b[0m     \u001b[39mprint\u001b[39m(\u001b[39m'\u001b[39m\u001b[39mopt#\u001b[39m\u001b[39m'\u001b[39m,i)\n\u001b[0;32m----> <a href='vscode-notebook-cell:/home/nikita/neuroevolution-toolbox/aa_gun_experiment.ipynb#ch0000010?line=3'>4</a>\u001b[0m     opt\u001b[39m.\u001b[39;49moptimize()\n\u001b[1;32m      <a href='vscode-notebook-cell:/home/nikita/neuroevolution-toolbox/aa_gun_experiment.ipynb#ch0000010?line=4'>5</a>\u001b[0m     \u001b[39mwith\u001b[39;00m \u001b[39mopen\u001b[39m(root_dir\u001b[39m+\u001b[39m\u001b[39mf\u001b[39m\u001b[39m'\u001b[39m\u001b[39m./genoms/best_genoms_aa_gun2.pkl\u001b[39m\u001b[39m'\u001b[39m, \u001b[39m'\u001b[39m\u001b[39mwb\u001b[39m\u001b[39m'\u001b[39m) \u001b[39mas\u001b[39;00m f:\n\u001b[1;32m      <a href='vscode-notebook-cell:/home/nikita/neuroevolution-toolbox/aa_gun_experiment.ipynb#ch0000010?line=5'>6</a>\u001b[0m         pickle\u001b[39m.\u001b[39mdump(opt\u001b[39m.\u001b[39mbest_genoms,f,protocol\u001b[39m=\u001b[39mpickle\u001b[39m.\u001b[39mHIGHEST_PROTOCOL)\n",
      "File \u001b[0;32m~/neuroevolution-toolbox/optimize.py:86\u001b[0m, in \u001b[0;36moptimizer.optimize\u001b[0;34m(self)\u001b[0m\n\u001b[1;32m     <a href='file:///home/nikita/neuroevolution-toolbox/optimize.py?line=83'>84</a>\u001b[0m     \u001b[39mself\u001b[39m\u001b[39m.\u001b[39mgradient_long_adaptive()\n\u001b[1;32m     <a href='file:///home/nikita/neuroevolution-toolbox/optimize.py?line=84'>85</a>\u001b[0m \u001b[39melif\u001b[39;00m chosen_optimizer\u001b[39m==\u001b[39m\u001b[39m'\u001b[39m\u001b[39mgradient_long_adaptive_inertial\u001b[39m\u001b[39m'\u001b[39m:\n\u001b[0;32m---> <a href='file:///home/nikita/neuroevolution-toolbox/optimize.py?line=85'>86</a>\u001b[0m     \u001b[39mself\u001b[39;49m\u001b[39m.\u001b[39;49mgradient_long_adaptive_inertial()\n\u001b[1;32m     <a href='file:///home/nikita/neuroevolution-toolbox/optimize.py?line=86'>87</a>\u001b[0m \u001b[39melif\u001b[39;00m chosen_optimizer\u001b[39m==\u001b[39m\u001b[39m'\u001b[39m\u001b[39mrel_coord_default\u001b[39m\u001b[39m'\u001b[39m:\n\u001b[1;32m     <a href='file:///home/nikita/neuroevolution-toolbox/optimize.py?line=87'>88</a>\u001b[0m     \u001b[39mself\u001b[39m\u001b[39m.\u001b[39mrel_coord_default()\n",
      "File \u001b[0;32m~/neuroevolution-toolbox/optimize.py:301\u001b[0m, in \u001b[0;36moptimizer.gradient_long_adaptive_inertial\u001b[0;34m(self)\u001b[0m\n\u001b[1;32m    <a href='file:///home/nikita/neuroevolution-toolbox/optimize.py?line=298'>299</a>\u001b[0m adapt\u001b[39m=\u001b[39m\u001b[39m1.5\u001b[39m\n\u001b[1;32m    <a href='file:///home/nikita/neuroevolution-toolbox/optimize.py?line=299'>300</a>\u001b[0m chance_retry \u001b[39m=\u001b[39m \u001b[39m0.95\u001b[39m\n\u001b[0;32m--> <a href='file:///home/nikita/neuroevolution-toolbox/optimize.py?line=300'>301</a>\u001b[0m \u001b[39mself\u001b[39;49m\u001b[39m.\u001b[39;49mgradient(width,stripe,maxiter,step,opt_name,adapt,chance_retry)\n",
      "File \u001b[0;32m~/neuroevolution-toolbox/optimize.py:240\u001b[0m, in \u001b[0;36moptimizer.gradient\u001b[0;34m(self, width, stripe, maxiter, step, opt_name, adapt, chance_retry, momentum_usage_coef, momentum_eta)\u001b[0m\n\u001b[1;32m    <a href='file:///home/nikita/neuroevolution-toolbox/optimize.py?line=236'>237</a>\u001b[0m \u001b[39mif\u001b[39;00m momentum \u001b[39mis\u001b[39;00m \u001b[39mnot\u001b[39;00m \u001b[39mNone\u001b[39;00m:\n\u001b[1;32m    <a href='file:///home/nikita/neuroevolution-toolbox/optimize.py?line=237'>238</a>\u001b[0m     genom_cur \u001b[39m+\u001b[39m\u001b[39m=\u001b[39m momentum\u001b[39m*\u001b[39mmomentum_usage_coef\n\u001b[0;32m--> <a href='file:///home/nikita/neuroevolution-toolbox/optimize.py?line=239'>240</a>\u001b[0m score_new \u001b[39m=\u001b[39m \u001b[39mself\u001b[39;49m\u001b[39m.\u001b[39;49mfunction(genom_cur)\n\u001b[1;32m    <a href='file:///home/nikita/neuroevolution-toolbox/optimize.py?line=240'>241</a>\u001b[0m \u001b[39mprint\u001b[39m(\u001b[39m'\u001b[39m\u001b[39mscore_new\u001b[39m\u001b[39m'\u001b[39m,score_new,\u001b[39m'\u001b[39m\u001b[39mscore_prev\u001b[39m\u001b[39m'\u001b[39m,score_prev,\u001b[39m'\u001b[39m\u001b[39mgained\u001b[39m\u001b[39m'\u001b[39m,score_new\u001b[39m-\u001b[39mscore_prev)\n\u001b[1;32m    <a href='file:///home/nikita/neuroevolution-toolbox/optimize.py?line=241'>242</a>\u001b[0m \u001b[39m#попробовать сделать шаг не по градиенту, а по одной из производных\u001b[39;00m\n",
      "File \u001b[0;32m~/neuroevolution-toolbox/tasks.py:10\u001b[0m, in \u001b[0;36mcustom_test\u001b[0;34m(genom, verbose, draw)\u001b[0m\n\u001b[1;32m      <a href='file:///home/nikita/neuroevolution-toolbox/tasks.py?line=8'>9</a>\u001b[0m \u001b[39mdef\u001b[39;00m \u001b[39mcustom_test\u001b[39m(genom,verbose\u001b[39m=\u001b[39m\u001b[39mFalse\u001b[39;00m,draw\u001b[39m=\u001b[39m\u001b[39mFalse\u001b[39;00m):\n\u001b[0;32m---> <a href='file:///home/nikita/neuroevolution-toolbox/tasks.py?line=9'>10</a>\u001b[0m     q_dynamic \u001b[39m=\u001b[39m dynamic_test(draw\u001b[39m=\u001b[39;49mdraw)\u001b[39m.\u001b[39;49mfull_test(genom,verbose,\u001b[39mFalse\u001b[39;49;00m)\n\u001b[1;32m     <a href='file:///home/nikita/neuroevolution-toolbox/tasks.py?line=11'>12</a>\u001b[0m     \u001b[39mreturn\u001b[39;00m q_dynamic \u001b[39m-\u001b[39m np\u001b[39m.\u001b[39mmean(genom\u001b[39m*\u001b[39m\u001b[39m*\u001b[39m\u001b[39m2\u001b[39m)\u001b[39m*\u001b[39m\u001b[39m1e-9\u001b[39m\n",
      "File \u001b[0;32m~/neuroevolution-toolbox/tasks.py:32\u001b[0m, in \u001b[0;36mdynamic_test.full_test\u001b[0;34m(self, genom, verbose, test_set)\u001b[0m\n\u001b[1;32m     <a href='file:///home/nikita/neuroevolution-toolbox/tasks.py?line=29'>30</a>\u001b[0m q_arr_to_report \u001b[39m=\u001b[39m []\n\u001b[1;32m     <a href='file:///home/nikita/neuroevolution-toolbox/tasks.py?line=30'>31</a>\u001b[0m \u001b[39mfor\u001b[39;00m env \u001b[39min\u001b[39;00m list_envs:\n\u001b[0;32m---> <a href='file:///home/nikita/neuroevolution-toolbox/tasks.py?line=31'>32</a>\u001b[0m     q_arr_local \u001b[39m=\u001b[39m \u001b[39mself\u001b[39;49m\u001b[39m.\u001b[39;49mmulty_test(env,genom)\n\u001b[1;32m     <a href='file:///home/nikita/neuroevolution-toolbox/tasks.py?line=32'>33</a>\u001b[0m     q_arr\u001b[39m.\u001b[39mextend(q_arr_local)\n\u001b[1;32m     <a href='file:///home/nikita/neuroevolution-toolbox/tasks.py?line=33'>34</a>\u001b[0m     q_arr_to_report\u001b[39m.\u001b[39mappend(q_arr_local)\n",
      "File \u001b[0;32m~/neuroevolution-toolbox/tasks.py:54\u001b[0m, in \u001b[0;36mdynamic_test.multy_test\u001b[0;34m(self, env, genom)\u001b[0m\n\u001b[1;32m     <a href='file:///home/nikita/neuroevolution-toolbox/tasks.py?line=51'>52</a>\u001b[0m q_arr \u001b[39m=\u001b[39m []\n\u001b[1;32m     <a href='file:///home/nikita/neuroevolution-toolbox/tasks.py?line=52'>53</a>\u001b[0m \u001b[39mfor\u001b[39;00m seed \u001b[39min\u001b[39;00m \u001b[39mrange\u001b[39m(\u001b[39m6\u001b[39m):\n\u001b[0;32m---> <a href='file:///home/nikita/neuroevolution-toolbox/tasks.py?line=53'>54</a>\u001b[0m     q_arr\u001b[39m.\u001b[39mappend(\u001b[39mself\u001b[39;49m\u001b[39m.\u001b[39;49mtest(env,genom,size\u001b[39m=\u001b[39;49m\u001b[39m30\u001b[39;49m,seed\u001b[39m=\u001b[39;49mseed))\n\u001b[1;32m     <a href='file:///home/nikita/neuroevolution-toolbox/tasks.py?line=54'>55</a>\u001b[0m \u001b[39mreturn\u001b[39;00m q_arr\n",
      "File \u001b[0;32m~/neuroevolution-toolbox/tasks.py:109\u001b[0m, in \u001b[0;36mdynamic_test.test\u001b[0;34m(self, env, genom, size, seed, draw)\u001b[0m\n\u001b[1;32m    <a href='file:///home/nikita/neuroevolution-toolbox/tasks.py?line=106'>107</a>\u001b[0m         z_state \u001b[39m=\u001b[39m np\u001b[39m.\u001b[39mzeros([\u001b[39m1\u001b[39m,input_size\u001b[39m+\u001b[39m\u001b[39m2\u001b[39m])\n\u001b[1;32m    <a href='file:///home/nikita/neuroevolution-toolbox/tasks.py?line=107'>108</a>\u001b[0m         z_state[\u001b[39m0\u001b[39m,:\u001b[39mlen\u001b[39m(state)] \u001b[39m=\u001b[39m state\n\u001b[0;32m--> <a href='file:///home/nikita/neuroevolution-toolbox/tasks.py?line=108'>109</a>\u001b[0m     out_tape \u001b[39m=\u001b[39m controller\u001b[39m.\u001b[39;49mact(z_state,reward,done)\n\u001b[1;32m    <a href='file:///home/nikita/neuroevolution-toolbox/tasks.py?line=109'>110</a>\u001b[0m \u001b[39mreturn\u001b[39;00m reward_sum\n",
      "File \u001b[0;32m~/neuroevolution-toolbox/neural_tape_controller.py:87\u001b[0m, in \u001b[0;36mnt_controller.act\u001b[0;34m(self, state, reward, done)\u001b[0m\n\u001b[1;32m     <a href='file:///home/nikita/neuroevolution-toolbox/neural_tape_controller.py?line=84'>85</a>\u001b[0m in_ar \u001b[39m=\u001b[39m np\u001b[39m.\u001b[39mreshape(inp,[\u001b[39m1\u001b[39m,\u001b[39m*\u001b[39minp\u001b[39m.\u001b[39mshape])\n\u001b[1;32m     <a href='file:///home/nikita/neuroevolution-toolbox/neural_tape_controller.py?line=85'>86</a>\u001b[0m \u001b[39mfor\u001b[39;00m i \u001b[39min\u001b[39;00m \u001b[39mrange\u001b[39m(\u001b[39mint\u001b[39m(\u001b[39mself\u001b[39m\u001b[39m.\u001b[39mtacts)):\n\u001b[0;32m---> <a href='file:///home/nikita/neuroevolution-toolbox/neural_tape_controller.py?line=86'>87</a>\u001b[0m     out \u001b[39m=\u001b[39m \u001b[39mself\u001b[39;49m\u001b[39m.\u001b[39;49mnn\u001b[39m.\u001b[39;49mpredict_vector(in_ar)\n\u001b[1;32m     <a href='file:///home/nikita/neuroevolution-toolbox/neural_tape_controller.py?line=87'>88</a>\u001b[0m \u001b[39mreturn\u001b[39;00m np\u001b[39m.\u001b[39marray(out)\n",
      "File \u001b[0;32m~/neuroevolution-toolbox/nnet.py:235\u001b[0m, in \u001b[0;36mnp_nn.predict_vector\u001b[0;34m(self, x)\u001b[0m\n\u001b[1;32m    <a href='file:///home/nikita/neuroevolution-toolbox/nnet.py?line=232'>233</a>\u001b[0m \u001b[39melse\u001b[39;00m:\n\u001b[1;32m    <a href='file:///home/nikita/neuroevolution-toolbox/nnet.py?line=233'>234</a>\u001b[0m     y \u001b[39m=\u001b[39m in_data\n\u001b[0;32m--> <a href='file:///home/nikita/neuroevolution-toolbox/nnet.py?line=234'>235</a>\u001b[0m y \u001b[39m=\u001b[39m np\u001b[39m.\u001b[39;49mclip(y, a_min\u001b[39m=\u001b[39;49m\u001b[39m-\u001b[39;49m\u001b[39m1e9\u001b[39;49m,a_max\u001b[39m=\u001b[39;49m\u001b[39m1e9\u001b[39;49m)\u001b[39m#убрать бесконечности\u001b[39;00m\n\u001b[1;32m    <a href='file:///home/nikita/neuroevolution-toolbox/nnet.py?line=235'>236</a>\u001b[0m \u001b[39m#нелинейность\u001b[39;00m\n\u001b[1;32m    <a href='file:///home/nikita/neuroevolution-toolbox/nnet.py?line=236'>237</a>\u001b[0m \u001b[39mif\u001b[39;00m layer[\u001b[39m'\u001b[39m\u001b[39mactivation\u001b[39m\u001b[39m'\u001b[39m]\u001b[39m==\u001b[39m\u001b[39m'\u001b[39m\u001b[39mrelu\u001b[39m\u001b[39m'\u001b[39m:\n",
      "File \u001b[0;32m<__array_function__ internals>:180\u001b[0m, in \u001b[0;36mclip\u001b[0;34m(*args, **kwargs)\u001b[0m\n",
      "File \u001b[0;32m~/.local/lib/python3/site-packages/numpy/core/fromnumeric.py:2152\u001b[0m, in \u001b[0;36mclip\u001b[0;34m(a, a_min, a_max, out, **kwargs)\u001b[0m\n\u001b[1;32m   <a href='file:///home/nikita/.local/lib/python3/site-packages/numpy/core/fromnumeric.py?line=2082'>2083</a>\u001b[0m \u001b[39m@array_function_dispatch\u001b[39m(_clip_dispatcher)\n\u001b[1;32m   <a href='file:///home/nikita/.local/lib/python3/site-packages/numpy/core/fromnumeric.py?line=2083'>2084</a>\u001b[0m \u001b[39mdef\u001b[39;00m \u001b[39mclip\u001b[39m(a, a_min, a_max, out\u001b[39m=\u001b[39m\u001b[39mNone\u001b[39;00m, \u001b[39m*\u001b[39m\u001b[39m*\u001b[39mkwargs):\n\u001b[1;32m   <a href='file:///home/nikita/.local/lib/python3/site-packages/numpy/core/fromnumeric.py?line=2084'>2085</a>\u001b[0m     \u001b[39m\"\"\"\u001b[39;00m\n\u001b[1;32m   <a href='file:///home/nikita/.local/lib/python3/site-packages/numpy/core/fromnumeric.py?line=2085'>2086</a>\u001b[0m \u001b[39m    Clip (limit) the values in an array.\u001b[39;00m\n\u001b[1;32m   <a href='file:///home/nikita/.local/lib/python3/site-packages/numpy/core/fromnumeric.py?line=2086'>2087</a>\u001b[0m \n\u001b[0;32m   (...)\u001b[0m\n\u001b[1;32m   <a href='file:///home/nikita/.local/lib/python3/site-packages/numpy/core/fromnumeric.py?line=2149'>2150</a>\u001b[0m \n\u001b[1;32m   <a href='file:///home/nikita/.local/lib/python3/site-packages/numpy/core/fromnumeric.py?line=2150'>2151</a>\u001b[0m \u001b[39m    \"\"\"\u001b[39;00m\n\u001b[0;32m-> <a href='file:///home/nikita/.local/lib/python3/site-packages/numpy/core/fromnumeric.py?line=2151'>2152</a>\u001b[0m     \u001b[39mreturn\u001b[39;00m _wrapfunc(a, \u001b[39m'\u001b[39;49m\u001b[39mclip\u001b[39;49m\u001b[39m'\u001b[39;49m, a_min, a_max, out\u001b[39m=\u001b[39;49mout, \u001b[39m*\u001b[39;49m\u001b[39m*\u001b[39;49mkwargs)\n",
      "File \u001b[0;32m~/.local/lib/python3/site-packages/numpy/core/fromnumeric.py:66\u001b[0m, in \u001b[0;36m_wrapfunc\u001b[0;34m(obj, method, *args, **kwds)\u001b[0m\n\u001b[1;32m     <a href='file:///home/nikita/.local/lib/python3/site-packages/numpy/core/fromnumeric.py?line=56'>57</a>\u001b[0m     \u001b[39mreturn\u001b[39;00m bound(\u001b[39m*\u001b[39margs, \u001b[39m*\u001b[39m\u001b[39m*\u001b[39mkwds)\n\u001b[1;32m     <a href='file:///home/nikita/.local/lib/python3/site-packages/numpy/core/fromnumeric.py?line=57'>58</a>\u001b[0m \u001b[39mexcept\u001b[39;00m \u001b[39mTypeError\u001b[39;00m:\n\u001b[1;32m     <a href='file:///home/nikita/.local/lib/python3/site-packages/numpy/core/fromnumeric.py?line=58'>59</a>\u001b[0m     \u001b[39m# A TypeError occurs if the object does have such a method in its\u001b[39;00m\n\u001b[1;32m     <a href='file:///home/nikita/.local/lib/python3/site-packages/numpy/core/fromnumeric.py?line=59'>60</a>\u001b[0m     \u001b[39m# class, but its signature is not identical to that of NumPy's. This\u001b[39;00m\n\u001b[0;32m   (...)\u001b[0m\n\u001b[1;32m     <a href='file:///home/nikita/.local/lib/python3/site-packages/numpy/core/fromnumeric.py?line=63'>64</a>\u001b[0m     \u001b[39m# Call _wrapit from within the except clause to ensure a potential\u001b[39;00m\n\u001b[1;32m     <a href='file:///home/nikita/.local/lib/python3/site-packages/numpy/core/fromnumeric.py?line=64'>65</a>\u001b[0m     \u001b[39m# exception has a traceback chain.\u001b[39;00m\n\u001b[0;32m---> <a href='file:///home/nikita/.local/lib/python3/site-packages/numpy/core/fromnumeric.py?line=65'>66</a>\u001b[0m     \u001b[39mreturn\u001b[39;00m _wrapit(obj, method, \u001b[39m*\u001b[39;49margs, \u001b[39m*\u001b[39;49m\u001b[39m*\u001b[39;49mkwds)\n",
      "File \u001b[0;32m~/.local/lib/python3/site-packages/numpy/core/fromnumeric.py:43\u001b[0m, in \u001b[0;36m_wrapit\u001b[0;34m(obj, method, *args, **kwds)\u001b[0m\n\u001b[1;32m     <a href='file:///home/nikita/.local/lib/python3/site-packages/numpy/core/fromnumeric.py?line=40'>41</a>\u001b[0m \u001b[39mexcept\u001b[39;00m \u001b[39mAttributeError\u001b[39;00m:\n\u001b[1;32m     <a href='file:///home/nikita/.local/lib/python3/site-packages/numpy/core/fromnumeric.py?line=41'>42</a>\u001b[0m     wrap \u001b[39m=\u001b[39m \u001b[39mNone\u001b[39;00m\n\u001b[0;32m---> <a href='file:///home/nikita/.local/lib/python3/site-packages/numpy/core/fromnumeric.py?line=42'>43</a>\u001b[0m result \u001b[39m=\u001b[39m \u001b[39mgetattr\u001b[39m(asarray(obj), method)(\u001b[39m*\u001b[39margs, \u001b[39m*\u001b[39m\u001b[39m*\u001b[39mkwds)\n\u001b[1;32m     <a href='file:///home/nikita/.local/lib/python3/site-packages/numpy/core/fromnumeric.py?line=43'>44</a>\u001b[0m \u001b[39mif\u001b[39;00m wrap:\n\u001b[1;32m     <a href='file:///home/nikita/.local/lib/python3/site-packages/numpy/core/fromnumeric.py?line=44'>45</a>\u001b[0m     \u001b[39mif\u001b[39;00m \u001b[39mnot\u001b[39;00m \u001b[39misinstance\u001b[39m(result, mu\u001b[39m.\u001b[39mndarray):\n",
      "File \u001b[0;32m~/.local/lib/python3/site-packages/torch/_tensor.py:732\u001b[0m, in \u001b[0;36mTensor.__array__\u001b[0;34m(self, dtype)\u001b[0m\n\u001b[1;32m    <a href='file:///home/nikita/.local/lib/python3/site-packages/torch/_tensor.py?line=729'>730</a>\u001b[0m     \u001b[39mreturn\u001b[39;00m handle_torch_function(Tensor\u001b[39m.\u001b[39m__array__, (\u001b[39mself\u001b[39m,), \u001b[39mself\u001b[39m, dtype\u001b[39m=\u001b[39mdtype)\n\u001b[1;32m    <a href='file:///home/nikita/.local/lib/python3/site-packages/torch/_tensor.py?line=730'>731</a>\u001b[0m \u001b[39mif\u001b[39;00m dtype \u001b[39mis\u001b[39;00m \u001b[39mNone\u001b[39;00m:\n\u001b[0;32m--> <a href='file:///home/nikita/.local/lib/python3/site-packages/torch/_tensor.py?line=731'>732</a>\u001b[0m     \u001b[39mreturn\u001b[39;00m \u001b[39mself\u001b[39;49m\u001b[39m.\u001b[39;49mnumpy()\n\u001b[1;32m    <a href='file:///home/nikita/.local/lib/python3/site-packages/torch/_tensor.py?line=732'>733</a>\u001b[0m \u001b[39melse\u001b[39;00m:\n\u001b[1;32m    <a href='file:///home/nikita/.local/lib/python3/site-packages/torch/_tensor.py?line=733'>734</a>\u001b[0m     \u001b[39mreturn\u001b[39;00m \u001b[39mself\u001b[39m\u001b[39m.\u001b[39mnumpy()\u001b[39m.\u001b[39mastype(dtype, copy\u001b[39m=\u001b[39m\u001b[39mFalse\u001b[39;00m)\n",
      "\u001b[0;31mKeyboardInterrupt\u001b[0m: "
     ]
    }
   ],
   "source": [
    "opt.function(opt.best_genoms[-1], verbose=True)\n",
    "for i in range(1000):\n",
    "    print('opt#',i)\n",
    "    opt.optimize()\n",
    "    with open(root_dir+f'./genoms/best_genoms_aa_gun2.pkl', 'wb') as f:\n",
    "        pickle.dump(opt.best_genoms,f,protocol=pickle.HIGHEST_PROTOCOL)\n",
    "        print('WRITTEN')"
   ]
  },
  {
   "cell_type": "code",
   "execution_count": null,
   "metadata": {},
   "outputs": [],
   "source": [
    "#draw\n",
    "with open(root_dir+f'./genoms/best_genoms_aa_gun2.pkl', 'rb') as f:\n",
    "    genom = pickle.load(f)\n",
    "    genom = genom[-1]\n",
    "print('loaded successfully')\n",
    "q=tasks.custom_test(genom, verbose=True, draw=True)\n",
    "print('q=',q)"
   ]
  },
  {
   "cell_type": "code",
   "execution_count": null,
   "metadata": {},
   "outputs": [],
   "source": [
    "#save gif\n",
    "tasks.video[0].save(\n",
    "    root_dir+'./out_videos/best_genoms_aa_gun.gif',\n",
    "    save_all=True,\n",
    "    append_images=tasks.video[1:], \n",
    "    optimize=True,\n",
    "    duration=200,\n",
    "    loop=0\n",
    ")"
   ]
  },
  {
   "cell_type": "code",
   "execution_count": 8,
   "metadata": {},
   "outputs": [
    {
     "name": "stderr",
     "output_type": "stream",
     "text": [
      "OpenCV: FFMPEG: tag 0x5634504d/'MP4V' is not supported with codec id 12 and format 'mp4 / MP4 (MPEG-4 Part 14)'\n",
      "OpenCV: FFMPEG: fallback to use tag 0x7634706d/'mp4v'\n"
     ]
    }
   ],
   "source": [
    "#draw video\n",
    "import cv2\n",
    "writer = cv2.VideoWriter(\"outputvideo.mp4\",cv2.VideoWriter_fourcc(*\"MP4V\"),30,(512,512))\n",
    "for i in range(0,len(tasks.video),1):\n",
    "    resize = cv2.resize(np.array(tasks.video[i]), (512, 512))\n",
    "    frame = resize*0\n",
    "    frame[:,:,0],frame[:,:,1],frame[:,:,2] = resize[:,:,2],resize[:,:,1], resize[:,:,0]\n",
    "    writer.write(frame)\n",
    "writer.release()"
   ]
  },
  {
   "cell_type": "code",
   "execution_count": null,
   "metadata": {},
   "outputs": [],
   "source": []
  }
 ],
 "metadata": {
  "colab": {
   "authorship_tag": "ABX9TyPR8em43jeF5VYi7lM/34eC",
   "collapsed_sections": [],
   "mount_file_id": "1_qK6Elr2kpuP4tJ48dO73b2CaZMCR4WI",
   "name": "aa_gun_experiment.ipynb",
   "version": ""
  },
  "interpreter": {
   "hash": "31f2aee4e71d21fbe5cf8b01ff0e069b9275f58929596ceb00d14d90e3e16cd6"
  },
  "kernelspec": {
   "display_name": "Python 3.9.6 64-bit",
   "language": "python",
   "name": "python3"
  },
  "language_info": {
   "codemirror_mode": {
    "name": "ipython",
    "version": 3
   },
   "file_extension": ".py",
   "mimetype": "text/x-python",
   "name": "python",
   "nbconvert_exporter": "python",
   "pygments_lexer": "ipython3",
   "version": "3.9.6"
  }
 },
 "nbformat": 4,
 "nbformat_minor": 1
}
