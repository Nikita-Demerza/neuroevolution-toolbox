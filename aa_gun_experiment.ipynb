{
 "cells": [
  {
   "cell_type": "code",
   "execution_count": 1,
   "metadata": {
    "executionInfo": {
     "elapsed": 1004,
     "status": "ok",
     "timestamp": 1651244693235,
     "user": {
      "displayName": "Сергей Довгань",
      "userId": "11204475592062912374"
     },
     "user_tz": -180
    },
    "id": "iV7GFD8QRQVe"
   },
   "outputs": [],
   "source": [
    "import sys\n",
    "sys.path.append('./')\n",
    "import numpy as np\n",
    "import pandas as pd\n",
    "import neural_tape_controller\n",
    "#Положительные числа - положительные награды.\n",
    "import tasks \n",
    "import optimize\n",
    "import pickle\n",
    "root_dir = './'"
   ]
  },
  {
   "cell_type": "code",
   "execution_count": 2,
   "metadata": {
    "executionInfo": {
     "elapsed": 7,
     "status": "ok",
     "timestamp": 1651244693236,
     "user": {
      "displayName": "Сергей Довгань",
      "userId": "11204475592062912374"
     },
     "user_tz": -180
    },
    "id": "w-6cNhDZRob-"
   },
   "outputs": [],
   "source": [
    "nt = neural_tape_controller.nt_controller(tacts=1,input_size=36,output_size=5)\n",
    "genom = nt.nn.disassemble_genom()"
   ]
  },
  {
   "cell_type": "code",
   "execution_count": null,
   "metadata": {},
   "outputs": [],
   "source": [
    "try:\n",
    "    with open(root_dir+f'./genoms/best_genoms_aa_gun2.pkl', 'rb') as f:\n",
    "        genom = pickle.load(f)[-1]\n",
    "    print('loaded successfully')\n",
    "except Exception:\n",
    "    pass"
   ]
  },
  {
   "cell_type": "code",
   "execution_count": 3,
   "metadata": {
    "colab": {
     "base_uri": "https://localhost:8080/"
    },
    "executionInfo": {
     "elapsed": 22785,
     "status": "ok",
     "timestamp": 1651244716016,
     "user": {
      "displayName": "Сергей Довгань",
      "userId": "11204475592062912374"
     },
     "user_tz": -180
    },
    "id": "Eja2m2P_ewzM",
    "outputId": "2b599475-6306-4112-f5f7-d5def96f6174"
   },
   "outputs": [
    {
     "name": "stdout",
     "output_type": "stream",
     "text": [
      "aa_gun_2: [-180 -150 -150 -165 -180 -150]  full=-176.5\n",
      "q= -176.5000000000001\n",
      "CPU times: user 16.7 s, sys: 54.1 s, total: 1min 10s\n",
      "Wall time: 6.3 s\n"
     ]
    }
   ],
   "source": [
    "%%time\n",
    "q=tasks.custom_test(genom, verbose=True, draw=False)\n",
    "print('q=',q)"
   ]
  },
  {
   "cell_type": "code",
   "execution_count": null,
   "metadata": {
    "colab": {
     "background_save": true,
     "base_uri": "https://localhost:8080/",
     "height": 200
    },
    "executionInfo": {
     "elapsed": 251,
     "status": "error",
     "timestamp": 1651244716263,
     "user": {
      "displayName": "Сергей Довгань",
      "userId": "11204475592062912374"
     },
     "user_tz": -180
    },
    "id": "oN_h1Rg_2fQX"
   },
   "outputs": [],
   "source": [
    "print(pd.Timestamp.now())"
   ]
  },
  {
   "cell_type": "code",
   "execution_count": null,
   "metadata": {},
   "outputs": [],
   "source": [
    "%%time\n",
    "n_jobs = 12\n",
    "from multiprocessing import Pool\n",
    "pool = Pool(processes=n_jobs)\n",
    "y_lst = pool.map(tasks.custom_test, [x for x in [genom]*n_jobs])\n",
    "pool.close()\n",
    "pool.join()"
   ]
  },
  {
   "cell_type": "code",
   "execution_count": 4,
   "metadata": {},
   "outputs": [
    {
     "name": "stdout",
     "output_type": "stream",
     "text": [
      "1\n"
     ]
    }
   ],
   "source": [
    "print(1)\n",
    "opt = optimize.optimizer(tasks.custom_test, genom_size=len(genom),parallel_cores=12)"
   ]
  },
  {
   "cell_type": "code",
   "execution_count": null,
   "metadata": {},
   "outputs": [],
   "source": [
    "try:\n",
    "    with open(root_dir+f'./genoms/best_genoms_aa_gun2.pkl', 'rb') as f:\n",
    "        opt.best_genoms = pickle.load(f)\n",
    "    print('loaded successfully')\n",
    "except Exception:\n",
    "    pass"
   ]
  },
  {
   "cell_type": "code",
   "execution_count": 5,
   "metadata": {
    "colab": {
     "background_save": true
    },
    "executionInfo": {
     "elapsed": 247,
     "status": "aborted",
     "timestamp": 1651244716260,
     "user": {
      "displayName": "Сергей Довгань",
      "userId": "11204475592062912374"
     },
     "user_tz": -180
    },
    "id": "HzpNigFUTmIM"
   },
   "outputs": [
    {
     "name": "stdout",
     "output_type": "stream",
     "text": [
      "aa_gun_2: [-134.9229 -189.9958 -189.8989 -204.9862   -4.9262   10.0459]  full=-187.6843449333333\n",
      "opt# 0\n",
      "scores for optimizers augmented [1.e+10 1.e+10 1.e+10 1.e+10 1.e+10 1.e+10 1.e+10 1.e+10]\n",
      "chosen evol_wide previous_result: nan per tacts: nan\n"
     ]
    },
    {
     "name": "stderr",
     "output_type": "stream",
     "text": [
      "/home/nikita/neuroevolution-toolbox/optimize.py:36: RuntimeWarning: Mean of empty slice\n",
      "  mx.append(np.nanmean(self.history_gain[opt_name])-time_penalty*np.nanmean(self.history_time[opt_name]))\n",
      "/home/nikita/.local/lib/python3/site-packages/numpy/lib/nanfunctions.py:1879: RuntimeWarning: Degrees of freedom <= 0 for slice.\n",
      "  var = nanvar(a, axis=axis, dtype=dtype, out=out, ddof=ddof,\n",
      "/home/nikita/neuroevolution-toolbox/nnet.py:341: RuntimeWarning: overflow encountered in true_divide\n",
      "  k_add = np.sin(k_amplif*self.belts[layer['belt_name']][0,:min_len]/(np.abs(threshold)+0.01))*np.abs(threshold)\n",
      "/home/nikita/neuroevolution-toolbox/nnet.py:341: RuntimeWarning: invalid value encountered in sin\n",
      "  k_add = np.sin(k_amplif*self.belts[layer['belt_name']][0,:min_len]/(np.abs(threshold)+0.01))*np.abs(threshold)\n",
      "/home/nikita/neuroevolution-toolbox/nnet.py:341: RuntimeWarning: overflow encountered in true_divide\n",
      "  k_add = np.sin(k_amplif*self.belts[layer['belt_name']][0,:min_len]/(np.abs(threshold)+0.01))*np.abs(threshold)\n",
      "/home/nikita/neuroevolution-toolbox/nnet.py:341: RuntimeWarning: invalid value encountered in sin\n",
      "  k_add = np.sin(k_amplif*self.belts[layer['belt_name']][0,:min_len]/(np.abs(threshold)+0.01))*np.abs(threshold)\n"
     ]
    },
    {
     "name": "stdout",
     "output_type": "stream",
     "text": [
      "iteration 0 y= [  21.76604547  -63.68930557  -89.25161348 -153.29794258]\n",
      "iteration 1 y= [ 21.76604547 -63.68930557 -65.91481273 -68.48907072]\n",
      "iteration 2 y= [ 23.72147612  21.76604547 -51.72082572 -53.70201878]\n",
      "iteration 3 y= [ 41.00168243  23.72147612  21.76604547 -32.80643908]\n"
     ]
    },
    {
     "name": "stderr",
     "output_type": "stream",
     "text": [
      "/home/nikita/neuroevolution-toolbox/nnet.py:341: RuntimeWarning: overflow encountered in true_divide\n",
      "  k_add = np.sin(k_amplif*self.belts[layer['belt_name']][0,:min_len]/(np.abs(threshold)+0.01))*np.abs(threshold)\n",
      "/home/nikita/neuroevolution-toolbox/nnet.py:341: RuntimeWarning: invalid value encountered in sin\n",
      "  k_add = np.sin(k_amplif*self.belts[layer['belt_name']][0,:min_len]/(np.abs(threshold)+0.01))*np.abs(threshold)\n"
     ]
    },
    {
     "name": "stdout",
     "output_type": "stream",
     "text": [
      "iteration final y= [ 41.00168243  23.72147612  21.76604547 -32.80643908]\n",
      "result evol_wide previous_gain: nan per tacts: nan duration 0 days 00:29:01.158522\n",
      "aa_gun_2: [182.1443 129.1887 112.1875  27.1524  98.102   29.117 ]  full=41.00168243333333\n",
      "WRITTEN\n",
      "opt# 1\n",
      "scores for optimizers augmented [1.9135637e+01 1.0000000e+10 1.0000000e+10 1.0000000e+10 1.0000000e+10\n",
      " 1.0000000e+10 1.0000000e+10 1.0000000e+10]\n",
      "chosen evol_mid_chaos previous_result: nan per tacts: nan\n",
      "iteration 0 y= [  41.00168243  -88.41606058 -143.09571562]\n"
     ]
    },
    {
     "name": "stderr",
     "output_type": "stream",
     "text": [
      "/home/nikita/neuroevolution-toolbox/nnet.py:341: RuntimeWarning: overflow encountered in true_divide\n",
      "  k_add = np.sin(k_amplif*self.belts[layer['belt_name']][0,:min_len]/(np.abs(threshold)+0.01))*np.abs(threshold)\n",
      "/home/nikita/neuroevolution-toolbox/nnet.py:341: RuntimeWarning: invalid value encountered in sin\n",
      "  k_add = np.sin(k_amplif*self.belts[layer['belt_name']][0,:min_len]/(np.abs(threshold)+0.01))*np.abs(threshold)\n",
      "/home/nikita/neuroevolution-toolbox/nnet.py:341: RuntimeWarning: overflow encountered in multiply\n",
      "  k_add = np.sin(k_amplif*self.belts[layer['belt_name']][0,:min_len]/(np.abs(threshold)+0.01))*np.abs(threshold)\n",
      "/home/nikita/neuroevolution-toolbox/nnet.py:341: RuntimeWarning: invalid value encountered in sin\n",
      "  k_add = np.sin(k_amplif*self.belts[layer['belt_name']][0,:min_len]/(np.abs(threshold)+0.01))*np.abs(threshold)\n",
      "/home/nikita/neuroevolution-toolbox/nnet.py:341: RuntimeWarning: overflow encountered in multiply\n",
      "  k_add = np.sin(k_amplif*self.belts[layer['belt_name']][0,:min_len]/(np.abs(threshold)+0.01))*np.abs(threshold)\n",
      "/home/nikita/neuroevolution-toolbox/nnet.py:341: RuntimeWarning: invalid value encountered in sin\n",
      "  k_add = np.sin(k_amplif*self.belts[layer['belt_name']][0,:min_len]/(np.abs(threshold)+0.01))*np.abs(threshold)\n"
     ]
    },
    {
     "name": "stdout",
     "output_type": "stream",
     "text": [
      "iteration 1 y= [ 41.00168243 -88.41606058 -88.86428972]\n"
     ]
    },
    {
     "name": "stderr",
     "output_type": "stream",
     "text": [
      "/home/nikita/neuroevolution-toolbox/nnet.py:341: RuntimeWarning: overflow encountered in true_divide\n",
      "  k_add = np.sin(k_amplif*self.belts[layer['belt_name']][0,:min_len]/(np.abs(threshold)+0.01))*np.abs(threshold)\n",
      "/home/nikita/neuroevolution-toolbox/nnet.py:341: RuntimeWarning: invalid value encountered in sin\n",
      "  k_add = np.sin(k_amplif*self.belts[layer['belt_name']][0,:min_len]/(np.abs(threshold)+0.01))*np.abs(threshold)\n",
      "/home/nikita/neuroevolution-toolbox/nnet.py:341: RuntimeWarning: overflow encountered in multiply\n",
      "  k_add = np.sin(k_amplif*self.belts[layer['belt_name']][0,:min_len]/(np.abs(threshold)+0.01))*np.abs(threshold)\n",
      "/home/nikita/neuroevolution-toolbox/nnet.py:341: RuntimeWarning: invalid value encountered in sin\n",
      "  k_add = np.sin(k_amplif*self.belts[layer['belt_name']][0,:min_len]/(np.abs(threshold)+0.01))*np.abs(threshold)\n"
     ]
    },
    {
     "name": "stdout",
     "output_type": "stream",
     "text": [
      "iteration final y= [ 41.00168243 -88.41606058 -88.86428972]\n",
      "result evol_mid_chaos previous_gain: nan per tacts: nan duration 0 days 00:05:31.545340\n",
      "aa_gun_2: [182.1443 129.1887 112.1875  27.1524  98.102   29.117 ]  full=41.00168243333333\n",
      "WRITTEN\n",
      "opt# 2\n",
      "scores for optimizers augmented [ 1.9135637e+01 -2.1000000e-02  1.0000000e+10  1.0000000e+10\n",
      "  1.0000000e+10  1.0000000e+10  1.0000000e+10  1.0000000e+10]\n",
      "chosen gradient_wide_50 previous_result: nan per tacts: nan\n",
      "score_new -65.42091133366823 score_prev 41.001682432998365 gained -106.4225937666666\n",
      "undo\n",
      "score_new -71.82670831700166 score_prev 41.001682432998365 gained -112.82839075000003\n",
      "undo\n",
      "score_new -65.42091133366823 score_prev 41.001682432998365 gained -106.4225937666666\n",
      "undo\n",
      "score_new -71.82670831700166 score_prev 41.001682432998365 gained -112.82839075000003\n",
      "undo\n",
      "result gradient_wide_50 previous_gain: nan per tacts: nan duration 0 days 00:03:40.837105\n",
      "aa_gun_2: [182.1443 129.1887 112.1875  27.1524  98.102   29.117 ]  full=41.00168243333333\n",
      "WRITTEN\n",
      "opt# 3\n",
      "scores for optimizers augmented [ 1.9135637e+01 -2.1000000e-02 -1.8000000e-02  1.0000000e+10\n",
      "  1.0000000e+10  1.0000000e+10  1.0000000e+10  1.0000000e+10]\n",
      "chosen rel_coord_default previous_result: nan per tacts: nan\n",
      "score_new -173.31918448366818 score_prev 41.001682432998365 gained -214.32086691666655\n",
      "undo\n",
      "score_new -151.8967668170016 score_prev 41.001682432998365 gained -192.89844924999997\n",
      "undo\n",
      "score_new -73.32086301700164 score_prev 41.001682432998365 gained -114.32254545\n",
      "undo\n",
      "score_new 45.471861766331685 score_prev 41.001682432998365 gained 4.47017933333332\n",
      "score_new 45.471861766331685 score_prev 45.471861766331685 gained 0.0\n",
      "undo\n",
      "score_new 41.001682432998365 score_prev 45.471861766331685 gained -4.47017933333332\n",
      "undo\n",
      "score_new -53.59058070033492 score_prev 45.471861766331685 gained -99.0624424666666\n",
      "undo\n",
      "score_new 49.307645099665 score_prev 45.471861766331685 gained 3.8357833333333176\n",
      "score_new 49.307645099665 score_prev 49.307645099665 gained 0.0\n",
      "undo\n",
      "score_new 45.471861766331685 score_prev 49.307645099665 gained -3.8357833333333176\n",
      "undo\n",
      "score_new 49.307645099665 score_prev 49.307645099665 gained 0.0\n",
      "undo\n",
      "score_new 49.307645099665 score_prev 49.307645099665 gained 0.0\n",
      "undo\n",
      "score_new 49.307645099665 score_prev 49.307645099665 gained 0.0\n",
      "undo\n",
      "score_new 49.307645099665 score_prev 49.307645099665 gained 0.0\n",
      "undo\n",
      "score_new 49.307645099665 score_prev 49.307645099665 gained 0.0\n",
      "undo\n",
      "score_new 49.307645099665 score_prev 49.307645099665 gained 0.0\n",
      "undo\n",
      "score_new 49.307645099665 score_prev 49.307645099665 gained 0.0\n",
      "undo\n",
      "score_new 49.307645099665 score_prev 49.307645099665 gained 0.0\n",
      "undo\n",
      "score_new 49.307645099665 score_prev 49.307645099665 gained 0.0\n",
      "undo\n",
      "score_new 49.307645099665 score_prev 49.307645099665 gained 0.0\n",
      "undo\n",
      "score_new 49.307645099665 score_prev 49.307645099665 gained 0.0\n",
      "undo\n",
      "score_new 49.307645099665 score_prev 49.307645099665 gained 0.0\n",
      "undo\n",
      "score_new 49.307645099665 score_prev 49.307645099665 gained 0.0\n",
      "undo\n",
      "score_new 49.307645099665 score_prev 49.307645099665 gained 0.0\n",
      "undo\n",
      "score_new 49.307645099665 score_prev 49.307645099665 gained 0.0\n",
      "undo\n",
      "result rel_coord_default previous_gain: nan per tacts: nan duration 0 days 00:03:08.619276\n",
      "aa_gun_2: [297.2178 129.1887 112.1875  97.2376  98.102   29.117 ]  full=49.30764509999996\n",
      "WRITTEN\n",
      "opt# 4\n",
      "scores for optimizers augmented [ 1.91356370e+01 -2.10000000e-02 -1.80000000e-02  8.28096267e+00\n",
      "  1.00000000e+10  1.00000000e+10  1.00000000e+10  1.00000000e+10]\n",
      "chosen evol_soft previous_result: nan per tacts: nan\n"
     ]
    },
    {
     "name": "stderr",
     "output_type": "stream",
     "text": [
      "/home/nikita/neuroevolution-toolbox/nnet.py:341: RuntimeWarning: overflow encountered in multiply\n",
      "  k_add = np.sin(k_amplif*self.belts[layer['belt_name']][0,:min_len]/(np.abs(threshold)+0.01))*np.abs(threshold)\n",
      "/home/nikita/neuroevolution-toolbox/nnet.py:341: RuntimeWarning: invalid value encountered in sin\n",
      "  k_add = np.sin(k_amplif*self.belts[layer['belt_name']][0,:min_len]/(np.abs(threshold)+0.01))*np.abs(threshold)\n"
     ]
    },
    {
     "name": "stdout",
     "output_type": "stream",
     "text": [
      "iteration 0 y= [ 49.3076451   41.00168243 -65.42091133]\n"
     ]
    },
    {
     "name": "stderr",
     "output_type": "stream",
     "text": [
      "/home/nikita/neuroevolution-toolbox/nnet.py:341: RuntimeWarning: overflow encountered in true_divide\n",
      "  k_add = np.sin(k_amplif*self.belts[layer['belt_name']][0,:min_len]/(np.abs(threshold)+0.01))*np.abs(threshold)\n",
      "/home/nikita/neuroevolution-toolbox/nnet.py:341: RuntimeWarning: invalid value encountered in sin\n",
      "  k_add = np.sin(k_amplif*self.belts[layer['belt_name']][0,:min_len]/(np.abs(threshold)+0.01))*np.abs(threshold)\n",
      "/home/nikita/neuroevolution-toolbox/nnet.py:341: RuntimeWarning: overflow encountered in true_divide\n",
      "  k_add = np.sin(k_amplif*self.belts[layer['belt_name']][0,:min_len]/(np.abs(threshold)+0.01))*np.abs(threshold)\n",
      "/home/nikita/neuroevolution-toolbox/nnet.py:341: RuntimeWarning: invalid value encountered in sin\n",
      "  k_add = np.sin(k_amplif*self.belts[layer['belt_name']][0,:min_len]/(np.abs(threshold)+0.01))*np.abs(threshold)\n",
      "/home/nikita/neuroevolution-toolbox/nnet.py:341: RuntimeWarning: overflow encountered in true_divide\n",
      "  k_add = np.sin(k_amplif*self.belts[layer['belt_name']][0,:min_len]/(np.abs(threshold)+0.01))*np.abs(threshold)\n",
      "/home/nikita/neuroevolution-toolbox/nnet.py:341: RuntimeWarning: invalid value encountered in sin\n",
      "  k_add = np.sin(k_amplif*self.belts[layer['belt_name']][0,:min_len]/(np.abs(threshold)+0.01))*np.abs(threshold)\n"
     ]
    },
    {
     "name": "stdout",
     "output_type": "stream",
     "text": [
      "iteration 1 y= [ 49.3076451   41.00168243 -63.7894624 ]\n"
     ]
    },
    {
     "name": "stderr",
     "output_type": "stream",
     "text": [
      "/home/nikita/neuroevolution-toolbox/nnet.py:341: RuntimeWarning: overflow encountered in true_divide\n",
      "  k_add = np.sin(k_amplif*self.belts[layer['belt_name']][0,:min_len]/(np.abs(threshold)+0.01))*np.abs(threshold)\n",
      "/home/nikita/neuroevolution-toolbox/nnet.py:341: RuntimeWarning: invalid value encountered in sin\n",
      "  k_add = np.sin(k_amplif*self.belts[layer['belt_name']][0,:min_len]/(np.abs(threshold)+0.01))*np.abs(threshold)\n"
     ]
    },
    {
     "name": "stdout",
     "output_type": "stream",
     "text": [
      "iteration 2 y= [ 49.3076451   41.00168243 -63.7894624 ]\n"
     ]
    },
    {
     "name": "stderr",
     "output_type": "stream",
     "text": [
      "/home/nikita/neuroevolution-toolbox/nnet.py:341: RuntimeWarning: overflow encountered in true_divide\n",
      "  k_add = np.sin(k_amplif*self.belts[layer['belt_name']][0,:min_len]/(np.abs(threshold)+0.01))*np.abs(threshold)\n",
      "/home/nikita/neuroevolution-toolbox/nnet.py:341: RuntimeWarning: invalid value encountered in sin\n",
      "  k_add = np.sin(k_amplif*self.belts[layer['belt_name']][0,:min_len]/(np.abs(threshold)+0.01))*np.abs(threshold)\n",
      "/home/nikita/neuroevolution-toolbox/nnet.py:341: RuntimeWarning: overflow encountered in true_divide\n",
      "  k_add = np.sin(k_amplif*self.belts[layer['belt_name']][0,:min_len]/(np.abs(threshold)+0.01))*np.abs(threshold)\n",
      "/home/nikita/neuroevolution-toolbox/nnet.py:341: RuntimeWarning: invalid value encountered in sin\n",
      "  k_add = np.sin(k_amplif*self.belts[layer['belt_name']][0,:min_len]/(np.abs(threshold)+0.01))*np.abs(threshold)\n"
     ]
    },
    {
     "name": "stdout",
     "output_type": "stream",
     "text": [
      "iteration 3 y= [ 49.3076451   41.00168243 -63.7894624 ]\n"
     ]
    },
    {
     "name": "stderr",
     "output_type": "stream",
     "text": [
      "/home/nikita/neuroevolution-toolbox/nnet.py:341: RuntimeWarning: overflow encountered in true_divide\n",
      "  k_add = np.sin(k_amplif*self.belts[layer['belt_name']][0,:min_len]/(np.abs(threshold)+0.01))*np.abs(threshold)\n",
      "/home/nikita/neuroevolution-toolbox/nnet.py:341: RuntimeWarning: invalid value encountered in sin\n",
      "  k_add = np.sin(k_amplif*self.belts[layer['belt_name']][0,:min_len]/(np.abs(threshold)+0.01))*np.abs(threshold)\n",
      "/home/nikita/neuroevolution-toolbox/nnet.py:341: RuntimeWarning: overflow encountered in true_divide\n",
      "  k_add = np.sin(k_amplif*self.belts[layer['belt_name']][0,:min_len]/(np.abs(threshold)+0.01))*np.abs(threshold)\n",
      "/home/nikita/neuroevolution-toolbox/nnet.py:341: RuntimeWarning: invalid value encountered in sin\n",
      "  k_add = np.sin(k_amplif*self.belts[layer['belt_name']][0,:min_len]/(np.abs(threshold)+0.01))*np.abs(threshold)\n"
     ]
    },
    {
     "name": "stdout",
     "output_type": "stream",
     "text": [
      "iteration 4 y= [ 49.3076451   41.00168243 -63.7894624 ]\n"
     ]
    },
    {
     "name": "stderr",
     "output_type": "stream",
     "text": [
      "/home/nikita/neuroevolution-toolbox/nnet.py:341: RuntimeWarning: overflow encountered in true_divide\n",
      "  k_add = np.sin(k_amplif*self.belts[layer['belt_name']][0,:min_len]/(np.abs(threshold)+0.01))*np.abs(threshold)\n",
      "/home/nikita/neuroevolution-toolbox/nnet.py:341: RuntimeWarning: overflow encountered in true_divide\n",
      "  k_add = np.sin(k_amplif*self.belts[layer['belt_name']][0,:min_len]/(np.abs(threshold)+0.01))*np.abs(threshold)\n",
      "/home/nikita/neuroevolution-toolbox/nnet.py:341: RuntimeWarning: overflow encountered in true_divide\n",
      "  k_add = np.sin(k_amplif*self.belts[layer['belt_name']][0,:min_len]/(np.abs(threshold)+0.01))*np.abs(threshold)\n",
      "/home/nikita/neuroevolution-toolbox/nnet.py:341: RuntimeWarning: overflow encountered in true_divide\n",
      "  k_add = np.sin(k_amplif*self.belts[layer['belt_name']][0,:min_len]/(np.abs(threshold)+0.01))*np.abs(threshold)\n",
      "/home/nikita/neuroevolution-toolbox/nnet.py:341: RuntimeWarning: invalid value encountered in sin\n",
      "  k_add = np.sin(k_amplif*self.belts[layer['belt_name']][0,:min_len]/(np.abs(threshold)+0.01))*np.abs(threshold)\n",
      "/home/nikita/neuroevolution-toolbox/nnet.py:341: RuntimeWarning: invalid value encountered in sin\n",
      "  k_add = np.sin(k_amplif*self.belts[layer['belt_name']][0,:min_len]/(np.abs(threshold)+0.01))*np.abs(threshold)\n",
      "/home/nikita/neuroevolution-toolbox/nnet.py:341: RuntimeWarning: invalid value encountered in sin\n",
      "  k_add = np.sin(k_amplif*self.belts[layer['belt_name']][0,:min_len]/(np.abs(threshold)+0.01))*np.abs(threshold)\n",
      "/home/nikita/neuroevolution-toolbox/nnet.py:341: RuntimeWarning: invalid value encountered in sin\n",
      "  k_add = np.sin(k_amplif*self.belts[layer['belt_name']][0,:min_len]/(np.abs(threshold)+0.01))*np.abs(threshold)\n",
      "/home/nikita/neuroevolution-toolbox/nnet.py:341: RuntimeWarning: overflow encountered in true_divide\n",
      "  k_add = np.sin(k_amplif*self.belts[layer['belt_name']][0,:min_len]/(np.abs(threshold)+0.01))*np.abs(threshold)\n",
      "/home/nikita/neuroevolution-toolbox/nnet.py:341: RuntimeWarning: invalid value encountered in sin\n",
      "  k_add = np.sin(k_amplif*self.belts[layer['belt_name']][0,:min_len]/(np.abs(threshold)+0.01))*np.abs(threshold)\n",
      "/home/nikita/neuroevolution-toolbox/nnet.py:341: RuntimeWarning: overflow encountered in true_divide\n",
      "  k_add = np.sin(k_amplif*self.belts[layer['belt_name']][0,:min_len]/(np.abs(threshold)+0.01))*np.abs(threshold)\n",
      "/home/nikita/neuroevolution-toolbox/nnet.py:341: RuntimeWarning: invalid value encountered in sin\n",
      "  k_add = np.sin(k_amplif*self.belts[layer['belt_name']][0,:min_len]/(np.abs(threshold)+0.01))*np.abs(threshold)\n",
      "/home/nikita/neuroevolution-toolbox/nnet.py:341: RuntimeWarning: overflow encountered in true_divide\n",
      "  k_add = np.sin(k_amplif*self.belts[layer['belt_name']][0,:min_len]/(np.abs(threshold)+0.01))*np.abs(threshold)\n",
      "/home/nikita/neuroevolution-toolbox/nnet.py:341: RuntimeWarning: invalid value encountered in sin\n",
      "  k_add = np.sin(k_amplif*self.belts[layer['belt_name']][0,:min_len]/(np.abs(threshold)+0.01))*np.abs(threshold)\n",
      "/home/nikita/neuroevolution-toolbox/nnet.py:341: RuntimeWarning: overflow encountered in true_divide\n",
      "  k_add = np.sin(k_amplif*self.belts[layer['belt_name']][0,:min_len]/(np.abs(threshold)+0.01))*np.abs(threshold)\n",
      "/home/nikita/neuroevolution-toolbox/nnet.py:341: RuntimeWarning: invalid value encountered in sin\n",
      "  k_add = np.sin(k_amplif*self.belts[layer['belt_name']][0,:min_len]/(np.abs(threshold)+0.01))*np.abs(threshold)\n",
      "/home/nikita/neuroevolution-toolbox/nnet.py:341: RuntimeWarning: overflow encountered in true_divide\n",
      "  k_add = np.sin(k_amplif*self.belts[layer['belt_name']][0,:min_len]/(np.abs(threshold)+0.01))*np.abs(threshold)\n",
      "/home/nikita/neuroevolution-toolbox/nnet.py:341: RuntimeWarning: invalid value encountered in sin\n",
      "  k_add = np.sin(k_amplif*self.belts[layer['belt_name']][0,:min_len]/(np.abs(threshold)+0.01))*np.abs(threshold)\n",
      "/home/nikita/neuroevolution-toolbox/nnet.py:341: RuntimeWarning: overflow encountered in true_divide\n",
      "  k_add = np.sin(k_amplif*self.belts[layer['belt_name']][0,:min_len]/(np.abs(threshold)+0.01))*np.abs(threshold)\n",
      "/home/nikita/neuroevolution-toolbox/nnet.py:341: RuntimeWarning: invalid value encountered in sin\n",
      "  k_add = np.sin(k_amplif*self.belts[layer['belt_name']][0,:min_len]/(np.abs(threshold)+0.01))*np.abs(threshold)\n"
     ]
    }
   ],
   "source": [
    "opt.function(opt.best_genoms[-1], verbose=True)\n",
    "for i in range(1000):\n",
    "    print('opt#',i)\n",
    "    opt.optimize()\n",
    "    with open(root_dir+f'./genoms/best_genoms_aa_gun2.pkl', 'wb') as f:\n",
    "        pickle.dump(opt.best_genoms,f,protocol=pickle.HIGHEST_PROTOCOL)\n",
    "        print('WRITTEN')"
   ]
  },
  {
   "cell_type": "code",
   "execution_count": null,
   "metadata": {},
   "outputs": [],
   "source": [
    "#draw\n",
    "with open(root_dir+f'./genoms/best_genoms_aa_gun2.pkl', 'rb') as f:\n",
    "    genom = pickle.load(f)\n",
    "    genom = genom[-1]\n",
    "print('loaded successfully')\n",
    "q=tasks.custom_test(genom, verbose=True, draw=True)\n",
    "print('q=',q)"
   ]
  },
  {
   "cell_type": "code",
   "execution_count": null,
   "metadata": {},
   "outputs": [],
   "source": [
    "#save gif\n",
    "tasks.video[0].save(\n",
    "    root_dir+'./out_videos/best_genoms_aa_gun.gif',\n",
    "    save_all=True,\n",
    "    append_images=tasks.video[1:], \n",
    "    optimize=True,\n",
    "    duration=200,\n",
    "    loop=0\n",
    ")"
   ]
  },
  {
   "cell_type": "code",
   "execution_count": null,
   "metadata": {},
   "outputs": [],
   "source": [
    "#draw video\n",
    "import cv2\n",
    "writer = cv2.VideoWriter(\"outputvideo.mp4\",cv2.VideoWriter_fourcc(*\"MP4V\"),30,(512,512))\n",
    "for i in range(0,len(tasks.video),1):\n",
    "    resize = cv2.resize(np.array(tasks.video[i]), (512, 512))\n",
    "    frame = resize*0\n",
    "    frame[:,:,0],frame[:,:,1],frame[:,:,2] = resize[:,:,2],resize[:,:,1], resize[:,:,0]\n",
    "    writer.write(frame)\n",
    "writer.release()"
   ]
  },
  {
   "cell_type": "code",
   "execution_count": null,
   "metadata": {},
   "outputs": [],
   "source": []
  }
 ],
 "metadata": {
  "colab": {
   "authorship_tag": "ABX9TyPR8em43jeF5VYi7lM/34eC",
   "collapsed_sections": [],
   "mount_file_id": "1_qK6Elr2kpuP4tJ48dO73b2CaZMCR4WI",
   "name": "aa_gun_experiment.ipynb",
   "version": ""
  },
  "interpreter": {
   "hash": "31f2aee4e71d21fbe5cf8b01ff0e069b9275f58929596ceb00d14d90e3e16cd6"
  },
  "kernelspec": {
   "display_name": "Python 3.9.6 64-bit",
   "language": "python",
   "name": "python3"
  },
  "language_info": {
   "codemirror_mode": {
    "name": "ipython",
    "version": 3
   },
   "file_extension": ".py",
   "mimetype": "text/x-python",
   "name": "python",
   "nbconvert_exporter": "python",
   "pygments_lexer": "ipython3",
   "version": "3.9.6"
  }
 },
 "nbformat": 4,
 "nbformat_minor": 1
}
