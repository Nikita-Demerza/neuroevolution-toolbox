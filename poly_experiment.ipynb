{
 "cells": [
  {
   "cell_type": "code",
   "execution_count": 1,
   "metadata": {
    "colab": {
     "base_uri": "https://localhost:8080/"
    },
    "executionInfo": {
     "elapsed": 8231,
     "status": "ok",
     "timestamp": 1651603172292,
     "user": {
      "displayName": "Сергей Довгань",
      "userId": "11204475592062912374"
     },
     "user_tz": -180
    },
    "id": "iV7GFD8QRQVe",
    "outputId": "0e3899ee-652a-4026-d9c5-ea305dfcb7b7"
   },
   "outputs": [],
   "source": [
    "import sys\n",
    "sys.path.append('./')\n",
    "import numpy as np\n",
    "import pandas as pd\n",
    "import neural_tape_controller\n",
    "#Положительные числа - положительные награды.\n",
    "import tasks \n",
    "import optimize\n",
    "import pickle\n",
    "root_dir = './'"
   ]
  },
  {
   "cell_type": "code",
   "execution_count": 7,
   "metadata": {
    "executionInfo": {
     "elapsed": 4,
     "status": "ok",
     "timestamp": 1651603172292,
     "user": {
      "displayName": "Сергей Довгань",
      "userId": "11204475592062912374"
     },
     "user_tz": -180
    },
    "id": "w-6cNhDZRob-"
   },
   "outputs": [],
   "source": [
    "nt = neural_tape_controller.nt_controller(input_size=36,output_size=5)\n",
    "genom = nt.nn.disassemble_genom()"
   ]
  },
  {
   "cell_type": "code",
   "execution_count": 3,
   "metadata": {
    "executionInfo": {
     "elapsed": 3,
     "status": "ok",
     "timestamp": 1651603172292,
     "user": {
      "displayName": "Сергей Довгань",
      "userId": "11204475592062912374"
     },
     "user_tz": -180
    },
    "id": "jeZFPRIuQeoV"
   },
   "outputs": [],
   "source": [
    "#with open(root_dir+f'./genoms/best_genoms_poly.pkl', 'rb') as f:\n",
    "#    genom = pickle.load(f)[-1]\n",
    "#print('loaded successfully')"
   ]
  },
  {
   "cell_type": "code",
   "execution_count": 3,
   "metadata": {
    "colab": {
     "base_uri": "https://localhost:8080/"
    },
    "executionInfo": {
     "elapsed": 123731,
     "status": "ok",
     "timestamp": 1651603972482,
     "user": {
      "displayName": "Сергей Довгань",
      "userId": "11204475592062912374"
     },
     "user_tz": -180
    },
    "id": "Eja2m2P_ewzM",
    "outputId": "93758ab2-e584-4e96-b2f5-d795b5d46e05"
   },
   "outputs": [
    {
     "name": "stderr",
     "output_type": "stream",
     "text": [
      "/home/nikita/neuroevolution_toolbox/nnet.py:318: RuntimeWarning: overflow encountered in add\n",
      "  self.belts[layer['belt_name']][:,:min_len] += in_data[:,:min_len]\n"
     ]
    },
    {
     "name": "stdout",
     "output_type": "stream",
     "text": [
      "labirint_1: [ 6  6  0 -6 -6  6  6 -6] jet_table_1: [0.25   0.1422 0.5824 0.3342 3.0535 6.0944 3.0389 0.2283]  full=-4.55344958877833\n",
      "q= -4.553449588778429\n",
      "CPU times: user 34.1 s, sys: 1min 51s, total: 2min 25s\n",
      "Wall time: 12.6 s\n"
     ]
    }
   ],
   "source": [
    "%%time\n",
    "q=tasks.custom_test(genom, verbose=True, draw=False)\n",
    "print('q=',q)"
   ]
  },
  {
   "cell_type": "code",
   "execution_count": 5,
   "metadata": {
    "colab": {
     "base_uri": "https://localhost:8080/"
    },
    "executionInfo": {
     "elapsed": 6,
     "status": "ok",
     "timestamp": 1651603973337,
     "user": {
      "displayName": "Сергей Довгань",
      "userId": "11204475592062912374"
     },
     "user_tz": -180
    },
    "id": "7QuoLVuSPnn4",
    "outputId": "f48baf22-c3e3-4ed5-fb9d-2e6e1f202506"
   },
   "outputs": [],
   "source": [
    "#1/0"
   ]
  },
  {
   "cell_type": "code",
   "execution_count": 4,
   "metadata": {
    "colab": {
     "base_uri": "https://localhost:8080/"
    },
    "executionInfo": {
     "elapsed": 5,
     "status": "ok",
     "timestamp": 1651603973338,
     "user": {
      "displayName": "Сергей Довгань",
      "userId": "11204475592062912374"
     },
     "user_tz": -180
    },
    "id": "oN_h1Rg_2fQX",
    "outputId": "4378f9e9-64bb-4e28-8375-2739d22203d1"
   },
   "outputs": [
    {
     "name": "stdout",
     "output_type": "stream",
     "text": [
      "2022-05-14 19:46:29.793001\n"
     ]
    }
   ],
   "source": [
    "print(pd.Timestamp.now())"
   ]
  },
  {
   "cell_type": "code",
   "execution_count": 8,
   "metadata": {
    "colab": {
     "base_uri": "https://localhost:8080/"
    },
    "id": "HzpNigFUTmIM",
    "outputId": "f9549793-c337-46bd-e991-e7fe2b4816e0"
   },
   "outputs": [
    {
     "name": "stdout",
     "output_type": "stream",
     "text": [
      "1\n",
      "labirint_1: [ 0  0  0  6  0  0  0 -6] jet_table_1: [0.5641 0.1656 0.4244 0.4611 1.2013 1.3173 1.5662 0.5418]  full=-4.568977458450483\n",
      "opt# 0\n",
      "scores for optimizers augmented [1.e+10 1.e+10 1.e+10 1.e+10 1.e+10 1.e+10 1.e+10 1.e+10]\n",
      "chosen evol_wide previous_result: nan per tacts: nan\n",
      "iteration 0 y= [0.64214158 0.61948872 0.34264693 0.33315746]\n"
     ]
    },
    {
     "ename": "KeyboardInterrupt",
     "evalue": "",
     "output_type": "error",
     "traceback": [
      "\u001b[0;31m---------------------------------------------------------------------------\u001b[0m",
      "\u001b[0;31mKeyboardInterrupt\u001b[0m                         Traceback (most recent call last)",
      "\u001b[1;32m/home/nikita/neuroevolution_toolbox/poly_experiment.ipynb Cell 7'\u001b[0m in \u001b[0;36m<cell line: 11>\u001b[0;34m()\u001b[0m\n\u001b[1;32m     <a href='vscode-notebook-cell:/home/nikita/neuroevolution_toolbox/poly_experiment.ipynb#ch0000006?line=10'>11</a>\u001b[0m \u001b[39mfor\u001b[39;00m i \u001b[39min\u001b[39;00m \u001b[39mrange\u001b[39m(\u001b[39m1000\u001b[39m):\n\u001b[1;32m     <a href='vscode-notebook-cell:/home/nikita/neuroevolution_toolbox/poly_experiment.ipynb#ch0000006?line=11'>12</a>\u001b[0m     \u001b[39mprint\u001b[39m(\u001b[39m'\u001b[39m\u001b[39mopt#\u001b[39m\u001b[39m'\u001b[39m,i)\n\u001b[0;32m---> <a href='vscode-notebook-cell:/home/nikita/neuroevolution_toolbox/poly_experiment.ipynb#ch0000006?line=12'>13</a>\u001b[0m     opt\u001b[39m.\u001b[39;49moptimize()\n\u001b[1;32m     <a href='vscode-notebook-cell:/home/nikita/neuroevolution_toolbox/poly_experiment.ipynb#ch0000006?line=13'>14</a>\u001b[0m     \u001b[39mwith\u001b[39;00m \u001b[39mopen\u001b[39m(root_dir\u001b[39m+\u001b[39m\u001b[39mf\u001b[39m\u001b[39m'\u001b[39m\u001b[39m./genoms/best_genoms_poly.pkl\u001b[39m\u001b[39m'\u001b[39m, \u001b[39m'\u001b[39m\u001b[39mwb\u001b[39m\u001b[39m'\u001b[39m) \u001b[39mas\u001b[39;00m f:\n\u001b[1;32m     <a href='vscode-notebook-cell:/home/nikita/neuroevolution_toolbox/poly_experiment.ipynb#ch0000006?line=14'>15</a>\u001b[0m         pickle\u001b[39m.\u001b[39mdump(opt\u001b[39m.\u001b[39mbest_genoms,f,protocol\u001b[39m=\u001b[39mpickle\u001b[39m.\u001b[39mHIGHEST_PROTOCOL)\n",
      "File \u001b[0;32m~/neuroevolution_toolbox/optimize.py:53\u001b[0m, in \u001b[0;36moptimizer.optimize\u001b[0;34m(self)\u001b[0m\n\u001b[1;32m     <a href='file:///home/nikita/neuroevolution_toolbox/optimize.py?line=50'>51</a>\u001b[0m t \u001b[39m=\u001b[39m pd\u001b[39m.\u001b[39mTimestamp\u001b[39m.\u001b[39mnow()\n\u001b[1;32m     <a href='file:///home/nikita/neuroevolution_toolbox/optimize.py?line=51'>52</a>\u001b[0m \u001b[39mif\u001b[39;00m chosen_optimizer\u001b[39m==\u001b[39m\u001b[39m'\u001b[39m\u001b[39mevol_wide\u001b[39m\u001b[39m'\u001b[39m:\n\u001b[0;32m---> <a href='file:///home/nikita/neuroevolution_toolbox/optimize.py?line=52'>53</a>\u001b[0m     \u001b[39mself\u001b[39;49m\u001b[39m.\u001b[39;49mevol_wide()\n\u001b[1;32m     <a href='file:///home/nikita/neuroevolution_toolbox/optimize.py?line=53'>54</a>\u001b[0m \u001b[39melif\u001b[39;00m chosen_optimizer\u001b[39m==\u001b[39m\u001b[39m'\u001b[39m\u001b[39mevol_narrow\u001b[39m\u001b[39m'\u001b[39m:\n\u001b[1;32m     <a href='file:///home/nikita/neuroevolution_toolbox/optimize.py?line=54'>55</a>\u001b[0m     \u001b[39mself\u001b[39m\u001b[39m.\u001b[39mevol_narrow()\n",
      "File \u001b[0;32m~/neuroevolution_toolbox/optimize.py:88\u001b[0m, in \u001b[0;36moptimizer.evol_wide\u001b[0;34m(self)\u001b[0m\n\u001b[1;32m     <a href='file:///home/nikita/neuroevolution_toolbox/optimize.py?line=85'>86</a>\u001b[0m popsize\u001b[39m=\u001b[39m\u001b[39m40\u001b[39m\n\u001b[1;32m     <a href='file:///home/nikita/neuroevolution_toolbox/optimize.py?line=86'>87</a>\u001b[0m maxiter\u001b[39m=\u001b[39m\u001b[39m4\u001b[39m\n\u001b[0;32m---> <a href='file:///home/nikita/neuroevolution_toolbox/optimize.py?line=87'>88</a>\u001b[0m [genom_best,genoms, losses] \u001b[39m=\u001b[39m \u001b[39mself\u001b[39;49m\u001b[39m.\u001b[39;49mevol_parallel(\u001b[39mself\u001b[39;49m\u001b[39m.\u001b[39;49mfunction,bounds\u001b[39m=\u001b[39;49m[\u001b[39m-\u001b[39;49m\u001b[39m1\u001b[39;49m,\u001b[39m1\u001b[39;49m],size_x\u001b[39m=\u001b[39;49m\u001b[39mself\u001b[39;49m\u001b[39m.\u001b[39;49mgenom_size, popsize\u001b[39m=\u001b[39;49mpopsize,maxiter\u001b[39m=\u001b[39;49mmaxiter, mutation_p\u001b[39m=\u001b[39;49m\u001b[39m0.01\u001b[39;49m,mutation_p_e\u001b[39m=\u001b[39;49m\u001b[39m0.01\u001b[39;49m,\n\u001b[1;32m     <a href='file:///home/nikita/neuroevolution_toolbox/optimize.py?line=88'>89</a>\u001b[0m           mutation_r\u001b[39m=\u001b[39;49m\u001b[39m0.1\u001b[39;49m, alpha_count\u001b[39m=\u001b[39;49m\u001b[39m6\u001b[39;49m,elitarism\u001b[39m=\u001b[39;49m\u001b[39m4\u001b[39;49m,verbose\u001b[39m=\u001b[39;49m\u001b[39mTrue\u001b[39;49;00m,\n\u001b[1;32m     <a href='file:///home/nikita/neuroevolution_toolbox/optimize.py?line=89'>90</a>\u001b[0m           out\u001b[39m=\u001b[39;49m[],\n\u001b[1;32m     <a href='file:///home/nikita/neuroevolution_toolbox/optimize.py?line=90'>91</a>\u001b[0m           start_point\u001b[39m=\u001b[39;49m\u001b[39mself\u001b[39;49m\u001b[39m.\u001b[39;49mbest_genoms,get_extended\u001b[39m=\u001b[39;49m\u001b[39mTrue\u001b[39;49;00m)\n\u001b[1;32m     <a href='file:///home/nikita/neuroevolution_toolbox/optimize.py?line=91'>92</a>\u001b[0m gain \u001b[39m=\u001b[39m np\u001b[39m.\u001b[39mmax(losses)\u001b[39m-\u001b[39m\u001b[39mself\u001b[39m\u001b[39m.\u001b[39mcurrent_loss\u001b[39m#было -2, стало -1. gain = 1. Положительный gain - хорошо\u001b[39;00m\n\u001b[1;32m     <a href='file:///home/nikita/neuroevolution_toolbox/optimize.py?line=92'>93</a>\u001b[0m \u001b[39mself\u001b[39m\u001b[39m.\u001b[39mcurrent_loss \u001b[39m=\u001b[39m np\u001b[39m.\u001b[39mmax(losses)\n",
      "File \u001b[0;32m~/neuroevolution_toolbox/optimize.py:360\u001b[0m, in \u001b[0;36moptimizer.evol_parallel\u001b[0;34m(self, function, bounds, size_x, popsize, maxiter, mutation_p, mutation_p_e, mutation_r, alpha_count, elitarism, seed, verbose, out, start_point, get_extended)\u001b[0m\n\u001b[1;32m    <a href='file:///home/nikita/neuroevolution_toolbox/optimize.py?line=357'>358</a>\u001b[0m \u001b[39mif\u001b[39;00m n_jobs\u001b[39m!=\u001b[39m\u001b[39m1\u001b[39m:\n\u001b[1;32m    <a href='file:///home/nikita/neuroevolution_toolbox/optimize.py?line=358'>359</a>\u001b[0m     pool \u001b[39m=\u001b[39m Pool(processes\u001b[39m=\u001b[39mn_jobs)\n\u001b[0;32m--> <a href='file:///home/nikita/neuroevolution_toolbox/optimize.py?line=359'>360</a>\u001b[0m     y_old \u001b[39m=\u001b[39m pool\u001b[39m.\u001b[39;49mmap(function, [x \u001b[39mfor\u001b[39;49;00m x \u001b[39min\u001b[39;49;00m x_old])\n\u001b[1;32m    <a href='file:///home/nikita/neuroevolution_toolbox/optimize.py?line=360'>361</a>\u001b[0m     pool\u001b[39m.\u001b[39mclose()\n\u001b[1;32m    <a href='file:///home/nikita/neuroevolution_toolbox/optimize.py?line=361'>362</a>\u001b[0m     pool\u001b[39m.\u001b[39mjoin()\n",
      "File \u001b[0;32m/usr/lib64/python3.9/multiprocessing/pool.py:364\u001b[0m, in \u001b[0;36mPool.map\u001b[0;34m(self, func, iterable, chunksize)\u001b[0m\n\u001b[1;32m    <a href='file:///usr/lib64/python3.9/multiprocessing/pool.py?line=358'>359</a>\u001b[0m \u001b[39mdef\u001b[39;00m \u001b[39mmap\u001b[39m(\u001b[39mself\u001b[39m, func, iterable, chunksize\u001b[39m=\u001b[39m\u001b[39mNone\u001b[39;00m):\n\u001b[1;32m    <a href='file:///usr/lib64/python3.9/multiprocessing/pool.py?line=359'>360</a>\u001b[0m     \u001b[39m'''\u001b[39;00m\n\u001b[1;32m    <a href='file:///usr/lib64/python3.9/multiprocessing/pool.py?line=360'>361</a>\u001b[0m \u001b[39m    Apply `func` to each element in `iterable`, collecting the results\u001b[39;00m\n\u001b[1;32m    <a href='file:///usr/lib64/python3.9/multiprocessing/pool.py?line=361'>362</a>\u001b[0m \u001b[39m    in a list that is returned.\u001b[39;00m\n\u001b[1;32m    <a href='file:///usr/lib64/python3.9/multiprocessing/pool.py?line=362'>363</a>\u001b[0m \u001b[39m    '''\u001b[39;00m\n\u001b[0;32m--> <a href='file:///usr/lib64/python3.9/multiprocessing/pool.py?line=363'>364</a>\u001b[0m     \u001b[39mreturn\u001b[39;00m \u001b[39mself\u001b[39;49m\u001b[39m.\u001b[39;49m_map_async(func, iterable, mapstar, chunksize)\u001b[39m.\u001b[39;49mget()\n",
      "File \u001b[0;32m/usr/lib64/python3.9/multiprocessing/pool.py:765\u001b[0m, in \u001b[0;36mApplyResult.get\u001b[0;34m(self, timeout)\u001b[0m\n\u001b[1;32m    <a href='file:///usr/lib64/python3.9/multiprocessing/pool.py?line=763'>764</a>\u001b[0m \u001b[39mdef\u001b[39;00m \u001b[39mget\u001b[39m(\u001b[39mself\u001b[39m, timeout\u001b[39m=\u001b[39m\u001b[39mNone\u001b[39;00m):\n\u001b[0;32m--> <a href='file:///usr/lib64/python3.9/multiprocessing/pool.py?line=764'>765</a>\u001b[0m     \u001b[39mself\u001b[39;49m\u001b[39m.\u001b[39;49mwait(timeout)\n\u001b[1;32m    <a href='file:///usr/lib64/python3.9/multiprocessing/pool.py?line=765'>766</a>\u001b[0m     \u001b[39mif\u001b[39;00m \u001b[39mnot\u001b[39;00m \u001b[39mself\u001b[39m\u001b[39m.\u001b[39mready():\n\u001b[1;32m    <a href='file:///usr/lib64/python3.9/multiprocessing/pool.py?line=766'>767</a>\u001b[0m         \u001b[39mraise\u001b[39;00m \u001b[39mTimeoutError\u001b[39;00m\n",
      "File \u001b[0;32m/usr/lib64/python3.9/multiprocessing/pool.py:762\u001b[0m, in \u001b[0;36mApplyResult.wait\u001b[0;34m(self, timeout)\u001b[0m\n\u001b[1;32m    <a href='file:///usr/lib64/python3.9/multiprocessing/pool.py?line=760'>761</a>\u001b[0m \u001b[39mdef\u001b[39;00m \u001b[39mwait\u001b[39m(\u001b[39mself\u001b[39m, timeout\u001b[39m=\u001b[39m\u001b[39mNone\u001b[39;00m):\n\u001b[0;32m--> <a href='file:///usr/lib64/python3.9/multiprocessing/pool.py?line=761'>762</a>\u001b[0m     \u001b[39mself\u001b[39;49m\u001b[39m.\u001b[39;49m_event\u001b[39m.\u001b[39;49mwait(timeout)\n",
      "File \u001b[0;32m/usr/lib64/python3.9/threading.py:574\u001b[0m, in \u001b[0;36mEvent.wait\u001b[0;34m(self, timeout)\u001b[0m\n\u001b[1;32m    <a href='file:///usr/lib64/python3.9/threading.py?line=571'>572</a>\u001b[0m signaled \u001b[39m=\u001b[39m \u001b[39mself\u001b[39m\u001b[39m.\u001b[39m_flag\n\u001b[1;32m    <a href='file:///usr/lib64/python3.9/threading.py?line=572'>573</a>\u001b[0m \u001b[39mif\u001b[39;00m \u001b[39mnot\u001b[39;00m signaled:\n\u001b[0;32m--> <a href='file:///usr/lib64/python3.9/threading.py?line=573'>574</a>\u001b[0m     signaled \u001b[39m=\u001b[39m \u001b[39mself\u001b[39;49m\u001b[39m.\u001b[39;49m_cond\u001b[39m.\u001b[39;49mwait(timeout)\n\u001b[1;32m    <a href='file:///usr/lib64/python3.9/threading.py?line=574'>575</a>\u001b[0m \u001b[39mreturn\u001b[39;00m signaled\n",
      "File \u001b[0;32m/usr/lib64/python3.9/threading.py:312\u001b[0m, in \u001b[0;36mCondition.wait\u001b[0;34m(self, timeout)\u001b[0m\n\u001b[1;32m    <a href='file:///usr/lib64/python3.9/threading.py?line=309'>310</a>\u001b[0m \u001b[39mtry\u001b[39;00m:    \u001b[39m# restore state no matter what (e.g., KeyboardInterrupt)\u001b[39;00m\n\u001b[1;32m    <a href='file:///usr/lib64/python3.9/threading.py?line=310'>311</a>\u001b[0m     \u001b[39mif\u001b[39;00m timeout \u001b[39mis\u001b[39;00m \u001b[39mNone\u001b[39;00m:\n\u001b[0;32m--> <a href='file:///usr/lib64/python3.9/threading.py?line=311'>312</a>\u001b[0m         waiter\u001b[39m.\u001b[39;49macquire()\n\u001b[1;32m    <a href='file:///usr/lib64/python3.9/threading.py?line=312'>313</a>\u001b[0m         gotit \u001b[39m=\u001b[39m \u001b[39mTrue\u001b[39;00m\n\u001b[1;32m    <a href='file:///usr/lib64/python3.9/threading.py?line=313'>314</a>\u001b[0m     \u001b[39melse\u001b[39;00m:\n",
      "\u001b[0;31mKeyboardInterrupt\u001b[0m: "
     ]
    }
   ],
   "source": [
    "print(1)\n",
    "opt = optimize.optimizer(tasks.custom_test, genom_size=len(genom),parallel_cores=2)\n",
    "#try:\n",
    "#    with open(root_dir+f'./genoms/best_genoms_poly.pkl', 'rb') as f:\n",
    "#        opt.best_genoms = pickle.load(f)\n",
    "#    print('loaded successfully')\n",
    "#except Exception:\n",
    "#    pass\n",
    "opt.function(opt.best_genoms[-1], verbose=True)\n",
    "\n",
    "for i in range(1000):\n",
    "    print('opt#',i)\n",
    "    opt.optimize()\n",
    "    with open(root_dir+f'./genoms/best_genoms_poly.pkl', 'wb') as f:\n",
    "        pickle.dump(opt.best_genoms,f,protocol=pickle.HIGHEST_PROTOCOL)\n",
    "        print('WRITTEN')"
   ]
  },
  {
   "cell_type": "code",
   "execution_count": null,
   "metadata": {
    "executionInfo": {
     "elapsed": 2,
     "status": "aborted",
     "timestamp": 1651603846559,
     "user": {
      "displayName": "Сергей Довгань",
      "userId": "11204475592062912374"
     },
     "user_tz": -180
    },
    "id": "KUFIj6d1IBlq"
   },
   "outputs": [],
   "source": [
    "#draw\n",
    "with open(root_dir+f'./genoms/best_genoms_poly.pkl', 'rb') as f:\n",
    "    genom = pickle.load(f)\n",
    "    genom = genom[-1]\n",
    "print('loaded successfully')\n",
    "q=tasks.custom_test(genom, verbose=True, draw=True)\n",
    "print('q=',q)\n",
    "tasks.video[0].save(\n",
    "    root_dir+'./out_videos/poly_labirint_neuroevol.gif',\n",
    "    save_all=True,\n",
    "    append_images=tasks.video[1:], \n",
    "    optimize=True,\n",
    "    duration=100,\n",
    "    loop=0\n",
    ")"
   ]
  },
  {
   "cell_type": "code",
   "execution_count": null,
   "metadata": {
    "executionInfo": {
     "elapsed": 5,
     "status": "aborted",
     "timestamp": 1651603846562,
     "user": {
      "displayName": "Сергей Довгань",
      "userId": "11204475592062912374"
     },
     "user_tz": -180
    },
    "id": "Md98JOxGRtMJ"
   },
   "outputs": [],
   "source": []
  }
 ],
 "metadata": {
  "colab": {
   "collapsed_sections": [],
   "name": "poly_experiment.ipynb",
   "provenance": []
  },
  "interpreter": {
   "hash": "31f2aee4e71d21fbe5cf8b01ff0e069b9275f58929596ceb00d14d90e3e16cd6"
  },
  "kernelspec": {
   "display_name": "Python 3.9.6 64-bit",
   "language": "python",
   "name": "python3"
  },
  "language_info": {
   "codemirror_mode": {
    "name": "ipython",
    "version": 3
   },
   "file_extension": ".py",
   "mimetype": "text/x-python",
   "name": "python",
   "nbconvert_exporter": "python",
   "pygments_lexer": "ipython3",
   "version": "3.9.6"
  }
 },
 "nbformat": 4,
 "nbformat_minor": 1
}
