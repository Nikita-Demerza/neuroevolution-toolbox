{
 "cells": [
  {
   "cell_type": "code",
   "execution_count": 1,
   "metadata": {
    "colab": {
     "base_uri": "https://localhost:8080/"
    },
    "executionInfo": {
     "elapsed": 8231,
     "status": "ok",
     "timestamp": 1651603172292,
     "user": {
      "displayName": "Сергей Довгань",
      "userId": "11204475592062912374"
     },
     "user_tz": -180
    },
    "id": "iV7GFD8QRQVe",
    "outputId": "0e3899ee-652a-4026-d9c5-ea305dfcb7b7"
   },
   "outputs": [],
   "source": [
    "import sys\n",
    "sys.path.append('./')\n",
    "import numpy as np\n",
    "import pandas as pd\n",
    "import neural_tape_controller\n",
    "#Положительные числа - положительные награды.\n",
    "import tasks \n",
    "import optimize\n",
    "import pickle\n",
    "root_dir = './'"
   ]
  },
  {
   "cell_type": "code",
   "execution_count": 2,
   "metadata": {
    "executionInfo": {
     "elapsed": 4,
     "status": "ok",
     "timestamp": 1651603172292,
     "user": {
      "displayName": "Сергей Довгань",
      "userId": "11204475592062912374"
     },
     "user_tz": -180
    },
    "id": "w-6cNhDZRob-"
   },
   "outputs": [],
   "source": [
    "nt = neural_tape_controller.nt_controller(input_size=36,output_size=5)\n",
    "genom = nt.nn.disassemble_genom()"
   ]
  },
  {
   "cell_type": "code",
   "execution_count": 3,
   "metadata": {
    "executionInfo": {
     "elapsed": 3,
     "status": "ok",
     "timestamp": 1651603172292,
     "user": {
      "displayName": "Сергей Довгань",
      "userId": "11204475592062912374"
     },
     "user_tz": -180
    },
    "id": "jeZFPRIuQeoV"
   },
   "outputs": [],
   "source": [
    "#with open(root_dir+f'./genoms/best_genoms_poly.pkl', 'rb') as f:\n",
    "#    genom = pickle.load(f)[-1]\n",
    "#print('loaded successfully')"
   ]
  },
  {
   "cell_type": "code",
   "execution_count": 3,
   "metadata": {
    "colab": {
     "base_uri": "https://localhost:8080/"
    },
    "executionInfo": {
     "elapsed": 123731,
     "status": "ok",
     "timestamp": 1651603972482,
     "user": {
      "displayName": "Сергей Довгань",
      "userId": "11204475592062912374"
     },
     "user_tz": -180
    },
    "id": "Eja2m2P_ewzM",
    "outputId": "93758ab2-e584-4e96-b2f5-d795b5d46e05"
   },
   "outputs": [
    {
     "name": "stderr",
     "output_type": "stream",
     "text": [
      "/home/nikita/neuroevolution-toolbox/nnet.py:324: RuntimeWarning: overflow encountered in true_divide\n",
      "  k_add = np.arctan(self.belts[layer['belt_name']][:,:min_len]/layer['w_modulable'][0,0])*layer['w_modulable'][0,1]\n",
      "/home/nikita/neuroevolution-toolbox/nnet.py:316: RuntimeWarning: overflow encountered in add\n",
      "  self.belts[layer['belt_name']][:,:min_len] += in_data[:,:min_len]\n"
     ]
    },
    {
     "name": "stdout",
     "output_type": "stream",
     "text": [
      "labirint_1: [0 0 6 0 0 0] jet_table_1: [ 2.0011  0.8828  7.4049  7.2474  8.701  42.6318]  full=1.2478157826258718\n",
      "q= 1.2478157826257716\n",
      "CPU times: user 33.1 s, sys: 1min 37s, total: 2min 11s\n",
      "Wall time: 31.1 s\n"
     ]
    }
   ],
   "source": [
    "%%time\n",
    "q=tasks.custom_test(genom, verbose=True, draw=False)\n",
    "print('q=',q)"
   ]
  },
  {
   "cell_type": "code",
   "execution_count": 5,
   "metadata": {
    "colab": {
     "base_uri": "https://localhost:8080/"
    },
    "executionInfo": {
     "elapsed": 6,
     "status": "ok",
     "timestamp": 1651603973337,
     "user": {
      "displayName": "Сергей Довгань",
      "userId": "11204475592062912374"
     },
     "user_tz": -180
    },
    "id": "7QuoLVuSPnn4",
    "outputId": "f48baf22-c3e3-4ed5-fb9d-2e6e1f202506"
   },
   "outputs": [],
   "source": [
    "#1/0"
   ]
  },
  {
   "cell_type": "code",
   "execution_count": 4,
   "metadata": {
    "colab": {
     "base_uri": "https://localhost:8080/"
    },
    "executionInfo": {
     "elapsed": 5,
     "status": "ok",
     "timestamp": 1651603973338,
     "user": {
      "displayName": "Сергей Довгань",
      "userId": "11204475592062912374"
     },
     "user_tz": -180
    },
    "id": "oN_h1Rg_2fQX",
    "outputId": "4378f9e9-64bb-4e28-8375-2739d22203d1"
   },
   "outputs": [
    {
     "name": "stdout",
     "output_type": "stream",
     "text": [
      "2022-05-14 19:46:29.793001\n"
     ]
    }
   ],
   "source": [
    "print(pd.Timestamp.now())"
   ]
  },
  {
   "cell_type": "code",
   "execution_count": 4,
   "metadata": {
    "colab": {
     "base_uri": "https://localhost:8080/"
    },
    "id": "HzpNigFUTmIM",
    "outputId": "f9549793-c337-46bd-e991-e7fe2b4816e0"
   },
   "outputs": [
    {
     "name": "stdout",
     "output_type": "stream",
     "text": [
      "1\n",
      "labirint_1: [-6  0 18  0  0  6] jet_table_1: [0.1503 2.2291 0.5216 0.6827 2.2742 3.028 ]  full=-4.239700643000797\n",
      "opt# 0\n",
      "scores for optimizers augmented [1.e+10 1.e+10 1.e+10 1.e+10 1.e+10 1.e+10 1.e+10 1.e+10]\n",
      "chosen evol_wide previous_result: nan per tacts: nan\n"
     ]
    },
    {
     "name": "stderr",
     "output_type": "stream",
     "text": [
      "/home/nikita/neuroevolution-toolbox/optimize.py:36: RuntimeWarning: Mean of empty slice\n",
      "  mx.append(np.nanmean(self.history_gain[opt_name])-time_penalty*np.nanmean(self.history_time[opt_name]))\n",
      "/home/nikita/.local/lib/python3/site-packages/numpy/lib/nanfunctions.py:1879: RuntimeWarning: Degrees of freedom <= 0 for slice.\n",
      "  var = nanvar(a, axis=axis, dtype=dtype, out=out, ddof=ddof,\n"
     ]
    },
    {
     "name": "stdout",
     "output_type": "stream",
     "text": [
      "iteration 0 y= [0.77953994 0.60402797 0.58050179 0.47599572]\n",
      "iteration 1 y= [1.18261647 0.98676449 0.77953994 0.7264738 ]\n",
      "iteration 2 y= [1.3910061  1.18261647 1.09404921 0.98676449]\n",
      "iteration 3 y= [1.3910061  1.18261647 1.09404921 0.98676449]\n",
      "iteration final y= [1.3910061  1.18261647 1.09404921 0.98676449]\n",
      "result evol_wide previous_gain: nan per tacts: nan duration 0 days 00:51:45.935578\n",
      "labirint_1: [36 18 12  6  0  6] jet_table_1: [0.1024 0.1223 1.0136 0.2279 2.2926 1.5866]  full=1.3910060962702036\n",
      "WRITTEN\n",
      "opt# 1\n",
      "scores for optimizers augmented [5.11466157e-01 1.00000000e+10 1.00000000e+10 1.00000000e+10\n",
      " 1.00000000e+10 1.00000000e+10 1.00000000e+10 1.00000000e+10]\n",
      "chosen evol_mid_chaos previous_result: nan per tacts: nan\n",
      "iteration 0 y= [1.3910061  0.04241239 0.04040598]\n",
      "iteration 1 y= [1.3910061  0.38745214 0.38745214]\n",
      "iteration final y= [1.3910061  0.38745214 0.38745214]\n",
      "result evol_mid_chaos previous_gain: nan per tacts: nan duration 0 days 00:09:46.843087\n",
      "labirint_1: [36 18 12  6  0  6] jet_table_1: [0.1024 0.1223 1.0136 0.2279 2.2926 1.5866]  full=1.3910060962702036\n",
      "WRITTEN\n",
      "opt# 2\n",
      "scores for optimizers augmented [ 5.11466157e-01 -2.10000000e-02  1.00000000e+10  1.00000000e+10\n",
      "  1.00000000e+10  1.00000000e+10  1.00000000e+10  1.00000000e+10]\n",
      "chosen gradient_wide_50 previous_result: nan per tacts: nan\n",
      "score_new 1.2893691749681284 score_prev 1.3910060959360173 gained -0.1016369209678889\n",
      "undo\n",
      "score_new 1.2893691749681284 score_prev 1.3910060959360173 gained -0.1016369209678889\n",
      "undo\n",
      "score_new 1.2893691749681284 score_prev 1.3910060959360173 gained -0.1016369209678889\n",
      "undo\n",
      "score_new 1.2893691749681284 score_prev 1.3910060959360173 gained -0.1016369209678889\n",
      "undo\n",
      "result gradient_wide_50 previous_gain: nan per tacts: nan duration 0 days 00:05:53.816480\n",
      "labirint_1: [36 18 12  6  0  6] jet_table_1: [0.1024 0.1223 1.0136 0.2279 2.2926 1.5866]  full=1.3910060962702036\n",
      "WRITTEN\n",
      "opt# 3\n",
      "scores for optimizers augmented [ 5.11466157e-01 -2.10000000e-02 -1.80000000e-02  1.00000000e+10\n",
      "  1.00000000e+10  1.00000000e+10  1.00000000e+10  1.00000000e+10]\n",
      "chosen rel_coord_default previous_result: nan per tacts: nan\n",
      "score_new 1.3910072513003877 score_prev 1.3910060959360173 gained 1.155364370397649e-06\n",
      "score_new 1.3910072513003877 score_prev 1.3910072513003877 gained 0.0\n",
      "undo\n",
      "score_new 1.3910145809646979 score_prev 1.3910072513003877 gained 7.329664310162798e-06\n",
      "score_new 1.3910145809646979 score_prev 1.3910145809646979 gained 0.0\n",
      "undo\n",
      "score_new 1.5667822975947743 score_prev 1.3910145809646979 gained 0.1757677166300764\n",
      "score_new 1.5667822975947743 score_prev 1.5667822975947743 gained 0.0\n",
      "undo\n",
      "score_new 1.3910146212303107 score_prev 1.5667822975947743 gained -0.17576767636446355\n",
      "undo\n",
      "score_new 1.666778874592677 score_prev 1.5667822975947743 gained 0.09999657699790276\n",
      "score_new 1.666778874592677 score_prev 1.666778874592677 gained 0.0\n",
      "undo\n",
      "score_new 1.5667824855653034 score_prev 1.666778874592677 gained -0.09999638902737362\n",
      "undo\n",
      "score_new 1.6667805771807265 score_prev 1.666778874592677 gained 1.7025880494347945e-06\n",
      "score_new 1.6667805771807265 score_prev 1.6667805771807265 gained 0.0\n",
      "undo\n",
      "score_new 1.6667787606305964 score_prev 1.6667805771807265 gained -1.8165501300959619e-06\n",
      "undo\n",
      "score_new 1.5667816299161244 score_prev 1.6667805771807265 gained -0.09999894726460212\n",
      "undo\n",
      "score_new 1.6667809867006154 score_prev 1.6667805771807265 gained 4.095198888887097e-07\n",
      "score_new 1.6667809867006154 score_prev 1.6667809867006154 gained 0.0\n",
      "undo\n",
      "score_new 1.6667805771807265 score_prev 1.6667809867006154 gained -4.095198888887097e-07\n",
      "undo\n",
      "score_new 1.6667813266442104 score_prev 1.6667809867006154 gained 3.3994359505129523e-07\n",
      "score_new 1.6667813266442104 score_prev 1.6667813266442104 gained 0.0\n",
      "undo\n",
      "score_new 1.6667809867006154 score_prev 1.6667813266442104 gained -3.3994359505129523e-07\n",
      "undo\n",
      "score_new 1.5667814582771924 score_prev 1.6667813266442104 gained -0.09999986836701802\n",
      "undo\n",
      "score_new 1.6667812889020035 score_prev 1.6667813266442104 gained -3.774220691532548e-08\n",
      "undo\n",
      "score_new 1.666781199536129 score_prev 1.6667813266442104 gained -1.2710808139360097e-07\n",
      "undo\n",
      "score_new 1.6667812620257991 score_prev 1.6667813266442104 gained -6.461841128846402e-08\n",
      "undo\n",
      "score_new 1.6667813322323324 score_prev 1.6667813266442104 gained 5.588121965161008e-09\n",
      "result rel_coord_default previous_gain: nan per tacts: nan duration 0 days 00:06:00.728560\n",
      "labirint_1: [36 18 12  6  0  6] jet_table_1: [ 0.1024  0.1227  1.0136  0.2279 18.8386  1.5867]  full=1.6667813325665102\n",
      "WRITTEN\n",
      "opt# 4\n",
      "scores for optimizers augmented [ 5.11466157e-01 -2.10000000e-02 -1.80000000e-02  2.50775236e-01\n",
      "  1.00000000e+10  1.00000000e+10  1.00000000e+10  1.00000000e+10]\n",
      "chosen evol_soft previous_result: nan per tacts: nan\n",
      "iteration 0 y= [1.66678133 1.3910061  1.28936917]\n",
      "iteration 1 y= [1.66678133 1.3910061  1.29719403]\n",
      "iteration 2 y= [1.66678133 1.3910061  1.29719403]\n",
      "iteration 3 y= [1.66678133 1.3910061  1.29719403]\n",
      "iteration 4 y= [1.66678133 1.3910061  1.29719403]\n",
      "iteration final y= [1.66678133 1.3910061  1.29719403]\n",
      "result evol_soft previous_gain: nan per tacts: nan duration 0 days 00:24:02.688278\n",
      "labirint_1: [36 18 12  6  0  6] jet_table_1: [ 0.1024  0.1227  1.0136  0.2279 18.8386  1.5867]  full=1.6667813325665102\n",
      "WRITTEN\n",
      "opt# 5\n",
      "scores for optimizers augmented [ 5.11466157e-01 -2.10000000e-02 -1.80000000e-02  2.50775236e-01\n",
      " -4.80000000e-02  1.00000000e+10  1.00000000e+10  1.00000000e+10]\n",
      "chosen gradient_long_adaptive_inertial previous_result: nan per tacts: nan\n",
      "score_new 1.666803832906791 score_prev 1.6667813322323324 gained 2.2500674458525438e-05\n",
      "score_new 1.7667676064447733 score_prev 1.666803832906791 gained 0.09996377353798236\n",
      "score_new 1.5667307583542187 score_prev 1.7667676064447733 gained -0.20003684809055455\n",
      "undo\n",
      "score_new 1.5667825872494838 score_prev 1.7667676064447733 gained -0.19998501919528944\n",
      "undo\n",
      "score_new 1.566756439374887 score_prev 1.7667676064447733 gained -0.2000111670698863\n",
      "undo\n"
     ]
    },
    {
     "ename": "KeyboardInterrupt",
     "evalue": "",
     "output_type": "error",
     "traceback": [
      "\u001b[0;31m---------------------------------------------------------------------------\u001b[0m",
      "\u001b[0;31mKeyboardInterrupt\u001b[0m                         Traceback (most recent call last)",
      "\u001b[1;32m/home/nikita/neuroevolution-toolbox/poly_experiment.ipynb Cell 7'\u001b[0m in \u001b[0;36m<cell line: 11>\u001b[0;34m()\u001b[0m\n\u001b[1;32m     <a href='vscode-notebook-cell:/home/nikita/neuroevolution-toolbox/poly_experiment.ipynb#ch0000006?line=10'>11</a>\u001b[0m \u001b[39mfor\u001b[39;00m i \u001b[39min\u001b[39;00m \u001b[39mrange\u001b[39m(\u001b[39m1000\u001b[39m):\n\u001b[1;32m     <a href='vscode-notebook-cell:/home/nikita/neuroevolution-toolbox/poly_experiment.ipynb#ch0000006?line=11'>12</a>\u001b[0m     \u001b[39mprint\u001b[39m(\u001b[39m'\u001b[39m\u001b[39mopt#\u001b[39m\u001b[39m'\u001b[39m,i)\n\u001b[0;32m---> <a href='vscode-notebook-cell:/home/nikita/neuroevolution-toolbox/poly_experiment.ipynb#ch0000006?line=12'>13</a>\u001b[0m     opt\u001b[39m.\u001b[39;49moptimize()\n\u001b[1;32m     <a href='vscode-notebook-cell:/home/nikita/neuroevolution-toolbox/poly_experiment.ipynb#ch0000006?line=13'>14</a>\u001b[0m     \u001b[39mwith\u001b[39;00m \u001b[39mopen\u001b[39m(root_dir\u001b[39m+\u001b[39m\u001b[39mf\u001b[39m\u001b[39m'\u001b[39m\u001b[39m./genoms/best_genoms_poly.pkl\u001b[39m\u001b[39m'\u001b[39m, \u001b[39m'\u001b[39m\u001b[39mwb\u001b[39m\u001b[39m'\u001b[39m) \u001b[39mas\u001b[39;00m f:\n\u001b[1;32m     <a href='vscode-notebook-cell:/home/nikita/neuroevolution-toolbox/poly_experiment.ipynb#ch0000006?line=14'>15</a>\u001b[0m         pickle\u001b[39m.\u001b[39mdump(opt\u001b[39m.\u001b[39mbest_genoms,f,protocol\u001b[39m=\u001b[39mpickle\u001b[39m.\u001b[39mHIGHEST_PROTOCOL)\n",
      "File \u001b[0;32m~/neuroevolution-toolbox/optimize.py:69\u001b[0m, in \u001b[0;36moptimizer.optimize\u001b[0;34m(self)\u001b[0m\n\u001b[1;32m     <a href='file:///home/nikita/neuroevolution-toolbox/optimize.py?line=66'>67</a>\u001b[0m     \u001b[39mself\u001b[39m\u001b[39m.\u001b[39mgradient_long_adaptive()\n\u001b[1;32m     <a href='file:///home/nikita/neuroevolution-toolbox/optimize.py?line=67'>68</a>\u001b[0m \u001b[39melif\u001b[39;00m chosen_optimizer\u001b[39m==\u001b[39m\u001b[39m'\u001b[39m\u001b[39mgradient_long_adaptive_inertial\u001b[39m\u001b[39m'\u001b[39m:\n\u001b[0;32m---> <a href='file:///home/nikita/neuroevolution-toolbox/optimize.py?line=68'>69</a>\u001b[0m     \u001b[39mself\u001b[39;49m\u001b[39m.\u001b[39;49mgradient_long_adaptive_inertial()\n\u001b[1;32m     <a href='file:///home/nikita/neuroevolution-toolbox/optimize.py?line=69'>70</a>\u001b[0m \u001b[39melif\u001b[39;00m chosen_optimizer\u001b[39m==\u001b[39m\u001b[39m'\u001b[39m\u001b[39mrel_coord_default\u001b[39m\u001b[39m'\u001b[39m:\n\u001b[1;32m     <a href='file:///home/nikita/neuroevolution-toolbox/optimize.py?line=70'>71</a>\u001b[0m     \u001b[39mself\u001b[39m\u001b[39m.\u001b[39mrel_coord_default()\n",
      "File \u001b[0;32m~/neuroevolution-toolbox/optimize.py:241\u001b[0m, in \u001b[0;36moptimizer.gradient_long_adaptive_inertial\u001b[0;34m(self)\u001b[0m\n\u001b[1;32m    <a href='file:///home/nikita/neuroevolution-toolbox/optimize.py?line=238'>239</a>\u001b[0m adapt\u001b[39m=\u001b[39m\u001b[39m1.5\u001b[39m\n\u001b[1;32m    <a href='file:///home/nikita/neuroevolution-toolbox/optimize.py?line=239'>240</a>\u001b[0m chance_retry \u001b[39m=\u001b[39m \u001b[39m0.95\u001b[39m\n\u001b[0;32m--> <a href='file:///home/nikita/neuroevolution-toolbox/optimize.py?line=240'>241</a>\u001b[0m \u001b[39mself\u001b[39;49m\u001b[39m.\u001b[39;49mgradient(width,stripe,maxiter,step,opt_name,adapt,chance_retry)\n",
      "File \u001b[0;32m~/neuroevolution-toolbox/optimize.py:182\u001b[0m, in \u001b[0;36moptimizer.gradient\u001b[0;34m(self, width, stripe, maxiter, step, opt_name, adapt, chance_retry)\u001b[0m\n\u001b[1;32m    <a href='file:///home/nikita/neuroevolution-toolbox/optimize.py?line=179'>180</a>\u001b[0m \u001b[39mif\u001b[39;00m n_jobs\u001b[39m!=\u001b[39m\u001b[39m1\u001b[39m:\n\u001b[1;32m    <a href='file:///home/nikita/neuroevolution-toolbox/optimize.py?line=180'>181</a>\u001b[0m     pool \u001b[39m=\u001b[39m Pool(processes\u001b[39m=\u001b[39mn_jobs)\n\u001b[0;32m--> <a href='file:///home/nikita/neuroevolution-toolbox/optimize.py?line=181'>182</a>\u001b[0m     y_lst \u001b[39m=\u001b[39m pool\u001b[39m.\u001b[39;49mmap(\u001b[39mself\u001b[39;49m\u001b[39m.\u001b[39;49mfunction, [x \u001b[39mfor\u001b[39;49;00m x \u001b[39min\u001b[39;49;00m genoms])\n\u001b[1;32m    <a href='file:///home/nikita/neuroevolution-toolbox/optimize.py?line=182'>183</a>\u001b[0m     pool\u001b[39m.\u001b[39mclose()\n\u001b[1;32m    <a href='file:///home/nikita/neuroevolution-toolbox/optimize.py?line=183'>184</a>\u001b[0m     pool\u001b[39m.\u001b[39mjoin()\n",
      "File \u001b[0;32m/usr/lib64/python3.9/multiprocessing/pool.py:364\u001b[0m, in \u001b[0;36mPool.map\u001b[0;34m(self, func, iterable, chunksize)\u001b[0m\n\u001b[1;32m    <a href='file:///usr/lib64/python3.9/multiprocessing/pool.py?line=358'>359</a>\u001b[0m \u001b[39mdef\u001b[39;00m \u001b[39mmap\u001b[39m(\u001b[39mself\u001b[39m, func, iterable, chunksize\u001b[39m=\u001b[39m\u001b[39mNone\u001b[39;00m):\n\u001b[1;32m    <a href='file:///usr/lib64/python3.9/multiprocessing/pool.py?line=359'>360</a>\u001b[0m     \u001b[39m'''\u001b[39;00m\n\u001b[1;32m    <a href='file:///usr/lib64/python3.9/multiprocessing/pool.py?line=360'>361</a>\u001b[0m \u001b[39m    Apply `func` to each element in `iterable`, collecting the results\u001b[39;00m\n\u001b[1;32m    <a href='file:///usr/lib64/python3.9/multiprocessing/pool.py?line=361'>362</a>\u001b[0m \u001b[39m    in a list that is returned.\u001b[39;00m\n\u001b[1;32m    <a href='file:///usr/lib64/python3.9/multiprocessing/pool.py?line=362'>363</a>\u001b[0m \u001b[39m    '''\u001b[39;00m\n\u001b[0;32m--> <a href='file:///usr/lib64/python3.9/multiprocessing/pool.py?line=363'>364</a>\u001b[0m     \u001b[39mreturn\u001b[39;00m \u001b[39mself\u001b[39;49m\u001b[39m.\u001b[39;49m_map_async(func, iterable, mapstar, chunksize)\u001b[39m.\u001b[39;49mget()\n",
      "File \u001b[0;32m/usr/lib64/python3.9/multiprocessing/pool.py:765\u001b[0m, in \u001b[0;36mApplyResult.get\u001b[0;34m(self, timeout)\u001b[0m\n\u001b[1;32m    <a href='file:///usr/lib64/python3.9/multiprocessing/pool.py?line=763'>764</a>\u001b[0m \u001b[39mdef\u001b[39;00m \u001b[39mget\u001b[39m(\u001b[39mself\u001b[39m, timeout\u001b[39m=\u001b[39m\u001b[39mNone\u001b[39;00m):\n\u001b[0;32m--> <a href='file:///usr/lib64/python3.9/multiprocessing/pool.py?line=764'>765</a>\u001b[0m     \u001b[39mself\u001b[39;49m\u001b[39m.\u001b[39;49mwait(timeout)\n\u001b[1;32m    <a href='file:///usr/lib64/python3.9/multiprocessing/pool.py?line=765'>766</a>\u001b[0m     \u001b[39mif\u001b[39;00m \u001b[39mnot\u001b[39;00m \u001b[39mself\u001b[39m\u001b[39m.\u001b[39mready():\n\u001b[1;32m    <a href='file:///usr/lib64/python3.9/multiprocessing/pool.py?line=766'>767</a>\u001b[0m         \u001b[39mraise\u001b[39;00m \u001b[39mTimeoutError\u001b[39;00m\n",
      "File \u001b[0;32m/usr/lib64/python3.9/multiprocessing/pool.py:762\u001b[0m, in \u001b[0;36mApplyResult.wait\u001b[0;34m(self, timeout)\u001b[0m\n\u001b[1;32m    <a href='file:///usr/lib64/python3.9/multiprocessing/pool.py?line=760'>761</a>\u001b[0m \u001b[39mdef\u001b[39;00m \u001b[39mwait\u001b[39m(\u001b[39mself\u001b[39m, timeout\u001b[39m=\u001b[39m\u001b[39mNone\u001b[39;00m):\n\u001b[0;32m--> <a href='file:///usr/lib64/python3.9/multiprocessing/pool.py?line=761'>762</a>\u001b[0m     \u001b[39mself\u001b[39;49m\u001b[39m.\u001b[39;49m_event\u001b[39m.\u001b[39;49mwait(timeout)\n",
      "File \u001b[0;32m/usr/lib64/python3.9/threading.py:574\u001b[0m, in \u001b[0;36mEvent.wait\u001b[0;34m(self, timeout)\u001b[0m\n\u001b[1;32m    <a href='file:///usr/lib64/python3.9/threading.py?line=571'>572</a>\u001b[0m signaled \u001b[39m=\u001b[39m \u001b[39mself\u001b[39m\u001b[39m.\u001b[39m_flag\n\u001b[1;32m    <a href='file:///usr/lib64/python3.9/threading.py?line=572'>573</a>\u001b[0m \u001b[39mif\u001b[39;00m \u001b[39mnot\u001b[39;00m signaled:\n\u001b[0;32m--> <a href='file:///usr/lib64/python3.9/threading.py?line=573'>574</a>\u001b[0m     signaled \u001b[39m=\u001b[39m \u001b[39mself\u001b[39;49m\u001b[39m.\u001b[39;49m_cond\u001b[39m.\u001b[39;49mwait(timeout)\n\u001b[1;32m    <a href='file:///usr/lib64/python3.9/threading.py?line=574'>575</a>\u001b[0m \u001b[39mreturn\u001b[39;00m signaled\n",
      "File \u001b[0;32m/usr/lib64/python3.9/threading.py:312\u001b[0m, in \u001b[0;36mCondition.wait\u001b[0;34m(self, timeout)\u001b[0m\n\u001b[1;32m    <a href='file:///usr/lib64/python3.9/threading.py?line=309'>310</a>\u001b[0m \u001b[39mtry\u001b[39;00m:    \u001b[39m# restore state no matter what (e.g., KeyboardInterrupt)\u001b[39;00m\n\u001b[1;32m    <a href='file:///usr/lib64/python3.9/threading.py?line=310'>311</a>\u001b[0m     \u001b[39mif\u001b[39;00m timeout \u001b[39mis\u001b[39;00m \u001b[39mNone\u001b[39;00m:\n\u001b[0;32m--> <a href='file:///usr/lib64/python3.9/threading.py?line=311'>312</a>\u001b[0m         waiter\u001b[39m.\u001b[39;49macquire()\n\u001b[1;32m    <a href='file:///usr/lib64/python3.9/threading.py?line=312'>313</a>\u001b[0m         gotit \u001b[39m=\u001b[39m \u001b[39mTrue\u001b[39;00m\n\u001b[1;32m    <a href='file:///usr/lib64/python3.9/threading.py?line=313'>314</a>\u001b[0m     \u001b[39melse\u001b[39;00m:\n",
      "\u001b[0;31mKeyboardInterrupt\u001b[0m: "
     ]
    }
   ],
   "source": [
    "print(1)\n",
    "opt = optimize.optimizer(tasks.custom_test, genom_size=len(genom),parallel_cores=2)\n",
    "#try:\n",
    "#    with open(root_dir+f'./genoms/best_genoms_poly.pkl', 'rb') as f:\n",
    "#        opt.best_genoms = pickle.load(f)\n",
    "#    print('loaded successfully')\n",
    "#except Exception:\n",
    "#    pass\n",
    "opt.function(opt.best_genoms[-1], verbose=True)\n",
    "\n",
    "for i in range(1000):\n",
    "    print('opt#',i)\n",
    "    opt.optimize()\n",
    "    with open(root_dir+f'./genoms/best_genoms_poly.pkl', 'wb') as f:\n",
    "        pickle.dump(opt.best_genoms,f,protocol=pickle.HIGHEST_PROTOCOL)\n",
    "        print('WRITTEN')"
   ]
  },
  {
   "cell_type": "code",
   "execution_count": null,
   "metadata": {
    "executionInfo": {
     "elapsed": 2,
     "status": "aborted",
     "timestamp": 1651603846559,
     "user": {
      "displayName": "Сергей Довгань",
      "userId": "11204475592062912374"
     },
     "user_tz": -180
    },
    "id": "KUFIj6d1IBlq"
   },
   "outputs": [],
   "source": [
    "#draw\n",
    "with open(root_dir+f'./genoms/best_genoms_poly.pkl', 'rb') as f:\n",
    "    genom = pickle.load(f)\n",
    "    genom = genom[-1]\n",
    "print('loaded successfully')\n",
    "q=tasks.custom_test(genom, verbose=True, draw=True)\n",
    "print('q=',q)\n",
    "tasks.video[0].save(\n",
    "    root_dir+'./out_videos/poly_labirint_neuroevol.gif',\n",
    "    save_all=True,\n",
    "    append_images=tasks.video[1:], \n",
    "    optimize=True,\n",
    "    duration=100,\n",
    "    loop=0\n",
    ")"
   ]
  },
  {
   "cell_type": "code",
   "execution_count": null,
   "metadata": {
    "executionInfo": {
     "elapsed": 5,
     "status": "aborted",
     "timestamp": 1651603846562,
     "user": {
      "displayName": "Сергей Довгань",
      "userId": "11204475592062912374"
     },
     "user_tz": -180
    },
    "id": "Md98JOxGRtMJ"
   },
   "outputs": [],
   "source": []
  }
 ],
 "metadata": {
  "colab": {
   "collapsed_sections": [],
   "name": "poly_experiment.ipynb",
   "provenance": []
  },
  "interpreter": {
   "hash": "31f2aee4e71d21fbe5cf8b01ff0e069b9275f58929596ceb00d14d90e3e16cd6"
  },
  "kernelspec": {
   "display_name": "Python 3.9.6 64-bit",
   "language": "python",
   "name": "python3"
  },
  "language_info": {
   "codemirror_mode": {
    "name": "ipython",
    "version": 3
   },
   "file_extension": ".py",
   "mimetype": "text/x-python",
   "name": "python",
   "nbconvert_exporter": "python",
   "pygments_lexer": "ipython3",
   "version": "3.9.6"
  }
 },
 "nbformat": 4,
 "nbformat_minor": 1
}
