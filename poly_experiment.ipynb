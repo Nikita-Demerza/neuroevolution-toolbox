{
 "cells": [
  {
   "cell_type": "code",
   "execution_count": 1,
   "metadata": {
    "colab": {
     "base_uri": "https://localhost:8080/"
    },
    "executionInfo": {
     "elapsed": 8231,
     "status": "ok",
     "timestamp": 1651603172292,
     "user": {
      "displayName": "Сергей Довгань",
      "userId": "11204475592062912374"
     },
     "user_tz": -180
    },
    "id": "iV7GFD8QRQVe",
    "outputId": "0e3899ee-652a-4026-d9c5-ea305dfcb7b7"
   },
   "outputs": [],
   "source": [
    "import sys\n",
    "sys.path.append('./')\n",
    "import numpy as np\n",
    "import pandas as pd\n",
    "import neural_tape_controller\n",
    "#Положительные числа - положительные награды.\n",
    "import tasks \n",
    "import optimize\n",
    "import pickle\n",
    "root_dir = './'"
   ]
  },
  {
   "cell_type": "code",
   "execution_count": 2,
   "metadata": {
    "executionInfo": {
     "elapsed": 4,
     "status": "ok",
     "timestamp": 1651603172292,
     "user": {
      "displayName": "Сергей Довгань",
      "userId": "11204475592062912374"
     },
     "user_tz": -180
    },
    "id": "w-6cNhDZRob-"
   },
   "outputs": [],
   "source": [
    "nt = neural_tape_controller.nt_controller(input_size=25,output_size=5)\n",
    "genom = nt.nn.disassemble_genom()"
   ]
  },
  {
   "cell_type": "code",
   "execution_count": 3,
   "metadata": {
    "executionInfo": {
     "elapsed": 3,
     "status": "ok",
     "timestamp": 1651603172292,
     "user": {
      "displayName": "Сергей Довгань",
      "userId": "11204475592062912374"
     },
     "user_tz": -180
    },
    "id": "jeZFPRIuQeoV"
   },
   "outputs": [],
   "source": [
    "#with open(root_dir+f'./genoms/best_genoms_poly.pkl', 'rb') as f:\n",
    "#    genom = pickle.load(f)[-1]\n",
    "#print('loaded successfully')"
   ]
  },
  {
   "cell_type": "code",
   "execution_count": 4,
   "metadata": {
    "colab": {
     "base_uri": "https://localhost:8080/"
    },
    "executionInfo": {
     "elapsed": 123731,
     "status": "ok",
     "timestamp": 1651603972482,
     "user": {
      "displayName": "Сергей Довгань",
      "userId": "11204475592062912374"
     },
     "user_tz": -180
    },
    "id": "Eja2m2P_ewzM",
    "outputId": "93758ab2-e584-4e96-b2f5-d795b5d46e05"
   },
   "outputs": [
    {
     "name": "stdout",
     "output_type": "stream",
     "text": [
      "jet_table_1: [2.0075 0.8825 7.5381 7.2214 8.8132] labirint_1: [ 0  0  0 24 12]  full=1.2492561146271695\n",
      "q= 1.2492561146270695\n",
      "Wall time: 24.2 s\n"
     ]
    }
   ],
   "source": [
    "%%time\n",
    "q=tasks.custom_test(genom, verbose=True, draw=False)\n",
    "print('q=',q)"
   ]
  },
  {
   "cell_type": "code",
   "execution_count": 5,
   "metadata": {
    "colab": {
     "base_uri": "https://localhost:8080/"
    },
    "executionInfo": {
     "elapsed": 6,
     "status": "ok",
     "timestamp": 1651603973337,
     "user": {
      "displayName": "Сергей Довгань",
      "userId": "11204475592062912374"
     },
     "user_tz": -180
    },
    "id": "7QuoLVuSPnn4",
    "outputId": "f48baf22-c3e3-4ed5-fb9d-2e6e1f202506"
   },
   "outputs": [],
   "source": [
    "#1/0"
   ]
  },
  {
   "cell_type": "code",
   "execution_count": 6,
   "metadata": {
    "colab": {
     "base_uri": "https://localhost:8080/"
    },
    "executionInfo": {
     "elapsed": 5,
     "status": "ok",
     "timestamp": 1651603973338,
     "user": {
      "displayName": "Сергей Довгань",
      "userId": "11204475592062912374"
     },
     "user_tz": -180
    },
    "id": "oN_h1Rg_2fQX",
    "outputId": "4378f9e9-64bb-4e28-8375-2739d22203d1"
   },
   "outputs": [
    {
     "name": "stdout",
     "output_type": "stream",
     "text": [
      "2022-05-04 14:12:24.457587\n"
     ]
    }
   ],
   "source": [
    "print(pd.Timestamp.now())"
   ]
  },
  {
   "cell_type": "code",
   "execution_count": null,
   "metadata": {
    "colab": {
     "base_uri": "https://localhost:8080/"
    },
    "id": "HzpNigFUTmIM",
    "outputId": "f9549793-c337-46bd-e991-e7fe2b4816e0"
   },
   "outputs": [
    {
     "name": "stdout",
     "output_type": "stream",
     "text": [
      "1\n",
      "loaded successfully\n",
      "jet_table_1: [ 1.1784 29.4815  0.5732  1.2588 14.0037] labirint_1: [0 0 6 0 0]  full=1.0499127085058437\n",
      "opt# 0\n",
      "scores for optimizers augmented [1.e+10 1.e+10 1.e+10 1.e+10 1.e+10 1.e+10 1.e+10 1.e+10]\n",
      "chosen evol_wide previous_result: nan per tacts: nan\n"
     ]
    },
    {
     "name": "stderr",
     "output_type": "stream",
     "text": [
      "C:\\Users\\kilorad\\PYTHON\\neuroevolution_toolbox\\optimize.py:36: RuntimeWarning: Mean of empty slice\n",
      "  mx.append(np.nanmean(self.history_gain[opt_name])-time_penalty*np.nanmean(self.history_time[opt_name]))\n",
      "C:\\Users\\kilorad\\Anaconda3\\lib\\site-packages\\numpy\\lib\\nanfunctions.py:1664: RuntimeWarning: Degrees of freedom <= 0 for slice.\n",
      "  var = nanvar(a, axis=axis, dtype=dtype, out=out, ddof=ddof,\n"
     ]
    },
    {
     "name": "stdout",
     "output_type": "stream",
     "text": [
      "iteration 0 y= [1.04991271 1.04840119 1.04804086]\n",
      "iteration 1 y= [1.04991271 1.04959113 1.04959113]\n",
      "iteration 2 y= [1.0518822  1.04991271 1.04959113]\n",
      "iteration 3 y= [1.42478768 1.0518822  1.0518822 ]\n",
      "iteration final y= [1.42478768 1.0518822  1.0518822 ]\n",
      "result evol_wide previous_gain: nan per tacts: nan duration 0 days 00:57:11.704324\n",
      "jet_table_1: [ 0.991  48.4901  0.4957  1.2588 14.0037] labirint_1: [0 0 6 0 0]  full=1.4247876785418294\n",
      "WRITTEN\n",
      "opt# 1\n",
      "scores for optimizers augmented [2.8487497e-01 1.0000000e+10 1.0000000e+10 1.0000000e+10 1.0000000e+10\n",
      " 1.0000000e+10 1.0000000e+10 1.0000000e+10]\n",
      "chosen evol_mid_chaos previous_result: nan per tacts: nan\n",
      "iteration 0 y= [1.42478768 1.0518822  1.05133261]\n",
      "iteration 1 y= [1.42478768 1.0518822  1.05133261]\n",
      "iteration final y= [1.42478768 1.26475856 1.22550308]\n",
      "result evol_mid_chaos previous_gain: nan per tacts: nan duration 0 days 00:14:58.863341\n",
      "jet_table_1: [ 0.991  48.4901  0.4957  1.2588 14.0037] labirint_1: [0 0 6 0 0]  full=1.4247876785418294\n",
      "WRITTEN\n",
      "opt# 2\n",
      "scores for optimizers augmented [ 2.8487497e-01 -2.1000000e-02  1.0000000e+10  1.0000000e+10\n",
      "  1.0000000e+10  1.0000000e+10  1.0000000e+10  1.0000000e+10]\n",
      "chosen gradient_wide_50 previous_result: nan per tacts: nan\n",
      "score_new 1.4247876782097948 score_prev 1.4247876782097955 gained -6.661338147750939e-16\n",
      "undo\n",
      "score_new 1.4247876782097948 score_prev 1.4247876782097955 gained -6.661338147750939e-16\n",
      "undo\n",
      "score_new 1.4247876782097948 score_prev 1.4247876782097955 gained -6.661338147750939e-16\n",
      "undo\n",
      "score_new 1.4247876782097948 score_prev 1.4247876782097955 gained -6.661338147750939e-16\n",
      "undo\n",
      "result gradient_wide_50 previous_gain: nan per tacts: nan duration 0 days 00:08:32.005368\n",
      "jet_table_1: [ 0.991  48.4901  0.4957  1.2588 14.0037] labirint_1: [0 0 6 0 0]  full=1.4247876785418294\n",
      "WRITTEN\n",
      "opt# 3\n",
      "scores for optimizers augmented [ 2.8487497e-01 -2.1000000e-02 -1.8000000e-02  1.0000000e+10\n",
      "  1.0000000e+10  1.0000000e+10  1.0000000e+10  1.0000000e+10]\n",
      "chosen evol_soft previous_result: nan per tacts: nan\n",
      "iteration 0 y= [1.42478768 1.42478768 1.10743145]\n",
      "iteration 1 y= [1.42478768 1.42478768 1.42310091]\n"
     ]
    }
   ],
   "source": [
    "print(1)\n",
    "opt = optimize.optimizer(tasks.custom_test, genom_size=len(genom),parallel_cores=2)\n",
    "try:\n",
    "    with open(root_dir+f'./genoms/best_genoms_poly.pkl', 'rb') as f:\n",
    "        opt.best_genoms = pickle.load(f)\n",
    "    print('loaded successfully')\n",
    "except Exception:\n",
    "    pass\n",
    "opt.function(opt.best_genoms[-1], verbose=True)\n",
    "\n",
    "for i in range(1000):\n",
    "    print('opt#',i)\n",
    "    opt.optimize()\n",
    "    with open(root_dir+f'./genoms/best_genoms_poly.pkl', 'wb') as f:\n",
    "        pickle.dump(opt.best_genoms,f,protocol=pickle.HIGHEST_PROTOCOL)\n",
    "        print('WRITTEN')"
   ]
  },
  {
   "cell_type": "code",
   "execution_count": null,
   "metadata": {
    "executionInfo": {
     "elapsed": 2,
     "status": "aborted",
     "timestamp": 1651603846559,
     "user": {
      "displayName": "Сергей Довгань",
      "userId": "11204475592062912374"
     },
     "user_tz": -180
    },
    "id": "KUFIj6d1IBlq"
   },
   "outputs": [],
   "source": [
    "#draw\n",
    "with open(root_dir+f'./genoms/best_genoms_poly.pkl', 'rb') as f:\n",
    "    genom = pickle.load(f)\n",
    "    genom = genom[-1]\n",
    "print('loaded successfully')\n",
    "q=tasks.custom_test(genom, verbose=True, draw=True)\n",
    "print('q=',q)\n",
    "tasks.video[0].save(\n",
    "    root_dir+'./out_videos/poly_jettable_neuroevol.gif',\n",
    "    save_all=True,\n",
    "    append_images=tasks.video[1:], \n",
    "    optimize=True,\n",
    "    duration=100,\n",
    "    loop=0\n",
    ")"
   ]
  },
  {
   "cell_type": "code",
   "execution_count": null,
   "metadata": {
    "executionInfo": {
     "elapsed": 4,
     "status": "aborted",
     "timestamp": 1651603846561,
     "user": {
      "displayName": "Сергей Довгань",
      "userId": "11204475592062912374"
     },
     "user_tz": -180
    },
    "id": "OJxafj0WJvGE"
   },
   "outputs": [],
   "source": [
    "tasks.video[0].save(\n",
    "    root_dir+'./out_videos/poly_neuroevol.gif',\n",
    "    save_all=True,\n",
    "    append_images=tasks.video[1:], \n",
    "    optimize=True,\n",
    "    duration=100,\n",
    "    loop=0\n",
    ")"
   ]
  },
  {
   "cell_type": "code",
   "execution_count": null,
   "metadata": {
    "executionInfo": {
     "elapsed": 5,
     "status": "aborted",
     "timestamp": 1651603846562,
     "user": {
      "displayName": "Сергей Довгань",
      "userId": "11204475592062912374"
     },
     "user_tz": -180
    },
    "id": "Md98JOxGRtMJ"
   },
   "outputs": [],
   "source": []
  }
 ],
 "metadata": {
  "colab": {
   "collapsed_sections": [],
   "name": "poly_experiment.ipynb",
   "provenance": []
  },
  "kernelspec": {
   "display_name": "Python 3 (ipykernel)",
   "language": "python",
   "name": "python3"
  },
  "language_info": {
   "codemirror_mode": {
    "name": "ipython",
    "version": 3
   },
   "file_extension": ".py",
   "mimetype": "text/x-python",
   "name": "python",
   "nbconvert_exporter": "python",
   "pygments_lexer": "ipython3",
   "version": "3.9.7"
  }
 },
 "nbformat": 4,
 "nbformat_minor": 1
}
