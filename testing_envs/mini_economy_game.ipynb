{
 "cells": [
  {
   "cell_type": "code",
   "execution_count": 1,
   "metadata": {
    "colab": {
     "base_uri": "https://localhost:8080/"
    },
    "executionInfo": {
     "elapsed": 5762,
     "status": "ok",
     "timestamp": 1651333208746,
     "user": {
      "displayName": "Сергей Довгань",
      "userId": "11204475592062912374"
     },
     "user_tz": -180
    },
    "id": "wxwzV0Nqdtaz",
    "outputId": "71c9b2f4-2d4d-4922-ec33-892a0a117707"
   },
   "outputs": [],
   "source": [
    "import sys\n",
    "sys.path.append('../')\n",
    "import numpy as np\n",
    "import pandas as pd\n",
    "import neural_tape_controller\n",
    "import optimize\n",
    "import pickle\n",
    "from PIL import Image, ImageDraw,ImageFont\n",
    "from matplotlib import pyplot as plt\n",
    "#Положительные числа - положительные награды.\n",
    "root = '../'\n",
    "root_dir = root"
   ]
  },
  {
   "cell_type": "code",
   "execution_count": 2,
   "metadata": {
    "executionInfo": {
     "elapsed": 1048,
     "status": "ok",
     "timestamp": 1651333209789,
     "user": {
      "displayName": "Сергей Довгань",
      "userId": "11204475592062912374"
     },
     "user_tz": -180
    },
    "id": "pHBRbkgTd8gI"
   },
   "outputs": [],
   "source": [
    "class econ_game():\n",
    "  def __init__(self):\n",
    "    self.table_goods = {}\n",
    "    good = {'name':'wood','price':np.random.rand()*5+2}\n",
    "    self.table_goods[good['name']]=good\n",
    "    good = {'name':'iron','price':np.random.rand()*4+5}\n",
    "    self.table_goods[good['name']]=good\n",
    "    good = {'name':'oil','price':np.random.rand()*5+1}\n",
    "    self.table_goods[good['name']]=good\n",
    "    good = {'name':'machine tools','price':np.random.rand()*10+50}\n",
    "    self.table_goods[good['name']]=good\n",
    "    good = {'name':'furniture','price':np.random.rand()*5+12}\n",
    "    self.table_goods[good['name']]=good\n",
    "    good = {'name':'bikes','price':np.random.rand()*9+13}\n",
    "    self.table_goods[good['name']]=good\n",
    "    good = {'name':'weapons','price':np.random.rand()*10+16}\n",
    "    self.table_goods[good['name']]=good\n",
    "    good = {'name':'cars','price':np.random.rand()*25+40}\n",
    "    self.table_goods[good['name']]=good\n",
    "    \n",
    "    self.table_buildings = {}\n",
    "    building = {'name':'heavy','price':100,'machine tools':4}\n",
    "    self.table_buildings[building['name']]=building\n",
    "    building = {'name':'furniture','price':40,'machine tools':1}\n",
    "    self.table_buildings[building['name']]=building\n",
    "    building = {'name':'bikes','price':55,'machine tools':2}\n",
    "    self.table_buildings[building['name']]=building\n",
    "    building = {'name':'weapons','price':60,'machine tools':3}\n",
    "    self.table_buildings[building['name']]=building\n",
    "    building = {'name':'cars','price':70,'machine tools':4}\n",
    "    self.table_buildings[building['name']]=building\n",
    "    \n",
    "    self.buildings_cnt = {'heavy':0,'furniture':0,'bikes':0,'weapons':0,'cars':0}\n",
    "    self.store = {}\n",
    "    for key in self.table_goods.keys():\n",
    "        self.store[key] = 2\n",
    "    #self.store['machine tools'] = 2\n",
    "    #self.store['oil'] = 3\n",
    "    #self.store['wood'] = 3\n",
    "    \n",
    "    #нет добычи, есть лишь производство и торговля\n",
    "    self.money = 100\n",
    "    \n",
    "    self.comission = 0.2\n",
    "    self.day = 0\n",
    "    \n",
    "    self.event = {'forest_crisis':0,'war':0,'eco_activism':0,'industrial_boom':0,'car_boom':0}\n",
    "    \n",
    "    \n",
    "  def step_env(self,draw=False):\n",
    "    if draw:\n",
    "        im = Image.new('RGB', (340, 250), (256, 256, 256))\n",
    "        dr = ImageDraw.Draw(im)\n",
    "        #Деньги\n",
    "        dr.text((1, 1),f\"${int(self.money)}\",'blue')\n",
    "        #Комиссия\n",
    "        dr.text((200, 1),f\"Day: {np.round(self.day,-1)}\",'black')\n",
    "        #дата\n",
    "        dr.text((80, 1),f\"Comission: {np.round(self.comission*100,1)}%\",'blue')\n",
    "        #Предприятия\n",
    "        str_factories = ''\n",
    "        for key in self.buildings_cnt.keys():\n",
    "            if self.buildings_cnt[key]>0:\n",
    "                str_factories += f'\\n{key}:{self.buildings_cnt[key]}'\n",
    "        dr.text((230, 20),f\"Factories:{str_factories}\",'black')\n",
    "        #Товары\n",
    "        str_goods = ''\n",
    "        for key in self.store.keys():\n",
    "            if self.store[key]>0:\n",
    "                str_goods += f'\\n{key}:{int(self.store[key])}'\n",
    "        dr.text((1, 20),f\"Goods:{str_goods}\",'black')\n",
    "        #Цены\n",
    "        str_prices = ''\n",
    "        for key in self.store.keys():\n",
    "            str_prices += f\"\\n{key}:{np.round(self.table_goods[key]['price'],1)}\"\n",
    "        dr.text((120, 20),f\"Prices:{str_prices}\",'black')\n",
    "        #События\n",
    "        str_events = ''\n",
    "        for key in self.event.keys():\n",
    "            if self.event[key]>0:\n",
    "                str_events += f'  {key}'\n",
    "        dr.text((1, 180),f\"Events:{str_events}\",'red')\n",
    "        globals()['video'].append(im)\n",
    "        \n",
    "        \n",
    "    #исправление возможных ошибок:\n",
    "    for key in self.table_goods.keys():\n",
    "        if self.table_goods[key]['price']<0.5:\n",
    "            self.table_goods[key]['price'] = 0.5\n",
    "    #работа производств\n",
    "    for key in self.buildings_cnt:\n",
    "        how_many_production = self.buildings_cnt[key]\n",
    "        if how_many_production>self.store['oil']:\n",
    "            how_many_production=int(self.store['oil'])\n",
    "        if key=='heavy':\n",
    "            if how_many_production>self.store['iron']:\n",
    "                how_many_production=int(self.store['iron'])\n",
    "            self.store['iron']-=how_many_production\n",
    "            self.store['machine tools']+=how_many_production*0.5\n",
    "        elif key=='furniture':\n",
    "            if how_many_production>self.store['wood']:\n",
    "                how_many_production=int(self.store['wood'])\n",
    "            self.store['wood']-=how_many_production\n",
    "            self.store['furniture']+=how_many_production\n",
    "        elif key=='bikes':\n",
    "            if how_many_production>self.store['iron']:\n",
    "                how_many_production=int(self.store['iron'])\n",
    "            self.store['iron']-=how_many_production\n",
    "            self.store['bikes']+=how_many_production \n",
    "        elif key=='weapons':\n",
    "            if how_many_production>self.store['iron']:\n",
    "                how_many_production=int(self.store['iron'])\n",
    "            self.store['iron']-=how_many_production\n",
    "            self.store['weapons']+=how_many_production \n",
    "        elif key=='cars':\n",
    "            if how_many_production>self.store['iron']:\n",
    "                how_many_production=int(self.store['iron'])\n",
    "            self.store['iron']-=how_many_production\n",
    "            self.store['cars']+=how_many_production*0.5\n",
    "        self.store['oil']-=how_many_production\n",
    "    #случайные события\n",
    "    if self.event['forest_crisis']:\n",
    "        self.table_goods['wood']['price']*=1.002\n",
    "    if self.event['war']:\n",
    "        self.table_goods['weapons']['price']*=1.003\n",
    "    if self.event['industrial_boom']:\n",
    "        if np.random.rand()<0.005:\n",
    "            self.event['war'] = 1\n",
    "            self.table_goods['weapons']['price']*=1.3\n",
    "            self.comission *= 1.3\n",
    "    if self.event['car_boom']:\n",
    "        if np.random.rand()<0.3:\n",
    "            self.table_goods['oil']['price']*=1.01\n",
    "        if np.random.rand()<0.05:\n",
    "            self.event['car_boom'] = 0\n",
    "    \n",
    "    if draw:\n",
    "        print('$',self.money,self.store,'buildings',self.buildings_cnt,'comission',self.comission,'events',self.event)\n",
    "  def action(self,action_vector,draw=False):\n",
    "    self.day += 10\n",
    "    #if self.buildings_cnt['furniture']<1:\n",
    "    #    action_vector = [0,1,0, 0,0,0,  2, 0, 5, 1,-10,0]\n",
    "    #else:\n",
    "    #    action_vector = [0,0,0, 0,0,0,  3, 0, 3, 0,-10,0]\n",
    "    #какие вообще варианты, что делать? Здесь будет команда, что строить, что покупать/продавать\n",
    "    argm = np.argmax(action_vector[:5])#что строить\n",
    "    buildings_d = ['heavy','furniture','bikes','weapons','cars']\n",
    "    if action_vector[argm]>-0.001:#строить ли \n",
    "      if (self.money>=self.table_buildings[buildings_d[argm]]['price']) and (self.store['machine tools']>=self.table_buildings[buildings_d[argm]]['machine tools']):\n",
    "        self.money-=self.table_buildings[buildings_d[argm]]['price']\n",
    "        self.store['machine tools']-=self.table_buildings[buildings_d[argm]]['machine tools']\n",
    "        \n",
    "        self.buildings_cnt[buildings_d[argm]]+=1\n",
    "\n",
    "    argm = np.argmax(action_vector[5:10])#что сносить\n",
    "    if action_vector[argm]>0:\n",
    "        if self.buildings_cnt[buildings_d[argm]]>0:\n",
    "            self.money+=self.table_buildings[buildings_d[argm]]['price']*(1-self.comission)\n",
    "            self.store['machine tools']+=self.table_buildings[buildings_d[argm]]['machine tools']\n",
    "            self.buildings_cnt[buildings_d[argm]]-=1\n",
    "    #продаём/покупаем\n",
    "    trade_vector = np.array(action_vector[10:10+8])*100\n",
    "    i = 0\n",
    "    for k in ['wood','iron','oil','machine tools','furniture','bikes','weapons','cars']:\n",
    "        trade_vector[i] = np.round(trade_vector[i])\n",
    "        if trade_vector[i]>0:\n",
    "            #покупаем\n",
    "            #if trade_vector[i]>0:\n",
    "            #    print('try buy',self.table_goods[k]['name'],trade_vector[i],'can',int(self.money/self.table_goods[k]['price']))\n",
    "            if self.money<self.table_goods[k]['price']*trade_vector[i]:\n",
    "                trade_vector[i] = int(self.money/self.table_goods[k]['price'])\n",
    "            self.money-=self.table_goods[k]['price']*trade_vector[i]\n",
    "            self.store[k] += trade_vector[i]\n",
    "            #случайные события\n",
    "            if i==0:\n",
    "                if (np.random.rand()<trade_vector[0]*0.005) and (self.event['forest_crisis']==0):\n",
    "                    self.event['forest_crisis'] = 1\n",
    "                    self.table_goods['wood']['price']*=1.2\n",
    "                    if draw:\n",
    "                        print('EVENT forest_crisis! Because trade_vector[0]*0.005 = ',trade_vector[0]*0.005)\n",
    "            \n",
    "        elif trade_vector[i]<0:\n",
    "            #продаём\n",
    "            trade_vector[i] *= -1\n",
    "            if self.store[k]<trade_vector[i]:\n",
    "                trade_vector[i]=self.store[k]\n",
    "            revenue = self.table_goods[k]['price']*trade_vector[i]*(1-self.comission)\n",
    "            self.money+=revenue\n",
    "            self.store[k] -= trade_vector[i]\n",
    "            #случайные события\n",
    "            if i==6:\n",
    "                if (np.random.rand()<trade_vector[6]*0.002) and (self.event['war']==0):\n",
    "                    self.event['war'] = 1\n",
    "                    self.table_goods['weapons']['price']*=1.3\n",
    "                    self.comission *= 1.4\n",
    "                    if draw:\n",
    "                        print('EVENT WAR! Because trade_vector[6]*0.005 = ',trade_vector[6]*0.005)\n",
    "            if i==5:\n",
    "                if (np.random.rand()<trade_vector[5]*0.002) and (self.event['eco_activism']==0):\n",
    "                    #много великов\n",
    "                    self.event['eco_activism'] = 1\n",
    "                    self.table_goods['oil']['price']*=1.5\n",
    "                    self.table_goods['wood']['price']*=1.25\n",
    "                    self.comission *= 0.8\n",
    "                    if draw:\n",
    "                        print('EVENT eco_activism! Because trade_vector[5]*0.005 = ',trade_vector[5]*0.005)\n",
    "            if i==3:\n",
    "                if (np.random.rand()<trade_vector[3]*0.002) and (self.event['industrial_boom']==0):\n",
    "                    self.event['industrial_boom'] = 1\n",
    "                    self.table_goods['oil']['price']*=0.7\n",
    "                    self.table_goods['wood']['price']*=0.7\n",
    "                    self.table_goods['iron']['price']*=0.7\n",
    "                    self.table_goods['machine tools']['price']*=0.7\n",
    "                    if draw:\n",
    "                        print('EVENT industrial_boom! Because trade_vector[3]*0.005 = ',trade_vector[3]*0.005)\n",
    "            if i==7:\n",
    "                if (np.random.rand()<trade_vector[7]*0.05) and (self.event['car_boom']==0):\n",
    "                    #много машин продаём\n",
    "                    self.event['car_boom'] += 1\n",
    "                    self.table_goods['oil']['price']*=0.9\n",
    "                    self.table_goods['wood']['price']*=0.8\n",
    "                    self.table_goods['iron']['price']*=0.8\n",
    "                    self.table_goods['cars']['price']*=0.9\n",
    "                    self.comission *= 0.9\n",
    "                    if draw:\n",
    "                        print('EVENT industrial_boom! Because trade_vector[7]*0.1 = ',trade_vector[7]*0.1)\n",
    "        i+=1"
   ]
  },
  {
   "cell_type": "code",
   "execution_count": 3,
   "metadata": {
    "executionInfo": {
     "elapsed": 5,
     "status": "ok",
     "timestamp": 1651333630858,
     "user": {
      "displayName": "Сергей Довгань",
      "userId": "11204475592062912374"
     },
     "user_tz": -180
    },
    "id": "nbL78Aj-YF0G"
   },
   "outputs": [],
   "source": [
    "def single_game(player,seed=0,rounds=1000,draw=False):\n",
    "  np.random.seed(seed)\n",
    "  game = econ_game()\n",
    "  for t in range(rounds):\n",
    "    game.step_env(draw=draw)\n",
    "    if t%10==0:\n",
    "      #ходит игрок\n",
    "      action_vector = player.act(game)\n",
    "      game.action(action_vector,draw=draw)\n",
    "  scores = game.money\n",
    "  return scores"
   ]
  },
  {
   "cell_type": "code",
   "execution_count": 4,
   "metadata": {
    "executionInfo": {
     "elapsed": 401,
     "status": "ok",
     "timestamp": 1651333283084,
     "user": {
      "displayName": "Сергей Довгань",
      "userId": "11204475592062912374"
     },
     "user_tz": -180
    },
    "id": "-nod0mjc-og2"
   },
   "outputs": [],
   "source": [
    "state_dim = 22\n",
    "n_actions = 18"
   ]
  },
  {
   "cell_type": "code",
   "execution_count": 5,
   "metadata": {
    "executionInfo": {
     "elapsed": 387,
     "status": "ok",
     "timestamp": 1651333419376,
     "user": {
      "displayName": "Сергей Довгань",
      "userId": "11204475592062912374"
     },
     "user_tz": -180
    },
    "id": "IfFZzTI29Dp8"
   },
   "outputs": [],
   "source": [
    "class player_ntm():\n",
    "  def __init__(self,genom):\n",
    "    self.controller = neural_tape_controller.nt_controller(tacts=2,genom=np.array(genom),input_size=state_dim,output_size=n_actions) \n",
    "  def act(self,game):\n",
    "\n",
    "    state = [game.money] + list(game.store.values()) + list(game.buildings_cnt.values())\n",
    "    for key in game.table_goods.keys():\n",
    "        state.append(game.table_goods[key]['price'])\n",
    "    state = np.array(state)\n",
    "\n",
    "    if np.shape(state)[0]>1:\n",
    "      shp = np.shape(state)\n",
    "      state = np.reshape(state,[1,shp[0]])\n",
    "    action_vector = self.controller.act(state,0,0)\n",
    "    return action_vector"
   ]
  },
  {
   "cell_type": "code",
   "execution_count": 6,
   "metadata": {
    "executionInfo": {
     "elapsed": 2,
     "status": "ok",
     "timestamp": 1651333639526,
     "user": {
      "displayName": "Сергей Довгань",
      "userId": "11204475592062912374"
     },
     "user_tz": -180
    },
    "id": "pP-PNFQUAuIR"
   },
   "outputs": [],
   "source": [
    "def check_genom(genom,draw=False,result_write=False):\n",
    "    q_arr = []\n",
    "    for i in range(8):\n",
    "        player = player_ntm(genom)\n",
    "        score = single_game(player,seed=i,rounds=500,draw=draw)\n",
    "        q_arr.append(score)\n",
    "    if draw or result_write:\n",
    "        print('q_arr',q_arr)\n",
    "    return (np.mean(q_arr) + np.min(q_arr)+ np.median(q_arr))*0.33 - np.sum(genom**2)*0.000001#взвешенное среднее, с повышенным весом за провалы"
   ]
  },
  {
   "cell_type": "code",
   "execution_count": 7,
   "metadata": {},
   "outputs": [],
   "source": [
    "nt = neural_tape_controller.nt_controller(input_size=state_dim,output_size=n_actions)\n",
    "genom = nt.nn.disassemble_genom()"
   ]
  },
  {
   "cell_type": "code",
   "execution_count": 8,
   "metadata": {},
   "outputs": [
    {
     "name": "stdout",
     "output_type": "stream",
     "text": [
      "q_arr [0.4803273607473777, 1.7301700398480087]\n",
      "0.8879690735868623\n",
      "Wall time: 243 ms\n"
     ]
    }
   ],
   "source": [
    "%%time\n",
    "q = check_genom(genom,False,True)\n",
    "print(q)"
   ]
  },
  {
   "cell_type": "code",
   "execution_count": null,
   "metadata": {
    "colab": {
     "base_uri": "https://localhost:8080/"
    },
    "id": "o1rS8FpLVizI",
    "outputId": "e83fe372-c750-4a13-b6aa-88e604b79702"
   },
   "outputs": [
    {
     "name": "stdout",
     "output_type": "stream",
     "text": [
      "1\n",
      "loaded successfully\n",
      "opt# 0\n",
      "scores for optimizers augmented [1.e+10 1.e+10 1.e+10 1.e+10 1.e+10 1.e+10 1.e+10 1.e+10]\n",
      "chosen evol_wide previous_result: nan per tacts: nan\n"
     ]
    },
    {
     "name": "stderr",
     "output_type": "stream",
     "text": [
      "C:\\Users\\kilorad\\PYTHON\\neuroevolution_toolbox_\\testing_envs\\..\\optimize.py:36: RuntimeWarning: Mean of empty slice\n",
      "  mx.append(np.nanmean(self.history_gain[opt_name])-time_penalty*np.nanmean(self.history_time[opt_name]))\n",
      "C:\\Users\\kilorad\\Anaconda3\\lib\\site-packages\\numpy\\lib\\nanfunctions.py:1664: RuntimeWarning: Degrees of freedom <= 0 for slice.\n",
      "  var = nanvar(a, axis=axis, dtype=dtype, out=out, ddof=ddof,\n"
     ]
    },
    {
     "name": "stdout",
     "output_type": "stream",
     "text": [
      "iteration 0 y= [529.49778475 516.91400999 516.91400956 516.91400924]\n",
      "iteration 1 y= [529.49778475 516.91400999 516.91400956 516.91400924]\n"
     ]
    }
   ],
   "source": [
    "print(1)\n",
    "opt = optimize.optimizer(check_genom, genom_size=len(genom),parallel_cores=1)\n",
    "try:\n",
    "    with open(root_dir+f'genoms/best_genom_econ.pkl', 'rb') as f:\n",
    "        genoms = pickle.load(f)\n",
    "        genom = genoms[-1]\n",
    "        opt.best_genoms = genoms\n",
    "    print('loaded successfully')\n",
    "except Exception:\n",
    "    nt = neural_tape_controller.nt_controller(input_size=state_dim,output_size=n_actions)\n",
    "    genom = nt.nn.disassemble_genom()\n",
    "\n",
    "opt.function(opt.best_genoms[-1])\n",
    "\n",
    "for i in range(1000):\n",
    "    print('opt#',i)\n",
    "    opt.optimize()\n",
    "    with open(root+f'genoms/best_genom_econ.pkl', 'wb') as f:\n",
    "        pickle.dump(opt.best_genoms,f,protocol=pickle.HIGHEST_PROTOCOL)\n",
    "        print('WRITTEN')"
   ]
  },
  {
   "cell_type": "code",
   "execution_count": null,
   "metadata": {},
   "outputs": [],
   "source": [
    "with open(root_dir+f'genoms/best_genom_econ.pkl', 'rb') as f:\n",
    "    genoms = pickle.load(f)\n",
    "    genom = genoms[-1]\n",
    "    opt.best_genoms = genoms\n",
    "q = check_genom(genom,False,True)\n",
    "q"
   ]
  },
  {
   "cell_type": "code",
   "execution_count": null,
   "metadata": {},
   "outputs": [],
   "source": [
    "globals()['video'] = []\n",
    "with open(root_dir+f'genoms/best_genom_econ.pkl', 'rb') as f:\n",
    "    genoms = pickle.load(f)\n",
    "    genom = genoms[-1]\n",
    "    opt.best_genoms = genoms\n",
    "q = check_genom(genom,True,True)"
   ]
  },
  {
   "cell_type": "code",
   "execution_count": null,
   "metadata": {},
   "outputs": [],
   "source": [
    "#draw video\n",
    "import cv2\n",
    "writer = cv2.VideoWriter(\"./outputvideo.mp4\",cv2.VideoWriter_fourcc(*\"MP4V\"),20,(512,512))\n",
    "for i in range(0,len(globals()['video']),1):\n",
    "    resize = cv2.resize(np.array(globals()['video'][i]), (512, 512))\n",
    "    frame = resize*0\n",
    "    frame[:,:,0],frame[:,:,1],frame[:,:,2] = resize[:,:,2],resize[:,:,1], resize[:,:,0]\n",
    "    writer.write(frame)\n",
    "writer.release()"
   ]
  },
  {
   "cell_type": "code",
   "execution_count": null,
   "metadata": {},
   "outputs": [],
   "source": [
    "#save gif\n",
    "globals()['video'][0].save(\n",
    "    root_dir+'./out_videos/economic.gif',\n",
    "    save_all=True,\n",
    "    append_images=globals()['video'][1:], \n",
    "    optimize=True,\n",
    "    duration=100,\n",
    "    loop=0\n",
    ")"
   ]
  },
  {
   "cell_type": "code",
   "execution_count": null,
   "metadata": {},
   "outputs": [],
   "source": []
  }
 ],
 "metadata": {
  "colab": {
   "authorship_tag": "ABX9TyPTHjXwjz+S62AjNUms6fLK",
   "collapsed_sections": [],
   "mount_file_id": "19XDixCPff3wGiaI3Js_KoN9b41HLHUDF",
   "name": "mini_strat_game.ipynb",
   "provenance": []
  },
  "kernelspec": {
   "display_name": "Python 3 (ipykernel)",
   "language": "python",
   "name": "python3"
  },
  "language_info": {
   "codemirror_mode": {
    "name": "ipython",
    "version": 3
   },
   "file_extension": ".py",
   "mimetype": "text/x-python",
   "name": "python",
   "nbconvert_exporter": "python",
   "pygments_lexer": "ipython3",
   "version": "3.9.7"
  }
 },
 "nbformat": 4,
 "nbformat_minor": 1
}
