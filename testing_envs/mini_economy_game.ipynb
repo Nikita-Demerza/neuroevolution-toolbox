{
 "cells": [
  {
   "cell_type": "code",
   "execution_count": 1,
   "metadata": {
    "colab": {
     "base_uri": "https://localhost:8080/"
    },
    "executionInfo": {
     "elapsed": 5762,
     "status": "ok",
     "timestamp": 1651333208746,
     "user": {
      "displayName": "Сергей Довгань",
      "userId": "11204475592062912374"
     },
     "user_tz": -180
    },
    "id": "wxwzV0Nqdtaz",
    "outputId": "71c9b2f4-2d4d-4922-ec33-892a0a117707"
   },
   "outputs": [],
   "source": [
    "import sys\n",
    "sys.path.append('../')\n",
    "import numpy as np\n",
    "import pandas as pd\n",
    "import neural_tape_controller\n",
    "import optimize\n",
    "import pickle\n",
    "from PIL import Image, ImageDraw,ImageFont\n",
    "from matplotlib import pyplot as plt\n",
    "#Положительные числа - положительные награды.\n",
    "root = '../'\n",
    "root_dir = root"
   ]
  },
  {
   "cell_type": "code",
   "execution_count": 2,
   "metadata": {
    "executionInfo": {
     "elapsed": 1048,
     "status": "ok",
     "timestamp": 1651333209789,
     "user": {
      "displayName": "Сергей Довгань",
      "userId": "11204475592062912374"
     },
     "user_tz": -180
    },
    "id": "pHBRbkgTd8gI"
   },
   "outputs": [],
   "source": [
    "class econ_game():\n",
    "  def __init__(self):\n",
    "    self.table_goods = {}\n",
    "    good = {'name':'wood','price':np.random.rand()*5+2}\n",
    "    self.table_goods[good['name']]=good\n",
    "    good = {'name':'iron','price':np.random.rand()*4+5}\n",
    "    self.table_goods[good['name']]=good\n",
    "    good = {'name':'oil','price':np.random.rand()*5+1}\n",
    "    self.table_goods[good['name']]=good\n",
    "    good = {'name':'machines','price':np.random.rand()*10+50}\n",
    "    self.table_goods[good['name']]=good\n",
    "    good = {'name':'furniture','price':np.random.rand()*5+9}\n",
    "    self.table_goods[good['name']]=good\n",
    "    good = {'name':'bikes','price':np.random.rand()*9+12}\n",
    "    self.table_goods[good['name']]=good\n",
    "    good = {'name':'weapons','price':np.random.rand()*9+8}\n",
    "    self.table_goods[good['name']]=good\n",
    "    good = {'name':'cars','price':np.random.rand()*25+40}\n",
    "    self.table_goods[good['name']]=good\n",
    "    \n",
    "    self.table_buildings = {}\n",
    "    building = {'name':'heavy','price':100,'machines':4}\n",
    "    self.table_buildings[building['name']]=building\n",
    "    building = {'name':'furniture','price':40,'machines':1}\n",
    "    self.table_buildings[building['name']]=building\n",
    "    building = {'name':'bikes','price':60,'machines':2}\n",
    "    self.table_buildings[building['name']]=building\n",
    "    building = {'name':'weapons','price':60,'machines':3}\n",
    "    self.table_buildings[building['name']]=building\n",
    "    building = {'name':'cars','price':70,'machines':4}\n",
    "    self.table_buildings[building['name']]=building\n",
    "    \n",
    "    self.buildings_cnt = {'heavy':0,'furniture':0,'bikes':0,'weapons':0,'cars':0}\n",
    "    self.store = {}\n",
    "    for key in self.table_goods.keys():\n",
    "        self.store[key] = 0\n",
    "    \n",
    "    #нет добычи, есть лишь производство и торговля\n",
    "    self.money = 200\n",
    "    \n",
    "    self.comission = 0.2\n",
    "    \n",
    "    self.event = {'forest_crisis':0,'war':0,'eco_activism':0,'industrial_boom':0,'car_boom':0}\n",
    "    \n",
    "    \n",
    "  def step_env(self,draw=False):\n",
    "    #исправление возможных ошибок:\n",
    "    for key in self.table_goods.keys():\n",
    "        if self.table_goods[key]['price']<0.5:\n",
    "            self.table_goods[key]['price'] = 0.5\n",
    "    #работа производств\n",
    "    for key in self.buildings_cnt:\n",
    "        how_many_production = self.buildings_cnt[key]\n",
    "        if how_many_production>self.store['oil']:\n",
    "            how_many_production=int(self.store['oil'])\n",
    "        if key=='heavy':\n",
    "            if how_many_production>self.store['iron']:\n",
    "                how_many_production=int(self.store['iron'])\n",
    "            self.store['iron']-=how_many_production\n",
    "            self.store['machines']+=how_many_production*0.5\n",
    "        elif key=='furniture':\n",
    "            if how_many_production>self.store['wood']:\n",
    "                how_many_production=int(self.store['wood'])\n",
    "            self.store['wood']-=how_many_production\n",
    "            self.store['furniture']+=how_many_production\n",
    "        elif key=='bikes':\n",
    "            if how_many_production>self.store['iron']:\n",
    "                how_many_production=int(self.store['iron'])\n",
    "            self.store['iron']-=how_many_production\n",
    "            self.store['bikes']+=how_many_production \n",
    "        elif key=='weapons':\n",
    "            if how_many_production>self.store['iron']:\n",
    "                how_many_production=int(self.store['iron'])\n",
    "            self.store['iron']-=how_many_production\n",
    "            self.store['weapons']+=how_many_production \n",
    "        elif key=='cars':\n",
    "            if how_many_production>self.store['iron']:\n",
    "                how_many_production=int(self.store['iron'])\n",
    "            self.store['iron']-=how_many_production\n",
    "            self.store['cars']+=how_many_production*0.5\n",
    "        self.store['oil']-=how_many_production\n",
    "    #случайные события\n",
    "    if self.event['forest_crisis']:\n",
    "        self.table_goods['wood']['price']*=1.004\n",
    "    if self.event['war']:\n",
    "        self.table_goods['weapons']['price']*=1.004\n",
    "    if self.event['industrial_boom']:\n",
    "        if np.random.rand()<0.005:\n",
    "            self.event['war'] = 1\n",
    "            self.table_goods['weapons']['price']*=1.3\n",
    "            self.comission *= 1.3\n",
    "    if self.event['car_boom']:\n",
    "        if np.random.rand()<0.3:\n",
    "            self.table_goods['oil']['price']*=1.01\n",
    "        if np.random.rand()<0.05:\n",
    "            self.event['car_boom'] = 0\n",
    "    \n",
    "    if draw:\n",
    "        print('$',self.money,self.store,'buildings',self.buildings_cnt,'comission',self.comission,'events',self.event)\n",
    "  def action(self,action_vector,draw=False):\n",
    "    #if self.buildings_cnt['furniture']<1:\n",
    "    #    action_vector = [0,1,0, 0,0,0,  2, 0, 5, 1,-10,0]\n",
    "    #else:\n",
    "    #    action_vector = [0,0,0, 0,0,0,  3, 0, 3, 0,-10,0]\n",
    "    #какие вообще варианты, что делать? Здесь будет команда, что строить, что покупать/продавать\n",
    "    argm = np.argmax(action_vector[:5])#что строить\n",
    "    buildings_d = ['heavy','furniture','bikes','weapons','cars']\n",
    "    if action_vector[argm]>0:#строить ли \n",
    "      if (self.money>=self.table_buildings[buildings_d[argm]]['price']) and (self.store['machines']>=self.table_buildings[buildings_d[argm]]['machines']):\n",
    "        self.money-=self.table_buildings[buildings_d[argm]]['price']\n",
    "        self.store['machines']-=self.table_buildings[buildings_d[argm]]['machines']\n",
    "        \n",
    "        self.buildings_cnt[buildings_d[argm]]+=1\n",
    "\n",
    "    argm = np.argmax(action_vector[5:10])#что сносить\n",
    "    if action_vector[argm]>0:\n",
    "        if self.buildings_cnt[buildings_d[argm]]>0:\n",
    "            self.money+=self.table_buildings[buildings_d[argm]]['price']*(1-self.comission)\n",
    "            self.store['machines']+=self.table_buildings[buildings_d[argm]]['machines']\n",
    "            self.buildings_cnt[buildings_d[argm]]-=1\n",
    "    #продаём/покупаем\n",
    "    trade_vector = np.array(action_vector[10:10+8])*100\n",
    "    i = 0\n",
    "    for k in ['wood','iron','oil','machines','furniture','bikes','weapons','cars']:\n",
    "        trade_vector[i] = np.round(trade_vector[i])\n",
    "        if trade_vector[i]>0:\n",
    "            #покупаем\n",
    "            #if trade_vector[i]>0:\n",
    "            #    print('try buy',self.table_goods[k]['name'],trade_vector[i],'can',int(self.money/self.table_goods[k]['price']))\n",
    "            if self.money<self.table_goods[k]['price']*trade_vector[i]:\n",
    "                trade_vector[i] = int(self.money/self.table_goods[k]['price'])\n",
    "            self.money-=self.table_goods[k]['price']*trade_vector[i]\n",
    "            self.store[k] += trade_vector[i]\n",
    "            #случайные события\n",
    "            if i==0:\n",
    "                if (np.random.rand()<trade_vector[0]*0.005) and (self.event['forest_crisis']==0):\n",
    "                    self.event['forest_crisis'] = 1\n",
    "                    self.table_goods['wood']['price']*=1.2\n",
    "                    if draw:\n",
    "                        print('EVENT forest_crisis! Because trade_vector[0]*0.005 = ',trade_vector[0]*0.005)\n",
    "            \n",
    "        elif trade_vector[i]<0:\n",
    "            #продаём\n",
    "            trade_vector[i] *= -1\n",
    "            if self.store[k]<trade_vector[i]:\n",
    "                trade_vector[i]=self.store[k]\n",
    "            revenue = self.table_goods[k]['price']*trade_vector[i]*(1-self.comission)\n",
    "            self.money+=revenue\n",
    "            self.store[k] -= trade_vector[i]\n",
    "            #случайные события\n",
    "            if i==6:\n",
    "                if (np.random.rand()<trade_vector[6]*0.002) and (self.event['war']==0):\n",
    "                    self.event['war'] = 1\n",
    "                    self.table_goods['weapons']['price']*=1.3\n",
    "                    self.comission *= 1.4\n",
    "                    if draw:\n",
    "                        print('EVENT WAR! Because trade_vector[6]*0.005 = ',trade_vector[6]*0.005)\n",
    "            if i==5:\n",
    "                if (np.random.rand()<trade_vector[5]*0.002) and (self.event['eco_activism']==0):\n",
    "                    #много великов\n",
    "                    self.event['eco_activism'] = 1\n",
    "                    self.table_goods['oil']['price']*=1.5\n",
    "                    self.table_goods['wood']['price']*=1.25\n",
    "                    self.comission *= 0.8\n",
    "                    if draw:\n",
    "                        print('EVENT eco_activism! Because trade_vector[5]*0.005 = ',trade_vector[5]*0.005)\n",
    "            if i==3:\n",
    "                if (np.random.rand()<trade_vector[3]*0.002) and (self.event['industrial_boom']==0):\n",
    "                    self.event['industrial_boom'] = 1\n",
    "                    self.table_goods['oil']['price']*=0.7\n",
    "                    self.table_goods['wood']['price']*=0.7\n",
    "                    self.table_goods['iron']['price']*=0.7\n",
    "                    self.table_goods['machines']['price']*=0.7\n",
    "                    if draw:\n",
    "                        print('EVENT industrial_boom! Because trade_vector[3]*0.005 = ',trade_vector[3]*0.005)\n",
    "            if i==7:\n",
    "                if (np.random.rand()<trade_vector[7]*0.05) and (self.event['car_boom']==0):\n",
    "                    #много машин продаём\n",
    "                    self.event['car_boom'] += 1\n",
    "                    self.table_goods['oil']['price']*=0.9\n",
    "                    self.table_goods['wood']['price']*=0.8\n",
    "                    self.table_goods['iron']['price']*=0.8\n",
    "                    self.table_goods['cars']['price']*=0.9\n",
    "                    self.comission *= 0.9\n",
    "                    if draw:\n",
    "                        print('EVENT industrial_boom! Because trade_vector[7]*0.1 = ',trade_vector[7]*0.1)\n",
    "        i+=1"
   ]
  },
  {
   "cell_type": "code",
   "execution_count": 3,
   "metadata": {
    "executionInfo": {
     "elapsed": 5,
     "status": "ok",
     "timestamp": 1651333630858,
     "user": {
      "displayName": "Сергей Довгань",
      "userId": "11204475592062912374"
     },
     "user_tz": -180
    },
    "id": "nbL78Aj-YF0G"
   },
   "outputs": [],
   "source": [
    "def single_game(player,seed=0,rounds=1000,draw=False):\n",
    "  np.random.seed(seed)\n",
    "  game = econ_game()\n",
    "  for t in range(rounds):\n",
    "    game.step_env(draw=draw)\n",
    "    if t%5==0:\n",
    "      #ходит игрок\n",
    "      action_vector = player.act(game)\n",
    "      game.action(action_vector,draw=draw)\n",
    "  scores = game.money\n",
    "  return scores"
   ]
  },
  {
   "cell_type": "code",
   "execution_count": 4,
   "metadata": {
    "executionInfo": {
     "elapsed": 401,
     "status": "ok",
     "timestamp": 1651333283084,
     "user": {
      "displayName": "Сергей Довгань",
      "userId": "11204475592062912374"
     },
     "user_tz": -180
    },
    "id": "-nod0mjc-og2"
   },
   "outputs": [],
   "source": [
    "state_dim = 22\n",
    "n_actions = 18"
   ]
  },
  {
   "cell_type": "code",
   "execution_count": 5,
   "metadata": {
    "executionInfo": {
     "elapsed": 387,
     "status": "ok",
     "timestamp": 1651333419376,
     "user": {
      "displayName": "Сергей Довгань",
      "userId": "11204475592062912374"
     },
     "user_tz": -180
    },
    "id": "IfFZzTI29Dp8"
   },
   "outputs": [],
   "source": [
    "class player_ntm():\n",
    "  def __init__(self,genom):\n",
    "    self.controller = neural_tape_controller.nt_controller(tacts=2,genom=np.array(genom),input_size=state_dim,output_size=n_actions) \n",
    "  def act(self,game):\n",
    "\n",
    "    state = [game.money] + list(game.store.values()) + list(game.buildings_cnt.values())\n",
    "    for key in game.table_goods.keys():\n",
    "        state.append(game.table_goods[key]['price'])\n",
    "    state = np.array(state)\n",
    "\n",
    "    if np.shape(state)[0]>1:\n",
    "      shp = np.shape(state)\n",
    "      state = np.reshape(state,[1,shp[0]])\n",
    "    action_vector = self.controller.act(state,0,0)\n",
    "    return action_vector"
   ]
  },
  {
   "cell_type": "code",
   "execution_count": 6,
   "metadata": {
    "executionInfo": {
     "elapsed": 2,
     "status": "ok",
     "timestamp": 1651333639526,
     "user": {
      "displayName": "Сергей Довгань",
      "userId": "11204475592062912374"
     },
     "user_tz": -180
    },
    "id": "pP-PNFQUAuIR"
   },
   "outputs": [],
   "source": [
    "def check_genom(genom,draw=False,result_write=False):\n",
    "    player = player_ntm(genom)\n",
    "    q_arr = []\n",
    "    for i in range(15):\n",
    "        score = single_game(player,seed=i,rounds=1700,draw=draw)\n",
    "        q_arr.append(score)\n",
    "    if draw or result_write:\n",
    "        print('q_arr',q_arr)\n",
    "    return (np.mean(q_arr) + np.min(q_arr))*0.5 - np.sum(genom**2)*0.000001#взвешенное среднее, с повышенным весом за провалы"
   ]
  },
  {
   "cell_type": "code",
   "execution_count": 7,
   "metadata": {},
   "outputs": [],
   "source": [
    "nt = neural_tape_controller.nt_controller(input_size=state_dim,output_size=n_actions)\n",
    "genom = nt.nn.disassemble_genom()"
   ]
  },
  {
   "cell_type": "code",
   "execution_count": 8,
   "metadata": {},
   "outputs": [
    {
     "name": "stdout",
     "output_type": "stream",
     "text": [
      "q_arr [1.9288214774308292, 1.7129665953212623, 7.5944357052105005, 11.636321049998287, 8.593882426157052, 6.890325013067034, 0.4250132854826365, 12.395425725958034, 2.618442567268488, 2.3917441565772606, 0.8754906446532118, 2.7083057818985026, 4.061113418922162, 0.2318197816305556, 10.459027761879781]\n",
      "2.600010321832548\n",
      "Wall time: 13.1 s\n"
     ]
    }
   ],
   "source": [
    "%%time\n",
    "q = check_genom(genom,False,True)\n",
    "print(q)"
   ]
  },
  {
   "cell_type": "code",
   "execution_count": 9,
   "metadata": {
    "colab": {
     "base_uri": "https://localhost:8080/"
    },
    "id": "o1rS8FpLVizI",
    "outputId": "e83fe372-c750-4a13-b6aa-88e604b79702"
   },
   "outputs": [
    {
     "name": "stdout",
     "output_type": "stream",
     "text": [
      "1\n",
      "opt# 0\n",
      "random trial\n",
      "scores for optimizers augmented [1.e+10 1.e+10 1.e+10 1.e+10 1.e+10 1.e+10 1.e+10 1.e+10]\n",
      "chosen evol_wide previous_result: nan per tacts: nan\n"
     ]
    },
    {
     "name": "stderr",
     "output_type": "stream",
     "text": [
      "C:\\Users\\kilorad\\PYTHON\\neuroevolution_toolbox\\testing_envs\\..\\optimize.py:36: RuntimeWarning: Mean of empty slice\n",
      "  mx.append(np.nanmean(self.history_gain[opt_name])-time_penalty*np.nanmean(self.history_time[opt_name]))\n",
      "C:\\Users\\kilorad\\Anaconda3\\lib\\site-packages\\numpy\\lib\\nanfunctions.py:1664: RuntimeWarning: Degrees of freedom <= 0 for slice.\n",
      "  var = nanvar(a, axis=axis, dtype=dtype, out=out, ddof=ddof,\n"
     ]
    },
    {
     "ename": "KeyboardInterrupt",
     "evalue": "",
     "output_type": "error",
     "traceback": [
      "\u001b[1;31m---------------------------------------------------------------------------\u001b[0m",
      "\u001b[1;31mKeyboardInterrupt\u001b[0m                         Traceback (most recent call last)",
      "\u001b[1;32m~\\AppData\\Local\\Temp/ipykernel_25080/1389025372.py\u001b[0m in \u001b[0;36m<module>\u001b[1;34m\u001b[0m\n\u001b[0;32m     15\u001b[0m \u001b[1;32mfor\u001b[0m \u001b[0mi\u001b[0m \u001b[1;32min\u001b[0m \u001b[0mrange\u001b[0m\u001b[1;33m(\u001b[0m\u001b[1;36m1000\u001b[0m\u001b[1;33m)\u001b[0m\u001b[1;33m:\u001b[0m\u001b[1;33m\u001b[0m\u001b[1;33m\u001b[0m\u001b[0m\n\u001b[0;32m     16\u001b[0m     \u001b[0mprint\u001b[0m\u001b[1;33m(\u001b[0m\u001b[1;34m'opt#'\u001b[0m\u001b[1;33m,\u001b[0m\u001b[0mi\u001b[0m\u001b[1;33m)\u001b[0m\u001b[1;33m\u001b[0m\u001b[1;33m\u001b[0m\u001b[0m\n\u001b[1;32m---> 17\u001b[1;33m     \u001b[0mopt\u001b[0m\u001b[1;33m.\u001b[0m\u001b[0moptimize\u001b[0m\u001b[1;33m(\u001b[0m\u001b[1;33m)\u001b[0m\u001b[1;33m\u001b[0m\u001b[1;33m\u001b[0m\u001b[0m\n\u001b[0m\u001b[0;32m     18\u001b[0m     \u001b[1;32mwith\u001b[0m \u001b[0mopen\u001b[0m\u001b[1;33m(\u001b[0m\u001b[0mroot\u001b[0m\u001b[1;33m+\u001b[0m\u001b[1;34mf'genoms/best_genom_econ.pkl'\u001b[0m\u001b[1;33m,\u001b[0m \u001b[1;34m'wb'\u001b[0m\u001b[1;33m)\u001b[0m \u001b[1;32mas\u001b[0m \u001b[0mf\u001b[0m\u001b[1;33m:\u001b[0m\u001b[1;33m\u001b[0m\u001b[1;33m\u001b[0m\u001b[0m\n\u001b[0;32m     19\u001b[0m         \u001b[0mpickle\u001b[0m\u001b[1;33m.\u001b[0m\u001b[0mdump\u001b[0m\u001b[1;33m(\u001b[0m\u001b[0mopt\u001b[0m\u001b[1;33m.\u001b[0m\u001b[0mbest_genoms\u001b[0m\u001b[1;33m,\u001b[0m\u001b[0mf\u001b[0m\u001b[1;33m,\u001b[0m\u001b[0mprotocol\u001b[0m\u001b[1;33m=\u001b[0m\u001b[0mpickle\u001b[0m\u001b[1;33m.\u001b[0m\u001b[0mHIGHEST_PROTOCOL\u001b[0m\u001b[1;33m)\u001b[0m\u001b[1;33m\u001b[0m\u001b[1;33m\u001b[0m\u001b[0m\n",
      "\u001b[1;32m~\\PYTHON\\neuroevolution_toolbox\\testing_envs\\..\\optimize.py\u001b[0m in \u001b[0;36moptimize\u001b[1;34m(self)\u001b[0m\n\u001b[0;32m     51\u001b[0m         \u001b[0mt\u001b[0m \u001b[1;33m=\u001b[0m \u001b[0mpd\u001b[0m\u001b[1;33m.\u001b[0m\u001b[0mTimestamp\u001b[0m\u001b[1;33m.\u001b[0m\u001b[0mnow\u001b[0m\u001b[1;33m(\u001b[0m\u001b[1;33m)\u001b[0m\u001b[1;33m\u001b[0m\u001b[1;33m\u001b[0m\u001b[0m\n\u001b[0;32m     52\u001b[0m         \u001b[1;32mif\u001b[0m \u001b[0mchosen_optimizer\u001b[0m\u001b[1;33m==\u001b[0m\u001b[1;34m'evol_wide'\u001b[0m\u001b[1;33m:\u001b[0m\u001b[1;33m\u001b[0m\u001b[1;33m\u001b[0m\u001b[0m\n\u001b[1;32m---> 53\u001b[1;33m             \u001b[0mself\u001b[0m\u001b[1;33m.\u001b[0m\u001b[0mevol_wide\u001b[0m\u001b[1;33m(\u001b[0m\u001b[1;33m)\u001b[0m\u001b[1;33m\u001b[0m\u001b[1;33m\u001b[0m\u001b[0m\n\u001b[0m\u001b[0;32m     54\u001b[0m         \u001b[1;32melif\u001b[0m \u001b[0mchosen_optimizer\u001b[0m\u001b[1;33m==\u001b[0m\u001b[1;34m'evol_narrow'\u001b[0m\u001b[1;33m:\u001b[0m\u001b[1;33m\u001b[0m\u001b[1;33m\u001b[0m\u001b[0m\n\u001b[0;32m     55\u001b[0m             \u001b[0mself\u001b[0m\u001b[1;33m.\u001b[0m\u001b[0mevol_narrow\u001b[0m\u001b[1;33m(\u001b[0m\u001b[1;33m)\u001b[0m\u001b[1;33m\u001b[0m\u001b[1;33m\u001b[0m\u001b[0m\n",
      "\u001b[1;32m~\\PYTHON\\neuroevolution_toolbox\\testing_envs\\..\\optimize.py\u001b[0m in \u001b[0;36mevol_wide\u001b[1;34m(self)\u001b[0m\n\u001b[0;32m     84\u001b[0m         \u001b[0mpopsize\u001b[0m\u001b[1;33m=\u001b[0m\u001b[1;36m36\u001b[0m\u001b[1;33m\u001b[0m\u001b[1;33m\u001b[0m\u001b[0m\n\u001b[0;32m     85\u001b[0m         \u001b[0mmaxiter\u001b[0m\u001b[1;33m=\u001b[0m\u001b[1;36m4\u001b[0m\u001b[1;33m\u001b[0m\u001b[1;33m\u001b[0m\u001b[0m\n\u001b[1;32m---> 86\u001b[1;33m         [genom_best,genoms, losses] = self.evol_parallel(self.function,bounds=[-1,1],size_x=self.genom_size, popsize=popsize,maxiter=maxiter, mutation_p=0.01,mutation_p_e=0.01,\n\u001b[0m\u001b[0;32m     87\u001b[0m                   \u001b[0mmutation_r\u001b[0m\u001b[1;33m=\u001b[0m\u001b[1;36m0.1\u001b[0m\u001b[1;33m,\u001b[0m \u001b[0malpha_count\u001b[0m\u001b[1;33m=\u001b[0m\u001b[1;36m5\u001b[0m\u001b[1;33m,\u001b[0m\u001b[0melitarism\u001b[0m\u001b[1;33m=\u001b[0m\u001b[1;36m3\u001b[0m\u001b[1;33m,\u001b[0m\u001b[0mverbose\u001b[0m\u001b[1;33m=\u001b[0m\u001b[1;32mTrue\u001b[0m\u001b[1;33m,\u001b[0m\u001b[1;33m\u001b[0m\u001b[1;33m\u001b[0m\u001b[0m\n\u001b[0;32m     88\u001b[0m                   \u001b[0mout\u001b[0m\u001b[1;33m=\u001b[0m\u001b[1;33m[\u001b[0m\u001b[1;33m]\u001b[0m\u001b[1;33m,\u001b[0m\u001b[1;33m\u001b[0m\u001b[1;33m\u001b[0m\u001b[0m\n",
      "\u001b[1;32m~\\PYTHON\\neuroevolution_toolbox\\testing_envs\\..\\optimize.py\u001b[0m in \u001b[0;36mevol_parallel\u001b[1;34m(self, function, bounds, size_x, popsize, maxiter, mutation_p, mutation_p_e, mutation_r, alpha_count, elitarism, seed, verbose, out, start_point, get_extended)\u001b[0m\n\u001b[0;32m    296\u001b[0m                 \u001b[0mpool\u001b[0m\u001b[1;33m.\u001b[0m\u001b[0mjoin\u001b[0m\u001b[1;33m(\u001b[0m\u001b[1;33m)\u001b[0m\u001b[1;33m\u001b[0m\u001b[1;33m\u001b[0m\u001b[0m\n\u001b[0;32m    297\u001b[0m             \u001b[1;32melse\u001b[0m\u001b[1;33m:\u001b[0m\u001b[1;33m\u001b[0m\u001b[1;33m\u001b[0m\u001b[0m\n\u001b[1;32m--> 298\u001b[1;33m                 \u001b[0my_old\u001b[0m \u001b[1;33m=\u001b[0m \u001b[0mlist\u001b[0m\u001b[1;33m(\u001b[0m\u001b[0mmap\u001b[0m\u001b[1;33m(\u001b[0m\u001b[0mfunction\u001b[0m\u001b[1;33m,\u001b[0m \u001b[1;33m[\u001b[0m\u001b[0mx\u001b[0m \u001b[1;32mfor\u001b[0m \u001b[0mx\u001b[0m \u001b[1;32min\u001b[0m \u001b[0mx_old\u001b[0m\u001b[1;33m]\u001b[0m\u001b[1;33m)\u001b[0m\u001b[1;33m)\u001b[0m\u001b[1;33m\u001b[0m\u001b[1;33m\u001b[0m\u001b[0m\n\u001b[0m\u001b[0;32m    299\u001b[0m             \u001b[0my_old\u001b[0m \u001b[1;33m=\u001b[0m \u001b[0mnp\u001b[0m\u001b[1;33m.\u001b[0m\u001b[0marray\u001b[0m\u001b[1;33m(\u001b[0m\u001b[0my_old\u001b[0m\u001b[1;33m)\u001b[0m\u001b[1;33m\u001b[0m\u001b[1;33m\u001b[0m\u001b[0m\n\u001b[0;32m    300\u001b[0m             \u001b[1;32mif\u001b[0m \u001b[0mnp\u001b[0m\u001b[1;33m.\u001b[0m\u001b[0misnan\u001b[0m\u001b[1;33m(\u001b[0m\u001b[0mself\u001b[0m\u001b[1;33m.\u001b[0m\u001b[0mcurrent_loss\u001b[0m\u001b[1;33m)\u001b[0m\u001b[1;33m:\u001b[0m\u001b[1;33m\u001b[0m\u001b[1;33m\u001b[0m\u001b[0m\n",
      "\u001b[1;32m~\\AppData\\Local\\Temp/ipykernel_25080/35054601.py\u001b[0m in \u001b[0;36mcheck_genom\u001b[1;34m(genom, draw, result_write)\u001b[0m\n\u001b[0;32m      3\u001b[0m     \u001b[0mq_arr\u001b[0m \u001b[1;33m=\u001b[0m \u001b[1;33m[\u001b[0m\u001b[1;33m]\u001b[0m\u001b[1;33m\u001b[0m\u001b[1;33m\u001b[0m\u001b[0m\n\u001b[0;32m      4\u001b[0m     \u001b[1;32mfor\u001b[0m \u001b[0mi\u001b[0m \u001b[1;32min\u001b[0m \u001b[0mrange\u001b[0m\u001b[1;33m(\u001b[0m\u001b[1;36m15\u001b[0m\u001b[1;33m)\u001b[0m\u001b[1;33m:\u001b[0m\u001b[1;33m\u001b[0m\u001b[1;33m\u001b[0m\u001b[0m\n\u001b[1;32m----> 5\u001b[1;33m         \u001b[0mscore\u001b[0m \u001b[1;33m=\u001b[0m \u001b[0msingle_game\u001b[0m\u001b[1;33m(\u001b[0m\u001b[0mplayer\u001b[0m\u001b[1;33m,\u001b[0m\u001b[0mseed\u001b[0m\u001b[1;33m=\u001b[0m\u001b[0mi\u001b[0m\u001b[1;33m,\u001b[0m\u001b[0mrounds\u001b[0m\u001b[1;33m=\u001b[0m\u001b[1;36m1700\u001b[0m\u001b[1;33m,\u001b[0m\u001b[0mdraw\u001b[0m\u001b[1;33m=\u001b[0m\u001b[0mdraw\u001b[0m\u001b[1;33m)\u001b[0m\u001b[1;33m\u001b[0m\u001b[1;33m\u001b[0m\u001b[0m\n\u001b[0m\u001b[0;32m      6\u001b[0m         \u001b[0mq_arr\u001b[0m\u001b[1;33m.\u001b[0m\u001b[0mappend\u001b[0m\u001b[1;33m(\u001b[0m\u001b[0mscore\u001b[0m\u001b[1;33m)\u001b[0m\u001b[1;33m\u001b[0m\u001b[1;33m\u001b[0m\u001b[0m\n\u001b[0;32m      7\u001b[0m     \u001b[1;32mif\u001b[0m \u001b[0mdraw\u001b[0m \u001b[1;32mor\u001b[0m \u001b[0mresult_write\u001b[0m\u001b[1;33m:\u001b[0m\u001b[1;33m\u001b[0m\u001b[1;33m\u001b[0m\u001b[0m\n",
      "\u001b[1;32m~\\AppData\\Local\\Temp/ipykernel_25080/4082687848.py\u001b[0m in \u001b[0;36msingle_game\u001b[1;34m(player, seed, rounds, draw)\u001b[0m\n\u001b[0;32m      6\u001b[0m     \u001b[1;32mif\u001b[0m \u001b[0mt\u001b[0m\u001b[1;33m%\u001b[0m\u001b[1;36m5\u001b[0m\u001b[1;33m==\u001b[0m\u001b[1;36m0\u001b[0m\u001b[1;33m:\u001b[0m\u001b[1;33m\u001b[0m\u001b[1;33m\u001b[0m\u001b[0m\n\u001b[0;32m      7\u001b[0m       \u001b[1;31m#ходит игрок\u001b[0m\u001b[1;33m\u001b[0m\u001b[1;33m\u001b[0m\u001b[0m\n\u001b[1;32m----> 8\u001b[1;33m       \u001b[0maction_vector\u001b[0m \u001b[1;33m=\u001b[0m \u001b[0mplayer\u001b[0m\u001b[1;33m.\u001b[0m\u001b[0mact\u001b[0m\u001b[1;33m(\u001b[0m\u001b[0mgame\u001b[0m\u001b[1;33m)\u001b[0m\u001b[1;33m\u001b[0m\u001b[1;33m\u001b[0m\u001b[0m\n\u001b[0m\u001b[0;32m      9\u001b[0m       \u001b[0mgame\u001b[0m\u001b[1;33m.\u001b[0m\u001b[0maction\u001b[0m\u001b[1;33m(\u001b[0m\u001b[0maction_vector\u001b[0m\u001b[1;33m,\u001b[0m\u001b[0mdraw\u001b[0m\u001b[1;33m=\u001b[0m\u001b[0mdraw\u001b[0m\u001b[1;33m)\u001b[0m\u001b[1;33m\u001b[0m\u001b[1;33m\u001b[0m\u001b[0m\n\u001b[0;32m     10\u001b[0m   \u001b[0mscores\u001b[0m \u001b[1;33m=\u001b[0m \u001b[0mgame\u001b[0m\u001b[1;33m.\u001b[0m\u001b[0mmoney\u001b[0m\u001b[1;33m\u001b[0m\u001b[1;33m\u001b[0m\u001b[0m\n",
      "\u001b[1;32m~\\AppData\\Local\\Temp/ipykernel_25080/95755576.py\u001b[0m in \u001b[0;36mact\u001b[1;34m(self, game)\u001b[0m\n\u001b[0;32m     12\u001b[0m       \u001b[0mshp\u001b[0m \u001b[1;33m=\u001b[0m \u001b[0mnp\u001b[0m\u001b[1;33m.\u001b[0m\u001b[0mshape\u001b[0m\u001b[1;33m(\u001b[0m\u001b[0mstate\u001b[0m\u001b[1;33m)\u001b[0m\u001b[1;33m\u001b[0m\u001b[1;33m\u001b[0m\u001b[0m\n\u001b[0;32m     13\u001b[0m       \u001b[0mstate\u001b[0m \u001b[1;33m=\u001b[0m \u001b[0mnp\u001b[0m\u001b[1;33m.\u001b[0m\u001b[0mreshape\u001b[0m\u001b[1;33m(\u001b[0m\u001b[0mstate\u001b[0m\u001b[1;33m,\u001b[0m\u001b[1;33m[\u001b[0m\u001b[1;36m1\u001b[0m\u001b[1;33m,\u001b[0m\u001b[0mshp\u001b[0m\u001b[1;33m[\u001b[0m\u001b[1;36m0\u001b[0m\u001b[1;33m]\u001b[0m\u001b[1;33m]\u001b[0m\u001b[1;33m)\u001b[0m\u001b[1;33m\u001b[0m\u001b[1;33m\u001b[0m\u001b[0m\n\u001b[1;32m---> 14\u001b[1;33m     \u001b[0maction_vector\u001b[0m \u001b[1;33m=\u001b[0m \u001b[0mself\u001b[0m\u001b[1;33m.\u001b[0m\u001b[0mcontroller\u001b[0m\u001b[1;33m.\u001b[0m\u001b[0mact\u001b[0m\u001b[1;33m(\u001b[0m\u001b[0mstate\u001b[0m\u001b[1;33m,\u001b[0m\u001b[1;36m0\u001b[0m\u001b[1;33m,\u001b[0m\u001b[1;36m0\u001b[0m\u001b[1;33m)\u001b[0m\u001b[1;33m\u001b[0m\u001b[1;33m\u001b[0m\u001b[0m\n\u001b[0m\u001b[0;32m     15\u001b[0m     \u001b[1;32mreturn\u001b[0m \u001b[0maction_vector\u001b[0m\u001b[1;33m\u001b[0m\u001b[1;33m\u001b[0m\u001b[0m\n",
      "\u001b[1;32m~\\PYTHON\\neuroevolution_toolbox\\testing_envs\\..\\neural_tape_controller.py\u001b[0m in \u001b[0;36mact\u001b[1;34m(self, state, reward, done)\u001b[0m\n\u001b[0;32m     58\u001b[0m         \u001b[0min_ar\u001b[0m \u001b[1;33m=\u001b[0m \u001b[0mnp\u001b[0m\u001b[1;33m.\u001b[0m\u001b[0mreshape\u001b[0m\u001b[1;33m(\u001b[0m\u001b[0minp\u001b[0m\u001b[1;33m,\u001b[0m\u001b[1;33m[\u001b[0m\u001b[1;36m1\u001b[0m\u001b[1;33m,\u001b[0m\u001b[0mlen\u001b[0m\u001b[1;33m(\u001b[0m\u001b[0minp\u001b[0m\u001b[1;33m)\u001b[0m\u001b[1;33m]\u001b[0m\u001b[1;33m)\u001b[0m\u001b[1;33m\u001b[0m\u001b[1;33m\u001b[0m\u001b[0m\n\u001b[0;32m     59\u001b[0m         \u001b[1;32mfor\u001b[0m \u001b[0mi\u001b[0m \u001b[1;32min\u001b[0m \u001b[0mrange\u001b[0m\u001b[1;33m(\u001b[0m\u001b[0mint\u001b[0m\u001b[1;33m(\u001b[0m\u001b[0mself\u001b[0m\u001b[1;33m.\u001b[0m\u001b[0mtacts\u001b[0m\u001b[1;33m)\u001b[0m\u001b[1;33m)\u001b[0m\u001b[1;33m:\u001b[0m\u001b[1;33m\u001b[0m\u001b[1;33m\u001b[0m\u001b[0m\n\u001b[1;32m---> 60\u001b[1;33m             \u001b[0mout\u001b[0m \u001b[1;33m=\u001b[0m \u001b[0mself\u001b[0m\u001b[1;33m.\u001b[0m\u001b[0mnn\u001b[0m\u001b[1;33m.\u001b[0m\u001b[0mpredict_vector\u001b[0m\u001b[1;33m(\u001b[0m\u001b[0min_ar\u001b[0m\u001b[1;33m)\u001b[0m\u001b[1;33m\u001b[0m\u001b[1;33m\u001b[0m\u001b[0m\n\u001b[0m\u001b[0;32m     61\u001b[0m         \u001b[1;31m#затем прочтём, то на выходе\u001b[0m\u001b[1;33m\u001b[0m\u001b[1;33m\u001b[0m\u001b[0m\n\u001b[0;32m     62\u001b[0m         \u001b[1;32mreturn\u001b[0m \u001b[0mnp\u001b[0m\u001b[1;33m.\u001b[0m\u001b[0marray\u001b[0m\u001b[1;33m(\u001b[0m\u001b[0mout\u001b[0m\u001b[1;33m)\u001b[0m\u001b[1;33m\u001b[0m\u001b[1;33m\u001b[0m\u001b[0m\n",
      "\u001b[1;32m~\\PYTHON\\neuroevolution_toolbox\\testing_envs\\..\\nnet.py\u001b[0m in \u001b[0;36mpredict_vector\u001b[1;34m(self, x)\u001b[0m\n\u001b[0;32m    187\u001b[0m             \u001b[0min_data\u001b[0m \u001b[1;33m=\u001b[0m \u001b[0mnp\u001b[0m\u001b[1;33m.\u001b[0m\u001b[0mclip\u001b[0m\u001b[1;33m(\u001b[0m\u001b[0min_data\u001b[0m\u001b[1;33m,\u001b[0m \u001b[0ma_min\u001b[0m\u001b[1;33m=\u001b[0m\u001b[1;33m-\u001b[0m\u001b[1;36m1e9\u001b[0m\u001b[1;33m,\u001b[0m\u001b[0ma_max\u001b[0m\u001b[1;33m=\u001b[0m\u001b[1;36m1e9\u001b[0m\u001b[1;33m)\u001b[0m\u001b[1;31m#убрать бесконечности\u001b[0m\u001b[1;33m\u001b[0m\u001b[1;33m\u001b[0m\u001b[0m\n\u001b[0;32m    188\u001b[0m             \u001b[1;32mif\u001b[0m \u001b[1;34m'w'\u001b[0m \u001b[1;32min\u001b[0m \u001b[0mlayer\u001b[0m\u001b[1;33m:\u001b[0m\u001b[1;33m\u001b[0m\u001b[1;33m\u001b[0m\u001b[0m\n\u001b[1;32m--> 189\u001b[1;33m                 \u001b[0my\u001b[0m \u001b[1;33m=\u001b[0m \u001b[0mnp\u001b[0m\u001b[1;33m.\u001b[0m\u001b[0mdot\u001b[0m\u001b[1;33m(\u001b[0m\u001b[0min_data\u001b[0m \u001b[1;33m+\u001b[0m \u001b[0mlayer\u001b[0m\u001b[1;33m[\u001b[0m\u001b[1;34m'b'\u001b[0m\u001b[1;33m]\u001b[0m\u001b[1;33m,\u001b[0m\u001b[0mlayer\u001b[0m\u001b[1;33m[\u001b[0m\u001b[1;34m'w'\u001b[0m\u001b[1;33m]\u001b[0m\u001b[1;33m)\u001b[0m\u001b[1;33m\u001b[0m\u001b[1;33m\u001b[0m\u001b[0m\n\u001b[0m\u001b[0;32m    190\u001b[0m             \u001b[1;32melse\u001b[0m\u001b[1;33m:\u001b[0m\u001b[1;33m\u001b[0m\u001b[1;33m\u001b[0m\u001b[0m\n\u001b[0;32m    191\u001b[0m                 \u001b[0my\u001b[0m \u001b[1;33m=\u001b[0m \u001b[0mnp\u001b[0m\u001b[1;33m.\u001b[0m\u001b[0mdot\u001b[0m\u001b[1;33m(\u001b[0m\u001b[0min_data\u001b[0m \u001b[1;33m+\u001b[0m \u001b[0mlayer\u001b[0m\u001b[1;33m[\u001b[0m\u001b[1;34m'b'\u001b[0m\u001b[1;33m]\u001b[0m\u001b[1;33m,\u001b[0m\u001b[0mlayer\u001b[0m\u001b[1;33m[\u001b[0m\u001b[1;34m'w'\u001b[0m\u001b[1;33m]\u001b[0m\u001b[1;33m)\u001b[0m\u001b[1;33m\u001b[0m\u001b[1;33m\u001b[0m\u001b[0m\n",
      "\u001b[1;32m<__array_function__ internals>\u001b[0m in \u001b[0;36mdot\u001b[1;34m(*args, **kwargs)\u001b[0m\n",
      "\u001b[1;31mKeyboardInterrupt\u001b[0m: "
     ]
    }
   ],
   "source": [
    "print(1)\n",
    "opt = optimize.optimizer(check_genom, genom_size=len(genom),parallel_cores=1)\n",
    "try:\n",
    "    with open(root_dir+f'genoms/best_genom_econ.pkl', 'rb') as f:\n",
    "        genoms = pickle.load(f)\n",
    "        genom = genoms[-1]\n",
    "        opt.best_genoms = genoms\n",
    "    print('loaded successfully')\n",
    "except Exception:\n",
    "    nt = neural_tape_controller.nt_controller(input_size=state_dim,output_size=n_actions)\n",
    "    genom = nt.nn.disassemble_genom()\n",
    "\n",
    "opt.function(opt.best_genoms[-1])\n",
    "\n",
    "for i in range(1000):\n",
    "    print('opt#',i)\n",
    "    opt.optimize()\n",
    "    with open(root+f'genoms/best_genom_econ.pkl', 'wb') as f:\n",
    "        pickle.dump(opt.best_genoms,f,protocol=pickle.HIGHEST_PROTOCOL)\n",
    "        print('WRITTEN')"
   ]
  },
  {
   "cell_type": "code",
   "execution_count": null,
   "metadata": {},
   "outputs": [],
   "source": []
  }
 ],
 "metadata": {
  "colab": {
   "authorship_tag": "ABX9TyPTHjXwjz+S62AjNUms6fLK",
   "collapsed_sections": [],
   "mount_file_id": "19XDixCPff3wGiaI3Js_KoN9b41HLHUDF",
   "name": "mini_strat_game.ipynb",
   "provenance": []
  },
  "kernelspec": {
   "display_name": "Python 3 (ipykernel)",
   "language": "python",
   "name": "python3"
  },
  "language_info": {
   "codemirror_mode": {
    "name": "ipython",
    "version": 3
   },
   "file_extension": ".py",
   "mimetype": "text/x-python",
   "name": "python",
   "nbconvert_exporter": "python",
   "pygments_lexer": "ipython3",
   "version": "3.9.7"
  }
 },
 "nbformat": 4,
 "nbformat_minor": 1
}
