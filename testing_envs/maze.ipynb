{
 "cells": [
  {
   "cell_type": "code",
   "execution_count": 1,
   "metadata": {
    "colab": {
     "base_uri": "https://localhost:8080/"
    },
    "executionInfo": {
     "elapsed": 5762,
     "status": "ok",
     "timestamp": 1651333208746,
     "user": {
      "displayName": "Сергей Довгань",
      "userId": "11204475592062912374"
     },
     "user_tz": -180
    },
    "id": "wxwzV0Nqdtaz",
    "outputId": "71c9b2f4-2d4d-4922-ec33-892a0a117707"
   },
   "outputs": [],
   "source": [
    "import sys\n",
    "sys.path.append('../')\n",
    "import numpy as np\n",
    "import pandas as pd\n",
    "import neural_tape_controller\n",
    "import optimize\n",
    "import pickle\n",
    "from PIL import Image, ImageDraw,ImageFont\n",
    "from matplotlib import pyplot as plt\n",
    "#Положительные числа - положительные награды.\n",
    "root = '../'\n",
    "root_dir = root"
   ]
  },
  {
   "cell_type": "code",
   "execution_count": 2,
   "metadata": {},
   "outputs": [],
   "source": [
    "available_w = np.array([-1,-0.5,-0.25,0,0.25,0.5,1])\n",
    "available_dv = np.array([-1,-0.5,-0.25,0,0.25,0.5,1])"
   ]
  },
  {
   "cell_type": "code",
   "execution_count": 3,
   "metadata": {
    "executionInfo": {
     "elapsed": 1048,
     "status": "ok",
     "timestamp": 1651333209789,
     "user": {
      "displayName": "Сергей Довгань",
      "userId": "11204475592062912374"
     },
     "user_tz": -180
    },
    "id": "pHBRbkgTd8gI"
   },
   "outputs": [],
   "source": [
    "class car():\n",
    "  def __init__(self,x,y,walls):\n",
    "    self.x=x\n",
    "    self.y=y\n",
    "    self.angle=0\n",
    "    self.vx=0\n",
    "    self.vy=0\n",
    "    #мощности двигателя и поворота\n",
    "    self.dv=0.5#макисмальная мощность\n",
    "    self.dv_part=0\n",
    "    self.wdv=10*3.14/180#максимальная мощность\n",
    "    self.k_fr=0.12\n",
    "    self.walls = walls#указатель на лабиринт\n",
    "    #углы обзора\n",
    "    self.view_angles = np.array([-47,-20,-8,0,8,20,47])*3.14/180\n",
    "  def phis(self):\n",
    "    #такт работы физики\n",
    "    #работа мотора\n",
    "    self.vx+= np.cos(self.angle)*self.dv_part*self.dv\n",
    "    self.vy+= np.sin(self.angle)*self.dv_part*self.dv\n",
    "    #кинематика\n",
    "    self.vx*=1-self.k_fr\n",
    "    self.vy*=1-self.k_fr\n",
    "    if np.abs(self.vx)<0.01:\n",
    "      self.vx=0\n",
    "    if np.abs(self.vy)<0.01:\n",
    "      self.vy=0\n",
    "    #контакт со стеной\n",
    "    part = 20\n",
    "    for i in range(part):\n",
    "      self.x += self.vx/part\n",
    "      self.y += self.vy/part\n",
    "      if self.walls.mx[int(self.x+0.5),int(self.y+0.5)]==1:\n",
    "        #hit\n",
    "        self.x -= self.vx/part\n",
    "        self.y -= self.vy/part\n",
    "        self.vx = 0\n",
    "        self.vy = 0\n",
    "        break\n",
    "  def see(self):\n",
    "    #срабатывание дальномеров\n",
    "    sensor_input = []\n",
    "    sensor_input_cur = 0\n",
    "    i=0\n",
    "    t_fract = 5\n",
    "    for view_angle in self.view_angles:\n",
    "      view_angle += self.angle\n",
    "      delta_size = 0.1\n",
    "      dx = np.cos(view_angle)*delta_size\n",
    "      dy = np.sin(view_angle)*delta_size\n",
    "      x = self.x\n",
    "      y = self.y\n",
    "      for t in range(70):\n",
    "        x+=dx\n",
    "        y+=dy\n",
    "        sensor_input_cur=t\n",
    "        if self.walls.mx[int(x+0.5),int(y+0.5)]==1:\n",
    "          #hit\n",
    "          break\n",
    "      sensor_input.append(int(t/t_fract))\n",
    "      i+=1\n",
    "    return sensor_input\n",
    "\n",
    "class maze():\n",
    "  def __init__(self,size,densinty=0.5,seed=1):\n",
    "    self.size = size\n",
    "    self.seed = seed\n",
    "    np.random.seed(seed)\n",
    "    self.mx = np.random.rand(size,size)<densinty\n",
    "    self.mx[0,:] = 1\n",
    "    self.mx[-1,:] = 1\n",
    "    self.mx[:,0] = 1\n",
    "    self.mx[:,-1] = 1\n",
    "    self.car=car(size/2,size/2,self)\n",
    "    self.mx[int(size/2)-2:int(size/2)+2,int(size/2)-2:int(size/2)+2]=0\n",
    "  def draw(self,additional_points=None):\n",
    "    #additional_points = [{'color':'red','sz':0.5, 'points':[(1,2),(1,3),(2,6)]}]\n",
    "    plt.axes()\n",
    "    scale = 1/self.size\n",
    "    for x in range(self.size):\n",
    "      for y in range(self.size):\n",
    "        if self.mx[x,y]:\n",
    "          rectangle = plt.Rectangle(((x-0.5)*scale,(y-0.5)*scale), 1*scale, 1*scale, fc='black',ec=\"black\")\n",
    "          plt.gca().add_patch(rectangle)\n",
    "    delta_size = 0.4\n",
    "    dx = np.cos(self.car.angle)*delta_size\n",
    "    dy = np.sin(self.car.angle)*delta_size\n",
    "    rectangle = plt.Rectangle(((self.car.x-dx)*scale,(self.car.y-dy)*scale), 1*scale, 1*scale, fc='blue')\n",
    "    plt.gca().add_patch(rectangle)\n",
    "    rectangle = plt.Rectangle((self.car.x*scale,self.car.y*scale), 1*scale, 1*scale, fc='red')\n",
    "    plt.gca().add_patch(rectangle)\n",
    "    \n",
    "    if not (additional_points is None):\n",
    "        for additional_point in additional_points:\n",
    "            color = additional_point['color']\n",
    "            sz = additional_point['sz']\n",
    "            for point in additional_point['points']:\n",
    "                #print('point',point,'color',color)\n",
    "                rectangle = plt.Rectangle((point[0]*scale,point[1]*scale), sz*scale, sz*scale, fc=color)\n",
    "                plt.gca().add_patch(rectangle)\n",
    "    plt.show()"
   ]
  },
  {
   "cell_type": "code",
   "execution_count": 4,
   "metadata": {},
   "outputs": [],
   "source": [
    "from PIL import Image, ImageDraw,ImageFont\n",
    "def make_trajectory(m,ln,controller,goal=None,get_traj=False,draw=False):\n",
    "  if goal==None:\n",
    "      tx = int(np.random.rand()*(np.shape(m.mx)[0]-1))\n",
    "      ty = int(np.random.rand()*(np.shape(m.mx)[1]-1))\n",
    "  else:\n",
    "    tx = goal[0]\n",
    "    ty = goal[1]\n",
    "    \n",
    "  traj_coords = []  \n",
    "  prev_x = 0\n",
    "  prev_y = 0\n",
    "  log = []\n",
    "  m.car.angle = np.random.rand()*10\n",
    "  reward_lst = []\n",
    "  for t in range(ln):\n",
    "    \n",
    "    state = m.car.see() + [tx,ty]\n",
    "    [a_w_num,a_dv_num] = controller.act(state,0,0)\n",
    "    \n",
    "    t_range = np.abs(state[-2]-state[-4])+np.abs(state[-1]-state[-3])\n",
    "    reward = 1/(t_range**2+0.0001)\n",
    "    if reward>1:\n",
    "        reward = 1\n",
    "    reward_lst.append(reward)\n",
    "    \n",
    "    if a_w_num<0:\n",
    "        a_w_num=0\n",
    "    if a_w_num>6:\n",
    "        a_w_num=6\n",
    "    if a_dv_num<0:\n",
    "        a_dv_num=0\n",
    "    if a_dv_num>6:\n",
    "        a_dv_num=6\n",
    "    a_dv_num = int(a_dv_num)\n",
    "    a_w_num = int(a_w_num)\n",
    "    log.append(a_w_num)#1\n",
    "    log.append(a_dv_num)#1\n",
    "    log.extend(m.car.see())#7\n",
    "    if (prev_x==0 and prev_y==0) or ((np.abs(prev_x-m.car.x)<5) and (np.abs(prev_y-m.car.y)<5)):\n",
    "      prev_x=m.car.x\n",
    "      prev_y=m.car.y\n",
    "      traj_coords.append((m.car.x,m.car.y))\n",
    "    else:\n",
    "      print('РАЗРЫВ ТРАЕКТОРИИ')\n",
    "      print('prev_x,prev_y',prev_x,prev_y,'m.car.x,m.car.y',m.car.x,m.car.y)\n",
    "      print(log)\n",
    "      1/0\n",
    "\n",
    "\n",
    "    log.append(int(m.car.x))#1\n",
    "    log.append(int(m.car.y))#1\n",
    "    w=available_w[a_w_num]\n",
    "    dv=available_dv[a_dv_num]\n",
    "\n",
    "    m.car.dv_part=dv\n",
    "    m.car.angle += m.car.wdv*w\n",
    "    m.car.phis()\n",
    "    \n",
    "    size = m.size\n",
    "    if draw:\n",
    "        scale = 8\n",
    "        im = Image.new('RGB', (size*scale, size*scale), (256, 256, 256))\n",
    "        dr = ImageDraw.Draw(im)\n",
    "        for x in range(size):\n",
    "          for y in range(size):\n",
    "            if m.mx[x,y]:\n",
    "              color = 'black'\n",
    "              shape = ((x-0.5)*scale,(y-0.5)*scale, (x+0.5)*scale, (y+0.5)*scale)\n",
    "              dr.rectangle(shape, fill=color)\n",
    "                \n",
    "        delta_size = 0.5\n",
    "        dx = np.cos(m.car.angle)*delta_size\n",
    "        dy = np.sin(m.car.angle)*delta_size\n",
    "        shape = ((m.car.x-dx-0.5)*scale,(m.car.y-dy-0.5)*scale, (m.car.x-dx+0.5)*scale, (m.car.y-dy+0.5)*scale)\n",
    "        dr.rectangle(shape, fill='blue')\n",
    "        shape = ((m.car.x-0.5)*scale,(m.car.y-0.5)*scale, (m.car.x+0.5)*scale, (m.car.y+0.5)*scale)\n",
    "        dr.rectangle(shape, fill='red')\n",
    "        \n",
    "        #goal\n",
    "        shape = ((tx+0.5)*scale,(ty+0.5)*scale, (tx-0.5)*scale, (ty-0.5)*scale)\n",
    "        dr.rectangle(shape, fill='lime')\n",
    "        globals()['video'].append(im)\n",
    "        \n",
    "        #plt.imshow(im)\n",
    "        #plt.show()\n",
    "  return np.sum(reward_lst)"
   ]
  },
  {
   "cell_type": "code",
   "execution_count": null,
   "metadata": {},
   "outputs": [],
   "source": []
  },
  {
   "cell_type": "code",
   "execution_count": 5,
   "metadata": {
    "executionInfo": {
     "elapsed": 401,
     "status": "ok",
     "timestamp": 1651333283084,
     "user": {
      "displayName": "Сергей Довгань",
      "userId": "11204475592062912374"
     },
     "user_tz": -180
    },
    "id": "-nod0mjc-og2"
   },
   "outputs": [],
   "source": [
    "state_dim = 9\n",
    "n_actions = 2"
   ]
  },
  {
   "cell_type": "code",
   "execution_count": 6,
   "metadata": {
    "executionInfo": {
     "elapsed": 2,
     "status": "ok",
     "timestamp": 1651333639526,
     "user": {
      "displayName": "Сергей Довгань",
      "userId": "11204475592062912374"
     },
     "user_tz": -180
    },
    "id": "pP-PNFQUAuIR"
   },
   "outputs": [],
   "source": [
    "def check_genom(genom,draw=False):\n",
    "  if draw:\n",
    "      globals()['video'] = []\n",
    "  controller = neural_tape_controller.nt_controller(tacts=1,genom=np.array(genom),input_size=state_dim,output_size=n_actions) \n",
    "  ln = 150\n",
    "  q_arr = []\n",
    "  i = 0\n",
    "  for i in range(20):\n",
    "    m = maze(30,seed=i,densinty=0.4)\n",
    "    q = make_trajectory(m,ln,controller,draw=draw)\n",
    "    q -= np.sum(genom**2)*0.000001#регуляризация\n",
    "    q_arr.append(q)\n",
    "  if draw:\n",
    "      print(q_arr)\n",
    "  return (np.mean(q_arr) + np.min(q_arr))*0.5#взвешенное среднее, с повышенным весом за провалы"
   ]
  },
  {
   "cell_type": "code",
   "execution_count": 7,
   "metadata": {},
   "outputs": [],
   "source": [
    "nt = neural_tape_controller.nt_controller(input_size=state_dim,output_size=n_actions)\n",
    "genom = nt.nn.disassemble_genom()"
   ]
  },
  {
   "cell_type": "code",
   "execution_count": 8,
   "metadata": {},
   "outputs": [],
   "source": [
    "if 0:\n",
    "    with open(root_dir+f'genoms/best_genom_maze.pkl', 'rb') as f:\n",
    "        genoms = pickle.load(f)\n",
    "        genom = genoms[-1]"
   ]
  },
  {
   "cell_type": "code",
   "execution_count": 9,
   "metadata": {},
   "outputs": [
    {
     "name": "stdout",
     "output_type": "stream",
     "text": [
      "in_ar [[ 0  0  3  3  3  3  3  4 13 23 10]]\n",
      "inp [ 0  0  3  3  3  3  3  4 13 23 10]\n",
      "state [[ 3  3  3  3  3  4 13 23 10]]\n",
      "[reward,done] [0, 0]\n"
     ]
    },
    {
     "ename": "ZeroDivisionError",
     "evalue": "division by zero",
     "output_type": "error",
     "traceback": [
      "\u001b[1;31m---------------------------------------------------------------------------\u001b[0m",
      "\u001b[1;31mZeroDivisionError\u001b[0m                         Traceback (most recent call last)",
      "\u001b[1;32m<timed exec>\u001b[0m in \u001b[0;36m<module>\u001b[1;34m\u001b[0m\n",
      "\u001b[1;32m~\\AppData\\Local\\Temp/ipykernel_30748/1273624108.py\u001b[0m in \u001b[0;36mcheck_genom\u001b[1;34m(genom, draw)\u001b[0m\n\u001b[0;32m      8\u001b[0m   \u001b[1;32mfor\u001b[0m \u001b[0mi\u001b[0m \u001b[1;32min\u001b[0m \u001b[0mrange\u001b[0m\u001b[1;33m(\u001b[0m\u001b[1;36m20\u001b[0m\u001b[1;33m)\u001b[0m\u001b[1;33m:\u001b[0m\u001b[1;33m\u001b[0m\u001b[1;33m\u001b[0m\u001b[0m\n\u001b[0;32m      9\u001b[0m     \u001b[0mm\u001b[0m \u001b[1;33m=\u001b[0m \u001b[0mmaze\u001b[0m\u001b[1;33m(\u001b[0m\u001b[1;36m30\u001b[0m\u001b[1;33m,\u001b[0m\u001b[0mseed\u001b[0m\u001b[1;33m=\u001b[0m\u001b[0mi\u001b[0m\u001b[1;33m,\u001b[0m\u001b[0mdensinty\u001b[0m\u001b[1;33m=\u001b[0m\u001b[1;36m0.4\u001b[0m\u001b[1;33m)\u001b[0m\u001b[1;33m\u001b[0m\u001b[1;33m\u001b[0m\u001b[0m\n\u001b[1;32m---> 10\u001b[1;33m     \u001b[0mq\u001b[0m \u001b[1;33m=\u001b[0m \u001b[0mmake_trajectory\u001b[0m\u001b[1;33m(\u001b[0m\u001b[0mm\u001b[0m\u001b[1;33m,\u001b[0m\u001b[0mln\u001b[0m\u001b[1;33m,\u001b[0m\u001b[0mcontroller\u001b[0m\u001b[1;33m,\u001b[0m\u001b[0mdraw\u001b[0m\u001b[1;33m=\u001b[0m\u001b[0mdraw\u001b[0m\u001b[1;33m)\u001b[0m\u001b[1;33m\u001b[0m\u001b[1;33m\u001b[0m\u001b[0m\n\u001b[0m\u001b[0;32m     11\u001b[0m     \u001b[0mq\u001b[0m \u001b[1;33m-=\u001b[0m \u001b[0mnp\u001b[0m\u001b[1;33m.\u001b[0m\u001b[0msum\u001b[0m\u001b[1;33m(\u001b[0m\u001b[0mgenom\u001b[0m\u001b[1;33m**\u001b[0m\u001b[1;36m2\u001b[0m\u001b[1;33m)\u001b[0m\u001b[1;33m*\u001b[0m\u001b[1;36m0.000001\u001b[0m\u001b[1;31m#регуляризация\u001b[0m\u001b[1;33m\u001b[0m\u001b[1;33m\u001b[0m\u001b[0m\n\u001b[0;32m     12\u001b[0m     \u001b[0mq_arr\u001b[0m\u001b[1;33m.\u001b[0m\u001b[0mappend\u001b[0m\u001b[1;33m(\u001b[0m\u001b[0mq\u001b[0m\u001b[1;33m)\u001b[0m\u001b[1;33m\u001b[0m\u001b[1;33m\u001b[0m\u001b[0m\n",
      "\u001b[1;32m~\\AppData\\Local\\Temp/ipykernel_30748/1257354756.py\u001b[0m in \u001b[0;36mmake_trajectory\u001b[1;34m(m, ln, controller, goal, get_traj, draw)\u001b[0m\n\u001b[0;32m     17\u001b[0m \u001b[1;33m\u001b[0m\u001b[0m\n\u001b[0;32m     18\u001b[0m     \u001b[0mstate\u001b[0m \u001b[1;33m=\u001b[0m \u001b[0mm\u001b[0m\u001b[1;33m.\u001b[0m\u001b[0mcar\u001b[0m\u001b[1;33m.\u001b[0m\u001b[0msee\u001b[0m\u001b[1;33m(\u001b[0m\u001b[1;33m)\u001b[0m \u001b[1;33m+\u001b[0m \u001b[1;33m[\u001b[0m\u001b[0mtx\u001b[0m\u001b[1;33m,\u001b[0m\u001b[0mty\u001b[0m\u001b[1;33m]\u001b[0m\u001b[1;33m\u001b[0m\u001b[1;33m\u001b[0m\u001b[0m\n\u001b[1;32m---> 19\u001b[1;33m     \u001b[1;33m[\u001b[0m\u001b[0ma_w_num\u001b[0m\u001b[1;33m,\u001b[0m\u001b[0ma_dv_num\u001b[0m\u001b[1;33m]\u001b[0m \u001b[1;33m=\u001b[0m \u001b[0mcontroller\u001b[0m\u001b[1;33m.\u001b[0m\u001b[0mact\u001b[0m\u001b[1;33m(\u001b[0m\u001b[0mstate\u001b[0m\u001b[1;33m,\u001b[0m\u001b[1;36m0\u001b[0m\u001b[1;33m,\u001b[0m\u001b[1;36m0\u001b[0m\u001b[1;33m)\u001b[0m\u001b[1;33m\u001b[0m\u001b[1;33m\u001b[0m\u001b[0m\n\u001b[0m\u001b[0;32m     20\u001b[0m \u001b[1;33m\u001b[0m\u001b[0m\n\u001b[0;32m     21\u001b[0m     \u001b[0mt_range\u001b[0m \u001b[1;33m=\u001b[0m \u001b[0mnp\u001b[0m\u001b[1;33m.\u001b[0m\u001b[0mabs\u001b[0m\u001b[1;33m(\u001b[0m\u001b[0mstate\u001b[0m\u001b[1;33m[\u001b[0m\u001b[1;33m-\u001b[0m\u001b[1;36m2\u001b[0m\u001b[1;33m]\u001b[0m\u001b[1;33m-\u001b[0m\u001b[0mstate\u001b[0m\u001b[1;33m[\u001b[0m\u001b[1;33m-\u001b[0m\u001b[1;36m4\u001b[0m\u001b[1;33m]\u001b[0m\u001b[1;33m)\u001b[0m\u001b[1;33m+\u001b[0m\u001b[0mnp\u001b[0m\u001b[1;33m.\u001b[0m\u001b[0mabs\u001b[0m\u001b[1;33m(\u001b[0m\u001b[0mstate\u001b[0m\u001b[1;33m[\u001b[0m\u001b[1;33m-\u001b[0m\u001b[1;36m1\u001b[0m\u001b[1;33m]\u001b[0m\u001b[1;33m-\u001b[0m\u001b[0mstate\u001b[0m\u001b[1;33m[\u001b[0m\u001b[1;33m-\u001b[0m\u001b[1;36m3\u001b[0m\u001b[1;33m]\u001b[0m\u001b[1;33m)\u001b[0m\u001b[1;33m\u001b[0m\u001b[1;33m\u001b[0m\u001b[0m\n",
      "\u001b[1;32m~\\PYTHON\\neuroevolution_toolbox\\testing_envs\\..\\neural_tape_controller.py\u001b[0m in \u001b[0;36mact\u001b[1;34m(self, state, reward, done)\u001b[0m\n\u001b[0;32m     62\u001b[0m         \u001b[0mprint\u001b[0m\u001b[1;33m(\u001b[0m\u001b[1;34m'state'\u001b[0m\u001b[1;33m,\u001b[0m\u001b[0mstate\u001b[0m\u001b[1;33m)\u001b[0m\u001b[1;33m\u001b[0m\u001b[1;33m\u001b[0m\u001b[0m\n\u001b[0;32m     63\u001b[0m         \u001b[0mprint\u001b[0m\u001b[1;33m(\u001b[0m\u001b[1;34m'[reward,done]'\u001b[0m\u001b[1;33m,\u001b[0m\u001b[1;33m[\u001b[0m\u001b[0mreward\u001b[0m\u001b[1;33m,\u001b[0m\u001b[0mdone\u001b[0m\u001b[1;33m]\u001b[0m\u001b[1;33m)\u001b[0m\u001b[1;33m\u001b[0m\u001b[1;33m\u001b[0m\u001b[0m\n\u001b[1;32m---> 64\u001b[1;33m         \u001b[1;36m1\u001b[0m\u001b[1;33m/\u001b[0m\u001b[1;36m0\u001b[0m\u001b[1;33m\u001b[0m\u001b[1;33m\u001b[0m\u001b[0m\n\u001b[0m\u001b[0;32m     65\u001b[0m         \u001b[1;32mfor\u001b[0m \u001b[0mi\u001b[0m \u001b[1;32min\u001b[0m \u001b[0mrange\u001b[0m\u001b[1;33m(\u001b[0m\u001b[0mint\u001b[0m\u001b[1;33m(\u001b[0m\u001b[0mself\u001b[0m\u001b[1;33m.\u001b[0m\u001b[0mtacts\u001b[0m\u001b[1;33m)\u001b[0m\u001b[1;33m)\u001b[0m\u001b[1;33m:\u001b[0m\u001b[1;33m\u001b[0m\u001b[1;33m\u001b[0m\u001b[0m\n\u001b[0;32m     66\u001b[0m             \u001b[0mout\u001b[0m \u001b[1;33m=\u001b[0m \u001b[0mself\u001b[0m\u001b[1;33m.\u001b[0m\u001b[0mnn\u001b[0m\u001b[1;33m.\u001b[0m\u001b[0mpredict_vector\u001b[0m\u001b[1;33m(\u001b[0m\u001b[0min_ar\u001b[0m\u001b[1;33m)\u001b[0m\u001b[1;33m\u001b[0m\u001b[1;33m\u001b[0m\u001b[0m\n",
      "\u001b[1;31mZeroDivisionError\u001b[0m: division by zero"
     ]
    }
   ],
   "source": [
    "%%time\n",
    "q = check_genom(genom,draw=True)\n",
    "print(q)"
   ]
  },
  {
   "cell_type": "code",
   "execution_count": 10,
   "metadata": {},
   "outputs": [],
   "source": [
    "if 0:\n",
    "    _video = globals()['video']\n",
    "    _video[0].save(\n",
    "      root+'out_videos/maze_neuroevol.gif',\n",
    "      save_all=True,\n",
    "      append_images=_video[1:], \n",
    "      optimize=True,\n",
    "      duration=100,\n",
    "      loop=0\n",
    "    )"
   ]
  },
  {
   "cell_type": "code",
   "execution_count": 11,
   "metadata": {},
   "outputs": [
    {
     "data": {
      "text/plain": [
       "Timestamp('2022-05-11 13:11:15.552646')"
      ]
     },
     "execution_count": 11,
     "metadata": {},
     "output_type": "execute_result"
    }
   ],
   "source": [
    "pd.Timestamp.now()"
   ]
  },
  {
   "cell_type": "code",
   "execution_count": 12,
   "metadata": {
    "colab": {
     "base_uri": "https://localhost:8080/"
    },
    "id": "o1rS8FpLVizI",
    "outputId": "e83fe372-c750-4a13-b6aa-88e604b79702"
   },
   "outputs": [
    {
     "name": "stdout",
     "output_type": "stream",
     "text": [
      "1\n",
      "in_ar [[ 0  0  3  3  3  3  3  4 13 23 10]]\n",
      "inp [ 0  0  3  3  3  3  3  4 13 23 10]\n",
      "state [[ 3  3  3  3  3  4 13 23 10]]\n",
      "[reward,done] [0, 0]\n"
     ]
    },
    {
     "ename": "ZeroDivisionError",
     "evalue": "division by zero",
     "output_type": "error",
     "traceback": [
      "\u001b[1;31m---------------------------------------------------------------------------\u001b[0m",
      "\u001b[1;31mZeroDivisionError\u001b[0m                         Traceback (most recent call last)",
      "\u001b[1;32m~\\AppData\\Local\\Temp/ipykernel_30748/228003644.py\u001b[0m in \u001b[0;36m<module>\u001b[1;34m\u001b[0m\n\u001b[0;32m     11\u001b[0m     \u001b[0mgenom\u001b[0m \u001b[1;33m=\u001b[0m \u001b[0mnt\u001b[0m\u001b[1;33m.\u001b[0m\u001b[0mnn\u001b[0m\u001b[1;33m.\u001b[0m\u001b[0mdisassemble_genom\u001b[0m\u001b[1;33m(\u001b[0m\u001b[1;33m)\u001b[0m\u001b[1;33m\u001b[0m\u001b[1;33m\u001b[0m\u001b[0m\n\u001b[0;32m     12\u001b[0m \u001b[1;33m\u001b[0m\u001b[0m\n\u001b[1;32m---> 13\u001b[1;33m \u001b[0mopt\u001b[0m\u001b[1;33m.\u001b[0m\u001b[0mfunction\u001b[0m\u001b[1;33m(\u001b[0m\u001b[0mopt\u001b[0m\u001b[1;33m.\u001b[0m\u001b[0mbest_genoms\u001b[0m\u001b[1;33m[\u001b[0m\u001b[1;33m-\u001b[0m\u001b[1;36m1\u001b[0m\u001b[1;33m]\u001b[0m\u001b[1;33m)\u001b[0m\u001b[1;33m\u001b[0m\u001b[1;33m\u001b[0m\u001b[0m\n\u001b[0m\u001b[0;32m     14\u001b[0m \u001b[1;33m\u001b[0m\u001b[0m\n\u001b[0;32m     15\u001b[0m \u001b[1;32mfor\u001b[0m \u001b[0mi\u001b[0m \u001b[1;32min\u001b[0m \u001b[0mrange\u001b[0m\u001b[1;33m(\u001b[0m\u001b[1;36m1000\u001b[0m\u001b[1;33m)\u001b[0m\u001b[1;33m:\u001b[0m\u001b[1;33m\u001b[0m\u001b[1;33m\u001b[0m\u001b[0m\n",
      "\u001b[1;32m~\\AppData\\Local\\Temp/ipykernel_30748/1273624108.py\u001b[0m in \u001b[0;36mcheck_genom\u001b[1;34m(genom, draw)\u001b[0m\n\u001b[0;32m      8\u001b[0m   \u001b[1;32mfor\u001b[0m \u001b[0mi\u001b[0m \u001b[1;32min\u001b[0m \u001b[0mrange\u001b[0m\u001b[1;33m(\u001b[0m\u001b[1;36m20\u001b[0m\u001b[1;33m)\u001b[0m\u001b[1;33m:\u001b[0m\u001b[1;33m\u001b[0m\u001b[1;33m\u001b[0m\u001b[0m\n\u001b[0;32m      9\u001b[0m     \u001b[0mm\u001b[0m \u001b[1;33m=\u001b[0m \u001b[0mmaze\u001b[0m\u001b[1;33m(\u001b[0m\u001b[1;36m30\u001b[0m\u001b[1;33m,\u001b[0m\u001b[0mseed\u001b[0m\u001b[1;33m=\u001b[0m\u001b[0mi\u001b[0m\u001b[1;33m,\u001b[0m\u001b[0mdensinty\u001b[0m\u001b[1;33m=\u001b[0m\u001b[1;36m0.4\u001b[0m\u001b[1;33m)\u001b[0m\u001b[1;33m\u001b[0m\u001b[1;33m\u001b[0m\u001b[0m\n\u001b[1;32m---> 10\u001b[1;33m     \u001b[0mq\u001b[0m \u001b[1;33m=\u001b[0m \u001b[0mmake_trajectory\u001b[0m\u001b[1;33m(\u001b[0m\u001b[0mm\u001b[0m\u001b[1;33m,\u001b[0m\u001b[0mln\u001b[0m\u001b[1;33m,\u001b[0m\u001b[0mcontroller\u001b[0m\u001b[1;33m,\u001b[0m\u001b[0mdraw\u001b[0m\u001b[1;33m=\u001b[0m\u001b[0mdraw\u001b[0m\u001b[1;33m)\u001b[0m\u001b[1;33m\u001b[0m\u001b[1;33m\u001b[0m\u001b[0m\n\u001b[0m\u001b[0;32m     11\u001b[0m     \u001b[0mq\u001b[0m \u001b[1;33m-=\u001b[0m \u001b[0mnp\u001b[0m\u001b[1;33m.\u001b[0m\u001b[0msum\u001b[0m\u001b[1;33m(\u001b[0m\u001b[0mgenom\u001b[0m\u001b[1;33m**\u001b[0m\u001b[1;36m2\u001b[0m\u001b[1;33m)\u001b[0m\u001b[1;33m*\u001b[0m\u001b[1;36m0.000001\u001b[0m\u001b[1;31m#регуляризация\u001b[0m\u001b[1;33m\u001b[0m\u001b[1;33m\u001b[0m\u001b[0m\n\u001b[0;32m     12\u001b[0m     \u001b[0mq_arr\u001b[0m\u001b[1;33m.\u001b[0m\u001b[0mappend\u001b[0m\u001b[1;33m(\u001b[0m\u001b[0mq\u001b[0m\u001b[1;33m)\u001b[0m\u001b[1;33m\u001b[0m\u001b[1;33m\u001b[0m\u001b[0m\n",
      "\u001b[1;32m~\\AppData\\Local\\Temp/ipykernel_30748/1257354756.py\u001b[0m in \u001b[0;36mmake_trajectory\u001b[1;34m(m, ln, controller, goal, get_traj, draw)\u001b[0m\n\u001b[0;32m     17\u001b[0m \u001b[1;33m\u001b[0m\u001b[0m\n\u001b[0;32m     18\u001b[0m     \u001b[0mstate\u001b[0m \u001b[1;33m=\u001b[0m \u001b[0mm\u001b[0m\u001b[1;33m.\u001b[0m\u001b[0mcar\u001b[0m\u001b[1;33m.\u001b[0m\u001b[0msee\u001b[0m\u001b[1;33m(\u001b[0m\u001b[1;33m)\u001b[0m \u001b[1;33m+\u001b[0m \u001b[1;33m[\u001b[0m\u001b[0mtx\u001b[0m\u001b[1;33m,\u001b[0m\u001b[0mty\u001b[0m\u001b[1;33m]\u001b[0m\u001b[1;33m\u001b[0m\u001b[1;33m\u001b[0m\u001b[0m\n\u001b[1;32m---> 19\u001b[1;33m     \u001b[1;33m[\u001b[0m\u001b[0ma_w_num\u001b[0m\u001b[1;33m,\u001b[0m\u001b[0ma_dv_num\u001b[0m\u001b[1;33m]\u001b[0m \u001b[1;33m=\u001b[0m \u001b[0mcontroller\u001b[0m\u001b[1;33m.\u001b[0m\u001b[0mact\u001b[0m\u001b[1;33m(\u001b[0m\u001b[0mstate\u001b[0m\u001b[1;33m,\u001b[0m\u001b[1;36m0\u001b[0m\u001b[1;33m,\u001b[0m\u001b[1;36m0\u001b[0m\u001b[1;33m)\u001b[0m\u001b[1;33m\u001b[0m\u001b[1;33m\u001b[0m\u001b[0m\n\u001b[0m\u001b[0;32m     20\u001b[0m \u001b[1;33m\u001b[0m\u001b[0m\n\u001b[0;32m     21\u001b[0m     \u001b[0mt_range\u001b[0m \u001b[1;33m=\u001b[0m \u001b[0mnp\u001b[0m\u001b[1;33m.\u001b[0m\u001b[0mabs\u001b[0m\u001b[1;33m(\u001b[0m\u001b[0mstate\u001b[0m\u001b[1;33m[\u001b[0m\u001b[1;33m-\u001b[0m\u001b[1;36m2\u001b[0m\u001b[1;33m]\u001b[0m\u001b[1;33m-\u001b[0m\u001b[0mstate\u001b[0m\u001b[1;33m[\u001b[0m\u001b[1;33m-\u001b[0m\u001b[1;36m4\u001b[0m\u001b[1;33m]\u001b[0m\u001b[1;33m)\u001b[0m\u001b[1;33m+\u001b[0m\u001b[0mnp\u001b[0m\u001b[1;33m.\u001b[0m\u001b[0mabs\u001b[0m\u001b[1;33m(\u001b[0m\u001b[0mstate\u001b[0m\u001b[1;33m[\u001b[0m\u001b[1;33m-\u001b[0m\u001b[1;36m1\u001b[0m\u001b[1;33m]\u001b[0m\u001b[1;33m-\u001b[0m\u001b[0mstate\u001b[0m\u001b[1;33m[\u001b[0m\u001b[1;33m-\u001b[0m\u001b[1;36m3\u001b[0m\u001b[1;33m]\u001b[0m\u001b[1;33m)\u001b[0m\u001b[1;33m\u001b[0m\u001b[1;33m\u001b[0m\u001b[0m\n",
      "\u001b[1;32m~\\PYTHON\\neuroevolution_toolbox\\testing_envs\\..\\neural_tape_controller.py\u001b[0m in \u001b[0;36mact\u001b[1;34m(self, state, reward, done)\u001b[0m\n\u001b[0;32m     62\u001b[0m         \u001b[0mprint\u001b[0m\u001b[1;33m(\u001b[0m\u001b[1;34m'state'\u001b[0m\u001b[1;33m,\u001b[0m\u001b[0mstate\u001b[0m\u001b[1;33m)\u001b[0m\u001b[1;33m\u001b[0m\u001b[1;33m\u001b[0m\u001b[0m\n\u001b[0;32m     63\u001b[0m         \u001b[0mprint\u001b[0m\u001b[1;33m(\u001b[0m\u001b[1;34m'[reward,done]'\u001b[0m\u001b[1;33m,\u001b[0m\u001b[1;33m[\u001b[0m\u001b[0mreward\u001b[0m\u001b[1;33m,\u001b[0m\u001b[0mdone\u001b[0m\u001b[1;33m]\u001b[0m\u001b[1;33m)\u001b[0m\u001b[1;33m\u001b[0m\u001b[1;33m\u001b[0m\u001b[0m\n\u001b[1;32m---> 64\u001b[1;33m         \u001b[1;36m1\u001b[0m\u001b[1;33m/\u001b[0m\u001b[1;36m0\u001b[0m\u001b[1;33m\u001b[0m\u001b[1;33m\u001b[0m\u001b[0m\n\u001b[0m\u001b[0;32m     65\u001b[0m         \u001b[1;32mfor\u001b[0m \u001b[0mi\u001b[0m \u001b[1;32min\u001b[0m \u001b[0mrange\u001b[0m\u001b[1;33m(\u001b[0m\u001b[0mint\u001b[0m\u001b[1;33m(\u001b[0m\u001b[0mself\u001b[0m\u001b[1;33m.\u001b[0m\u001b[0mtacts\u001b[0m\u001b[1;33m)\u001b[0m\u001b[1;33m)\u001b[0m\u001b[1;33m:\u001b[0m\u001b[1;33m\u001b[0m\u001b[1;33m\u001b[0m\u001b[0m\n\u001b[0;32m     66\u001b[0m             \u001b[0mout\u001b[0m \u001b[1;33m=\u001b[0m \u001b[0mself\u001b[0m\u001b[1;33m.\u001b[0m\u001b[0mnn\u001b[0m\u001b[1;33m.\u001b[0m\u001b[0mpredict_vector\u001b[0m\u001b[1;33m(\u001b[0m\u001b[0min_ar\u001b[0m\u001b[1;33m)\u001b[0m\u001b[1;33m\u001b[0m\u001b[1;33m\u001b[0m\u001b[0m\n",
      "\u001b[1;31mZeroDivisionError\u001b[0m: division by zero"
     ]
    }
   ],
   "source": [
    "print(1)\n",
    "opt = optimize.optimizer(check_genom, genom_size=len(genom),parallel_cores=1)\n",
    "try:\n",
    "    with open(root_dir+f'genoms/best_genom_maze.pkl', 'rb') as f:\n",
    "        genoms = pickle.load(f)\n",
    "        genom = genoms[-1]\n",
    "        opt.best_genoms = genoms\n",
    "    print('loaded successfully')\n",
    "except Exception:\n",
    "    nt = neural_tape_controller.nt_controller(input_size=state_dim,output_size=n_actions)\n",
    "    genom = nt.nn.disassemble_genom()\n",
    "\n",
    "opt.function(opt.best_genoms[-1])\n",
    "\n",
    "for i in range(1000):\n",
    "    print('opt#',i)\n",
    "    opt.optimize()\n",
    "    with open(root+f'genoms/best_genom_maze.pkl', 'wb') as f:\n",
    "        pickle.dump(opt.best_genoms,f,protocol=pickle.HIGHEST_PROTOCOL)\n",
    "        print('WRITTEN')"
   ]
  },
  {
   "cell_type": "code",
   "execution_count": null,
   "metadata": {},
   "outputs": [],
   "source": []
  }
 ],
 "metadata": {
  "colab": {
   "authorship_tag": "ABX9TyPTHjXwjz+S62AjNUms6fLK",
   "collapsed_sections": [],
   "mount_file_id": "19XDixCPff3wGiaI3Js_KoN9b41HLHUDF",
   "name": "mini_strat_game.ipynb",
   "provenance": []
  },
  "kernelspec": {
   "display_name": "Python 3 (ipykernel)",
   "language": "python",
   "name": "python3"
  },
  "language_info": {
   "codemirror_mode": {
    "name": "ipython",
    "version": 3
   },
   "file_extension": ".py",
   "mimetype": "text/x-python",
   "name": "python",
   "nbconvert_exporter": "python",
   "pygments_lexer": "ipython3",
   "version": "3.9.7"
  }
 },
 "nbformat": 4,
 "nbformat_minor": 1
}
