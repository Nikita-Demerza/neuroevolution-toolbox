{
 "cells": [
  {
   "cell_type": "code",
   "execution_count": 1,
   "metadata": {
    "id": "iV7GFD8QRQVe"
   },
   "outputs": [],
   "source": [
    "#!pip3 install \"gym[atari]\"\n",
    "import gym\n",
    "import sys\n",
    "from PIL import Image, ImageDraw\n",
    "import numpy as np\n",
    "import pandas as pd\n",
    "import neural_tape_controller\n",
    "#Положительные числа - положительные награды.\n",
    "import tasks \n",
    "import optimize\n",
    "import  pickle"
   ]
  },
  {
   "cell_type": "code",
   "execution_count": 2,
   "metadata": {
    "id": "gK_0udONWWcN"
   },
   "outputs": [
    {
     "name": "stdout",
     "output_type": "stream",
     "text": [
      "Action Space: Discrete(5)\n",
      "Observation Space: Box(0, 255, (210, 160, 3), uint8)\n",
      "Max Episode Steps: 27000\n",
      "Nondeterministic: False\n",
      "Reward Range: (-inf, inf)\n",
      "Reward Threshold: None\n"
     ]
    },
    {
     "name": "stderr",
     "output_type": "stream",
     "text": [
      "A.L.E: Arcade Learning Environment (version 0.7.5+db37282)\n",
      "[Powered by Stella]\n"
     ]
    }
   ],
   "source": [
    "def query_environment(name):\n",
    "    env = gym.make(name)\n",
    "    spec = gym.spec(name)\n",
    "    print(f\"Action Space: {env.action_space}\")\n",
    "    print(f\"Observation Space: {env.observation_space}\")\n",
    "    print(f\"Max Episode Steps: {spec.max_episode_steps}\")\n",
    "    print(f\"Nondeterministic: {spec.nondeterministic}\")\n",
    "    print(f\"Reward Range: {env.reward_range}\")\n",
    "    print(f\"Reward Threshold: {spec.reward_threshold}\")\n",
    "query_environment(\"ALE/Tetris-v5\")"
   ]
  },
  {
   "cell_type": "code",
   "execution_count": 3,
   "metadata": {
    "id": "yHqp2lahT3dG"
   },
   "outputs": [],
   "source": [
    "def encode_simple(X):\n",
    "  #как сделать простое кодирование? Ну давай разобьём картинку двумя разными сетками и измерим яркость\n",
    "  #на входе одиночная картинка\n",
    "  y_lst = []\n",
    "  sz = np.shape(X)\n",
    "  count_squares = 12\n",
    "  for i in range(count_squares):\n",
    "    for j in range(count_squares):\n",
    "      x = X[int(i*sz[0]/count_squares):int((i+1)*sz[0]/count_squares), int(j*sz[1]/count_squares):int((j+1)*sz[1]/count_squares)]\n",
    "      y_lst.append(np.nanmean(x))\n",
    "\n",
    "  count_squares = 9\n",
    "  for i in range(count_squares):\n",
    "    for j in range(count_squares):\n",
    "      x = X[int(i*sz[0]/count_squares):int((i+1)*sz[0]/count_squares), int(j*sz[1]/count_squares):int((j+1)*sz[1]/count_squares)]\n",
    "      y_lst.append(np.nanmean(x))\n",
    "\n",
    "  count_squares = 5\n",
    "  for i in range(count_squares):\n",
    "    for j in range(count_squares):\n",
    "      x = X[int(i*sz[0]/count_squares):int((i+1)*sz[0]/count_squares), int(j*sz[1]/count_squares):int((j+1)*sz[1]/count_squares)]\n",
    "      y_lst.append(np.nanmean(x))\n",
    "\n",
    "  #count_squares = 2\n",
    "  #for i in range(count_squares):\n",
    "  #  for j in range(count_squares):\n",
    "  #    x = X[int(i*sz[0]/count_squares):int((i+1)*sz[0]/count_squares), int(j*sz[1]/count_squares):int((j+1)*sz[1]/count_squares)]\n",
    "  #    y_lst.append(np.nanmean(x))\n",
    "  #размер: 62\n",
    "  return np.array(y_lst)"
   ]
  },
  {
   "cell_type": "code",
   "execution_count": 4,
   "metadata": {
    "id": "_hxFWNWoOsmJ"
   },
   "outputs": [
    {
     "name": "stdout",
     "output_type": "stream",
     "text": [
      "loaded successfully\n"
     ]
    }
   ],
   "source": [
    "n_actions = 5\n",
    "embed_size = 250#это эмбеддинг картинки\n",
    "nt = neural_tape_controller.nt_controller(input_size=embed_size,output_size=n_actions)\n",
    "try:\n",
    "    with open('./genoms/best_genom_tetris.pkl', 'rb') as f:\n",
    "        genom = pickle.load(f)\n",
    "        genom = genom[-1]\n",
    "    print('loaded successfully')\n",
    "except Exception:\n",
    "    genom = nt.nn.disassemble_genom()"
   ]
  },
  {
   "cell_type": "code",
   "execution_count": 5,
   "metadata": {},
   "outputs": [],
   "source": [
    "#3, 1, 4, 4"
   ]
  },
  {
   "cell_type": "code",
   "execution_count": 6,
   "metadata": {},
   "outputs": [],
   "source": [
    "n_actions = 5\n",
    "embed_size = 100800#это эмбеддинг картинки\n",
    "nt = neural_tape_controller.nt_controller(tacts=1,input_size=embed_size,output_size=n_actions)\n",
    "genom = nt.nn.disassemble_genom()"
   ]
  },
  {
   "cell_type": "code",
   "execution_count": 7,
   "metadata": {
    "id": "bXF5TTLgIheU"
   },
   "outputs": [],
   "source": [
    "def test_atary(genom, draw=False,game_name=\"ALE/Tetris-v5\",seed=0,controller=None):\n",
    "\n",
    "  env = gym.make(game_name)\n",
    "  env.reset()\n",
    "  n_actions = env.action_space.n\n",
    "  state_dim = env.observation_space.shape#здесь картинка\n",
    "  #print('n_actions',n_actions,'state_dim',state_dim)\n",
    "  #1/0\n",
    "  state_dim = embed_size#это эмбеддинг картинки\n",
    "  if controller==None: controller = neural_tape_controller.nt_controller(tacts=1,genom=np.array(genom),input_size=state_dim,output_size=n_actions) \n",
    "  out_tape = np.zeros(30)\n",
    "  reward_sum = 0\n",
    "\n",
    "  #seed=1\n",
    "  #np.random.seed(seed)\n",
    "  #env.seed(seed)\n",
    "  while True:\n",
    "  #for i in range(200):\n",
    "      action = np.ravel(out_tape)\n",
    "      action += np.random.rand(len(action))*np.std(action)*0.05#игра детерминистическая, иначе рандома не будет\n",
    "      #print('action',int(np.argmax(action)),action)\n",
    "      #исполнить env\n",
    "      state, reward, done,_ = env.step(int(np.argmax(action)))\n",
    "        \n",
    "      shp = np.shape(state)\n",
    "      #print(shp)\n",
    "      #1/0\n",
    "      state = np.reshape(state,[shp[2],shp[0],shp[1]])\n",
    "      #print(np.shape(state))\n",
    "        \n",
    "      t=pd.Timestamp.now()\n",
    "      if done:\n",
    "        break\n",
    "      #state = encode_mobnet(np.array([state]))\n",
    "      #state = encode_simple(state)\n",
    "      reward_sum += (reward + 0.1)\n",
    "      out_tape = controller.act(state,reward,done)\n",
    "      if draw:\n",
    "        globals()['video'].append(Image.fromarray(env.render(\"rgb_array\")))\n",
    "  return reward_sum, controller"
   ]
  },
  {
   "cell_type": "code",
   "execution_count": 8,
   "metadata": {
    "id": "jn_DW2_xYhb_"
   },
   "outputs": [],
   "source": [
    "def multy_test(genom,draw=False):\n",
    "  if draw:\n",
    "    globals()['video'] = []\n",
    "\n",
    "  game_name = \"ALE/Tetris-v5\"\n",
    "  q_arr = []\n",
    "  controller = neural_tape_controller.nt_controller(tacts=1,genom=np.array(genom),input_size=100800,output_size=n_actions) \n",
    "  for i in range(3):\n",
    "    q,controller = test_atary(genom, draw=draw,game_name=game_name,controller=controller)\n",
    "    q_arr.append(q*(i+1))\n",
    "  return np.sum(q_arr)/len(q_arr)"
   ]
  },
  {
   "cell_type": "code",
   "execution_count": 9,
   "metadata": {},
   "outputs": [],
   "source": [
    "#(210, 160, 3)"
   ]
  },
  {
   "cell_type": "code",
   "execution_count": 10,
   "metadata": {
    "id": "2bNLh6kmFzfY"
   },
   "outputs": [
    {
     "name": "stdout",
     "output_type": "stream",
     "text": [
      "q= 76.8999999999999\n",
      "CPU times: user 1min 48s, sys: 82.7 ms, total: 1min 48s\n",
      "Wall time: 19.1 s\n"
     ]
    }
   ],
   "source": [
    "%%time\n",
    "q,_=test_atary(genom,game_name=\"ALE/Tetris-v5\", draw=False)\n",
    "print('q=',q)"
   ]
  },
  {
   "cell_type": "code",
   "execution_count": 11,
   "metadata": {
    "id": "cGZxP_NhdC27"
   },
   "outputs": [
    {
     "name": "stdout",
     "output_type": "stream",
     "text": [
      "q= 97.13333333333372\n",
      "CPU times: user 4min 6s, sys: 232 ms, total: 4min 6s\n",
      "Wall time: 43.6 s\n"
     ]
    }
   ],
   "source": [
    "%%time\n",
    "q=multy_test(genom)\n",
    "print('q=',q)\n",
    "#q=multy_test(genom)\n",
    "#print('q=',q)"
   ]
  },
  {
   "cell_type": "code",
   "execution_count": 13,
   "metadata": {
    "id": "Eja2m2P_ewzM"
   },
   "outputs": [
    {
     "name": "stdout",
     "output_type": "stream",
     "text": [
      "q= 41.70000000000032\n",
      "CPU times: user 43.8 s, sys: 19 ms, total: 43.8 s\n",
      "Wall time: 7.44 s\n"
     ]
    }
   ],
   "source": [
    "%%time\n",
    "q=test_atary(genom)\n",
    "print('q=',q)"
   ]
  },
  {
   "cell_type": "code",
   "execution_count": 14,
   "metadata": {
    "id": "oN_h1Rg_2fQX"
   },
   "outputs": [
    {
     "name": "stdout",
     "output_type": "stream",
     "text": [
      "2022-06-04 12:23:16.238687\n"
     ]
    }
   ],
   "source": [
    "print(pd.Timestamp.now())"
   ]
  },
  {
   "cell_type": "code",
   "execution_count": 12,
   "metadata": {},
   "outputs": [
    {
     "name": "stdout",
     "output_type": "stream",
     "text": [
      "1\n",
      "history loaded successfully\n"
     ]
    }
   ],
   "source": [
    "print(1)\n",
    "opt = optimize.optimizer(multy_test, genom_size=len(genom),parallel_cores=1,init_file='genoms/genom1.pkl',history_file='history/history2.pkl')"
   ]
  },
  {
   "cell_type": "code",
   "execution_count": null,
   "metadata": {},
   "outputs": [],
   "source": [
    "try:\n",
    "    with open('genoms/best_genom_tetris.pkl', 'rb') as f:\n",
    "        opt.best_genoms = pickle.load(f)\n",
    "    print('loaded successfully')\n",
    "except Exception:\n",
    "    pass"
   ]
  },
  {
   "cell_type": "code",
   "execution_count": 13,
   "metadata": {
    "id": "HzpNigFUTmIM"
   },
   "outputs": [
    {
     "name": "stdout",
     "output_type": "stream",
     "text": [
      "opt# 0\n",
      "scores for optimizers augmented [-8.00450000e+01  3.26644167e+02  1.01664167e+03  1.65200000e+00\n",
      "  2.22666667e+00 -4.20000000e-02  1.00000000e+10  1.00000000e+10\n",
      "  1.00000000e+10]\n",
      "chosen gradient_long_adaptive previous_result: nan per tacts: nan\n",
      "score_new 16.99999999999997 score_prev 16.99999999999997 gained 0.0\n",
      "undo\n",
      "score_new 16.99999999999997 score_prev 16.99999999999997 gained 0.0\n",
      "but success with one derivative: score_new 16.99999999999997 score_prev 16.99999999999997 gained 0.0\n",
      "undo\n",
      "score_new 16.99999999999997 score_prev 16.99999999999997 gained 0.0\n",
      "undo\n",
      "score_new 16.99999999999997 score_prev 16.99999999999997 gained 0.0\n",
      "undo\n",
      "score_new 16.99999999999997 score_prev 16.99999999999997 gained 0.0\n",
      "undo\n",
      "score_new 16.99999999999997 score_prev 16.99999999999997 gained 0.0\n",
      "undo\n",
      "score_new 16.99999999999997 score_prev 16.99999999999997 gained 0.0\n",
      "undo\n",
      "score_new 16.99999999999997 score_prev 16.99999999999997 gained 0.0\n",
      "undo\n",
      "score_new 16.99999999999997 score_prev 16.99999999999997 gained 0.0\n",
      "undo\n",
      "score_new 16.99999999999997 score_prev 16.99999999999997 gained 0.0\n",
      "but success with one derivative: score_new 16.99999999999997 score_prev 16.99999999999997 gained 0.0\n",
      "undo\n",
      "score_new 16.99999999999997 score_prev 16.99999999999997 gained 0.0\n",
      "undo\n",
      "score_new 16.99999999999997 score_prev 16.99999999999997 gained 0.0\n",
      "undo\n",
      "score_new 16.99999999999997 score_prev 16.99999999999997 gained 0.0\n",
      "undo\n",
      "score_new 16.99999999999997 score_prev 16.99999999999997 gained 0.0\n",
      "undo\n",
      "score_new 16.99999999999997 score_prev 16.99999999999997 gained 0.0\n",
      "undo\n",
      "result gradient_long_adaptive previous_gain: nan per tacts: nan duration 0 days 00:20:03.281213\n",
      "WRITTEN\n",
      "opt# 1\n",
      "random trial\n",
      "scores for optimizers augmented [-7.95372917e+01  3.27653234e+02  1.01872629e+03  4.09510424e+00\n",
      "  2.94598378e+00  1.44163452e+00  2.84509710e+00  1.00000000e+10\n",
      "  1.00000000e+10]\n",
      "chosen evol_narrow previous_result: nan per tacts: nan\n",
      "iteration 0 y= [128.33333333 122.2       ]\n",
      "iteration 1 y= [140.73333333 132.73333333]\n",
      "iteration 2 y= [165.13333333 161.53333333]\n",
      "iteration 3 y= [204.33333333 191.93333333]\n"
     ]
    },
    {
     "ename": "KeyboardInterrupt",
     "evalue": "",
     "output_type": "error",
     "traceback": [
      "\u001b[0;31m---------------------------------------------------------------------------\u001b[0m",
      "\u001b[0;31mKeyboardInterrupt\u001b[0m                         Traceback (most recent call last)",
      "\u001b[1;32m/home/nikita/neuroevolution-toolbox/atari_experiment3.ipynb Cell 16'\u001b[0m in \u001b[0;36m<cell line: 3>\u001b[0;34m()\u001b[0m\n\u001b[1;32m      <a href='vscode-notebook-cell:/home/nikita/neuroevolution-toolbox/atari_experiment3.ipynb#ch0000016?line=2'>3</a>\u001b[0m \u001b[39mfor\u001b[39;00m i \u001b[39min\u001b[39;00m \u001b[39mrange\u001b[39m(\u001b[39m1000\u001b[39m):\n\u001b[1;32m      <a href='vscode-notebook-cell:/home/nikita/neuroevolution-toolbox/atari_experiment3.ipynb#ch0000016?line=3'>4</a>\u001b[0m     \u001b[39mprint\u001b[39m(\u001b[39m'\u001b[39m\u001b[39mopt#\u001b[39m\u001b[39m'\u001b[39m,i)\n\u001b[0;32m----> <a href='vscode-notebook-cell:/home/nikita/neuroevolution-toolbox/atari_experiment3.ipynb#ch0000016?line=4'>5</a>\u001b[0m     opt\u001b[39m.\u001b[39;49moptimize()\n\u001b[1;32m      <a href='vscode-notebook-cell:/home/nikita/neuroevolution-toolbox/atari_experiment3.ipynb#ch0000016?line=5'>6</a>\u001b[0m     \u001b[39mwith\u001b[39;00m \u001b[39mopen\u001b[39m(\u001b[39m'\u001b[39m\u001b[39mgenoms/best_genom_tetris.pkl\u001b[39m\u001b[39m'\u001b[39m, \u001b[39m'\u001b[39m\u001b[39mwb\u001b[39m\u001b[39m'\u001b[39m) \u001b[39mas\u001b[39;00m f:\n\u001b[1;32m      <a href='vscode-notebook-cell:/home/nikita/neuroevolution-toolbox/atari_experiment3.ipynb#ch0000016?line=6'>7</a>\u001b[0m         pickle\u001b[39m.\u001b[39mdump(opt\u001b[39m.\u001b[39mbest_genoms,f,protocol\u001b[39m=\u001b[39mpickle\u001b[39m.\u001b[39mHIGHEST_PROTOCOL)\n",
      "File \u001b[0;32m~/neuroevolution-toolbox/optimize.py:72\u001b[0m, in \u001b[0;36moptimizer.optimize\u001b[0;34m(self)\u001b[0m\n\u001b[1;32m     <a href='file:///home/nikita/neuroevolution-toolbox/optimize.py?line=69'>70</a>\u001b[0m     \u001b[39mself\u001b[39m\u001b[39m.\u001b[39mevol_wide()\n\u001b[1;32m     <a href='file:///home/nikita/neuroevolution-toolbox/optimize.py?line=70'>71</a>\u001b[0m \u001b[39melif\u001b[39;00m chosen_optimizer\u001b[39m==\u001b[39m\u001b[39m'\u001b[39m\u001b[39mevol_narrow\u001b[39m\u001b[39m'\u001b[39m:\n\u001b[0;32m---> <a href='file:///home/nikita/neuroevolution-toolbox/optimize.py?line=71'>72</a>\u001b[0m     \u001b[39mself\u001b[39;49m\u001b[39m.\u001b[39;49mevol_narrow()\n\u001b[1;32m     <a href='file:///home/nikita/neuroevolution-toolbox/optimize.py?line=72'>73</a>\u001b[0m \u001b[39melif\u001b[39;00m chosen_optimizer\u001b[39m==\u001b[39m\u001b[39m'\u001b[39m\u001b[39mevol_mid_chaos\u001b[39m\u001b[39m'\u001b[39m:\n\u001b[1;32m     <a href='file:///home/nikita/neuroevolution-toolbox/optimize.py?line=73'>74</a>\u001b[0m     \u001b[39mself\u001b[39m\u001b[39m.\u001b[39mevol_mid_chaos()\n",
      "File \u001b[0;32m~/neuroevolution-toolbox/optimize.py:144\u001b[0m, in \u001b[0;36moptimizer.evol_narrow\u001b[0;34m(self)\u001b[0m\n\u001b[1;32m    <a href='file:///home/nikita/neuroevolution-toolbox/optimize.py?line=141'>142</a>\u001b[0m popsize\u001b[39m=\u001b[39m\u001b[39m8\u001b[39m\n\u001b[1;32m    <a href='file:///home/nikita/neuroevolution-toolbox/optimize.py?line=142'>143</a>\u001b[0m maxiter\u001b[39m=\u001b[39m\u001b[39m16\u001b[39m\n\u001b[0;32m--> <a href='file:///home/nikita/neuroevolution-toolbox/optimize.py?line=143'>144</a>\u001b[0m [genom_best,genoms, losses] \u001b[39m=\u001b[39m \u001b[39mself\u001b[39;49m\u001b[39m.\u001b[39;49mevol_parallel(\u001b[39mself\u001b[39;49m\u001b[39m.\u001b[39;49mfunction,bounds\u001b[39m=\u001b[39;49m[\u001b[39m-\u001b[39;49m\u001b[39m1\u001b[39;49m,\u001b[39m1\u001b[39;49m],size_x\u001b[39m=\u001b[39;49m\u001b[39mself\u001b[39;49m\u001b[39m.\u001b[39;49mgenom_size, popsize\u001b[39m=\u001b[39;49mpopsize,maxiter\u001b[39m=\u001b[39;49mmaxiter, mutation_p\u001b[39m=\u001b[39;49m\u001b[39m0.01\u001b[39;49m,mutation_p_e\u001b[39m=\u001b[39;49m\u001b[39m0.3\u001b[39;49m,\n\u001b[1;32m    <a href='file:///home/nikita/neuroevolution-toolbox/optimize.py?line=144'>145</a>\u001b[0m           mutation_r\u001b[39m=\u001b[39;49m\u001b[39m0.1\u001b[39;49m, alpha_count\u001b[39m=\u001b[39;49m\u001b[39m3\u001b[39;49m,elitarism\u001b[39m=\u001b[39;49m\u001b[39m2\u001b[39;49m,mutation_amplitude_source\u001b[39m=\u001b[39;49m\u001b[39m'\u001b[39;49m\u001b[39mstd\u001b[39;49m\u001b[39m'\u001b[39;49m,verbose\u001b[39m=\u001b[39;49m\u001b[39mTrue\u001b[39;49;00m,\n\u001b[1;32m    <a href='file:///home/nikita/neuroevolution-toolbox/optimize.py?line=145'>146</a>\u001b[0m           out\u001b[39m=\u001b[39;49m[],\n\u001b[1;32m    <a href='file:///home/nikita/neuroevolution-toolbox/optimize.py?line=146'>147</a>\u001b[0m           start_point\u001b[39m=\u001b[39;49m\u001b[39mself\u001b[39;49m\u001b[39m.\u001b[39;49mbest_genoms,get_extended\u001b[39m=\u001b[39;49m\u001b[39mTrue\u001b[39;49;00m)\n\u001b[1;32m    <a href='file:///home/nikita/neuroevolution-toolbox/optimize.py?line=147'>148</a>\u001b[0m gain \u001b[39m=\u001b[39m np\u001b[39m.\u001b[39mmax(losses)\u001b[39m-\u001b[39m\u001b[39mself\u001b[39m\u001b[39m.\u001b[39mcurrent_loss\u001b[39m#Положительный gain - хорошо\u001b[39;00m\n\u001b[1;32m    <a href='file:///home/nikita/neuroevolution-toolbox/optimize.py?line=148'>149</a>\u001b[0m \u001b[39mself\u001b[39m\u001b[39m.\u001b[39mcurrent_loss \u001b[39m=\u001b[39m np\u001b[39m.\u001b[39mmax(losses)\n",
      "File \u001b[0;32m~/neuroevolution-toolbox/optimize.py:425\u001b[0m, in \u001b[0;36moptimizer.evol_parallel\u001b[0;34m(self, function, bounds, size_x, popsize, maxiter, mutation_p, mutation_p_e, mutation_r, alpha_count, elitarism, mutation_amplitude_source, seed, verbose, out, start_point, get_extended)\u001b[0m\n\u001b[1;32m    <a href='file:///home/nikita/neuroevolution-toolbox/optimize.py?line=422'>423</a>\u001b[0m     pool\u001b[39m.\u001b[39mjoin()\n\u001b[1;32m    <a href='file:///home/nikita/neuroevolution-toolbox/optimize.py?line=423'>424</a>\u001b[0m \u001b[39melse\u001b[39;00m:\n\u001b[0;32m--> <a href='file:///home/nikita/neuroevolution-toolbox/optimize.py?line=424'>425</a>\u001b[0m     y_old \u001b[39m=\u001b[39m \u001b[39mlist\u001b[39;49m(\u001b[39mmap\u001b[39;49m(function, [x \u001b[39mfor\u001b[39;49;00m x \u001b[39min\u001b[39;49;00m x_old]))\n\u001b[1;32m    <a href='file:///home/nikita/neuroevolution-toolbox/optimize.py?line=425'>426</a>\u001b[0m y_old \u001b[39m=\u001b[39m np\u001b[39m.\u001b[39marray(y_old)\n\u001b[1;32m    <a href='file:///home/nikita/neuroevolution-toolbox/optimize.py?line=426'>427</a>\u001b[0m \u001b[39mif\u001b[39;00m np\u001b[39m.\u001b[39misnan(\u001b[39mself\u001b[39m\u001b[39m.\u001b[39mcurrent_loss):\n",
      "\u001b[1;32m/home/nikita/neuroevolution-toolbox/atari_experiment3.ipynb Cell 8'\u001b[0m in \u001b[0;36mmulty_test\u001b[0;34m(genom, draw)\u001b[0m\n\u001b[1;32m      <a href='vscode-notebook-cell:/home/nikita/neuroevolution-toolbox/atari_experiment3.ipynb#ch0000007?line=6'>7</a>\u001b[0m controller \u001b[39m=\u001b[39m neural_tape_controller\u001b[39m.\u001b[39mnt_controller(tacts\u001b[39m=\u001b[39m\u001b[39m1\u001b[39m,genom\u001b[39m=\u001b[39mnp\u001b[39m.\u001b[39marray(genom),input_size\u001b[39m=\u001b[39m\u001b[39m100800\u001b[39m,output_size\u001b[39m=\u001b[39mn_actions) \n\u001b[1;32m      <a href='vscode-notebook-cell:/home/nikita/neuroevolution-toolbox/atari_experiment3.ipynb#ch0000007?line=7'>8</a>\u001b[0m \u001b[39mfor\u001b[39;00m i \u001b[39min\u001b[39;00m \u001b[39mrange\u001b[39m(\u001b[39m3\u001b[39m):\n\u001b[0;32m----> <a href='vscode-notebook-cell:/home/nikita/neuroevolution-toolbox/atari_experiment3.ipynb#ch0000007?line=8'>9</a>\u001b[0m   q,controller \u001b[39m=\u001b[39m test_atary(genom, draw\u001b[39m=\u001b[39;49mdraw,game_name\u001b[39m=\u001b[39;49mgame_name,controller\u001b[39m=\u001b[39;49mcontroller)\n\u001b[1;32m     <a href='vscode-notebook-cell:/home/nikita/neuroevolution-toolbox/atari_experiment3.ipynb#ch0000007?line=9'>10</a>\u001b[0m   q_arr\u001b[39m.\u001b[39mappend(q\u001b[39m*\u001b[39m(i\u001b[39m+\u001b[39m\u001b[39m1\u001b[39m))\n\u001b[1;32m     <a href='vscode-notebook-cell:/home/nikita/neuroevolution-toolbox/atari_experiment3.ipynb#ch0000007?line=10'>11</a>\u001b[0m \u001b[39mreturn\u001b[39;00m np\u001b[39m.\u001b[39msum(q_arr)\u001b[39m/\u001b[39m\u001b[39mlen\u001b[39m(q_arr)\n",
      "\u001b[1;32m/home/nikita/neuroevolution-toolbox/atari_experiment3.ipynb Cell 7'\u001b[0m in \u001b[0;36mtest_atary\u001b[0;34m(genom, draw, game_name, seed, controller)\u001b[0m\n\u001b[1;32m     <a href='vscode-notebook-cell:/home/nikita/neuroevolution-toolbox/atari_experiment3.ipynb#ch0000006?line=33'>34</a>\u001b[0m \u001b[39m#state = encode_mobnet(np.array([state]))\u001b[39;00m\n\u001b[1;32m     <a href='vscode-notebook-cell:/home/nikita/neuroevolution-toolbox/atari_experiment3.ipynb#ch0000006?line=34'>35</a>\u001b[0m \u001b[39m#state = encode_simple(state)\u001b[39;00m\n\u001b[1;32m     <a href='vscode-notebook-cell:/home/nikita/neuroevolution-toolbox/atari_experiment3.ipynb#ch0000006?line=35'>36</a>\u001b[0m reward_sum \u001b[39m+\u001b[39m\u001b[39m=\u001b[39m (reward \u001b[39m+\u001b[39m \u001b[39m0.1\u001b[39m)\n\u001b[0;32m---> <a href='vscode-notebook-cell:/home/nikita/neuroevolution-toolbox/atari_experiment3.ipynb#ch0000006?line=36'>37</a>\u001b[0m out_tape \u001b[39m=\u001b[39m controller\u001b[39m.\u001b[39;49mact(state,reward,done)\n\u001b[1;32m     <a href='vscode-notebook-cell:/home/nikita/neuroevolution-toolbox/atari_experiment3.ipynb#ch0000006?line=37'>38</a>\u001b[0m \u001b[39mif\u001b[39;00m draw:\n\u001b[1;32m     <a href='vscode-notebook-cell:/home/nikita/neuroevolution-toolbox/atari_experiment3.ipynb#ch0000006?line=38'>39</a>\u001b[0m   \u001b[39mglobals\u001b[39m()[\u001b[39m'\u001b[39m\u001b[39mvideo\u001b[39m\u001b[39m'\u001b[39m]\u001b[39m.\u001b[39mappend(Image\u001b[39m.\u001b[39mfromarray(env\u001b[39m.\u001b[39mrender(\u001b[39m\"\u001b[39m\u001b[39mrgb_array\u001b[39m\u001b[39m\"\u001b[39m)))\n",
      "File \u001b[0;32m~/neuroevolution-toolbox/neural_tape_controller.py:111\u001b[0m, in \u001b[0;36mnt_controller.act\u001b[0;34m(self, state, reward, done)\u001b[0m\n\u001b[1;32m    <a href='file:///home/nikita/neuroevolution-toolbox/neural_tape_controller.py?line=108'>109</a>\u001b[0m in_ar \u001b[39m=\u001b[39m np\u001b[39m.\u001b[39mreshape(inp,[\u001b[39m1\u001b[39m,\u001b[39m*\u001b[39minp\u001b[39m.\u001b[39mshape])\n\u001b[1;32m    <a href='file:///home/nikita/neuroevolution-toolbox/neural_tape_controller.py?line=109'>110</a>\u001b[0m \u001b[39mfor\u001b[39;00m i \u001b[39min\u001b[39;00m \u001b[39mrange\u001b[39m(\u001b[39mint\u001b[39m(\u001b[39mself\u001b[39m\u001b[39m.\u001b[39mtacts)):\n\u001b[0;32m--> <a href='file:///home/nikita/neuroevolution-toolbox/neural_tape_controller.py?line=110'>111</a>\u001b[0m     out \u001b[39m=\u001b[39m \u001b[39mself\u001b[39;49m\u001b[39m.\u001b[39;49mnn\u001b[39m.\u001b[39;49mpredict_vector(in_ar)\n\u001b[1;32m    <a href='file:///home/nikita/neuroevolution-toolbox/neural_tape_controller.py?line=111'>112</a>\u001b[0m \u001b[39mreturn\u001b[39;00m np\u001b[39m.\u001b[39marray(out)\n",
      "File \u001b[0;32m~/neuroevolution-toolbox/nnet.py:400\u001b[0m, in \u001b[0;36mnp_nn.predict_vector\u001b[0;34m(self, x)\u001b[0m\n\u001b[1;32m    <a href='file:///home/nikita/neuroevolution-toolbox/nnet.py?line=397'>398</a>\u001b[0m     inp \u001b[39m=\u001b[39m torch\u001b[39m.\u001b[39mtensor(in_data,dtype\u001b[39m=\u001b[39mtorch\u001b[39m.\u001b[39mfloat32)\n\u001b[1;32m    <a href='file:///home/nikita/neuroevolution-toolbox/nnet.py?line=398'>399</a>\u001b[0m     layer[\u001b[39m'\u001b[39m\u001b[39mlayer\u001b[39m\u001b[39m'\u001b[39m]\u001b[39m.\u001b[39mload_state_dict({\u001b[39m'\u001b[39m\u001b[39mweight\u001b[39m\u001b[39m'\u001b[39m: torch\u001b[39m.\u001b[39mtensor(layer[\u001b[39m'\u001b[39m\u001b[39mkernel\u001b[39m\u001b[39m'\u001b[39m])}, strict\u001b[39m=\u001b[39m\u001b[39mFalse\u001b[39;00m)\n\u001b[0;32m--> <a href='file:///home/nikita/neuroevolution-toolbox/nnet.py?line=399'>400</a>\u001b[0m     y \u001b[39m=\u001b[39m layer[\u001b[39m'\u001b[39;49m\u001b[39mlayer\u001b[39;49m\u001b[39m'\u001b[39;49m](inp)\n\u001b[1;32m    <a href='file:///home/nikita/neuroevolution-toolbox/nnet.py?line=400'>401</a>\u001b[0m     \u001b[39mdel\u001b[39;00m inp\n\u001b[1;32m    <a href='file:///home/nikita/neuroevolution-toolbox/nnet.py?line=401'>402</a>\u001b[0m \u001b[39melif\u001b[39;00m layer[\u001b[39m'\u001b[39m\u001b[39mtype\u001b[39m\u001b[39m'\u001b[39m]\u001b[39m==\u001b[39m\u001b[39m'\u001b[39m\u001b[39mflatten\u001b[39m\u001b[39m'\u001b[39m:\n",
      "File \u001b[0;32m~/.local/lib/python3/site-packages/torch/nn/modules/module.py:1110\u001b[0m, in \u001b[0;36mModule._call_impl\u001b[0;34m(self, *input, **kwargs)\u001b[0m\n\u001b[1;32m   <a href='file:///home/nikita/.local/lib/python3/site-packages/torch/nn/modules/module.py?line=1105'>1106</a>\u001b[0m \u001b[39m# If we don't have any hooks, we want to skip the rest of the logic in\u001b[39;00m\n\u001b[1;32m   <a href='file:///home/nikita/.local/lib/python3/site-packages/torch/nn/modules/module.py?line=1106'>1107</a>\u001b[0m \u001b[39m# this function, and just call forward.\u001b[39;00m\n\u001b[1;32m   <a href='file:///home/nikita/.local/lib/python3/site-packages/torch/nn/modules/module.py?line=1107'>1108</a>\u001b[0m \u001b[39mif\u001b[39;00m \u001b[39mnot\u001b[39;00m (\u001b[39mself\u001b[39m\u001b[39m.\u001b[39m_backward_hooks \u001b[39mor\u001b[39;00m \u001b[39mself\u001b[39m\u001b[39m.\u001b[39m_forward_hooks \u001b[39mor\u001b[39;00m \u001b[39mself\u001b[39m\u001b[39m.\u001b[39m_forward_pre_hooks \u001b[39mor\u001b[39;00m _global_backward_hooks\n\u001b[1;32m   <a href='file:///home/nikita/.local/lib/python3/site-packages/torch/nn/modules/module.py?line=1108'>1109</a>\u001b[0m         \u001b[39mor\u001b[39;00m _global_forward_hooks \u001b[39mor\u001b[39;00m _global_forward_pre_hooks):\n\u001b[0;32m-> <a href='file:///home/nikita/.local/lib/python3/site-packages/torch/nn/modules/module.py?line=1109'>1110</a>\u001b[0m     \u001b[39mreturn\u001b[39;00m forward_call(\u001b[39m*\u001b[39;49m\u001b[39minput\u001b[39;49m, \u001b[39m*\u001b[39;49m\u001b[39m*\u001b[39;49mkwargs)\n\u001b[1;32m   <a href='file:///home/nikita/.local/lib/python3/site-packages/torch/nn/modules/module.py?line=1110'>1111</a>\u001b[0m \u001b[39m# Do not call functions when jit is used\u001b[39;00m\n\u001b[1;32m   <a href='file:///home/nikita/.local/lib/python3/site-packages/torch/nn/modules/module.py?line=1111'>1112</a>\u001b[0m full_backward_hooks, non_full_backward_hooks \u001b[39m=\u001b[39m [], []\n",
      "File \u001b[0;32m~/.local/lib/python3/site-packages/torch/nn/modules/conv.py:447\u001b[0m, in \u001b[0;36mConv2d.forward\u001b[0;34m(self, input)\u001b[0m\n\u001b[1;32m    <a href='file:///home/nikita/.local/lib/python3/site-packages/torch/nn/modules/conv.py?line=445'>446</a>\u001b[0m \u001b[39mdef\u001b[39;00m \u001b[39mforward\u001b[39m(\u001b[39mself\u001b[39m, \u001b[39minput\u001b[39m: Tensor) \u001b[39m-\u001b[39m\u001b[39m>\u001b[39m Tensor:\n\u001b[0;32m--> <a href='file:///home/nikita/.local/lib/python3/site-packages/torch/nn/modules/conv.py?line=446'>447</a>\u001b[0m     \u001b[39mreturn\u001b[39;00m \u001b[39mself\u001b[39;49m\u001b[39m.\u001b[39;49m_conv_forward(\u001b[39minput\u001b[39;49m, \u001b[39mself\u001b[39;49m\u001b[39m.\u001b[39;49mweight, \u001b[39mself\u001b[39;49m\u001b[39m.\u001b[39;49mbias)\n",
      "File \u001b[0;32m~/.local/lib/python3/site-packages/torch/nn/modules/conv.py:443\u001b[0m, in \u001b[0;36mConv2d._conv_forward\u001b[0;34m(self, input, weight, bias)\u001b[0m\n\u001b[1;32m    <a href='file:///home/nikita/.local/lib/python3/site-packages/torch/nn/modules/conv.py?line=438'>439</a>\u001b[0m \u001b[39mif\u001b[39;00m \u001b[39mself\u001b[39m\u001b[39m.\u001b[39mpadding_mode \u001b[39m!=\u001b[39m \u001b[39m'\u001b[39m\u001b[39mzeros\u001b[39m\u001b[39m'\u001b[39m:\n\u001b[1;32m    <a href='file:///home/nikita/.local/lib/python3/site-packages/torch/nn/modules/conv.py?line=439'>440</a>\u001b[0m     \u001b[39mreturn\u001b[39;00m F\u001b[39m.\u001b[39mconv2d(F\u001b[39m.\u001b[39mpad(\u001b[39minput\u001b[39m, \u001b[39mself\u001b[39m\u001b[39m.\u001b[39m_reversed_padding_repeated_twice, mode\u001b[39m=\u001b[39m\u001b[39mself\u001b[39m\u001b[39m.\u001b[39mpadding_mode),\n\u001b[1;32m    <a href='file:///home/nikita/.local/lib/python3/site-packages/torch/nn/modules/conv.py?line=440'>441</a>\u001b[0m                     weight, bias, \u001b[39mself\u001b[39m\u001b[39m.\u001b[39mstride,\n\u001b[1;32m    <a href='file:///home/nikita/.local/lib/python3/site-packages/torch/nn/modules/conv.py?line=441'>442</a>\u001b[0m                     _pair(\u001b[39m0\u001b[39m), \u001b[39mself\u001b[39m\u001b[39m.\u001b[39mdilation, \u001b[39mself\u001b[39m\u001b[39m.\u001b[39mgroups)\n\u001b[0;32m--> <a href='file:///home/nikita/.local/lib/python3/site-packages/torch/nn/modules/conv.py?line=442'>443</a>\u001b[0m \u001b[39mreturn\u001b[39;00m F\u001b[39m.\u001b[39;49mconv2d(\u001b[39minput\u001b[39;49m, weight, bias, \u001b[39mself\u001b[39;49m\u001b[39m.\u001b[39;49mstride,\n\u001b[1;32m    <a href='file:///home/nikita/.local/lib/python3/site-packages/torch/nn/modules/conv.py?line=443'>444</a>\u001b[0m                 \u001b[39mself\u001b[39;49m\u001b[39m.\u001b[39;49mpadding, \u001b[39mself\u001b[39;49m\u001b[39m.\u001b[39;49mdilation, \u001b[39mself\u001b[39;49m\u001b[39m.\u001b[39;49mgroups)\n",
      "\u001b[0;31mKeyboardInterrupt\u001b[0m: "
     ]
    }
   ],
   "source": [
    "\n",
    "opt.function(opt.best_genoms[-1])\n",
    "\n",
    "for i in range(1000):\n",
    "    print('opt#',i)\n",
    "    opt.optimize()\n",
    "    with open('genoms/best_genom_tetris.pkl', 'wb') as f:\n",
    "        pickle.dump(opt.best_genoms,f,protocol=pickle.HIGHEST_PROTOCOL)\n",
    "        print('WRITTEN')"
   ]
  },
  {
   "cell_type": "code",
   "execution_count": 20,
   "metadata": {},
   "outputs": [],
   "source": [
    "with open('./genoms/genom1.pkl', 'rb') as f:\n",
    "        genom = pickle.load(f)\n",
    "        #genom = genom[-1]"
   ]
  },
  {
   "cell_type": "code",
   "execution_count": 21,
   "metadata": {
    "id": "LBhHJSL-ctuu"
   },
   "outputs": [
    {
     "name": "stdout",
     "output_type": "stream",
     "text": [
      "q= 90.86666666666578\n"
     ]
    }
   ],
   "source": [
    "q=multy_test(genom,draw=True)\n",
    "print('q=',q)"
   ]
  },
  {
   "cell_type": "code",
   "execution_count": 22,
   "metadata": {
    "id": "rquJJEbVcfgz"
   },
   "outputs": [],
   "source": [
    "video[0].save(\n",
    "    './out_videos/tetris.gif',\n",
    "    save_all=True,\n",
    "    append_images=video[1:], \n",
    "    optimize=True,\n",
    "    duration=100,\n",
    "    loop=0\n",
    ")"
   ]
  },
  {
   "cell_type": "code",
   "execution_count": null,
   "metadata": {},
   "outputs": [],
   "source": [
    "#noise stategy\n",
    "#with open('genoms/best_genom_tetris.pkl', 'rb') as f:\n",
    "    #genom = pickle.load(f)[-1]\n",
    "globals()['video'] = []\n",
    "noise = np.random.normal(size=[len(genom)])*1\n",
    "for i in range(1):\n",
    "    genom = genom+noise\n",
    "    q=test_atary(genom, draw=True,game_name=\"ALE/Tetris-v5\",seed=0)\n",
    "    np.random.seed(i)\n",
    "    noise = np.random.normal(size=[len(genom)])*1\n",
    "\n"
   ]
  },
  {
   "cell_type": "code",
   "execution_count": null,
   "metadata": {
    "id": "NolxDC4bdi7r"
   },
   "outputs": [],
   "source": [
    "video[0].save(\n",
    "    './out_videos/tetris.gif',\n",
    "    save_all=True,\n",
    "    append_images=video[1:], \n",
    "    optimize=True,\n",
    "    duration=10,\n",
    "    loop=0\n",
    ")"
   ]
  },
  {
   "cell_type": "code",
   "execution_count": null,
   "metadata": {},
   "outputs": [],
   "source": [
    "with open('genoms/best_genom_tetris.pkl', 'wb') as f:\n",
    "    pickle.dump(genom,f,protocol=pickle.HIGHEST_PROTOCOL)\n",
    "    print('WRITTEN')"
   ]
  }
 ],
 "metadata": {
  "colab": {
   "authorship_tag": "ABX9TyP1/6tnER+ipw9TdwDyZ+sz",
   "collapsed_sections": [],
   "mount_file_id": "1LelKGSZ7B8o8qafqCX4oFBtzHByVJ9FI",
   "name": "atari_experiment2.ipynb",
   "private_outputs": true,
   "provenance": []
  },
  "interpreter": {
   "hash": "31f2aee4e71d21fbe5cf8b01ff0e069b9275f58929596ceb00d14d90e3e16cd6"
  },
  "kernelspec": {
   "display_name": "Python 3 (ipykernel)",
   "language": "python",
   "name": "python3"
  },
  "language_info": {
   "codemirror_mode": {
    "name": "ipython",
    "version": 3
   },
   "file_extension": ".py",
   "mimetype": "text/x-python",
   "name": "python",
   "nbconvert_exporter": "python",
   "pygments_lexer": "ipython3",
   "version": "3.9.6"
  }
 },
 "nbformat": 4,
 "nbformat_minor": 1
}
