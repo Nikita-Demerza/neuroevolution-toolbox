{
 "cells": [
  {
   "cell_type": "code",
   "execution_count": 1,
   "metadata": {
    "id": "iV7GFD8QRQVe"
   },
   "outputs": [],
   "source": [
    "#!pip3 install \"gym[atari]\"\n",
    "import gym\n",
    "import sys\n",
    "from PIL import Image, ImageDraw\n",
    "import numpy as np\n",
    "import pandas as pd\n",
    "import neural_tape_controller\n",
    "#Положительные числа - положительные награды.\n",
    "import tasks \n",
    "import optimize\n",
    "import  pickle"
   ]
  },
  {
   "cell_type": "code",
   "execution_count": 2,
   "metadata": {
    "id": "gK_0udONWWcN"
   },
   "outputs": [
    {
     "name": "stdout",
     "output_type": "stream",
     "text": [
      "Action Space: Discrete(5)\n",
      "Observation Space: Box(0, 255, (210, 160, 3), uint8)\n",
      "Max Episode Steps: 27000\n",
      "Nondeterministic: False\n",
      "Reward Range: (-inf, inf)\n",
      "Reward Threshold: None\n"
     ]
    },
    {
     "name": "stderr",
     "output_type": "stream",
     "text": [
      "A.L.E: Arcade Learning Environment (version 0.7.5+db37282)\n",
      "[Powered by Stella]\n"
     ]
    }
   ],
   "source": [
    "def query_environment(name):\n",
    "    env = gym.make(name)\n",
    "    spec = gym.spec(name)\n",
    "    print(f\"Action Space: {env.action_space}\")\n",
    "    print(f\"Observation Space: {env.observation_space}\")\n",
    "    print(f\"Max Episode Steps: {spec.max_episode_steps}\")\n",
    "    print(f\"Nondeterministic: {spec.nondeterministic}\")\n",
    "    print(f\"Reward Range: {env.reward_range}\")\n",
    "    print(f\"Reward Threshold: {spec.reward_threshold}\")\n",
    "query_environment(\"ALE/Tetris-v5\")"
   ]
  },
  {
   "cell_type": "code",
   "execution_count": 3,
   "metadata": {
    "id": "yHqp2lahT3dG"
   },
   "outputs": [],
   "source": [
    "def encode_simple(X):\n",
    "  #как сделать простое кодирование? Ну давай разобьём картинку двумя разными сетками и измерим яркость\n",
    "  #на входе одиночная картинка\n",
    "  y_lst = []\n",
    "  sz = np.shape(X)\n",
    "  count_squares = 12\n",
    "  for i in range(count_squares):\n",
    "    for j in range(count_squares):\n",
    "      x = X[int(i*sz[0]/count_squares):int((i+1)*sz[0]/count_squares), int(j*sz[1]/count_squares):int((j+1)*sz[1]/count_squares)]\n",
    "      y_lst.append(np.nanmean(x))\n",
    "\n",
    "  count_squares = 9\n",
    "  for i in range(count_squares):\n",
    "    for j in range(count_squares):\n",
    "      x = X[int(i*sz[0]/count_squares):int((i+1)*sz[0]/count_squares), int(j*sz[1]/count_squares):int((j+1)*sz[1]/count_squares)]\n",
    "      y_lst.append(np.nanmean(x))\n",
    "\n",
    "  count_squares = 5\n",
    "  for i in range(count_squares):\n",
    "    for j in range(count_squares):\n",
    "      x = X[int(i*sz[0]/count_squares):int((i+1)*sz[0]/count_squares), int(j*sz[1]/count_squares):int((j+1)*sz[1]/count_squares)]\n",
    "      y_lst.append(np.nanmean(x))\n",
    "\n",
    "  #count_squares = 2\n",
    "  #for i in range(count_squares):\n",
    "  #  for j in range(count_squares):\n",
    "  #    x = X[int(i*sz[0]/count_squares):int((i+1)*sz[0]/count_squares), int(j*sz[1]/count_squares):int((j+1)*sz[1]/count_squares)]\n",
    "  #    y_lst.append(np.nanmean(x))\n",
    "  #размер: 62\n",
    "  return np.array(y_lst)"
   ]
  },
  {
   "cell_type": "code",
   "execution_count": 13,
   "metadata": {
    "id": "_hxFWNWoOsmJ"
   },
   "outputs": [
    {
     "name": "stdout",
     "output_type": "stream",
     "text": [
      "loaded successfully\n"
     ]
    }
   ],
   "source": [
    "n_actions = 5\n",
    "embed_size = 250#это эмбеддинг картинки\n",
    "nt = neural_tape_controller.nt_controller(input_size=embed_size,output_size=n_actions)\n",
    "try:\n",
    "    with open('./genoms/best_genom_tetris.pkl', 'rb') as f:\n",
    "        genom = pickle.load(f)\n",
    "        genom = genom[-1]\n",
    "    print('loaded successfully')\n",
    "except Exception:\n",
    "    genom = nt.nn.disassemble_genom()"
   ]
  },
  {
   "cell_type": "code",
   "execution_count": 5,
   "metadata": {},
   "outputs": [],
   "source": [
    "#3, 1, 4, 4"
   ]
  },
  {
   "cell_type": "code",
   "execution_count": 14,
   "metadata": {},
   "outputs": [],
   "source": [
    "n_actions = 5\n",
    "embed_size = 100800#это эмбеддинг картинки\n",
    "nt = neural_tape_controller.nt_controller(tacts=1,input_size=embed_size,output_size=n_actions)\n",
    "genom = nt.nn.disassemble_genom()"
   ]
  },
  {
   "cell_type": "code",
   "execution_count": 7,
   "metadata": {
    "id": "bXF5TTLgIheU"
   },
   "outputs": [],
   "source": [
    "def test_atary(genom, draw=False,game_name=\"ALE/Tetris-v5\",seed=0):\n",
    "\n",
    "  env = gym.make(game_name)\n",
    "  env.reset()\n",
    "  n_actions = env.action_space.n\n",
    "  state_dim = env.observation_space.shape#здесь картинка\n",
    "  #print('n_actions',n_actions,'state_dim',state_dim)\n",
    "  #1/0\n",
    "  state_dim = embed_size#это эмбеддинг картинки\n",
    "  controller = neural_tape_controller.nt_controller(tacts=1,genom=np.array(genom),input_size=state_dim,output_size=n_actions) \n",
    "  out_tape = np.zeros(30)\n",
    "  reward_sum = 0\n",
    "\n",
    "  #seed=1\n",
    "  #np.random.seed(seed)\n",
    "  #env.seed(seed)\n",
    "  while True:\n",
    "  #for i in range(200):\n",
    "      action = np.ravel(out_tape)\n",
    "      action += np.random.rand(len(action))*np.std(action)*0.05#игра детерминистическая, иначе рандома не будет\n",
    "      #print('action',int(np.argmax(action)),action)\n",
    "      #исполнить env\n",
    "      state, reward, done,_ = env.step(int(np.argmax(action)))\n",
    "        \n",
    "      shp = np.shape(state)\n",
    "      #print(shp)\n",
    "      #1/0\n",
    "      state = np.reshape(state,[shp[2],shp[0],shp[1]])\n",
    "      #print(np.shape(state))\n",
    "        \n",
    "      t=pd.Timestamp.now()\n",
    "      if done:\n",
    "        break\n",
    "      #state = encode_mobnet(np.array([state]))\n",
    "      #state = encode_simple(state)\n",
    "      reward_sum += (reward + 0.1)\n",
    "      out_tape = controller.act(state,reward,done)\n",
    "      if draw:\n",
    "        globals()['video'].append(Image.fromarray(env.render(\"rgb_array\")))\n",
    "  return reward_sum"
   ]
  },
  {
   "cell_type": "code",
   "execution_count": 8,
   "metadata": {
    "id": "jn_DW2_xYhb_"
   },
   "outputs": [],
   "source": [
    "def multy_test(genom,draw=False):\n",
    "  if draw:\n",
    "    globals()['video'] = []\n",
    "\n",
    "  game_name = \"ALE/Tetris-v5\"\n",
    "  #один энвайронмент, разные сиды\n",
    "  q_arr = []\n",
    "  for seed in range(3):\n",
    "    q_arr.append(test_atary(genom, draw=draw,game_name=game_name))\n",
    "  return np.sum(q_arr)/len(q_arr)"
   ]
  },
  {
   "cell_type": "code",
   "execution_count": 9,
   "metadata": {},
   "outputs": [],
   "source": [
    "#(210, 160, 3)"
   ]
  },
  {
   "cell_type": "code",
   "execution_count": 10,
   "metadata": {
    "id": "2bNLh6kmFzfY"
   },
   "outputs": [
    {
     "name": "stdout",
     "output_type": "stream",
     "text": [
      "q= 8.499999999999986\n",
      "CPU times: user 5.18 s, sys: 292 µs, total: 5.18 s\n",
      "Wall time: 961 ms\n"
     ]
    }
   ],
   "source": [
    "%%time\n",
    "q=test_atary(genom,game_name=\"ALE/Tetris-v5\", draw=False)\n",
    "print('q=',q)"
   ]
  },
  {
   "cell_type": "code",
   "execution_count": 12,
   "metadata": {},
   "outputs": [],
   "source": [
    "# signal 26.2 s\n",
    "# for for 4min 12s"
   ]
  },
  {
   "cell_type": "code",
   "execution_count": 11,
   "metadata": {
    "id": "cGZxP_NhdC27"
   },
   "outputs": [
    {
     "name": "stdout",
     "output_type": "stream",
     "text": [
      "q= 8.499999999999986\n",
      "CPU times: user 16.1 s, sys: 5.96 ms, total: 16.1 s\n",
      "Wall time: 2.96 s\n"
     ]
    }
   ],
   "source": [
    "%%time\n",
    "q=multy_test(genom)\n",
    "print('q=',q)\n",
    "#q=multy_test(genom)\n",
    "#print('q=',q)"
   ]
  },
  {
   "cell_type": "code",
   "execution_count": 13,
   "metadata": {
    "id": "Eja2m2P_ewzM"
   },
   "outputs": [
    {
     "name": "stdout",
     "output_type": "stream",
     "text": [
      "q= 20.000000000000014\n",
      "CPU times: user 12 s, sys: 4.38 ms, total: 12 s\n",
      "Wall time: 2.09 s\n"
     ]
    }
   ],
   "source": [
    "%%time\n",
    "q=test_atary(genom)\n",
    "print('q=',q)"
   ]
  },
  {
   "cell_type": "code",
   "execution_count": null,
   "metadata": {
    "id": "oN_h1Rg_2fQX"
   },
   "outputs": [],
   "source": [
    "print(pd.Timestamp.now())"
   ]
  },
  {
   "cell_type": "code",
   "execution_count": 15,
   "metadata": {},
   "outputs": [
    {
     "name": "stdout",
     "output_type": "stream",
     "text": [
      "1\n",
      "history loaded successfully\n"
     ]
    }
   ],
   "source": [
    "print(1)\n",
    "opt = optimize.optimizer(multy_test, genom_size=len(genom),parallel_cores=1,init_file='genoms/genom_tetris1.pkl',history_file='history/history_tetris1.pkl')"
   ]
  },
  {
   "cell_type": "code",
   "execution_count": null,
   "metadata": {},
   "outputs": [],
   "source": [
    "try:\n",
    "    with open('genoms/best_genom_tetris.pkl', 'rb') as f:\n",
    "        opt.best_genoms = pickle.load(f)\n",
    "    print('loaded successfully')\n",
    "except Exception:\n",
    "    pass"
   ]
  },
  {
   "cell_type": "code",
   "execution_count": 17,
   "metadata": {
    "id": "HzpNigFUTmIM"
   },
   "outputs": [
    {
     "name": "stdout",
     "output_type": "stream",
     "text": [
      "opt# 0\n",
      "random trial\n",
      "scores for optimizers augmented [1.28185558e+00 1.56771923e+00 2.75769159e+00 2.09297577e+00\n",
      " 5.45192113e+00 2.93160352e+00 3.52325083e+00 9.16199394e+01\n",
      " 1.00000000e+10]\n",
      "chosen evol_narrow previous_result: nan per tacts: nan\n",
      "iteration 0 y= [58.1        50.76666667]\n",
      "iteration 1 y= [84.1        61.83333333]\n",
      "iteration 2 y= [78.4 69.7]\n",
      "iteration 3 y= [77.7 76.9]\n",
      "iteration 4 y= [78.36666667 74.76666667]\n",
      "iteration 5 y= [80.76666667 75.03333333]\n",
      "iteration 6 y= [71.96666667 69.3       ]\n",
      "iteration 7 y= [79.7        77.56666667]\n",
      "iteration 8 y= [79.56666667 79.43333333]\n",
      "iteration 9 y= [77.96666667 77.43333333]\n",
      "iteration 10 y= [79.7        77.83333333]\n",
      "iteration 11 y= [83.43333333 83.16666667]\n",
      "iteration 12 y= [80.06666667 79.56666667]\n",
      "iteration 13 y= [80.23333333 76.23333333]\n",
      "iteration 14 y= [75.83333333 75.03333333]\n",
      "iteration 15 y= [82.63333333 81.3       ]\n",
      "iteration final y= [76.23333333 76.23333333]\n",
      "result evol_narrow previous_gain: 18.133333333332722 per tacts: 136 duration 0 days 01:16:07.744352\n",
      "WRITTEN\n",
      "opt# 1\n",
      "scores for optimizers augmented [-4.50000000e-02 -2.25000000e-02 -2.50000000e-02 -4.80000000e-02\n",
      "  4.46000000e+00  1.22466667e+00  3.39166667e+00  9.06000000e+01\n",
      "  1.80653333e+01]\n",
      "chosen evol_wide previous_result: 18.133333333332722 per tacts: 136\n",
      "iteration 0 y= [97.03333333 83.23333333 82.63333333 76.76666667]\n",
      "iteration 1 y= [97.7        95.56666667 95.03333333 94.76666667]\n",
      "iteration 2 y= [102.2         99.83333333  99.06666667  98.1       ]\n",
      "iteration 3 y= [99.2        98.23333333 97.46666667 97.26666667]\n"
     ]
    }
   ],
   "source": [
    "\n",
    "opt.function(opt.best_genoms[-1])\n",
    "\n",
    "for i in range(1000):\n",
    "    print('opt#',i)\n",
    "    opt.optimize()\n",
    "    with open('genoms/best_genom_tetris.pkl', 'wb') as f:\n",
    "        pickle.dump(opt.best_genoms,f,protocol=pickle.HIGHEST_PROTOCOL)\n",
    "        print('WRITTEN')"
   ]
  },
  {
   "cell_type": "code",
   "execution_count": null,
   "metadata": {},
   "outputs": [],
   "source": [
    "with open('./genoms/genom_tetris1.pkl', 'rb') as f:\n",
    "        genom = pickle.load(f)\n",
    "        genom = genom[-1]"
   ]
  },
  {
   "cell_type": "code",
   "execution_count": 16,
   "metadata": {
    "id": "LBhHJSL-ctuu"
   },
   "outputs": [
    {
     "name": "stdout",
     "output_type": "stream",
     "text": [
      "q= 20.000000000000014\n"
     ]
    }
   ],
   "source": [
    "q=multy_test(genom,draw=True)\n",
    "print('q=',q)"
   ]
  },
  {
   "cell_type": "code",
   "execution_count": 17,
   "metadata": {
    "id": "rquJJEbVcfgz"
   },
   "outputs": [],
   "source": [
    "video[0].save(\n",
    "    './out_videos/tetris.gif',\n",
    "    save_all=True,\n",
    "    append_images=video[1:], \n",
    "    optimize=True,\n",
    "    duration=100,\n",
    "    loop=0\n",
    ")"
   ]
  },
  {
   "cell_type": "code",
   "execution_count": null,
   "metadata": {},
   "outputs": [],
   "source": [
    "#noise stategy\n",
    "#with open('genoms/best_genom_tetris.pkl', 'rb') as f:\n",
    "    #genom = pickle.load(f)[-1]\n",
    "globals()['video'] = []\n",
    "noise = np.random.normal(size=[len(genom)])*1\n",
    "for i in range(1):\n",
    "    genom = genom+noise\n",
    "    q=test_atary(genom, draw=True,game_name=\"ALE/Tetris-v5\",seed=0)\n",
    "    np.random.seed(i)\n",
    "    noise = np.random.normal(size=[len(genom)])*1\n",
    "\n"
   ]
  },
  {
   "cell_type": "code",
   "execution_count": null,
   "metadata": {
    "id": "NolxDC4bdi7r"
   },
   "outputs": [],
   "source": [
    "video[0].save(\n",
    "    './out_videos/tetris.gif',\n",
    "    save_all=True,\n",
    "    append_images=video[1:], \n",
    "    optimize=True,\n",
    "    duration=10,\n",
    "    loop=0\n",
    ")"
   ]
  },
  {
   "cell_type": "code",
   "execution_count": null,
   "metadata": {},
   "outputs": [],
   "source": [
    "with open('genoms/best_genom_tetris.pkl', 'wb') as f:\n",
    "    pickle.dump(genom,f,protocol=pickle.HIGHEST_PROTOCOL)\n",
    "    print('WRITTEN')"
   ]
  }
 ],
 "metadata": {
  "colab": {
   "authorship_tag": "ABX9TyP1/6tnER+ipw9TdwDyZ+sz",
   "collapsed_sections": [],
   "mount_file_id": "1LelKGSZ7B8o8qafqCX4oFBtzHByVJ9FI",
   "name": "atari_experiment2.ipynb",
   "private_outputs": true,
   "provenance": []
  },
  "interpreter": {
   "hash": "31f2aee4e71d21fbe5cf8b01ff0e069b9275f58929596ceb00d14d90e3e16cd6"
  },
  "kernelspec": {
   "display_name": "Python 3 (ipykernel)",
   "language": "python",
   "name": "python3"
  },
  "language_info": {
   "codemirror_mode": {
    "name": "ipython",
    "version": 3
   },
   "file_extension": ".py",
   "mimetype": "text/x-python",
   "name": "python",
   "nbconvert_exporter": "python",
   "pygments_lexer": "ipython3",
   "version": "3.9.6"
  }
 },
 "nbformat": 4,
 "nbformat_minor": 1
}
